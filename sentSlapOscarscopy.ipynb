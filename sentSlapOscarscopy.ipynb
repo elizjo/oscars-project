{
 "cells": [
  {
   "cell_type": "code",
   "execution_count": 1,
   "metadata": {},
   "outputs": [],
   "source": [
    "import nltk\n",
    "import pandas as pd\n",
    "import numpy as np\n",
    "from nltk.sentiment import SentimentIntensityAnalyzer"
   ]
  },
  {
   "cell_type": "code",
   "execution_count": 2,
   "metadata": {},
   "outputs": [
    {
     "name": "stdout",
     "output_type": "stream",
     "text": [
      "no emoji is {'neg': 0.283, 'neu': 0.472, 'pos': 0.245, 'compound': -0.2263}\n",
      "with emoji is {'neg': 0.272, 'neu': 0.494, 'pos': 0.235, 'compound': -0.2263}\n"
     ]
    }
   ],
   "source": [
    "\n",
    "sia = SentimentIntensityAnalyzer()\n",
    "s1 = sia.polarity_scores('oscars\\' \\'punishment\\' for will smith slap is pathetic and weak https://t.co/kyflpb1ulj via @nypost great take')\n",
    "s2 = sia.polarity_scores('oscars\\' \\'punishment\\' for will smith slap is pathetic and weak https://t.co/kyflpb1ulj via @nypost great take 👍👍')\n",
    "\n",
    "print(f'no emoji is {s1}\\nwith emoji is {s2}')"
   ]
  },
  {
   "cell_type": "code",
   "execution_count": 3,
   "metadata": {},
   "outputs": [
    {
     "data": {
      "text/plain": [
       "-0.3818"
      ]
     },
     "execution_count": 3,
     "metadata": {},
     "output_type": "execute_result"
    }
   ],
   "source": [
    "def favorability_rating(str):\n",
    "    sia = SentimentIntensityAnalyzer()\n",
    "    return sia.polarity_scores(str)['compound'] \n",
    "\n",
    "favorability_rating('Oscars punishment for Will Smith slap is')"
   ]
  },
  {
   "cell_type": "code",
   "execution_count": 4,
   "metadata": {},
   "outputs": [
    {
     "data": {
      "text/html": [
       "<div>\n",
       "<style scoped>\n",
       "    .dataframe tbody tr th:only-of-type {\n",
       "        vertical-align: middle;\n",
       "    }\n",
       "\n",
       "    .dataframe tbody tr th {\n",
       "        vertical-align: top;\n",
       "    }\n",
       "\n",
       "    .dataframe thead th {\n",
       "        text-align: right;\n",
       "    }\n",
       "</style>\n",
       "<table border=\"1\" class=\"dataframe\">\n",
       "  <thead>\n",
       "    <tr style=\"text-align: right;\">\n",
       "      <th></th>\n",
       "      <th>author_id</th>\n",
       "      <th>created_at</th>\n",
       "      <th>id</th>\n",
       "      <th>text</th>\n",
       "      <th>public_metrics.retweet_count</th>\n",
       "      <th>public_metrics.reply_count</th>\n",
       "      <th>public_metrics.like_count</th>\n",
       "      <th>public_metrics.quote_count</th>\n",
       "      <th>favor</th>\n",
       "    </tr>\n",
       "  </thead>\n",
       "  <tbody>\n",
       "    <tr>\n",
       "      <th>0</th>\n",
       "      <td>102129088</td>\n",
       "      <td>2022-04-20T04:59:16.000Z</td>\n",
       "      <td>1516642633065635844</td>\n",
       "      <td>Oscars' 'punishment' for Will Smith slap is pa...</td>\n",
       "      <td>0</td>\n",
       "      <td>0</td>\n",
       "      <td>0</td>\n",
       "      <td>0</td>\n",
       "      <td>-0.0431</td>\n",
       "    </tr>\n",
       "    <tr>\n",
       "      <th>1</th>\n",
       "      <td>1505024907381334017</td>\n",
       "      <td>2022-04-20T04:22:35.000Z</td>\n",
       "      <td>1516633403374059522</td>\n",
       "      <td>RT @Variety: Jada Pinkett Smith’s ‘Red Table T...</td>\n",
       "      <td>5</td>\n",
       "      <td>0</td>\n",
       "      <td>0</td>\n",
       "      <td>0</td>\n",
       "      <td>-0.2263</td>\n",
       "    </tr>\n",
       "    <tr>\n",
       "      <th>2</th>\n",
       "      <td>1505024907381334017</td>\n",
       "      <td>2022-04-20T04:16:52.000Z</td>\n",
       "      <td>1516631964195127296</td>\n",
       "      <td>RT @Variety: Jada Pinkett Smith's #RedTableTal...</td>\n",
       "      <td>4</td>\n",
       "      <td>0</td>\n",
       "      <td>0</td>\n",
       "      <td>0</td>\n",
       "      <td>-0.1531</td>\n",
       "    </tr>\n",
       "    <tr>\n",
       "      <th>3</th>\n",
       "      <td>1511555319020736513</td>\n",
       "      <td>2022-04-20T03:54:45.000Z</td>\n",
       "      <td>1516626397766111242</td>\n",
       "      <td>@parrhizzia @imani_gomes @AyannaPressley ..by ...</td>\n",
       "      <td>0</td>\n",
       "      <td>0</td>\n",
       "      <td>0</td>\n",
       "      <td>0</td>\n",
       "      <td>0.4754</td>\n",
       "    </tr>\n",
       "    <tr>\n",
       "      <th>4</th>\n",
       "      <td>2958044465</td>\n",
       "      <td>2022-04-20T03:19:47.000Z</td>\n",
       "      <td>1516617596803731457</td>\n",
       "      <td>New Trailer! Jada Pinkett Smith’s ‘Red Table T...</td>\n",
       "      <td>0</td>\n",
       "      <td>0</td>\n",
       "      <td>0</td>\n",
       "      <td>0</td>\n",
       "      <td>0.2244</td>\n",
       "    </tr>\n",
       "    <tr>\n",
       "      <th>...</th>\n",
       "      <td>...</td>\n",
       "      <td>...</td>\n",
       "      <td>...</td>\n",
       "      <td>...</td>\n",
       "      <td>...</td>\n",
       "      <td>...</td>\n",
       "      <td>...</td>\n",
       "      <td>...</td>\n",
       "      <td>...</td>\n",
       "    </tr>\n",
       "    <tr>\n",
       "      <th>94</th>\n",
       "      <td>1415062574773723136</td>\n",
       "      <td>2022-04-19T02:53:28.000Z</td>\n",
       "      <td>1516248587755311109</td>\n",
       "      <td>RT @BreitbartNews: “What are you investigating...</td>\n",
       "      <td>36</td>\n",
       "      <td>0</td>\n",
       "      <td>0</td>\n",
       "      <td>0</td>\n",
       "      <td>-0.6222</td>\n",
       "    </tr>\n",
       "    <tr>\n",
       "      <th>95</th>\n",
       "      <td>458159100</td>\n",
       "      <td>2022-04-19T02:45:18.000Z</td>\n",
       "      <td>1516246531103498243</td>\n",
       "      <td>While everyone is talking about #WillSmith sla...</td>\n",
       "      <td>0</td>\n",
       "      <td>0</td>\n",
       "      <td>0</td>\n",
       "      <td>0</td>\n",
       "      <td>0.5093</td>\n",
       "    </tr>\n",
       "    <tr>\n",
       "      <th>96</th>\n",
       "      <td>458159100</td>\n",
       "      <td>2022-04-19T02:36:40.000Z</td>\n",
       "      <td>1516244359645179906</td>\n",
       "      <td>#ChrisRock has finally broken his silence afte...</td>\n",
       "      <td>0</td>\n",
       "      <td>0</td>\n",
       "      <td>0</td>\n",
       "      <td>0</td>\n",
       "      <td>0.1531</td>\n",
       "    </tr>\n",
       "    <tr>\n",
       "      <th>97</th>\n",
       "      <td>459498431</td>\n",
       "      <td>2022-04-19T02:23:50.000Z</td>\n",
       "      <td>1516241131754905608</td>\n",
       "      <td>RT @rummanahussain: For my latest column, I to...</td>\n",
       "      <td>5</td>\n",
       "      <td>0</td>\n",
       "      <td>0</td>\n",
       "      <td>0</td>\n",
       "      <td>0.2960</td>\n",
       "    </tr>\n",
       "    <tr>\n",
       "      <th>98</th>\n",
       "      <td>458159100</td>\n",
       "      <td>2022-04-19T02:22:05.000Z</td>\n",
       "      <td>1516240689964666889</td>\n",
       "      <td>While many assumed that #WillSmith’s career wa...</td>\n",
       "      <td>0</td>\n",
       "      <td>2</td>\n",
       "      <td>1</td>\n",
       "      <td>0</td>\n",
       "      <td>0.0000</td>\n",
       "    </tr>\n",
       "  </tbody>\n",
       "</table>\n",
       "<p>99 rows × 9 columns</p>\n",
       "</div>"
      ],
      "text/plain": [
       "              author_id                created_at                   id  \\\n",
       "0             102129088  2022-04-20T04:59:16.000Z  1516642633065635844   \n",
       "1   1505024907381334017  2022-04-20T04:22:35.000Z  1516633403374059522   \n",
       "2   1505024907381334017  2022-04-20T04:16:52.000Z  1516631964195127296   \n",
       "3   1511555319020736513  2022-04-20T03:54:45.000Z  1516626397766111242   \n",
       "4            2958044465  2022-04-20T03:19:47.000Z  1516617596803731457   \n",
       "..                  ...                       ...                  ...   \n",
       "94  1415062574773723136  2022-04-19T02:53:28.000Z  1516248587755311109   \n",
       "95            458159100  2022-04-19T02:45:18.000Z  1516246531103498243   \n",
       "96            458159100  2022-04-19T02:36:40.000Z  1516244359645179906   \n",
       "97            459498431  2022-04-19T02:23:50.000Z  1516241131754905608   \n",
       "98            458159100  2022-04-19T02:22:05.000Z  1516240689964666889   \n",
       "\n",
       "                                                 text  \\\n",
       "0   Oscars' 'punishment' for Will Smith slap is pa...   \n",
       "1   RT @Variety: Jada Pinkett Smith’s ‘Red Table T...   \n",
       "2   RT @Variety: Jada Pinkett Smith's #RedTableTal...   \n",
       "3   @parrhizzia @imani_gomes @AyannaPressley ..by ...   \n",
       "4   New Trailer! Jada Pinkett Smith’s ‘Red Table T...   \n",
       "..                                                ...   \n",
       "94  RT @BreitbartNews: “What are you investigating...   \n",
       "95  While everyone is talking about #WillSmith sla...   \n",
       "96  #ChrisRock has finally broken his silence afte...   \n",
       "97  RT @rummanahussain: For my latest column, I to...   \n",
       "98  While many assumed that #WillSmith’s career wa...   \n",
       "\n",
       "    public_metrics.retweet_count  public_metrics.reply_count  \\\n",
       "0                              0                           0   \n",
       "1                              5                           0   \n",
       "2                              4                           0   \n",
       "3                              0                           0   \n",
       "4                              0                           0   \n",
       "..                           ...                         ...   \n",
       "94                            36                           0   \n",
       "95                             0                           0   \n",
       "96                             0                           0   \n",
       "97                             5                           0   \n",
       "98                             0                           2   \n",
       "\n",
       "    public_metrics.like_count  public_metrics.quote_count   favor  \n",
       "0                           0                           0 -0.0431  \n",
       "1                           0                           0 -0.2263  \n",
       "2                           0                           0 -0.1531  \n",
       "3                           0                           0  0.4754  \n",
       "4                           0                           0  0.2244  \n",
       "..                        ...                         ...     ...  \n",
       "94                          0                           0 -0.6222  \n",
       "95                          0                           0  0.5093  \n",
       "96                          0                           0  0.1531  \n",
       "97                          0                           0  0.2960  \n",
       "98                          1                           0  0.0000  \n",
       "\n",
       "[99 rows x 9 columns]"
      ]
     },
     "execution_count": 4,
     "metadata": {},
     "output_type": "execute_result"
    }
   ],
   "source": [
    "oscars2022_df = pd.read_csv(\"slap_oscars2022.csv\")\n",
    "oscars2022_df['favor'] = oscars2022_df['text'].apply(favorability_rating)\n",
    "oscars2022_df"
   ]
  },
  {
   "cell_type": "code",
   "execution_count": 5,
   "metadata": {},
   "outputs": [],
   "source": [
    "def groupByRating(score):\n",
    "    score = float(score)\n",
    "    if score == 0.0000:\n",
    "        return 'neutral'\n",
    "    elif score > 0.0000:\n",
    "        return 'pos'\n",
    "    else:\n",
    "        return 'neg'"
   ]
  },
  {
   "cell_type": "code",
   "execution_count": 6,
   "metadata": {},
   "outputs": [
    {
     "data": {
      "text/html": [
       "<div>\n",
       "<style scoped>\n",
       "    .dataframe tbody tr th:only-of-type {\n",
       "        vertical-align: middle;\n",
       "    }\n",
       "\n",
       "    .dataframe tbody tr th {\n",
       "        vertical-align: top;\n",
       "    }\n",
       "\n",
       "    .dataframe thead th {\n",
       "        text-align: right;\n",
       "    }\n",
       "</style>\n",
       "<table border=\"1\" class=\"dataframe\">\n",
       "  <thead>\n",
       "    <tr style=\"text-align: right;\">\n",
       "      <th></th>\n",
       "      <th>author_id</th>\n",
       "      <th>created_at</th>\n",
       "      <th>id</th>\n",
       "      <th>text</th>\n",
       "      <th>public_metrics.retweet_count</th>\n",
       "      <th>public_metrics.reply_count</th>\n",
       "      <th>public_metrics.like_count</th>\n",
       "      <th>public_metrics.quote_count</th>\n",
       "      <th>favor</th>\n",
       "    </tr>\n",
       "  </thead>\n",
       "  <tbody>\n",
       "    <tr>\n",
       "      <th>0</th>\n",
       "      <td>102129088</td>\n",
       "      <td>2022-04-20T04:59:16.000Z</td>\n",
       "      <td>1516642633065635844</td>\n",
       "      <td>Oscars' 'punishment' for Will Smith slap is pa...</td>\n",
       "      <td>0</td>\n",
       "      <td>0</td>\n",
       "      <td>0</td>\n",
       "      <td>0</td>\n",
       "      <td>neg</td>\n",
       "    </tr>\n",
       "    <tr>\n",
       "      <th>1</th>\n",
       "      <td>1505024907381334017</td>\n",
       "      <td>2022-04-20T04:22:35.000Z</td>\n",
       "      <td>1516633403374059522</td>\n",
       "      <td>RT @Variety: Jada Pinkett Smith’s ‘Red Table T...</td>\n",
       "      <td>5</td>\n",
       "      <td>0</td>\n",
       "      <td>0</td>\n",
       "      <td>0</td>\n",
       "      <td>neg</td>\n",
       "    </tr>\n",
       "    <tr>\n",
       "      <th>2</th>\n",
       "      <td>1505024907381334017</td>\n",
       "      <td>2022-04-20T04:16:52.000Z</td>\n",
       "      <td>1516631964195127296</td>\n",
       "      <td>RT @Variety: Jada Pinkett Smith's #RedTableTal...</td>\n",
       "      <td>4</td>\n",
       "      <td>0</td>\n",
       "      <td>0</td>\n",
       "      <td>0</td>\n",
       "      <td>neg</td>\n",
       "    </tr>\n",
       "    <tr>\n",
       "      <th>3</th>\n",
       "      <td>1511555319020736513</td>\n",
       "      <td>2022-04-20T03:54:45.000Z</td>\n",
       "      <td>1516626397766111242</td>\n",
       "      <td>@parrhizzia @imani_gomes @AyannaPressley ..by ...</td>\n",
       "      <td>0</td>\n",
       "      <td>0</td>\n",
       "      <td>0</td>\n",
       "      <td>0</td>\n",
       "      <td>pos</td>\n",
       "    </tr>\n",
       "    <tr>\n",
       "      <th>4</th>\n",
       "      <td>2958044465</td>\n",
       "      <td>2022-04-20T03:19:47.000Z</td>\n",
       "      <td>1516617596803731457</td>\n",
       "      <td>New Trailer! Jada Pinkett Smith’s ‘Red Table T...</td>\n",
       "      <td>0</td>\n",
       "      <td>0</td>\n",
       "      <td>0</td>\n",
       "      <td>0</td>\n",
       "      <td>pos</td>\n",
       "    </tr>\n",
       "    <tr>\n",
       "      <th>...</th>\n",
       "      <td>...</td>\n",
       "      <td>...</td>\n",
       "      <td>...</td>\n",
       "      <td>...</td>\n",
       "      <td>...</td>\n",
       "      <td>...</td>\n",
       "      <td>...</td>\n",
       "      <td>...</td>\n",
       "      <td>...</td>\n",
       "    </tr>\n",
       "    <tr>\n",
       "      <th>94</th>\n",
       "      <td>1415062574773723136</td>\n",
       "      <td>2022-04-19T02:53:28.000Z</td>\n",
       "      <td>1516248587755311109</td>\n",
       "      <td>RT @BreitbartNews: “What are you investigating...</td>\n",
       "      <td>36</td>\n",
       "      <td>0</td>\n",
       "      <td>0</td>\n",
       "      <td>0</td>\n",
       "      <td>neg</td>\n",
       "    </tr>\n",
       "    <tr>\n",
       "      <th>95</th>\n",
       "      <td>458159100</td>\n",
       "      <td>2022-04-19T02:45:18.000Z</td>\n",
       "      <td>1516246531103498243</td>\n",
       "      <td>While everyone is talking about #WillSmith sla...</td>\n",
       "      <td>0</td>\n",
       "      <td>0</td>\n",
       "      <td>0</td>\n",
       "      <td>0</td>\n",
       "      <td>pos</td>\n",
       "    </tr>\n",
       "    <tr>\n",
       "      <th>96</th>\n",
       "      <td>458159100</td>\n",
       "      <td>2022-04-19T02:36:40.000Z</td>\n",
       "      <td>1516244359645179906</td>\n",
       "      <td>#ChrisRock has finally broken his silence afte...</td>\n",
       "      <td>0</td>\n",
       "      <td>0</td>\n",
       "      <td>0</td>\n",
       "      <td>0</td>\n",
       "      <td>pos</td>\n",
       "    </tr>\n",
       "    <tr>\n",
       "      <th>97</th>\n",
       "      <td>459498431</td>\n",
       "      <td>2022-04-19T02:23:50.000Z</td>\n",
       "      <td>1516241131754905608</td>\n",
       "      <td>RT @rummanahussain: For my latest column, I to...</td>\n",
       "      <td>5</td>\n",
       "      <td>0</td>\n",
       "      <td>0</td>\n",
       "      <td>0</td>\n",
       "      <td>pos</td>\n",
       "    </tr>\n",
       "    <tr>\n",
       "      <th>98</th>\n",
       "      <td>458159100</td>\n",
       "      <td>2022-04-19T02:22:05.000Z</td>\n",
       "      <td>1516240689964666889</td>\n",
       "      <td>While many assumed that #WillSmith’s career wa...</td>\n",
       "      <td>0</td>\n",
       "      <td>2</td>\n",
       "      <td>1</td>\n",
       "      <td>0</td>\n",
       "      <td>neutral</td>\n",
       "    </tr>\n",
       "  </tbody>\n",
       "</table>\n",
       "<p>99 rows × 9 columns</p>\n",
       "</div>"
      ],
      "text/plain": [
       "              author_id                created_at                   id  \\\n",
       "0             102129088  2022-04-20T04:59:16.000Z  1516642633065635844   \n",
       "1   1505024907381334017  2022-04-20T04:22:35.000Z  1516633403374059522   \n",
       "2   1505024907381334017  2022-04-20T04:16:52.000Z  1516631964195127296   \n",
       "3   1511555319020736513  2022-04-20T03:54:45.000Z  1516626397766111242   \n",
       "4            2958044465  2022-04-20T03:19:47.000Z  1516617596803731457   \n",
       "..                  ...                       ...                  ...   \n",
       "94  1415062574773723136  2022-04-19T02:53:28.000Z  1516248587755311109   \n",
       "95            458159100  2022-04-19T02:45:18.000Z  1516246531103498243   \n",
       "96            458159100  2022-04-19T02:36:40.000Z  1516244359645179906   \n",
       "97            459498431  2022-04-19T02:23:50.000Z  1516241131754905608   \n",
       "98            458159100  2022-04-19T02:22:05.000Z  1516240689964666889   \n",
       "\n",
       "                                                 text  \\\n",
       "0   Oscars' 'punishment' for Will Smith slap is pa...   \n",
       "1   RT @Variety: Jada Pinkett Smith’s ‘Red Table T...   \n",
       "2   RT @Variety: Jada Pinkett Smith's #RedTableTal...   \n",
       "3   @parrhizzia @imani_gomes @AyannaPressley ..by ...   \n",
       "4   New Trailer! Jada Pinkett Smith’s ‘Red Table T...   \n",
       "..                                                ...   \n",
       "94  RT @BreitbartNews: “What are you investigating...   \n",
       "95  While everyone is talking about #WillSmith sla...   \n",
       "96  #ChrisRock has finally broken his silence afte...   \n",
       "97  RT @rummanahussain: For my latest column, I to...   \n",
       "98  While many assumed that #WillSmith’s career wa...   \n",
       "\n",
       "    public_metrics.retweet_count  public_metrics.reply_count  \\\n",
       "0                              0                           0   \n",
       "1                              5                           0   \n",
       "2                              4                           0   \n",
       "3                              0                           0   \n",
       "4                              0                           0   \n",
       "..                           ...                         ...   \n",
       "94                            36                           0   \n",
       "95                             0                           0   \n",
       "96                             0                           0   \n",
       "97                             5                           0   \n",
       "98                             0                           2   \n",
       "\n",
       "    public_metrics.like_count  public_metrics.quote_count    favor  \n",
       "0                           0                           0      neg  \n",
       "1                           0                           0      neg  \n",
       "2                           0                           0      neg  \n",
       "3                           0                           0      pos  \n",
       "4                           0                           0      pos  \n",
       "..                        ...                         ...      ...  \n",
       "94                          0                           0      neg  \n",
       "95                          0                           0      pos  \n",
       "96                          0                           0      pos  \n",
       "97                          0                           0      pos  \n",
       "98                          1                           0  neutral  \n",
       "\n",
       "[99 rows x 9 columns]"
      ]
     },
     "execution_count": 6,
     "metadata": {},
     "output_type": "execute_result"
    }
   ],
   "source": [
    "oscars2022_df['favor'] = oscars2022_df['favor'].apply(groupByRating)\n",
    "oscars2022_df"
   ]
  },
  {
   "cell_type": "code",
   "execution_count": 7,
   "metadata": {},
   "outputs": [
    {
     "data": {
      "text/html": [
       "<div>\n",
       "<style scoped>\n",
       "    .dataframe tbody tr th:only-of-type {\n",
       "        vertical-align: middle;\n",
       "    }\n",
       "\n",
       "    .dataframe tbody tr th {\n",
       "        vertical-align: top;\n",
       "    }\n",
       "\n",
       "    .dataframe thead th {\n",
       "        text-align: right;\n",
       "    }\n",
       "</style>\n",
       "<table border=\"1\" class=\"dataframe\">\n",
       "  <thead>\n",
       "    <tr style=\"text-align: right;\">\n",
       "      <th></th>\n",
       "      <th>author_id</th>\n",
       "      <th>created_at</th>\n",
       "      <th>id</th>\n",
       "      <th>text</th>\n",
       "      <th>public_metrics.retweet_count</th>\n",
       "      <th>public_metrics.reply_count</th>\n",
       "      <th>public_metrics.like_count</th>\n",
       "      <th>public_metrics.quote_count</th>\n",
       "      <th>favor</th>\n",
       "    </tr>\n",
       "  </thead>\n",
       "  <tbody>\n",
       "    <tr>\n",
       "      <th>0</th>\n",
       "      <td>102129088</td>\n",
       "      <td>2022-04-20T04:59:16.000Z</td>\n",
       "      <td>1516642633065635844</td>\n",
       "      <td>Oscars' 'punishment' for Will Smith slap is pa...</td>\n",
       "      <td>0</td>\n",
       "      <td>0</td>\n",
       "      <td>0</td>\n",
       "      <td>0</td>\n",
       "      <td>neg</td>\n",
       "    </tr>\n",
       "    <tr>\n",
       "      <th>1</th>\n",
       "      <td>1505024907381334017</td>\n",
       "      <td>2022-04-20T04:22:35.000Z</td>\n",
       "      <td>1516633403374059522</td>\n",
       "      <td>RT @Variety: Jada Pinkett Smith’s ‘Red Table T...</td>\n",
       "      <td>5</td>\n",
       "      <td>0</td>\n",
       "      <td>0</td>\n",
       "      <td>0</td>\n",
       "      <td>neg</td>\n",
       "    </tr>\n",
       "    <tr>\n",
       "      <th>2</th>\n",
       "      <td>1505024907381334017</td>\n",
       "      <td>2022-04-20T04:16:52.000Z</td>\n",
       "      <td>1516631964195127296</td>\n",
       "      <td>RT @Variety: Jada Pinkett Smith's #RedTableTal...</td>\n",
       "      <td>4</td>\n",
       "      <td>0</td>\n",
       "      <td>0</td>\n",
       "      <td>0</td>\n",
       "      <td>neg</td>\n",
       "    </tr>\n",
       "    <tr>\n",
       "      <th>3</th>\n",
       "      <td>1511555319020736513</td>\n",
       "      <td>2022-04-20T03:54:45.000Z</td>\n",
       "      <td>1516626397766111242</td>\n",
       "      <td>@parrhizzia @imani_gomes @AyannaPressley ..by ...</td>\n",
       "      <td>0</td>\n",
       "      <td>0</td>\n",
       "      <td>0</td>\n",
       "      <td>0</td>\n",
       "      <td>pos</td>\n",
       "    </tr>\n",
       "    <tr>\n",
       "      <th>4</th>\n",
       "      <td>2958044465</td>\n",
       "      <td>2022-04-20T03:19:47.000Z</td>\n",
       "      <td>1516617596803731457</td>\n",
       "      <td>New Trailer! Jada Pinkett Smith’s ‘Red Table T...</td>\n",
       "      <td>0</td>\n",
       "      <td>0</td>\n",
       "      <td>0</td>\n",
       "      <td>0</td>\n",
       "      <td>pos</td>\n",
       "    </tr>\n",
       "    <tr>\n",
       "      <th>...</th>\n",
       "      <td>...</td>\n",
       "      <td>...</td>\n",
       "      <td>...</td>\n",
       "      <td>...</td>\n",
       "      <td>...</td>\n",
       "      <td>...</td>\n",
       "      <td>...</td>\n",
       "      <td>...</td>\n",
       "      <td>...</td>\n",
       "    </tr>\n",
       "    <tr>\n",
       "      <th>94</th>\n",
       "      <td>1415062574773723136</td>\n",
       "      <td>2022-04-19T02:53:28.000Z</td>\n",
       "      <td>1516248587755311109</td>\n",
       "      <td>RT @BreitbartNews: “What are you investigating...</td>\n",
       "      <td>36</td>\n",
       "      <td>0</td>\n",
       "      <td>0</td>\n",
       "      <td>0</td>\n",
       "      <td>neg</td>\n",
       "    </tr>\n",
       "    <tr>\n",
       "      <th>95</th>\n",
       "      <td>458159100</td>\n",
       "      <td>2022-04-19T02:45:18.000Z</td>\n",
       "      <td>1516246531103498243</td>\n",
       "      <td>While everyone is talking about #WillSmith sla...</td>\n",
       "      <td>0</td>\n",
       "      <td>0</td>\n",
       "      <td>0</td>\n",
       "      <td>0</td>\n",
       "      <td>pos</td>\n",
       "    </tr>\n",
       "    <tr>\n",
       "      <th>96</th>\n",
       "      <td>458159100</td>\n",
       "      <td>2022-04-19T02:36:40.000Z</td>\n",
       "      <td>1516244359645179906</td>\n",
       "      <td>#ChrisRock has finally broken his silence afte...</td>\n",
       "      <td>0</td>\n",
       "      <td>0</td>\n",
       "      <td>0</td>\n",
       "      <td>0</td>\n",
       "      <td>pos</td>\n",
       "    </tr>\n",
       "    <tr>\n",
       "      <th>97</th>\n",
       "      <td>459498431</td>\n",
       "      <td>2022-04-19T02:23:50.000Z</td>\n",
       "      <td>1516241131754905608</td>\n",
       "      <td>RT @rummanahussain: For my latest column, I to...</td>\n",
       "      <td>5</td>\n",
       "      <td>0</td>\n",
       "      <td>0</td>\n",
       "      <td>0</td>\n",
       "      <td>pos</td>\n",
       "    </tr>\n",
       "    <tr>\n",
       "      <th>98</th>\n",
       "      <td>458159100</td>\n",
       "      <td>2022-04-19T02:22:05.000Z</td>\n",
       "      <td>1516240689964666889</td>\n",
       "      <td>While many assumed that #WillSmith’s career wa...</td>\n",
       "      <td>0</td>\n",
       "      <td>2</td>\n",
       "      <td>1</td>\n",
       "      <td>0</td>\n",
       "      <td>neutral</td>\n",
       "    </tr>\n",
       "  </tbody>\n",
       "</table>\n",
       "<p>99 rows × 9 columns</p>\n",
       "</div>"
      ],
      "text/plain": [
       "              author_id                created_at                   id  \\\n",
       "0             102129088  2022-04-20T04:59:16.000Z  1516642633065635844   \n",
       "1   1505024907381334017  2022-04-20T04:22:35.000Z  1516633403374059522   \n",
       "2   1505024907381334017  2022-04-20T04:16:52.000Z  1516631964195127296   \n",
       "3   1511555319020736513  2022-04-20T03:54:45.000Z  1516626397766111242   \n",
       "4            2958044465  2022-04-20T03:19:47.000Z  1516617596803731457   \n",
       "..                  ...                       ...                  ...   \n",
       "94  1415062574773723136  2022-04-19T02:53:28.000Z  1516248587755311109   \n",
       "95            458159100  2022-04-19T02:45:18.000Z  1516246531103498243   \n",
       "96            458159100  2022-04-19T02:36:40.000Z  1516244359645179906   \n",
       "97            459498431  2022-04-19T02:23:50.000Z  1516241131754905608   \n",
       "98            458159100  2022-04-19T02:22:05.000Z  1516240689964666889   \n",
       "\n",
       "                                                 text  \\\n",
       "0   Oscars' 'punishment' for Will Smith slap is pa...   \n",
       "1   RT @Variety: Jada Pinkett Smith’s ‘Red Table T...   \n",
       "2   RT @Variety: Jada Pinkett Smith's #RedTableTal...   \n",
       "3   @parrhizzia @imani_gomes @AyannaPressley ..by ...   \n",
       "4   New Trailer! Jada Pinkett Smith’s ‘Red Table T...   \n",
       "..                                                ...   \n",
       "94  RT @BreitbartNews: “What are you investigating...   \n",
       "95  While everyone is talking about #WillSmith sla...   \n",
       "96  #ChrisRock has finally broken his silence afte...   \n",
       "97  RT @rummanahussain: For my latest column, I to...   \n",
       "98  While many assumed that #WillSmith’s career wa...   \n",
       "\n",
       "    public_metrics.retweet_count  public_metrics.reply_count  \\\n",
       "0                              0                           0   \n",
       "1                              5                           0   \n",
       "2                              4                           0   \n",
       "3                              0                           0   \n",
       "4                              0                           0   \n",
       "..                           ...                         ...   \n",
       "94                            36                           0   \n",
       "95                             0                           0   \n",
       "96                             0                           0   \n",
       "97                             5                           0   \n",
       "98                             0                           2   \n",
       "\n",
       "    public_metrics.like_count  public_metrics.quote_count    favor  \n",
       "0                           0                           0      neg  \n",
       "1                           0                           0      neg  \n",
       "2                           0                           0      neg  \n",
       "3                           0                           0      pos  \n",
       "4                           0                           0      pos  \n",
       "..                        ...                         ...      ...  \n",
       "94                          0                           0      neg  \n",
       "95                          0                           0      pos  \n",
       "96                          0                           0      pos  \n",
       "97                          0                           0      pos  \n",
       "98                          1                           0  neutral  \n",
       "\n",
       "[99 rows x 9 columns]"
      ]
     },
     "execution_count": 7,
     "metadata": {},
     "output_type": "execute_result"
    }
   ],
   "source": [
    "oscars2022_df"
   ]
  },
  {
   "cell_type": "code",
   "execution_count": 8,
   "metadata": {},
   "outputs": [
    {
     "data": {
      "text/plain": [
       "favor\n",
       "neg        38\n",
       "neutral    12\n",
       "pos        49\n",
       "dtype: int64"
      ]
     },
     "execution_count": 8,
     "metadata": {},
     "output_type": "execute_result"
    }
   ],
   "source": [
    "counts_df = oscars2022_df.groupby('favor').size()\n",
    "counts_df"
   ]
  },
  {
   "cell_type": "code",
   "execution_count": 10,
   "metadata": {},
   "outputs": [
    {
     "data": {
      "application/vnd.plotly.v1+json": {
       "config": {
        "plotlyServerURL": "https://plot.ly"
       },
       "data": [
        {
         "customdata": [
          [
           "neg"
          ],
          [
           "neutral"
          ],
          [
           "pos"
          ]
         ],
         "domain": {
          "x": [
           0,
           1
          ],
          "y": [
           0,
           1
          ]
         },
         "hovertemplate": "label=%{label}<br>value=%{value}<br>color=%{customdata[0]}<extra></extra>",
         "labels": [
          "neg",
          "neutral",
          "pos"
         ],
         "legendgroup": "",
         "marker": {
          "colors": [
           "FF6961",
           "6CA0DC",
           "#77DD77"
          ]
         },
         "name": "",
         "showlegend": true,
         "textposition": "inside",
         "type": "pie",
         "values": [
          "38",
          "12",
          "49"
         ]
        }
       ],
       "layout": {
        "legend": {
         "tracegroupgap": 0
        },
        "margin": {
         "t": 60
        },
        "template": {
         "data": {
          "bar": [
           {
            "error_x": {
             "color": "#2a3f5f"
            },
            "error_y": {
             "color": "#2a3f5f"
            },
            "marker": {
             "line": {
              "color": "#E5ECF6",
              "width": 0.5
             },
             "pattern": {
              "fillmode": "overlay",
              "size": 10,
              "solidity": 0.2
             }
            },
            "type": "bar"
           }
          ],
          "barpolar": [
           {
            "marker": {
             "line": {
              "color": "#E5ECF6",
              "width": 0.5
             },
             "pattern": {
              "fillmode": "overlay",
              "size": 10,
              "solidity": 0.2
             }
            },
            "type": "barpolar"
           }
          ],
          "carpet": [
           {
            "aaxis": {
             "endlinecolor": "#2a3f5f",
             "gridcolor": "white",
             "linecolor": "white",
             "minorgridcolor": "white",
             "startlinecolor": "#2a3f5f"
            },
            "baxis": {
             "endlinecolor": "#2a3f5f",
             "gridcolor": "white",
             "linecolor": "white",
             "minorgridcolor": "white",
             "startlinecolor": "#2a3f5f"
            },
            "type": "carpet"
           }
          ],
          "choropleth": [
           {
            "colorbar": {
             "outlinewidth": 0,
             "ticks": ""
            },
            "type": "choropleth"
           }
          ],
          "contour": [
           {
            "colorbar": {
             "outlinewidth": 0,
             "ticks": ""
            },
            "colorscale": [
             [
              0,
              "#0d0887"
             ],
             [
              0.1111111111111111,
              "#46039f"
             ],
             [
              0.2222222222222222,
              "#7201a8"
             ],
             [
              0.3333333333333333,
              "#9c179e"
             ],
             [
              0.4444444444444444,
              "#bd3786"
             ],
             [
              0.5555555555555556,
              "#d8576b"
             ],
             [
              0.6666666666666666,
              "#ed7953"
             ],
             [
              0.7777777777777778,
              "#fb9f3a"
             ],
             [
              0.8888888888888888,
              "#fdca26"
             ],
             [
              1,
              "#f0f921"
             ]
            ],
            "type": "contour"
           }
          ],
          "contourcarpet": [
           {
            "colorbar": {
             "outlinewidth": 0,
             "ticks": ""
            },
            "type": "contourcarpet"
           }
          ],
          "heatmap": [
           {
            "colorbar": {
             "outlinewidth": 0,
             "ticks": ""
            },
            "colorscale": [
             [
              0,
              "#0d0887"
             ],
             [
              0.1111111111111111,
              "#46039f"
             ],
             [
              0.2222222222222222,
              "#7201a8"
             ],
             [
              0.3333333333333333,
              "#9c179e"
             ],
             [
              0.4444444444444444,
              "#bd3786"
             ],
             [
              0.5555555555555556,
              "#d8576b"
             ],
             [
              0.6666666666666666,
              "#ed7953"
             ],
             [
              0.7777777777777778,
              "#fb9f3a"
             ],
             [
              0.8888888888888888,
              "#fdca26"
             ],
             [
              1,
              "#f0f921"
             ]
            ],
            "type": "heatmap"
           }
          ],
          "heatmapgl": [
           {
            "colorbar": {
             "outlinewidth": 0,
             "ticks": ""
            },
            "colorscale": [
             [
              0,
              "#0d0887"
             ],
             [
              0.1111111111111111,
              "#46039f"
             ],
             [
              0.2222222222222222,
              "#7201a8"
             ],
             [
              0.3333333333333333,
              "#9c179e"
             ],
             [
              0.4444444444444444,
              "#bd3786"
             ],
             [
              0.5555555555555556,
              "#d8576b"
             ],
             [
              0.6666666666666666,
              "#ed7953"
             ],
             [
              0.7777777777777778,
              "#fb9f3a"
             ],
             [
              0.8888888888888888,
              "#fdca26"
             ],
             [
              1,
              "#f0f921"
             ]
            ],
            "type": "heatmapgl"
           }
          ],
          "histogram": [
           {
            "marker": {
             "pattern": {
              "fillmode": "overlay",
              "size": 10,
              "solidity": 0.2
             }
            },
            "type": "histogram"
           }
          ],
          "histogram2d": [
           {
            "colorbar": {
             "outlinewidth": 0,
             "ticks": ""
            },
            "colorscale": [
             [
              0,
              "#0d0887"
             ],
             [
              0.1111111111111111,
              "#46039f"
             ],
             [
              0.2222222222222222,
              "#7201a8"
             ],
             [
              0.3333333333333333,
              "#9c179e"
             ],
             [
              0.4444444444444444,
              "#bd3786"
             ],
             [
              0.5555555555555556,
              "#d8576b"
             ],
             [
              0.6666666666666666,
              "#ed7953"
             ],
             [
              0.7777777777777778,
              "#fb9f3a"
             ],
             [
              0.8888888888888888,
              "#fdca26"
             ],
             [
              1,
              "#f0f921"
             ]
            ],
            "type": "histogram2d"
           }
          ],
          "histogram2dcontour": [
           {
            "colorbar": {
             "outlinewidth": 0,
             "ticks": ""
            },
            "colorscale": [
             [
              0,
              "#0d0887"
             ],
             [
              0.1111111111111111,
              "#46039f"
             ],
             [
              0.2222222222222222,
              "#7201a8"
             ],
             [
              0.3333333333333333,
              "#9c179e"
             ],
             [
              0.4444444444444444,
              "#bd3786"
             ],
             [
              0.5555555555555556,
              "#d8576b"
             ],
             [
              0.6666666666666666,
              "#ed7953"
             ],
             [
              0.7777777777777778,
              "#fb9f3a"
             ],
             [
              0.8888888888888888,
              "#fdca26"
             ],
             [
              1,
              "#f0f921"
             ]
            ],
            "type": "histogram2dcontour"
           }
          ],
          "mesh3d": [
           {
            "colorbar": {
             "outlinewidth": 0,
             "ticks": ""
            },
            "type": "mesh3d"
           }
          ],
          "parcoords": [
           {
            "line": {
             "colorbar": {
              "outlinewidth": 0,
              "ticks": ""
             }
            },
            "type": "parcoords"
           }
          ],
          "pie": [
           {
            "automargin": true,
            "type": "pie"
           }
          ],
          "scatter": [
           {
            "fillpattern": {
             "fillmode": "overlay",
             "size": 10,
             "solidity": 0.2
            },
            "type": "scatter"
           }
          ],
          "scatter3d": [
           {
            "line": {
             "colorbar": {
              "outlinewidth": 0,
              "ticks": ""
             }
            },
            "marker": {
             "colorbar": {
              "outlinewidth": 0,
              "ticks": ""
             }
            },
            "type": "scatter3d"
           }
          ],
          "scattercarpet": [
           {
            "marker": {
             "colorbar": {
              "outlinewidth": 0,
              "ticks": ""
             }
            },
            "type": "scattercarpet"
           }
          ],
          "scattergeo": [
           {
            "marker": {
             "colorbar": {
              "outlinewidth": 0,
              "ticks": ""
             }
            },
            "type": "scattergeo"
           }
          ],
          "scattergl": [
           {
            "marker": {
             "colorbar": {
              "outlinewidth": 0,
              "ticks": ""
             }
            },
            "type": "scattergl"
           }
          ],
          "scattermapbox": [
           {
            "marker": {
             "colorbar": {
              "outlinewidth": 0,
              "ticks": ""
             }
            },
            "type": "scattermapbox"
           }
          ],
          "scatterpolar": [
           {
            "marker": {
             "colorbar": {
              "outlinewidth": 0,
              "ticks": ""
             }
            },
            "type": "scatterpolar"
           }
          ],
          "scatterpolargl": [
           {
            "marker": {
             "colorbar": {
              "outlinewidth": 0,
              "ticks": ""
             }
            },
            "type": "scatterpolargl"
           }
          ],
          "scatterternary": [
           {
            "marker": {
             "colorbar": {
              "outlinewidth": 0,
              "ticks": ""
             }
            },
            "type": "scatterternary"
           }
          ],
          "surface": [
           {
            "colorbar": {
             "outlinewidth": 0,
             "ticks": ""
            },
            "colorscale": [
             [
              0,
              "#0d0887"
             ],
             [
              0.1111111111111111,
              "#46039f"
             ],
             [
              0.2222222222222222,
              "#7201a8"
             ],
             [
              0.3333333333333333,
              "#9c179e"
             ],
             [
              0.4444444444444444,
              "#bd3786"
             ],
             [
              0.5555555555555556,
              "#d8576b"
             ],
             [
              0.6666666666666666,
              "#ed7953"
             ],
             [
              0.7777777777777778,
              "#fb9f3a"
             ],
             [
              0.8888888888888888,
              "#fdca26"
             ],
             [
              1,
              "#f0f921"
             ]
            ],
            "type": "surface"
           }
          ],
          "table": [
           {
            "cells": {
             "fill": {
              "color": "#EBF0F8"
             },
             "line": {
              "color": "white"
             }
            },
            "header": {
             "fill": {
              "color": "#C8D4E3"
             },
             "line": {
              "color": "white"
             }
            },
            "type": "table"
           }
          ]
         },
         "layout": {
          "annotationdefaults": {
           "arrowcolor": "#2a3f5f",
           "arrowhead": 0,
           "arrowwidth": 1
          },
          "autotypenumbers": "strict",
          "coloraxis": {
           "colorbar": {
            "outlinewidth": 0,
            "ticks": ""
           }
          },
          "colorscale": {
           "diverging": [
            [
             0,
             "#8e0152"
            ],
            [
             0.1,
             "#c51b7d"
            ],
            [
             0.2,
             "#de77ae"
            ],
            [
             0.3,
             "#f1b6da"
            ],
            [
             0.4,
             "#fde0ef"
            ],
            [
             0.5,
             "#f7f7f7"
            ],
            [
             0.6,
             "#e6f5d0"
            ],
            [
             0.7,
             "#b8e186"
            ],
            [
             0.8,
             "#7fbc41"
            ],
            [
             0.9,
             "#4d9221"
            ],
            [
             1,
             "#276419"
            ]
           ],
           "sequential": [
            [
             0,
             "#0d0887"
            ],
            [
             0.1111111111111111,
             "#46039f"
            ],
            [
             0.2222222222222222,
             "#7201a8"
            ],
            [
             0.3333333333333333,
             "#9c179e"
            ],
            [
             0.4444444444444444,
             "#bd3786"
            ],
            [
             0.5555555555555556,
             "#d8576b"
            ],
            [
             0.6666666666666666,
             "#ed7953"
            ],
            [
             0.7777777777777778,
             "#fb9f3a"
            ],
            [
             0.8888888888888888,
             "#fdca26"
            ],
            [
             1,
             "#f0f921"
            ]
           ],
           "sequentialminus": [
            [
             0,
             "#0d0887"
            ],
            [
             0.1111111111111111,
             "#46039f"
            ],
            [
             0.2222222222222222,
             "#7201a8"
            ],
            [
             0.3333333333333333,
             "#9c179e"
            ],
            [
             0.4444444444444444,
             "#bd3786"
            ],
            [
             0.5555555555555556,
             "#d8576b"
            ],
            [
             0.6666666666666666,
             "#ed7953"
            ],
            [
             0.7777777777777778,
             "#fb9f3a"
            ],
            [
             0.8888888888888888,
             "#fdca26"
            ],
            [
             1,
             "#f0f921"
            ]
           ]
          },
          "colorway": [
           "#636efa",
           "#EF553B",
           "#00cc96",
           "#ab63fa",
           "#FFA15A",
           "#19d3f3",
           "#FF6692",
           "#B6E880",
           "#FF97FF",
           "#FECB52"
          ],
          "font": {
           "color": "#2a3f5f"
          },
          "geo": {
           "bgcolor": "white",
           "lakecolor": "white",
           "landcolor": "#E5ECF6",
           "showlakes": true,
           "showland": true,
           "subunitcolor": "white"
          },
          "hoverlabel": {
           "align": "left"
          },
          "hovermode": "closest",
          "mapbox": {
           "style": "light"
          },
          "paper_bgcolor": "white",
          "plot_bgcolor": "#E5ECF6",
          "polar": {
           "angularaxis": {
            "gridcolor": "white",
            "linecolor": "white",
            "ticks": ""
           },
           "bgcolor": "#E5ECF6",
           "radialaxis": {
            "gridcolor": "white",
            "linecolor": "white",
            "ticks": ""
           }
          },
          "scene": {
           "xaxis": {
            "backgroundcolor": "#E5ECF6",
            "gridcolor": "white",
            "gridwidth": 2,
            "linecolor": "white",
            "showbackground": true,
            "ticks": "",
            "zerolinecolor": "white"
           },
           "yaxis": {
            "backgroundcolor": "#E5ECF6",
            "gridcolor": "white",
            "gridwidth": 2,
            "linecolor": "white",
            "showbackground": true,
            "ticks": "",
            "zerolinecolor": "white"
           },
           "zaxis": {
            "backgroundcolor": "#E5ECF6",
            "gridcolor": "white",
            "gridwidth": 2,
            "linecolor": "white",
            "showbackground": true,
            "ticks": "",
            "zerolinecolor": "white"
           }
          },
          "shapedefaults": {
           "line": {
            "color": "#2a3f5f"
           }
          },
          "ternary": {
           "aaxis": {
            "gridcolor": "white",
            "linecolor": "white",
            "ticks": ""
           },
           "baxis": {
            "gridcolor": "white",
            "linecolor": "white",
            "ticks": ""
           },
           "bgcolor": "#E5ECF6",
           "caxis": {
            "gridcolor": "white",
            "linecolor": "white",
            "ticks": ""
           }
          },
          "title": {
           "x": 0.05
          },
          "xaxis": {
           "automargin": true,
           "gridcolor": "white",
           "linecolor": "white",
           "ticks": "",
           "title": {
            "standoff": 15
           },
           "zerolinecolor": "white",
           "zerolinewidth": 2
          },
          "yaxis": {
           "automargin": true,
           "gridcolor": "white",
           "linecolor": "white",
           "ticks": "",
           "title": {
            "standoff": 15
           },
           "zerolinecolor": "white",
           "zerolinewidth": 2
          }
         }
        },
        "title": {
         "text": "Sentiment of 100 Tweets Under \"oscars 2022\" Topic"
        },
        "uniformtext": {
         "minsize": 12,
         "mode": "hide"
        }
       }
      }
     },
     "metadata": {},
     "output_type": "display_data"
    }
   ],
   "source": [
    "import plotly.express as px\n",
    "\n",
    "fig = px.pie(counts_df, values=['38', '12', '49'], names=['neg', 'neutral', 'pos'], color =['neg', 'neutral', 'pos'],\n",
    "             color_discrete_map={'neg':'FF6961',\n",
    "                                 'neutral':'6CA0DC',\n",
    "                                 'pos':'#77DD77'})\n",
    "fig.update_traces(textposition='inside')\n",
    "fig.update_layout(uniformtext_minsize=12, uniformtext_mode='hide',  title=\"Sentiment of 100 Tweets Under \\\"oscars 2022\\\" Topic\",)\n",
    "fig.show()"
   ]
  }
 ],
 "metadata": {
  "interpreter": {
   "hash": "ce9cee3d5ee3f2a4e0552862d2333eeebf09f6e5235c1f229d60a7fc27105b3c"
  },
  "kernelspec": {
   "display_name": "Python 3.9.7 ('base')",
   "language": "python",
   "name": "python3"
  },
  "language_info": {
   "codemirror_mode": {
    "name": "ipython",
    "version": 3
   },
   "file_extension": ".py",
   "mimetype": "text/x-python",
   "name": "python",
   "nbconvert_exporter": "python",
   "pygments_lexer": "ipython3",
   "version": "3.9.7"
  },
  "orig_nbformat": 4
 },
 "nbformat": 4,
 "nbformat_minor": 2
}
