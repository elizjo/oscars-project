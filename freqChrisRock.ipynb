{
 "cells": [
  {
   "cell_type": "code",
   "execution_count": 1,
   "metadata": {},
   "outputs": [],
   "source": [
    "import pandas as pd\n"
   ]
  },
  {
   "cell_type": "markdown",
   "metadata": {},
   "source": [
    "data visualization\n",
    "- most freq word\n",
    "(concat all string text, do .split)\n",
    "from collections import counter, counter(list of words), most_common\n",
    "\n",
    "pairs of words\n",
    "- word2vect (average alignment score: with anger etc)\n",
    "counter"
   ]
  },
  {
   "cell_type": "code",
   "execution_count": 2,
   "metadata": {},
   "outputs": [
    {
     "data": {
      "text/html": [
       "<div>\n",
       "<style scoped>\n",
       "    .dataframe tbody tr th:only-of-type {\n",
       "        vertical-align: middle;\n",
       "    }\n",
       "\n",
       "    .dataframe tbody tr th {\n",
       "        vertical-align: top;\n",
       "    }\n",
       "\n",
       "    .dataframe thead th {\n",
       "        text-align: right;\n",
       "    }\n",
       "</style>\n",
       "<table border=\"1\" class=\"dataframe\">\n",
       "  <thead>\n",
       "    <tr style=\"text-align: right;\">\n",
       "      <th></th>\n",
       "      <th>text</th>\n",
       "      <th>author_id</th>\n",
       "      <th>id</th>\n",
       "      <th>created_at</th>\n",
       "      <th>public_metrics.retweet_count</th>\n",
       "      <th>public_metrics.reply_count</th>\n",
       "      <th>public_metrics.like_count</th>\n",
       "      <th>public_metrics.quote_count</th>\n",
       "    </tr>\n",
       "  </thead>\n",
       "  <tbody>\n",
       "    <tr>\n",
       "      <th>0</th>\n",
       "      <td>RT @SamuelLJackson: Revelations Of Will Smith ...</td>\n",
       "      <td>1502107370494775296</td>\n",
       "      <td>1516627522649309185</td>\n",
       "      <td>2022-04-20T03:59:13.000Z</td>\n",
       "      <td>87</td>\n",
       "      <td>0</td>\n",
       "      <td>0</td>\n",
       "      <td>0</td>\n",
       "    </tr>\n",
       "    <tr>\n",
       "      <th>1</th>\n",
       "      <td>Will Smith slaps Chris Rock at the Oscars http...</td>\n",
       "      <td>1500680361071849472</td>\n",
       "      <td>1516607858472853510</td>\n",
       "      <td>2022-04-20T02:41:05.000Z</td>\n",
       "      <td>0</td>\n",
       "      <td>0</td>\n",
       "      <td>0</td>\n",
       "      <td>0</td>\n",
       "    </tr>\n",
       "    <tr>\n",
       "      <th>2</th>\n",
       "      <td>Will Packer Claims Chris Rock Said Will Could ...</td>\n",
       "      <td>2891220923</td>\n",
       "      <td>1516600219714170883</td>\n",
       "      <td>2022-04-20T02:10:44.000Z</td>\n",
       "      <td>0</td>\n",
       "      <td>0</td>\n",
       "      <td>0</td>\n",
       "      <td>0</td>\n",
       "    </tr>\n",
       "    <tr>\n",
       "      <th>3</th>\n",
       "      <td>Will Smith’s Post-Slap Oscars Acceptance Speec...</td>\n",
       "      <td>1002293322512297984</td>\n",
       "      <td>1516598789372448769</td>\n",
       "      <td>2022-04-20T02:05:03.000Z</td>\n",
       "      <td>0</td>\n",
       "      <td>0</td>\n",
       "      <td>0</td>\n",
       "      <td>0</td>\n",
       "    </tr>\n",
       "    <tr>\n",
       "      <th>4</th>\n",
       "      <td>Will Smith SLAPS Chris Rock at Oscars 2022 - S...</td>\n",
       "      <td>1029320749356527616</td>\n",
       "      <td>1516596937138470914</td>\n",
       "      <td>2022-04-20T01:57:41.000Z</td>\n",
       "      <td>0</td>\n",
       "      <td>0</td>\n",
       "      <td>0</td>\n",
       "      <td>0</td>\n",
       "    </tr>\n",
       "    <tr>\n",
       "      <th>...</th>\n",
       "      <td>...</td>\n",
       "      <td>...</td>\n",
       "      <td>...</td>\n",
       "      <td>...</td>\n",
       "      <td>...</td>\n",
       "      <td>...</td>\n",
       "      <td>...</td>\n",
       "      <td>...</td>\n",
       "    </tr>\n",
       "    <tr>\n",
       "      <th>95</th>\n",
       "      <td>After slapping Chris Rock at the Oscars: Will ...</td>\n",
       "      <td>1509379073658830848</td>\n",
       "      <td>1516023662729646087</td>\n",
       "      <td>2022-04-18T11:59:42.000Z</td>\n",
       "      <td>0</td>\n",
       "      <td>0</td>\n",
       "      <td>0</td>\n",
       "      <td>0</td>\n",
       "    </tr>\n",
       "    <tr>\n",
       "      <th>96</th>\n",
       "      <td>UFC Champion Israel Adesanya Shares a Message ...</td>\n",
       "      <td>996171062</td>\n",
       "      <td>1516017634768297986</td>\n",
       "      <td>2022-04-18T11:35:45.000Z</td>\n",
       "      <td>0</td>\n",
       "      <td>0</td>\n",
       "      <td>0</td>\n",
       "      <td>0</td>\n",
       "    </tr>\n",
       "    <tr>\n",
       "      <th>97</th>\n",
       "      <td>Will Smith SLAPS Chris Rock at Oscars 2022 - S...</td>\n",
       "      <td>1423600865307418633</td>\n",
       "      <td>1516016869861478409</td>\n",
       "      <td>2022-04-18T11:32:42.000Z</td>\n",
       "      <td>0</td>\n",
       "      <td>0</td>\n",
       "      <td>0</td>\n",
       "      <td>0</td>\n",
       "    </tr>\n",
       "    <tr>\n",
       "      <th>98</th>\n",
       "      <td>RT @usweekly: Will Smith slapping Chris Rock a...</td>\n",
       "      <td>1839081097</td>\n",
       "      <td>1515991619253649411</td>\n",
       "      <td>2022-04-18T09:52:22.000Z</td>\n",
       "      <td>1</td>\n",
       "      <td>0</td>\n",
       "      <td>0</td>\n",
       "      <td>0</td>\n",
       "    </tr>\n",
       "    <tr>\n",
       "      <th>99</th>\n",
       "      <td>Will Smith slapping Chris Rock at the 2022 #OS...</td>\n",
       "      <td>20012204</td>\n",
       "      <td>1515979700514045953</td>\n",
       "      <td>2022-04-18T09:05:00.000Z</td>\n",
       "      <td>1</td>\n",
       "      <td>0</td>\n",
       "      <td>0</td>\n",
       "      <td>0</td>\n",
       "    </tr>\n",
       "  </tbody>\n",
       "</table>\n",
       "<p>100 rows × 8 columns</p>\n",
       "</div>"
      ],
      "text/plain": [
       "                                                 text            author_id  \\\n",
       "0   RT @SamuelLJackson: Revelations Of Will Smith ...  1502107370494775296   \n",
       "1   Will Smith slaps Chris Rock at the Oscars http...  1500680361071849472   \n",
       "2   Will Packer Claims Chris Rock Said Will Could ...           2891220923   \n",
       "3   Will Smith’s Post-Slap Oscars Acceptance Speec...  1002293322512297984   \n",
       "4   Will Smith SLAPS Chris Rock at Oscars 2022 - S...  1029320749356527616   \n",
       "..                                                ...                  ...   \n",
       "95  After slapping Chris Rock at the Oscars: Will ...  1509379073658830848   \n",
       "96  UFC Champion Israel Adesanya Shares a Message ...            996171062   \n",
       "97  Will Smith SLAPS Chris Rock at Oscars 2022 - S...  1423600865307418633   \n",
       "98  RT @usweekly: Will Smith slapping Chris Rock a...           1839081097   \n",
       "99  Will Smith slapping Chris Rock at the 2022 #OS...             20012204   \n",
       "\n",
       "                     id                created_at  \\\n",
       "0   1516627522649309185  2022-04-20T03:59:13.000Z   \n",
       "1   1516607858472853510  2022-04-20T02:41:05.000Z   \n",
       "2   1516600219714170883  2022-04-20T02:10:44.000Z   \n",
       "3   1516598789372448769  2022-04-20T02:05:03.000Z   \n",
       "4   1516596937138470914  2022-04-20T01:57:41.000Z   \n",
       "..                  ...                       ...   \n",
       "95  1516023662729646087  2022-04-18T11:59:42.000Z   \n",
       "96  1516017634768297986  2022-04-18T11:35:45.000Z   \n",
       "97  1516016869861478409  2022-04-18T11:32:42.000Z   \n",
       "98  1515991619253649411  2022-04-18T09:52:22.000Z   \n",
       "99  1515979700514045953  2022-04-18T09:05:00.000Z   \n",
       "\n",
       "    public_metrics.retweet_count  public_metrics.reply_count  \\\n",
       "0                             87                           0   \n",
       "1                              0                           0   \n",
       "2                              0                           0   \n",
       "3                              0                           0   \n",
       "4                              0                           0   \n",
       "..                           ...                         ...   \n",
       "95                             0                           0   \n",
       "96                             0                           0   \n",
       "97                             0                           0   \n",
       "98                             1                           0   \n",
       "99                             1                           0   \n",
       "\n",
       "    public_metrics.like_count  public_metrics.quote_count  \n",
       "0                           0                           0  \n",
       "1                           0                           0  \n",
       "2                           0                           0  \n",
       "3                           0                           0  \n",
       "4                           0                           0  \n",
       "..                        ...                         ...  \n",
       "95                          0                           0  \n",
       "96                          0                           0  \n",
       "97                          0                           0  \n",
       "98                          0                           0  \n",
       "99                          0                           0  \n",
       "\n",
       "[100 rows x 8 columns]"
      ]
     },
     "execution_count": 2,
     "metadata": {},
     "output_type": "execute_result"
    }
   ],
   "source": [
    "oscars2022_df = pd.read_csv(\"chrisRock.csv\")\n",
    "oscars2022_df"
   ]
  },
  {
   "cell_type": "code",
   "execution_count": 3,
   "metadata": {},
   "outputs": [
    {
     "data": {
      "text/plain": [
       "'rt @samuelljackson: revelations of will smith call with oscar bosses outrages board &amp; more #smartnews  https://t.co/0cej5wgcywwill smith slaps chris rock at the\\xa0oscars https://t.co/chhaadl70bwill packer claims chris rock said will could leave, rock sources say that\\'s a lie https://t.co/fh262ilc0h via @tmzwill smith’s post-slap oscars acceptance speech spiked audience by 600,000 viewers https://t.co/sojb2atnf6will smith slaps chris rock at oscars 2022 - south park animated https://t.co/i7i9iidr9u via @youtube the greatest-night in television historyrt @extratv: jada pinkett smith is back at the red table in the wake of the oscars altercation between will smith and chris rock. https://t…jada pinkett smith is back at the red table in the wake of the oscars altercation between will smith and chris rock. https://t.co/aoiupohrhjrt @lightfootinhwd: after will smith assaulted chris rock, procedures were so shaken that they didn\\'t present liza in a directors chair, th…rt @usweekly: weeks later, celebs are *still* reacting to the #oscars slap. https://t.co/rxuripvpexweeks later, celebs are *still* reacting to the #oscars slap. https://t.co/rxuripvpexrt @lightfootinhwd: after will smith assaulted chris rock, procedures were so shaken that they didn\\'t present liza in a directors chair, th…\\'saturday night live\\' takes on will smith\\'s oscars slap https://t.co/uqifz5djsk #breakingnews #news #twitter #ukraine️ #ukrainerussiawar #trump #bidenafter will smith assaulted chris rock, procedures were so shaken that they didn\\'t present liza in a directors chair, they forced her out in the wheelchair.💔\\n\\nliza minnelli was ‘sabotaged’ at oscars 2022, longtime pal claims\\n\\nhttps://t.co/wbd3zywzhart @laligaendirecto: 1⃣5⃣ que alguien pare esto, por favor. #laprofecía\\n\\nóscars 1977: sylvester stallone y muhammad ali tienen una \\'pelea\\'…\"there’s too much reliance on written statements and not enough acknowledgment that multiple apologies are missing from all parties.\"\\n\\n#hollywoodnews #variety #theimagecartel\\n\\nhttps://t.co/jpv64kl3m9“will smith has been bullying chris rock all his life”: actor who made bold claim on dwyane wade’s wife comments on oscars\\xa0slapgate https://t.co/brdetyjr76zayn malik’s favorite fighter calls out former interim ufc champion with chris rock and will smith’s oscars slap\\xa0reference https://t.co/u6pkp3yszsrt @crypto_wires: will smith slaps chris rock at the oscars 2022! animated https://t.co/3b6ayve9ms via @youtube #funny #willsmithchrisrock…rt @crypto_wires: will smith slaps chris rock at the oscars 2022! animated https://t.co/3b6ayve9ms via @youtube #funny #willsmithchrisrock…will smith slaps chris rock at the oscars 2022! animated https://t.co/3b6ayve9ms via @youtube #funny #willsmithchrisrock #mentalhealthtelling my kids this was will smith and chris rock at the 2022 oscars https://t.co/kqfwjtuopr@jomed13 @julianaoxenford https://t.co/gvfjszwkufabout will smith and chris rock at the oscars | by william spivey | mar, 2022 | medium - via @pensignal  https://t.co/sgeb2orpsm #oscars #willsmithjada pinkett smith is back at the red table in the wake of the oscars altercation between will smith and chris rock. https://t.co/wkf4hpsottrt @harringtonboyce: thank you fortune for the shoutout 🚀👏slapping our way to a new ath 🚀https://t.co/baoaubnoxi#slap #oscars… https://t.co…rt @logoarchitect: vividesign group -  chris rock sold more tour tickets this week than before oscars slap, reseller says https://t.co/eppm…rt @navinous: will smith apologizes for slapping oscars presenter chris rock:\\n\"i am embarrassed and my actions were not indicative of the m…chris rock breaks his silence since the\\xa0oscars https://t.co/jlefiv4nd5will smith slaps chris rock into next week onstage at oscars after bad jada\\xa0joke https://t.co/gsundbtmj2patrick mahomes’ wife brittany matthews has four words of advice to will smithfor slapping chris rock at oscars 2022 https://t.co/65eiamvxaj via @es_sportsnewsbilly crystal is still pretty steamed about will smith slapping chris rock at the oscars https://t.co/wxkbw0hwykrt @mojahedfudailat: will smith slaps chris rock at oscars 2022 animated\\n#oscars #animation #3dart https://t.co/dxfwrhbvxp@aidemarron1 several sources reported that the audience grew after the slap 👉 https://t.co/dcbtx4fac2\\ni don\\'t know if this was planned, but it definitely tells us a lot about audience behavior.rt @crinstitute: 2022 oscars telecast on 3/27, will smith slapped chris rock. news cycles dominated by this pop culture story. denzel washi…#newarticle \\'will smith backlash after slapping chris rock live at the oscar’s\\'. check out the full article here:\\nhttps://t.co/yybfh6z2mt\\n#willsmith #chrisrock #oscars #entertainment #comedy #jadapinkettsmith #fyp #live #networthpick https://t.co/oycibupg6s2022 oscars telecast on 3/27, will smith slapped chris rock. news cycles dominated by this pop culture story. denzel washington\\'s comments about the slap at pastor t.j. jakes international leadership summit in clt. who is jakes? beliefs? see https://t.co/nrdibrzgec #apologetics https://t.co/xwr8cnwa0rafter slapping chris rock at the oscars: will smith resigns from the oscar academy\\nhttps://t.co/fxiambzamr\\n\\n#willsmithslap #jadapinketsmith https://t.co/c0c6mkmwbfwill smith slaps chris rock at oscars 2022 - south park animated https://t.co/8woj0cju4s via @youtubert @935kday: #krushgroove artist dj quik speaks on releasing new music as nft’s &amp; shares opinion on will smith oscars situation 🔥💯👑\\n•\\n@djqu…will smith resigns from academy over chris rock oscars slap – variety\\n\\ni’d slap the shit out of you. https://t.co/ed0h2ayadtpatrick mahomes’ wife brittany matthews has four words of advice to will smith for slapping chris rock at oscars 2022 https://t.co/8ybdy68rhvrt @june_space_: every 2022 recap is gonna include two things:\\n- that wacky time will smith slapped chris rock at the oscars\\n- the anomaly…have we moved on or we can still have a look at this?\\nhttps://t.co/tqj5niagmhrt @variety: here\\'s will smith\\'s tearful acceptance speech at the #oscars. https://t.co/ulvt7fsb57 https://t.co/uq2krbbbldbody language analyst reacts to will smith/chris rock slap at 2022 oscars. was it staged? - youtube https://t.co/cx1oqs4ysjwill smith slaps chris rock at oscars 2022 - south park animated https://t.co/h1y1mzysf4 via @youtubewill smith has now apologised for his actions at the oscars. https://t.co/0cotx7so9wwill smith slaps chris rock at oscars 2022 - south park animated https://t.co/8wqusjhrxc via @youtubeamy schumer praises chris rock for keeping his composure after getting slapped by will smith at oscars 2022. watch the comedienne discuss the aftermath! https://t.co/3idjnxnosopatrick mahomes’ wife brittany matthews has four words of advice to will smith for slapping chris rock at oscars\\xa02022 https://t.co/ucspr4r5awamy schumer praises chris rock for keeping his composure after getting slapped by will smith at oscars 2022. watch the comedienne discuss the aftermath! https://t.co/yec9fpuqwzchris rock no hablará de la cachetada de los oscars hasta que le paguen https://t.co/zkv7qfnpcb     *rt @rummanahussain: for my latest column, i touched on the south asian/asian american experience tied to the other chris rock joke that dre…while everyone is talking about #willsmith slapping chris rock at the 94th academy awards, we thought we’d turn ur attention to another will … will packer!\\n\\ncontinue reading at https://t.co/b3jnj9xgdv | 10z viral#chrisrock has finally broken his silence after being slapped by #willsmith at the #oscars. on wednesday the comedian took the stage at the wilbur in #boston for a four day stint and was greeted to a standing ovation\\n\\ncontinue reading at https://t.co/jiqbcd2rmf | 10z viralpatrick mahomes’ wife brittany matthews has four words of advice to will smith for slapping chris rock at oscars\\xa02022 https://t.co/eoskoz6a0ert @rummanahussain: for my latest column, i touched on the south asian/asian american experience tied to the other chris rock joke that dre…patrick mahomes’ wife brittany matthews has four words of advice to will smith for slapping chris rock at oscars\\xa02022 https://t.co/b0b7i4y7dkrt @rummanahussain: for my latest column, i touched on the south asian/asian american experience tied to the other chris rock joke that dre…rt @rummanahussain: for my latest column, i touched on the south asian/asian american experience tied to the other chris rock joke that dre…(4/4): also be sure to check out my second story, where i covered the will smith and chris rock fallout and its implications on the historic wins made by actors and actresses like debose at this year’s oscars show. link down below ⬇️\\n\\nhttps://t.co/ahrujdpyhvabout will smith and chris rock at the oscars | by william spivey | mar, 2022 | medium - via @pensignal  https://t.co/5favvlp6sz #oscars #willsmithவில் ஸ்மித் நிஜமாகவே குத்தினாரா…ஆஸ்கர் மேடையில் நடந்த பரபரப்பு சம்பவம் | will smith punches chris rock at oscars 2022…scripted or\\xa0real? https://t.co/ucidvqujwpwill smith smacks chris rock at #2022 oscars https://t.co/bjgnevqgbc via @youtubert @june_space_: every 2022 recap is gonna include two things:\\n- that wacky time will smith slapped chris rock at the oscars\\n- the anomaly…us is failing globally, financially, domestically &amp; will get worse. we fired trump 4 failing. @potus is worse. if djt was potus we\\'d tear him apart. we did! joe must go. if not trump or desantis will destroy joe. it will happen. please be real 🙈🙉🙊\\nhttps://t.co/o1sxt0xhgfbro i\\'m really a father right before father day and will smith slapped chris rock.  got to love 2022 👍👍👍\\n\\n#willsmith #oscars #fatherhood #news #daughterloverobin roberts respects chris rock not speaking out after oscars slap | watch - https://t.co/kewlsvtwqm https://t.co/u6k5haj89gmenuda torta le acaba de meter will smith a chris rock.👋\\n#oscars 2022 🏆rt @goodenufmother: developing. #oscars launch formal review of will smith after chris rock slap https://t.co/ocplwufzvf via @varietyrt @goodenufmother: breaking: #willsmith resigns from academy over #chrisrock oscars slap - variety https://t.co/dxpme6v6dh7 bramwell “maybe if we were used to seeing bm defend the honor of their women it wouldn\\'t be such a surprise” bloombaby99 “i lost all respect for @chrisrock the last time he hosted @theacademy spent the majority of his monologue throwing black people\\nhttps://t.co/jgl4kdama5!she knows every damn thing uggggggg https://t.co/xue1bi8anj#krushgroove artist dj quik speaks on releasing new music as nft’s &amp; shares opinion on will smith oscars situation 🔥💯👑\\n•\\n@djquik @iamcecevalencia @romeoonyoradio #kdaymorningshow\\n•\\n[watch] https://t.co/4oinmibdwj https://t.co/wcyivwml49patrick mahomes’ wife brittany matthews has four words of advice to will smith for slapping chris rock at oscars\\xa02022 https://t.co/irhfvggt4vrt @murflicks: here is how will smith walked to chris rock on the stage and slapped him at the oscars 2022. how cool is this guys? https://…rt @realitytea: in case you missed it: bethenny frankel says will smith should have been immediately kicked out after he slapped chris rock…rt @june_space_: every 2022 recap is gonna include two things:\\n- that wacky time will smith slapped chris rock at the oscars\\n- the anomaly…rt @rummanahussain: for my latest column, i touched on the south asian/asian american experience tied to the other chris rock joke that dre…rt @samuelljackson: revelations of will smith call with oscar bosses outrages board &amp; more #smartnews  https://t.co/0cej5wgcywrt @thisakoto: https://t.co/rd1kycqzlyrt @guardianaus: don’t mention that slap! why no one was talking about will smith and chris rock at the oscars afterparty https://t.co/buch…rt @peterdredd: will smith ‘flooded with movie offers’ in spite of 10-year oscars ban after chris rock slap - https://t.co/rqv4hjtan0 https…every 2022 recap is gonna include two things:\\n- that wacky time will smith slapped chris rock at the oscars\\n- the anomaly at 52.4807275,-2.1113894444444443 on october 2nd at 21:45 utcwill smith ‘flooded with movie offers’ in spite of 10-year oscars ban after chris rock slap - https://t.co/rqv4hjtan0 https://t.co/co0b2ewjxwwill smith slaps chris rock at oscars 2022 - south park animated https://t.co/ztsqxiwveq via @youtube\"will smith resigns from academy after chris rock slap incident                will smith resigns from the academy of motion picture arts and sciences in response to the backlash after he slapped chris rock at the 2022 oscars.\"\\nhttps://t.co/pdxwrmrprifor my latest column, i touched on the south asian/asian american experience tied to the other chris rock joke that drew controversy at the oscars. \\nhttps://t.co/mzdrd98fdvwill smith slaps chris rock into next week onstage at oscars after bad jada\\xa0joke https://t.co/gsundbtmj2rt @jjauthor: what i saw at the oscars after will smith slapped chris rock https://t.co/pbrxnk0zhert @jjauthor: what i saw at the oscars after will smith slapped chris rock https://t.co/pbrxnk0zhewhat i saw at the oscars after will smith slapped chris rock https://t.co/pbrxnk0zhein his final instagram post, the celebrity apprentice alum shared a joke about his friend chris rock being slapped by will smith at the 2022 oscars, alongside a selfie with the comedian. https://t.co/xqt2iwt5ta via @usweeklyrt @city_news: there was a little more to the oscars than will smith slapping chris rock reports \"streaming\" columnist\\xa0nick overall. https:…rt @samuelljackson: revelations of will smith call with oscar bosses outrages board &amp; more #smartnews  https://t.co/0cej5wgcywafter slapping chris rock at the oscars: will smith resigns from the oscar academy\\nhttps://t.co/vygf6myrrw\\n\\n#willsmithslap #jadapinketsmith https://t.co/m10kt6mcokufc champion israel adesanya shares a message from chris rock after will smith’s oscars slap https://t.co/ppioup7xytwill smith slaps chris rock at oscars 2022 - south park animated https://t.co/oyopi82gmv via @youtubert @usweekly: will smith slapping chris rock at the 2022 #oscars ignited a conversation — including from the philadelphia native’s the fres…will smith slapping chris rock at the 2022 #oscars ignited a conversation — including from the philadelphia native’s the fresh prince of bel-air costars. https://t.co/ggpfvbjsv5'"
      ]
     },
     "execution_count": 3,
     "metadata": {},
     "output_type": "execute_result"
    }
   ],
   "source": [
    "all_text = oscars2022_df['text'].tolist()\n",
    "\n",
    "str_all_text = \"\"\n",
    "for entry in all_text:\n",
    "    str_all_text += entry \n",
    "    \n",
    "cleaned = str_all_text.lower()\n",
    "cleaned"
   ]
  },
  {
   "cell_type": "code",
   "execution_count": 4,
   "metadata": {},
   "outputs": [
    {
     "data": {
      "text/plain": [
       "'rt samuelljackson: revelations of will smith call with oscar bosses outrages board &amp; more #smartnews  https://t.co/0cej5wgcywwill smith slaps chris rock at the\\xa0oscars https://t.co/chhaadl70bwill packer claims chris rock said will could leave, rock sources say that\\'s a lie https://t.co/fh262ilc0h via tmzwill smith’s post-slap oscars acceptance speech spiked audience by 600,000 viewers https://t.co/sojb2atnf6will smith slaps chris rock at oscars 2022 - south park animated https://t.co/i7i9iidr9u via youtube the greatest-night in television historyrt extratv: jada pinkett smith is back at the red table in the wake of the oscars altercation between will smith and chris rock. https://t…jada pinkett smith is back at the red table in the wake of the oscars altercation between will smith and chris rock. https://t.co/aoiupohrhjrt lightfootinhwd: after will smith assaulted chris rock, procedures were so shaken that they didn\\'t present liza in a directors chair, th…rt usweekly: weeks later, celebs are *still* reacting to the #oscars slap. https://t.co/rxuripvpexweeks later, celebs are *still* reacting to the #oscars slap. https://t.co/rxuripvpexrt lightfootinhwd: after will smith assaulted chris rock, procedures were so shaken that they didn\\'t present liza in a directors chair, th…\\'saturday night live\\' takes on will smith\\'s oscars slap https://t.co/uqifz5djsk #breakingnews #news #twitter #ukraine️ #ukrainerussiawar #trump #bidenafter will smith assaulted chris rock, procedures were so shaken that they didn\\'t present liza in a directors chair, they forced her out in the wheelchair.💔\\n\\nliza minnelli was ‘sabotaged’ at oscars 2022, longtime pal claims\\n\\nhttps://t.co/wbd3zywzhart laligaendirecto: 1⃣5⃣ que alguien pare esto, por favor. #laprofecía\\n\\nóscars 1977: sylvester stallone y muhammad ali tienen unapelea\\'…\"there’s too much reliance on written statements and not enough acknowledgment that multiple apologies are missing from all parties.\"\\n\\n#hollywoodnews #variety #theimagecartel\\n\\nhttps://t.co/jpv64kl3m9“will smith has been bullying chris rock all his life”: actor who made bold claim on dwyane wade’s wife comments on oscars\\xa0slapgate https://t.co/brdetyjr76zayn malik’s favorite fighter calls out former interim ufc champion with chris rock and will smith’s oscars slap\\xa0reference https://t.co/u6pkp3yszsrt crypto_wires: will smith slaps chris rock at the oscars 2022! animated https://t.co/3b6ayve9ms via youtube #funny #willsmithchrisrock…rt crypto_wires: will smith slaps chris rock at the oscars 2022! animated https://t.co/3b6ayve9ms via youtube #funny #willsmithchrisrock…will smith slaps chris rock at the oscars 2022! animated https://t.co/3b6ayve9ms via youtube #funny #willsmithchrisrock #mentalhealthtelling my kids this was will smith and chris rock at the 2022 oscars https://t.co/kqfwjtuoprjomed13 julianaoxenford https://t.co/gvfjszwkufabout will smith and chris rock at the oscars | by william spivey | mar, 2022 | medium - via pensignal  https://t.co/sgeb2orpsm #oscars #willsmithjada pinkett smith is back at the red table in the wake of the oscars altercation between will smith and chris rock. https://t.co/wkf4hpsottrt harringtonboyce: thank you fortune for the shoutout 🚀👏slapping our way to a new ath 🚀https://t.co/baoaubnoxi#slap #oscars… https://t.co…rt logoarchitect: vividesign group -  chris rock sold more tour tickets this week than before oscars slap, reseller says https://t.co/eppm…rt navinous: will smith apologizes for slapping oscars presenter chris rock:\\n\"i am embarrassed and my actions were not indicative of the m…chris rock breaks his silence since the\\xa0oscars https://t.co/jlefiv4nd5will smith slaps chris rock into next week onstage at oscars after bad jada\\xa0joke https://t.co/gsundbtmj2patrick mahomes’ wife brittany matthews has four words of advice to will smithfor slapping chris rock at oscars 2022 https://t.co/65eiamvxaj via es_sportsnewsbilly crystal is still pretty steamed about will smith slapping chris rock at the oscars https://t.co/wxkbw0hwykrt mojahedfudailat: will smith slaps chris rock at oscars 2022 animated\\n#oscars #animation #3dart https://t.co/dxfwrhbvxpaidemarron1 several sources reported that the audience grew after the slap 👉 https://t.co/dcbtx4fac2\\ni don\\'t know if this was planned, but it definitely tells us a lot about audience behavior.rt crinstitute: 2022 oscars telecast on 3/27, will smith slapped chris rock. news cycles dominated by this pop culture story. denzel washi…#newarticlewill smith backlash after slapping chris rock live at the oscar’s\\'. check out the full article here:\\nhttps://t.co/yybfh6z2mt\\n#willsmith #chrisrock #oscars #entertainment #comedy #jadapinkettsmith #fyp #live #networthpick https://t.co/oycibupg6s2022 oscars telecast on 3/27, will smith slapped chris rock. news cycles dominated by this pop culture story. denzel washington\\'s comments about the slap at pastor t.j. jakes international leadership summit in clt. who is jakes? beliefs? see https://t.co/nrdibrzgec #apologetics https://t.co/xwr8cnwa0rafter slapping chris rock at the oscars: will smith resigns from the oscar academy\\nhttps://t.co/fxiambzamr\\n\\n#willsmithslap #jadapinketsmith https://t.co/c0c6mkmwbfwill smith slaps chris rock at oscars 2022 - south park animated https://t.co/8woj0cju4s via youtubert 935kday: #krushgroove artist dj quik speaks on releasing new music as nft’s &amp; shares opinion on will smith oscars situation 🔥💯👑\\n•\\ndjqu…will smith resigns from academy over chris rock oscars slap – variety\\n\\ni’d slap the shit out of you. https://t.co/ed0h2ayadtpatrick mahomes’ wife brittany matthews has four words of advice to will smith for slapping chris rock at oscars 2022 https://t.co/8ybdy68rhvrt june_space_: every 2022 recap is gonna include two things:\\n- that wacky time will smith slapped chris rock at the oscars\\n- the anomaly…have we moved on or we can still have a look at this?\\nhttps://t.co/tqj5niagmhrt variety: here\\'s will smith\\'s tearful acceptance speech at the #oscars. https://t.co/ulvt7fsb57 https://t.co/uq2krbbbldbody language analyst reacts to will smith/chris rock slap at 2022 oscars. was it staged? - youtube https://t.co/cx1oqs4ysjwill smith slaps chris rock at oscars 2022 - south park animated https://t.co/h1y1mzysf4 via youtubewill smith has now apologised for his actions at the oscars. https://t.co/0cotx7so9wwill smith slaps chris rock at oscars 2022 - south park animated https://t.co/8wqusjhrxc via youtubeamy schumer praises chris rock for keeping his composure after getting slapped by will smith at oscars 2022. watch the comedienne discuss the aftermath! https://t.co/3idjnxnosopatrick mahomes’ wife brittany matthews has four words of advice to will smith for slapping chris rock at oscars\\xa02022 https://t.co/ucspr4r5awamy schumer praises chris rock for keeping his composure after getting slapped by will smith at oscars 2022. watch the comedienne discuss the aftermath! https://t.co/yec9fpuqwzchris rock no hablará de la cachetada de los oscars hasta que le paguen https://t.co/zkv7qfnpcb     *rt rummanahussain: for my latest column, i touched on the south asian/asian american experience tied to the other chris rock joke that dre…while everyone is talking about #willsmith slapping chris rock at the 94th academy awards, we thought we’d turn ur attention to another will … will packer!\\n\\ncontinue reading at https://t.co/b3jnj9xgdv | 10z viral#chrisrock has finally broken his silence after being slapped by #willsmith at the #oscars. on wednesday the comedian took the stage at the wilbur in #boston for a four day stint and was greeted to a standing ovation\\n\\ncontinue reading at https://t.co/jiqbcd2rmf | 10z viralpatrick mahomes’ wife brittany matthews has four words of advice to will smith for slapping chris rock at oscars\\xa02022 https://t.co/eoskoz6a0ert rummanahussain: for my latest column, i touched on the south asian/asian american experience tied to the other chris rock joke that dre…patrick mahomes’ wife brittany matthews has four words of advice to will smith for slapping chris rock at oscars\\xa02022 https://t.co/b0b7i4y7dkrt rummanahussain: for my latest column, i touched on the south asian/asian american experience tied to the other chris rock joke that dre…rt rummanahussain: for my latest column, i touched on the south asian/asian american experience tied to the other chris rock joke that dre…(4/4): also be sure to check out my second story, where i covered the will smith and chris rock fallout and its implications on the historic wins made by actors and actresses like debose at this year’s oscars show. link down below ⬇️\\n\\nhttps://t.co/ahrujdpyhvabout will smith and chris rock at the oscars | by william spivey | mar, 2022 | medium - via pensignal  https://t.co/5favvlp6sz #oscars #willsmithவில் ஸ்மித் நிஜமாகவே குத்தினாரா…ஆஸ்கர் மேடையில் நடந்த பரபரப்பு சம்பவம் | will smith punches chris rock at oscars 2022…scripted or\\xa0real? https://t.co/ucidvqujwpwill smith smacks chris rock at #2022 oscars https://t.co/bjgnevqgbc via youtubert june_space_: every 2022 recap is gonna include two things:\\n- that wacky time will smith slapped chris rock at the oscars\\n- the anomaly…us is failing globally, financially, domestically &amp; will get worse. we fired trump 4 failing. potus is worse. if djt was potus we\\'d tear him apart. we did! joe must go. if not trump or desantis will destroy joe. it will happen. please be real 🙈🙉🙊\\nhttps://t.co/o1sxt0xhgfbro i\\'m really a father right before father day and will smith slapped chris rock.  got to love 2022 👍👍👍\\n\\n#willsmith #oscars #fatherhood #news #daughterloverobin roberts respects chris rock not speaking out after oscars slap | watch - https://t.co/kewlsvtwqm https://t.co/u6k5haj89gmenuda torta le acaba de meter will smith a chris rock.👋\\n#oscars 2022 🏆rt goodenufmother: developing. #oscars launch formal review of will smith after chris rock slap https://t.co/ocplwufzvf via varietyrt goodenufmother: breaking: #willsmith resigns from academy over #chrisrock oscars slap - variety https://t.co/dxpme6v6dh7 bramwell “maybe if we were used to seeing bm defend the honor of their women it wouldn\\'t be such a surprise” bloombaby99 “i lost all respect for chrisrock the last time he hosted theacademy spent the majority of his monologue throwing black people\\nhttps://t.co/jgl4kdama5!she knows every damn thing uggggggg https://t.co/xue1bi8anj#krushgroove artist dj quik speaks on releasing new music as nft’s &amp; shares opinion on will smith oscars situation 🔥💯👑\\n•\\ndjquik iamcecevalencia romeoonyoradio #kdaymorningshow\\n•\\n[watch] https://t.co/4oinmibdwj https://t.co/wcyivwml49patrick mahomes’ wife brittany matthews has four words of advice to will smith for slapping chris rock at oscars\\xa02022 https://t.co/irhfvggt4vrt murflicks: here is how will smith walked to chris rock on the stage and slapped him at the oscars 2022. how cool is this guys? https://…rt realitytea: in case you missed it: bethenny frankel says will smith should have been immediately kicked out after he slapped chris rock…rt june_space_: every 2022 recap is gonna include two things:\\n- that wacky time will smith slapped chris rock at the oscars\\n- the anomaly…rt rummanahussain: for my latest column, i touched on the south asian/asian american experience tied to the other chris rock joke that dre…rt samuelljackson: revelations of will smith call with oscar bosses outrages board &amp; more #smartnews  https://t.co/0cej5wgcywrt thisakoto: https://t.co/rd1kycqzlyrt guardianaus: don’t mention that slap! why no one was talking about will smith and chris rock at the oscars afterparty https://t.co/buch…rt peterdredd: will smith ‘flooded with movie offers’ in spite of 10-year oscars ban after chris rock slap - https://t.co/rqv4hjtan0 https…every 2022 recap is gonna include two things:\\n- that wacky time will smith slapped chris rock at the oscars\\n- the anomaly at 52.4807275,-2.1113894444444443 on october 2nd at 21:45 utcwill smith ‘flooded with movie offers’ in spite of 10-year oscars ban after chris rock slap - https://t.co/rqv4hjtan0 https://t.co/co0b2ewjxwwill smith slaps chris rock at oscars 2022 - south park animated https://t.co/ztsqxiwveq via youtube\"will smith resigns from academy after chris rock slap incident                will smith resigns from the academy of motion picture arts and sciences in response to the backlash after he slapped chris rock at the 2022 oscars.\"\\nhttps://t.co/pdxwrmrprifor my latest column, i touched on the south asian/asian american experience tied to the other chris rock joke that drew controversy at the oscars. \\nhttps://t.co/mzdrd98fdvwill smith slaps chris rock into next week onstage at oscars after bad jada\\xa0joke https://t.co/gsundbtmj2rt jjauthor: what i saw at the oscars after will smith slapped chris rock https://t.co/pbrxnk0zhert jjauthor: what i saw at the oscars after will smith slapped chris rock https://t.co/pbrxnk0zhewhat i saw at the oscars after will smith slapped chris rock https://t.co/pbrxnk0zhein his final instagram post, the celebrity apprentice alum shared a joke about his friend chris rock being slapped by will smith at the 2022 oscars, alongside a selfie with the comedian. https://t.co/xqt2iwt5ta via usweeklyrt city_news: there was a little more to the oscars than will smith slapping chris rock reports \"streaming\" columnist\\xa0nick overall. https:…rt samuelljackson: revelations of will smith call with oscar bosses outrages board &amp; more #smartnews  https://t.co/0cej5wgcywafter slapping chris rock at the oscars: will smith resigns from the oscar academy\\nhttps://t.co/vygf6myrrw\\n\\n#willsmithslap #jadapinketsmith https://t.co/m10kt6mcokufc champion israel adesanya shares a message from chris rock after will smith’s oscars slap https://t.co/ppioup7xytwill smith slaps chris rock at oscars 2022 - south park animated https://t.co/oyopi82gmv via youtubert usweekly: will smith slapping chris rock at the 2022 #oscars ignited a conversation — including from the philadelphia native’s the fres…will smith slapping chris rock at the 2022 #oscars ignited a conversation — including from the philadelphia native’s the fresh prince of bel-air costars. https://t.co/ggpfvbjsv5'"
      ]
     },
     "execution_count": 4,
     "metadata": {},
     "output_type": "execute_result"
    }
   ],
   "source": [
    "import re\n",
    "clean1 = re.sub(\"@| / | /g | https | '\", \"\", cleaned)\n",
    "clean1"
   ]
  },
  {
   "cell_type": "code",
   "execution_count": 5,
   "metadata": {},
   "outputs": [
    {
     "name": "stderr",
     "output_type": "stream",
     "text": [
      "[nltk_data] Downloading package punkt to\n",
      "[nltk_data]     /Users/elizabethjohnson/nltk_data...\n",
      "[nltk_data]   Package punkt is already up-to-date!\n",
      "[nltk_data] Downloading package averaged_perceptron_tagger to\n",
      "[nltk_data]     /Users/elizabethjohnson/nltk_data...\n",
      "[nltk_data]   Package averaged_perceptron_tagger is already up-to-\n",
      "[nltk_data]       date!\n",
      "[nltk_data] Downloading collection 'all'\n",
      "[nltk_data]    | \n",
      "[nltk_data]    | Downloading package abc to\n",
      "[nltk_data]    |     /Users/elizabethjohnson/nltk_data...\n",
      "[nltk_data]    |   Package abc is already up-to-date!\n",
      "[nltk_data]    | Downloading package alpino to\n",
      "[nltk_data]    |     /Users/elizabethjohnson/nltk_data...\n",
      "[nltk_data]    |   Package alpino is already up-to-date!\n",
      "[nltk_data]    | Downloading package averaged_perceptron_tagger to\n",
      "[nltk_data]    |     /Users/elizabethjohnson/nltk_data...\n",
      "[nltk_data]    |   Package averaged_perceptron_tagger is already up-\n",
      "[nltk_data]    |       to-date!\n",
      "[nltk_data]    | Downloading package averaged_perceptron_tagger_ru to\n",
      "[nltk_data]    |     /Users/elizabethjohnson/nltk_data...\n",
      "[nltk_data]    |   Package averaged_perceptron_tagger_ru is already\n",
      "[nltk_data]    |       up-to-date!\n",
      "[nltk_data]    | Downloading package basque_grammars to\n",
      "[nltk_data]    |     /Users/elizabethjohnson/nltk_data...\n",
      "[nltk_data]    |   Package basque_grammars is already up-to-date!\n",
      "[nltk_data]    | Downloading package biocreative_ppi to\n",
      "[nltk_data]    |     /Users/elizabethjohnson/nltk_data...\n",
      "[nltk_data]    |   Package biocreative_ppi is already up-to-date!\n",
      "[nltk_data]    | Downloading package bllip_wsj_no_aux to\n",
      "[nltk_data]    |     /Users/elizabethjohnson/nltk_data...\n",
      "[nltk_data]    |   Package bllip_wsj_no_aux is already up-to-date!\n",
      "[nltk_data]    | Downloading package book_grammars to\n",
      "[nltk_data]    |     /Users/elizabethjohnson/nltk_data...\n",
      "[nltk_data]    |   Package book_grammars is already up-to-date!\n",
      "[nltk_data]    | Downloading package brown to\n",
      "[nltk_data]    |     /Users/elizabethjohnson/nltk_data...\n",
      "[nltk_data]    |   Package brown is already up-to-date!\n",
      "[nltk_data]    | Downloading package brown_tei to\n",
      "[nltk_data]    |     /Users/elizabethjohnson/nltk_data...\n",
      "[nltk_data]    |   Package brown_tei is already up-to-date!\n",
      "[nltk_data]    | Downloading package cess_cat to\n",
      "[nltk_data]    |     /Users/elizabethjohnson/nltk_data...\n",
      "[nltk_data]    |   Package cess_cat is already up-to-date!\n",
      "[nltk_data]    | Downloading package cess_esp to\n",
      "[nltk_data]    |     /Users/elizabethjohnson/nltk_data...\n",
      "[nltk_data]    |   Package cess_esp is already up-to-date!\n",
      "[nltk_data]    | Downloading package chat80 to\n",
      "[nltk_data]    |     /Users/elizabethjohnson/nltk_data...\n",
      "[nltk_data]    |   Package chat80 is already up-to-date!\n",
      "[nltk_data]    | Downloading package city_database to\n",
      "[nltk_data]    |     /Users/elizabethjohnson/nltk_data...\n",
      "[nltk_data]    |   Package city_database is already up-to-date!\n",
      "[nltk_data]    | Downloading package cmudict to\n",
      "[nltk_data]    |     /Users/elizabethjohnson/nltk_data...\n",
      "[nltk_data]    |   Package cmudict is already up-to-date!\n",
      "[nltk_data]    | Downloading package comparative_sentences to\n",
      "[nltk_data]    |     /Users/elizabethjohnson/nltk_data...\n",
      "[nltk_data]    |   Package comparative_sentences is already up-to-\n",
      "[nltk_data]    |       date!\n",
      "[nltk_data]    | Downloading package comtrans to\n",
      "[nltk_data]    |     /Users/elizabethjohnson/nltk_data...\n",
      "[nltk_data]    |   Package comtrans is already up-to-date!\n",
      "[nltk_data]    | Downloading package conll2000 to\n",
      "[nltk_data]    |     /Users/elizabethjohnson/nltk_data...\n",
      "[nltk_data]    |   Package conll2000 is already up-to-date!\n",
      "[nltk_data]    | Downloading package conll2002 to\n",
      "[nltk_data]    |     /Users/elizabethjohnson/nltk_data...\n",
      "[nltk_data]    |   Package conll2002 is already up-to-date!\n",
      "[nltk_data]    | Downloading package conll2007 to\n",
      "[nltk_data]    |     /Users/elizabethjohnson/nltk_data...\n",
      "[nltk_data]    |   Package conll2007 is already up-to-date!\n",
      "[nltk_data]    | Downloading package crubadan to\n",
      "[nltk_data]    |     /Users/elizabethjohnson/nltk_data...\n",
      "[nltk_data]    |   Package crubadan is already up-to-date!\n",
      "[nltk_data]    | Downloading package dependency_treebank to\n",
      "[nltk_data]    |     /Users/elizabethjohnson/nltk_data...\n",
      "[nltk_data]    |   Package dependency_treebank is already up-to-date!\n",
      "[nltk_data]    | Downloading package dolch to\n",
      "[nltk_data]    |     /Users/elizabethjohnson/nltk_data...\n",
      "[nltk_data]    |   Package dolch is already up-to-date!\n",
      "[nltk_data]    | Downloading package europarl_raw to\n",
      "[nltk_data]    |     /Users/elizabethjohnson/nltk_data...\n",
      "[nltk_data]    |   Package europarl_raw is already up-to-date!\n",
      "[nltk_data]    | Downloading package extended_omw to\n",
      "[nltk_data]    |     /Users/elizabethjohnson/nltk_data...\n",
      "[nltk_data]    |   Package extended_omw is already up-to-date!\n",
      "[nltk_data]    | Downloading package floresta to\n",
      "[nltk_data]    |     /Users/elizabethjohnson/nltk_data...\n",
      "[nltk_data]    |   Package floresta is already up-to-date!\n",
      "[nltk_data]    | Downloading package framenet_v15 to\n",
      "[nltk_data]    |     /Users/elizabethjohnson/nltk_data...\n",
      "[nltk_data]    |   Package framenet_v15 is already up-to-date!\n",
      "[nltk_data]    | Downloading package framenet_v17 to\n",
      "[nltk_data]    |     /Users/elizabethjohnson/nltk_data...\n",
      "[nltk_data]    |   Package framenet_v17 is already up-to-date!\n",
      "[nltk_data]    | Downloading package gazetteers to\n",
      "[nltk_data]    |     /Users/elizabethjohnson/nltk_data...\n",
      "[nltk_data]    |   Package gazetteers is already up-to-date!\n",
      "[nltk_data]    | Downloading package genesis to\n",
      "[nltk_data]    |     /Users/elizabethjohnson/nltk_data...\n",
      "[nltk_data]    |   Package genesis is already up-to-date!\n",
      "[nltk_data]    | Downloading package gutenberg to\n",
      "[nltk_data]    |     /Users/elizabethjohnson/nltk_data...\n",
      "[nltk_data]    |   Package gutenberg is already up-to-date!\n",
      "[nltk_data]    | Downloading package ieer to\n",
      "[nltk_data]    |     /Users/elizabethjohnson/nltk_data...\n",
      "[nltk_data]    |   Package ieer is already up-to-date!\n",
      "[nltk_data]    | Downloading package inaugural to\n",
      "[nltk_data]    |     /Users/elizabethjohnson/nltk_data...\n",
      "[nltk_data]    |   Package inaugural is already up-to-date!\n",
      "[nltk_data]    | Downloading package indian to\n",
      "[nltk_data]    |     /Users/elizabethjohnson/nltk_data...\n",
      "[nltk_data]    |   Package indian is already up-to-date!\n",
      "[nltk_data]    | Downloading package jeita to\n",
      "[nltk_data]    |     /Users/elizabethjohnson/nltk_data...\n",
      "[nltk_data]    |   Package jeita is already up-to-date!\n",
      "[nltk_data]    | Downloading package kimmo to\n",
      "[nltk_data]    |     /Users/elizabethjohnson/nltk_data...\n",
      "[nltk_data]    |   Package kimmo is already up-to-date!\n",
      "[nltk_data]    | Downloading package knbc to\n",
      "[nltk_data]    |     /Users/elizabethjohnson/nltk_data...\n",
      "[nltk_data]    |   Package knbc is already up-to-date!\n",
      "[nltk_data]    | Downloading package large_grammars to\n",
      "[nltk_data]    |     /Users/elizabethjohnson/nltk_data...\n",
      "[nltk_data]    |   Package large_grammars is already up-to-date!\n",
      "[nltk_data]    | Downloading package lin_thesaurus to\n",
      "[nltk_data]    |     /Users/elizabethjohnson/nltk_data...\n",
      "[nltk_data]    |   Package lin_thesaurus is already up-to-date!\n",
      "[nltk_data]    | Downloading package mac_morpho to\n",
      "[nltk_data]    |     /Users/elizabethjohnson/nltk_data...\n",
      "[nltk_data]    |   Package mac_morpho is already up-to-date!\n",
      "[nltk_data]    | Downloading package machado to\n",
      "[nltk_data]    |     /Users/elizabethjohnson/nltk_data...\n",
      "[nltk_data]    |   Package machado is already up-to-date!\n",
      "[nltk_data]    | Downloading package masc_tagged to\n",
      "[nltk_data]    |     /Users/elizabethjohnson/nltk_data...\n",
      "[nltk_data]    |   Package masc_tagged is already up-to-date!\n",
      "[nltk_data]    | Downloading package maxent_ne_chunker to\n",
      "[nltk_data]    |     /Users/elizabethjohnson/nltk_data...\n",
      "[nltk_data]    |   Package maxent_ne_chunker is already up-to-date!\n",
      "[nltk_data]    | Downloading package maxent_treebank_pos_tagger to\n",
      "[nltk_data]    |     /Users/elizabethjohnson/nltk_data...\n",
      "[nltk_data]    |   Package maxent_treebank_pos_tagger is already up-\n",
      "[nltk_data]    |       to-date!\n",
      "[nltk_data]    | Downloading package moses_sample to\n",
      "[nltk_data]    |     /Users/elizabethjohnson/nltk_data...\n",
      "[nltk_data]    |   Package moses_sample is already up-to-date!\n",
      "[nltk_data]    | Downloading package movie_reviews to\n",
      "[nltk_data]    |     /Users/elizabethjohnson/nltk_data...\n",
      "[nltk_data]    |   Package movie_reviews is already up-to-date!\n",
      "[nltk_data]    | Downloading package mte_teip5 to\n",
      "[nltk_data]    |     /Users/elizabethjohnson/nltk_data...\n",
      "[nltk_data]    |   Package mte_teip5 is already up-to-date!\n",
      "[nltk_data]    | Downloading package mwa_ppdb to\n",
      "[nltk_data]    |     /Users/elizabethjohnson/nltk_data...\n",
      "[nltk_data]    |   Package mwa_ppdb is already up-to-date!\n",
      "[nltk_data]    | Downloading package names to\n",
      "[nltk_data]    |     /Users/elizabethjohnson/nltk_data...\n",
      "[nltk_data]    |   Package names is already up-to-date!\n",
      "[nltk_data]    | Downloading package nombank.1.0 to\n",
      "[nltk_data]    |     /Users/elizabethjohnson/nltk_data...\n",
      "[nltk_data]    |   Package nombank.1.0 is already up-to-date!\n",
      "[nltk_data]    | Downloading package nonbreaking_prefixes to\n",
      "[nltk_data]    |     /Users/elizabethjohnson/nltk_data...\n",
      "[nltk_data]    |   Package nonbreaking_prefixes is already up-to-date!\n",
      "[nltk_data]    | Downloading package nps_chat to\n",
      "[nltk_data]    |     /Users/elizabethjohnson/nltk_data...\n",
      "[nltk_data]    |   Package nps_chat is already up-to-date!\n",
      "[nltk_data]    | Downloading package omw to\n",
      "[nltk_data]    |     /Users/elizabethjohnson/nltk_data...\n",
      "[nltk_data]    |   Package omw is already up-to-date!\n",
      "[nltk_data]    | Downloading package omw-1.4 to\n",
      "[nltk_data]    |     /Users/elizabethjohnson/nltk_data...\n",
      "[nltk_data]    |   Package omw-1.4 is already up-to-date!\n",
      "[nltk_data]    | Downloading package opinion_lexicon to\n",
      "[nltk_data]    |     /Users/elizabethjohnson/nltk_data...\n",
      "[nltk_data]    |   Package opinion_lexicon is already up-to-date!\n",
      "[nltk_data]    | Downloading package panlex_swadesh to\n",
      "[nltk_data]    |     /Users/elizabethjohnson/nltk_data...\n",
      "[nltk_data]    |   Package panlex_swadesh is already up-to-date!\n",
      "[nltk_data]    | Downloading package paradigms to\n",
      "[nltk_data]    |     /Users/elizabethjohnson/nltk_data...\n",
      "[nltk_data]    |   Package paradigms is already up-to-date!\n",
      "[nltk_data]    | Downloading package pe08 to\n",
      "[nltk_data]    |     /Users/elizabethjohnson/nltk_data...\n",
      "[nltk_data]    |   Package pe08 is already up-to-date!\n",
      "[nltk_data]    | Downloading package perluniprops to\n",
      "[nltk_data]    |     /Users/elizabethjohnson/nltk_data...\n",
      "[nltk_data]    |   Package perluniprops is already up-to-date!\n",
      "[nltk_data]    | Downloading package pil to\n",
      "[nltk_data]    |     /Users/elizabethjohnson/nltk_data...\n",
      "[nltk_data]    |   Package pil is already up-to-date!\n",
      "[nltk_data]    | Downloading package pl196x to\n",
      "[nltk_data]    |     /Users/elizabethjohnson/nltk_data...\n",
      "[nltk_data]    |   Package pl196x is already up-to-date!\n",
      "[nltk_data]    | Downloading package porter_test to\n",
      "[nltk_data]    |     /Users/elizabethjohnson/nltk_data...\n",
      "[nltk_data]    |   Package porter_test is already up-to-date!\n",
      "[nltk_data]    | Downloading package ppattach to\n",
      "[nltk_data]    |     /Users/elizabethjohnson/nltk_data...\n",
      "[nltk_data]    |   Package ppattach is already up-to-date!\n",
      "[nltk_data]    | Downloading package problem_reports to\n",
      "[nltk_data]    |     /Users/elizabethjohnson/nltk_data...\n",
      "[nltk_data]    |   Package problem_reports is already up-to-date!\n",
      "[nltk_data]    | Downloading package product_reviews_1 to\n",
      "[nltk_data]    |     /Users/elizabethjohnson/nltk_data...\n",
      "[nltk_data]    |   Package product_reviews_1 is already up-to-date!\n",
      "[nltk_data]    | Downloading package product_reviews_2 to\n",
      "[nltk_data]    |     /Users/elizabethjohnson/nltk_data...\n",
      "[nltk_data]    |   Package product_reviews_2 is already up-to-date!\n",
      "[nltk_data]    | Downloading package propbank to\n",
      "[nltk_data]    |     /Users/elizabethjohnson/nltk_data...\n",
      "[nltk_data]    |   Package propbank is already up-to-date!\n",
      "[nltk_data]    | Downloading package pros_cons to\n",
      "[nltk_data]    |     /Users/elizabethjohnson/nltk_data...\n",
      "[nltk_data]    |   Package pros_cons is already up-to-date!\n",
      "[nltk_data]    | Downloading package ptb to\n",
      "[nltk_data]    |     /Users/elizabethjohnson/nltk_data...\n",
      "[nltk_data]    |   Package ptb is already up-to-date!\n",
      "[nltk_data]    | Downloading package punkt to\n",
      "[nltk_data]    |     /Users/elizabethjohnson/nltk_data...\n",
      "[nltk_data]    |   Package punkt is already up-to-date!\n",
      "[nltk_data]    | Downloading package qc to\n",
      "[nltk_data]    |     /Users/elizabethjohnson/nltk_data...\n",
      "[nltk_data]    |   Package qc is already up-to-date!\n",
      "[nltk_data]    | Downloading package reuters to\n",
      "[nltk_data]    |     /Users/elizabethjohnson/nltk_data...\n",
      "[nltk_data]    |   Package reuters is already up-to-date!\n",
      "[nltk_data]    | Downloading package rslp to\n",
      "[nltk_data]    |     /Users/elizabethjohnson/nltk_data...\n",
      "[nltk_data]    |   Package rslp is already up-to-date!\n",
      "[nltk_data]    | Downloading package rte to\n",
      "[nltk_data]    |     /Users/elizabethjohnson/nltk_data...\n",
      "[nltk_data]    |   Package rte is already up-to-date!\n",
      "[nltk_data]    | Downloading package sample_grammars to\n",
      "[nltk_data]    |     /Users/elizabethjohnson/nltk_data...\n",
      "[nltk_data]    |   Package sample_grammars is already up-to-date!\n",
      "[nltk_data]    | Downloading package semcor to\n",
      "[nltk_data]    |     /Users/elizabethjohnson/nltk_data...\n",
      "[nltk_data]    |   Package semcor is already up-to-date!\n",
      "[nltk_data]    | Downloading package senseval to\n",
      "[nltk_data]    |     /Users/elizabethjohnson/nltk_data...\n",
      "[nltk_data]    |   Package senseval is already up-to-date!\n",
      "[nltk_data]    | Downloading package sentence_polarity to\n",
      "[nltk_data]    |     /Users/elizabethjohnson/nltk_data...\n",
      "[nltk_data]    |   Package sentence_polarity is already up-to-date!\n",
      "[nltk_data]    | Downloading package sentiwordnet to\n",
      "[nltk_data]    |     /Users/elizabethjohnson/nltk_data...\n",
      "[nltk_data]    |   Package sentiwordnet is already up-to-date!\n",
      "[nltk_data]    | Downloading package shakespeare to\n",
      "[nltk_data]    |     /Users/elizabethjohnson/nltk_data...\n",
      "[nltk_data]    |   Package shakespeare is already up-to-date!\n",
      "[nltk_data]    | Downloading package sinica_treebank to\n",
      "[nltk_data]    |     /Users/elizabethjohnson/nltk_data...\n",
      "[nltk_data]    |   Package sinica_treebank is already up-to-date!\n",
      "[nltk_data]    | Downloading package smultron to\n",
      "[nltk_data]    |     /Users/elizabethjohnson/nltk_data...\n",
      "[nltk_data]    |   Package smultron is already up-to-date!\n",
      "[nltk_data]    | Downloading package snowball_data to\n",
      "[nltk_data]    |     /Users/elizabethjohnson/nltk_data...\n",
      "[nltk_data]    |   Package snowball_data is already up-to-date!\n",
      "[nltk_data]    | Downloading package spanish_grammars to\n",
      "[nltk_data]    |     /Users/elizabethjohnson/nltk_data...\n",
      "[nltk_data]    |   Package spanish_grammars is already up-to-date!\n",
      "[nltk_data]    | Downloading package state_union to\n",
      "[nltk_data]    |     /Users/elizabethjohnson/nltk_data...\n",
      "[nltk_data]    |   Package state_union is already up-to-date!\n",
      "[nltk_data]    | Downloading package stopwords to\n",
      "[nltk_data]    |     /Users/elizabethjohnson/nltk_data...\n",
      "[nltk_data]    |   Package stopwords is already up-to-date!\n",
      "[nltk_data]    | Downloading package subjectivity to\n",
      "[nltk_data]    |     /Users/elizabethjohnson/nltk_data...\n",
      "[nltk_data]    |   Package subjectivity is already up-to-date!\n",
      "[nltk_data]    | Downloading package swadesh to\n",
      "[nltk_data]    |     /Users/elizabethjohnson/nltk_data...\n",
      "[nltk_data]    |   Package swadesh is already up-to-date!\n",
      "[nltk_data]    | Downloading package switchboard to\n",
      "[nltk_data]    |     /Users/elizabethjohnson/nltk_data...\n",
      "[nltk_data]    |   Package switchboard is already up-to-date!\n",
      "[nltk_data]    | Downloading package tagsets to\n",
      "[nltk_data]    |     /Users/elizabethjohnson/nltk_data...\n",
      "[nltk_data]    |   Package tagsets is already up-to-date!\n",
      "[nltk_data]    | Downloading package timit to\n",
      "[nltk_data]    |     /Users/elizabethjohnson/nltk_data...\n",
      "[nltk_data]    |   Package timit is already up-to-date!\n",
      "[nltk_data]    | Downloading package toolbox to\n",
      "[nltk_data]    |     /Users/elizabethjohnson/nltk_data...\n",
      "[nltk_data]    |   Package toolbox is already up-to-date!\n",
      "[nltk_data]    | Downloading package treebank to\n",
      "[nltk_data]    |     /Users/elizabethjohnson/nltk_data...\n",
      "[nltk_data]    |   Package treebank is already up-to-date!\n",
      "[nltk_data]    | Downloading package twitter_samples to\n",
      "[nltk_data]    |     /Users/elizabethjohnson/nltk_data...\n",
      "[nltk_data]    |   Package twitter_samples is already up-to-date!\n",
      "[nltk_data]    | Downloading package udhr to\n",
      "[nltk_data]    |     /Users/elizabethjohnson/nltk_data...\n",
      "[nltk_data]    |   Package udhr is already up-to-date!\n",
      "[nltk_data]    | Downloading package udhr2 to\n",
      "[nltk_data]    |     /Users/elizabethjohnson/nltk_data...\n",
      "[nltk_data]    |   Package udhr2 is already up-to-date!\n",
      "[nltk_data]    | Downloading package unicode_samples to\n",
      "[nltk_data]    |     /Users/elizabethjohnson/nltk_data...\n",
      "[nltk_data]    |   Package unicode_samples is already up-to-date!\n",
      "[nltk_data]    | Downloading package universal_tagset to\n",
      "[nltk_data]    |     /Users/elizabethjohnson/nltk_data...\n",
      "[nltk_data]    |   Package universal_tagset is already up-to-date!\n",
      "[nltk_data]    | Downloading package universal_treebanks_v20 to\n",
      "[nltk_data]    |     /Users/elizabethjohnson/nltk_data...\n",
      "[nltk_data]    |   Package universal_treebanks_v20 is already up-to-\n",
      "[nltk_data]    |       date!\n",
      "[nltk_data]    | Downloading package vader_lexicon to\n",
      "[nltk_data]    |     /Users/elizabethjohnson/nltk_data...\n",
      "[nltk_data]    |   Package vader_lexicon is already up-to-date!\n",
      "[nltk_data]    | Downloading package verbnet to\n",
      "[nltk_data]    |     /Users/elizabethjohnson/nltk_data...\n",
      "[nltk_data]    |   Package verbnet is already up-to-date!\n",
      "[nltk_data]    | Downloading package verbnet3 to\n",
      "[nltk_data]    |     /Users/elizabethjohnson/nltk_data...\n",
      "[nltk_data]    |   Package verbnet3 is already up-to-date!\n",
      "[nltk_data]    | Downloading package webtext to\n",
      "[nltk_data]    |     /Users/elizabethjohnson/nltk_data...\n",
      "[nltk_data]    |   Package webtext is already up-to-date!\n",
      "[nltk_data]    | Downloading package wmt15_eval to\n",
      "[nltk_data]    |     /Users/elizabethjohnson/nltk_data...\n",
      "[nltk_data]    |   Package wmt15_eval is already up-to-date!\n",
      "[nltk_data]    | Downloading package word2vec_sample to\n",
      "[nltk_data]    |     /Users/elizabethjohnson/nltk_data...\n",
      "[nltk_data]    |   Package word2vec_sample is already up-to-date!\n",
      "[nltk_data]    | Downloading package wordnet to\n",
      "[nltk_data]    |     /Users/elizabethjohnson/nltk_data...\n",
      "[nltk_data]    |   Package wordnet is already up-to-date!\n",
      "[nltk_data]    | Downloading package wordnet2021 to\n",
      "[nltk_data]    |     /Users/elizabethjohnson/nltk_data...\n",
      "[nltk_data]    |   Package wordnet2021 is already up-to-date!\n",
      "[nltk_data]    | Downloading package wordnet31 to\n",
      "[nltk_data]    |     /Users/elizabethjohnson/nltk_data...\n",
      "[nltk_data]    |   Package wordnet31 is already up-to-date!\n",
      "[nltk_data]    | Downloading package wordnet_ic to\n",
      "[nltk_data]    |     /Users/elizabethjohnson/nltk_data...\n",
      "[nltk_data]    |   Package wordnet_ic is already up-to-date!\n",
      "[nltk_data]    | Downloading package words to\n",
      "[nltk_data]    |     /Users/elizabethjohnson/nltk_data...\n",
      "[nltk_data]    |   Package words is already up-to-date!\n",
      "[nltk_data]    | Downloading package ycoe to\n",
      "[nltk_data]    |     /Users/elizabethjohnson/nltk_data...\n",
      "[nltk_data]    |   Package ycoe is already up-to-date!\n",
      "[nltk_data]    | \n",
      "[nltk_data]  Done downloading collection all\n"
     ]
    },
    {
     "data": {
      "text/plain": [
       "True"
      ]
     },
     "execution_count": 5,
     "metadata": {},
     "output_type": "execute_result"
    }
   ],
   "source": [
    "import nltk\n",
    "nltk.download('punkt')\n",
    "nltk.download('averaged_perceptron_tagger')\n",
    "nltk.download('all')"
   ]
  },
  {
   "cell_type": "code",
   "execution_count": 6,
   "metadata": {},
   "outputs": [
    {
     "data": {
      "text/plain": [
       "['rt',\n",
       " 'samuelljackson',\n",
       " 'revelations',\n",
       " 'smith',\n",
       " 'call',\n",
       " 'oscar',\n",
       " 'bosses',\n",
       " 'outrages',\n",
       " 'board',\n",
       " 'amp',\n",
       " 'smartnews',\n",
       " 'smith',\n",
       " 'slaps',\n",
       " 'rock',\n",
       " 'oscars',\n",
       " 'packer',\n",
       " 'claims',\n",
       " 'chris',\n",
       " 'rock',\n",
       " 'said',\n",
       " 'leave',\n",
       " 'rock',\n",
       " 'sources',\n",
       " 'say',\n",
       " \"'s\",\n",
       " 'tmzwill',\n",
       " 'smith',\n",
       " 'oscars',\n",
       " 'acceptance',\n",
       " 'speech',\n",
       " 'spiked',\n",
       " 'audience',\n",
       " 'viewers',\n",
       " 'smith',\n",
       " 'slaps',\n",
       " 'rock',\n",
       " 'oscars',\n",
       " 'south',\n",
       " 'park',\n",
       " 'animated',\n",
       " 'greatest-night',\n",
       " 'television',\n",
       " 'historyrt',\n",
       " 'extratv',\n",
       " 'jada',\n",
       " 'pinkett',\n",
       " 'smith',\n",
       " 'is',\n",
       " 'table',\n",
       " 'wake',\n",
       " 'oscars',\n",
       " 'altercation',\n",
       " 'smith',\n",
       " 'chris',\n",
       " 'rock',\n",
       " 'pinkett',\n",
       " 'smith',\n",
       " 'is',\n",
       " 'table',\n",
       " 'wake',\n",
       " 'oscars',\n",
       " 'altercation',\n",
       " 'smith',\n",
       " 'chris',\n",
       " 'rock',\n",
       " 'lightfootinhwd',\n",
       " 'smith',\n",
       " 'chris',\n",
       " 'rock',\n",
       " 'procedures',\n",
       " 'were',\n",
       " 'shaken',\n",
       " 'did',\n",
       " 'liza',\n",
       " 'directors',\n",
       " 'chair',\n",
       " 'weeks',\n",
       " 'celebs',\n",
       " 'are',\n",
       " '*',\n",
       " '*',\n",
       " 'reacting',\n",
       " 'oscars',\n",
       " 'slap',\n",
       " 'celebs',\n",
       " 'are',\n",
       " '*',\n",
       " '*',\n",
       " 'reacting',\n",
       " 'oscars',\n",
       " 'slap',\n",
       " 'lightfootinhwd',\n",
       " 'smith',\n",
       " 'chris',\n",
       " 'rock',\n",
       " 'procedures',\n",
       " 'were',\n",
       " 'shaken',\n",
       " 'did',\n",
       " 'liza',\n",
       " 'directors',\n",
       " 'chair',\n",
       " 'night',\n",
       " 'live',\n",
       " 'takes',\n",
       " 'smith',\n",
       " 'oscars',\n",
       " 'slap',\n",
       " 'breakingnews',\n",
       " 'news',\n",
       " 'twitter',\n",
       " 'bidenafter',\n",
       " 'smith',\n",
       " 'chris',\n",
       " 'rock',\n",
       " 'procedures',\n",
       " 'were',\n",
       " 'shaken',\n",
       " 'did',\n",
       " 'liza',\n",
       " 'directors',\n",
       " 'chair',\n",
       " 'forced',\n",
       " 'wheelchair.💔',\n",
       " 'liza',\n",
       " 'minnelli',\n",
       " 'was',\n",
       " 'sabotaged',\n",
       " 'oscars',\n",
       " 'pal',\n",
       " 'claims',\n",
       " 'laligaendirecto',\n",
       " 'que',\n",
       " 'alguien',\n",
       " 'pare',\n",
       " 'esto',\n",
       " 'por',\n",
       " 'favor',\n",
       " 'óscars',\n",
       " 'sylvester',\n",
       " 'stallone',\n",
       " 'y',\n",
       " 'muhammad',\n",
       " 'ali',\n",
       " 'tienen',\n",
       " \"unapelea'…\",\n",
       " 's',\n",
       " 'reliance',\n",
       " 'written',\n",
       " 'statements',\n",
       " 'acknowledgment',\n",
       " 'apologies',\n",
       " 'are',\n",
       " 'missing',\n",
       " 'parties',\n",
       " 'hollywoodnews',\n",
       " 'variety',\n",
       " 'theimagecartel',\n",
       " '“',\n",
       " 'smith',\n",
       " 'has',\n",
       " 'been',\n",
       " 'bullying',\n",
       " 'chris',\n",
       " 'rock',\n",
       " 'life',\n",
       " '”',\n",
       " 'actor',\n",
       " 'made',\n",
       " 'claim',\n",
       " 'dwyane',\n",
       " 'wade',\n",
       " 's',\n",
       " 'wife',\n",
       " 'comments',\n",
       " 'oscars',\n",
       " 'malik',\n",
       " 's',\n",
       " 'fighter',\n",
       " 'calls',\n",
       " 'interim',\n",
       " 'champion',\n",
       " 'chris',\n",
       " 'rock',\n",
       " 'smith',\n",
       " 'oscars',\n",
       " 'slap',\n",
       " 'reference',\n",
       " 'crypto_wires',\n",
       " 'smith',\n",
       " 'slaps',\n",
       " 'chris',\n",
       " 'rock',\n",
       " 'oscars',\n",
       " 'animated',\n",
       " 'youtube',\n",
       " 'crypto_wires',\n",
       " 'smith',\n",
       " 'slaps',\n",
       " 'chris',\n",
       " 'rock',\n",
       " 'oscars',\n",
       " 'animated',\n",
       " 'youtube',\n",
       " 'willsmithchrisrock…will',\n",
       " 'smith',\n",
       " 'slaps',\n",
       " 'rock',\n",
       " 'oscars',\n",
       " 'animated',\n",
       " 'youtube',\n",
       " 'willsmithchrisrock',\n",
       " 'mentalhealthtelling',\n",
       " 'kids',\n",
       " 'was',\n",
       " 'smith',\n",
       " 'chris',\n",
       " 'rock',\n",
       " 'oscars',\n",
       " 'julianaoxenford',\n",
       " 'smith',\n",
       " 'chris',\n",
       " 'rock',\n",
       " 'oscars',\n",
       " '|',\n",
       " 'william',\n",
       " 'spivey',\n",
       " '|',\n",
       " 'mar',\n",
       " '|',\n",
       " 'medium',\n",
       " 'oscars',\n",
       " 'pinkett',\n",
       " 'smith',\n",
       " 'is',\n",
       " 'table',\n",
       " 'wake',\n",
       " 'oscars',\n",
       " 'altercation',\n",
       " 'smith',\n",
       " 'chris',\n",
       " 'rock',\n",
       " 'harringtonboyce',\n",
       " 'thank',\n",
       " 'fortune',\n",
       " 'shoutout',\n",
       " '🚀👏slapping',\n",
       " 'way',\n",
       " 'ath',\n",
       " '🚀https',\n",
       " 'logoarchitect',\n",
       " 'vividesign',\n",
       " 'group',\n",
       " 'chris',\n",
       " 'rock',\n",
       " 'sold',\n",
       " 'tickets',\n",
       " 'week',\n",
       " 'oscars',\n",
       " 'slap',\n",
       " 'reseller',\n",
       " 'says',\n",
       " 'smith',\n",
       " 'apologizes',\n",
       " 'slapping',\n",
       " 'oscars',\n",
       " 'chris',\n",
       " 'rock',\n",
       " 'i',\n",
       " 'am',\n",
       " 'embarrassed',\n",
       " 'actions',\n",
       " 'were',\n",
       " 'm…chris',\n",
       " 'rock',\n",
       " 'breaks',\n",
       " 'silence',\n",
       " 'oscars',\n",
       " 'smith',\n",
       " 'slaps',\n",
       " 'rock',\n",
       " 'week',\n",
       " 'onstage',\n",
       " 'oscars',\n",
       " 'jada',\n",
       " 'joke',\n",
       " 'mahomes',\n",
       " 'wife',\n",
       " 'brittany',\n",
       " 'matthews',\n",
       " 'has',\n",
       " 'words',\n",
       " 'advice',\n",
       " 'smithfor',\n",
       " 'slapping',\n",
       " 'rock',\n",
       " 'oscars',\n",
       " 'is',\n",
       " 'steamed',\n",
       " 'smith',\n",
       " 'slapping',\n",
       " 'rock',\n",
       " 'oscars',\n",
       " 'mojahedfudailat',\n",
       " 'smith',\n",
       " 'slaps',\n",
       " 'chris',\n",
       " 'rock',\n",
       " 'oscars',\n",
       " 'animated',\n",
       " 'oscars',\n",
       " 'animation',\n",
       " 'sources',\n",
       " 'reported',\n",
       " 'audience',\n",
       " 'grew',\n",
       " 'slap',\n",
       " '👉',\n",
       " 'i',\n",
       " 'do',\n",
       " 'know',\n",
       " 'was',\n",
       " 'planned',\n",
       " 'tells',\n",
       " 'lot',\n",
       " 'audience',\n",
       " 'behavior.rt',\n",
       " 'crinstitute',\n",
       " 'oscars',\n",
       " 'telecast',\n",
       " 'smith',\n",
       " 'chris',\n",
       " 'rock',\n",
       " 'news',\n",
       " 'cycles',\n",
       " 'dominated',\n",
       " 'culture',\n",
       " 'story',\n",
       " 'denzel',\n",
       " 'smith',\n",
       " 'backlash',\n",
       " 'slapping',\n",
       " 'rock',\n",
       " 'live',\n",
       " 'oscar',\n",
       " 's',\n",
       " 'check',\n",
       " 'article',\n",
       " 'chrisrock',\n",
       " 'oscars',\n",
       " 'entertainment',\n",
       " 'comedy',\n",
       " 'jadapinkettsmith',\n",
       " 'oscars',\n",
       " 'telecast',\n",
       " 'smith',\n",
       " 'chris',\n",
       " 'rock',\n",
       " 'news',\n",
       " 'cycles',\n",
       " 'dominated',\n",
       " 'culture',\n",
       " 'story',\n",
       " 'denzel',\n",
       " 'washington',\n",
       " 'comments',\n",
       " 'slap',\n",
       " 'pastor',\n",
       " 't.j.',\n",
       " 'jakes',\n",
       " 'leadership',\n",
       " 'summit',\n",
       " 'clt',\n",
       " 'is',\n",
       " 'jakes',\n",
       " 'beliefs',\n",
       " 'see',\n",
       " 'apologetics',\n",
       " 'slapping',\n",
       " 'chris',\n",
       " 'rock',\n",
       " 'oscars',\n",
       " 'smith',\n",
       " 'resigns',\n",
       " 'oscar',\n",
       " 'academy',\n",
       " 'jadapinketsmith',\n",
       " 'smith',\n",
       " 'slaps',\n",
       " 'rock',\n",
       " 'oscars',\n",
       " 'south',\n",
       " 'park',\n",
       " 'animated',\n",
       " 'krushgroove',\n",
       " 'artist',\n",
       " 'dj',\n",
       " 'speaks',\n",
       " 'releasing',\n",
       " 'music',\n",
       " 's',\n",
       " 'amp',\n",
       " 'shares',\n",
       " 'opinion',\n",
       " 'smith',\n",
       " 'oscars',\n",
       " 'situation',\n",
       " '🔥💯👑',\n",
       " '•',\n",
       " 'djqu…will',\n",
       " 'smith',\n",
       " 'resigns',\n",
       " 'academy',\n",
       " 'rock',\n",
       " 'oscars',\n",
       " 'slap',\n",
       " 'variety',\n",
       " 'i',\n",
       " 'd',\n",
       " 'slap',\n",
       " 'shit',\n",
       " 'mahomes',\n",
       " 'wife',\n",
       " 'brittany',\n",
       " 'matthews',\n",
       " 'has',\n",
       " 'words',\n",
       " 'advice',\n",
       " 'smith',\n",
       " 'slapping',\n",
       " 'chris',\n",
       " 'rock',\n",
       " 'oscars',\n",
       " 'june_space_',\n",
       " 'recap',\n",
       " 'is',\n",
       " 'gon',\n",
       " 'include',\n",
       " 'things',\n",
       " 'time',\n",
       " 'smith',\n",
       " 'chris',\n",
       " 'rock',\n",
       " 'oscars',\n",
       " 'anomaly…have',\n",
       " 'moved',\n",
       " 'have',\n",
       " 'look',\n",
       " 'variety',\n",
       " 'smith',\n",
       " 'acceptance',\n",
       " 'speech',\n",
       " 'oscars',\n",
       " 'language',\n",
       " 'analyst',\n",
       " 'reacts',\n",
       " 'smith/chris',\n",
       " 'rock',\n",
       " 'slap',\n",
       " 'oscars',\n",
       " 'was',\n",
       " 'staged',\n",
       " 'youtube',\n",
       " 'smith',\n",
       " 'slaps',\n",
       " 'rock',\n",
       " 'oscars',\n",
       " 'south',\n",
       " 'park',\n",
       " 'animated',\n",
       " 'youtubewill',\n",
       " 'smith',\n",
       " 'has',\n",
       " 'apologised',\n",
       " 'actions',\n",
       " 'oscars',\n",
       " 'smith',\n",
       " 'slaps',\n",
       " 'rock',\n",
       " 'oscars',\n",
       " 'south',\n",
       " 'park',\n",
       " 'animated',\n",
       " 'schumer',\n",
       " 'praises',\n",
       " 'chris',\n",
       " 'rock',\n",
       " 'keeping',\n",
       " 'composure',\n",
       " 'getting',\n",
       " 'slapped',\n",
       " 'smith',\n",
       " 'oscars',\n",
       " 'watch',\n",
       " 'comedienne',\n",
       " 'discuss',\n",
       " 'aftermath',\n",
       " 'mahomes',\n",
       " 'wife',\n",
       " 'brittany',\n",
       " 'matthews',\n",
       " 'has',\n",
       " 'words',\n",
       " 'advice',\n",
       " 'smith',\n",
       " 'slapping',\n",
       " 'chris',\n",
       " 'rock',\n",
       " 'oscars',\n",
       " 'schumer',\n",
       " 'praises',\n",
       " 'chris',\n",
       " 'rock',\n",
       " 'keeping',\n",
       " 'composure',\n",
       " 'getting',\n",
       " 'slapped',\n",
       " 'smith',\n",
       " 'oscars',\n",
       " 'watch',\n",
       " 'comedienne',\n",
       " 'discuss',\n",
       " 'aftermath',\n",
       " 'rock',\n",
       " 'hablará',\n",
       " 'oscars',\n",
       " 'hasta',\n",
       " 'le',\n",
       " 'paguen',\n",
       " '*',\n",
       " 'rt',\n",
       " 'rummanahussain',\n",
       " 'column',\n",
       " 'touched',\n",
       " 'experience',\n",
       " 'tied',\n",
       " 'chris',\n",
       " 'rock',\n",
       " 'joke',\n",
       " 'dre…while',\n",
       " 'everyone',\n",
       " 'is',\n",
       " 'talking',\n",
       " 'slapping',\n",
       " 'chris',\n",
       " 'rock',\n",
       " 'academy',\n",
       " 'awards',\n",
       " 'thought',\n",
       " 'turn',\n",
       " 'attention',\n",
       " '…',\n",
       " 'packer',\n",
       " 'continue',\n",
       " 'reading',\n",
       " 'chrisrock',\n",
       " 'has',\n",
       " 'broken',\n",
       " 'silence',\n",
       " 'being',\n",
       " 'slapped',\n",
       " 'willsmith',\n",
       " 'oscars',\n",
       " 'took',\n",
       " 'stage',\n",
       " 'wilbur',\n",
       " 'boston',\n",
       " 'day',\n",
       " 'stint',\n",
       " 'was',\n",
       " 'greeted',\n",
       " 'standing',\n",
       " 'ovation',\n",
       " 'continue',\n",
       " 'reading',\n",
       " 'mahomes',\n",
       " 'wife',\n",
       " 'brittany',\n",
       " 'matthews',\n",
       " 'has',\n",
       " 'words',\n",
       " 'advice',\n",
       " 'smith',\n",
       " 'slapping',\n",
       " 'chris',\n",
       " 'rock',\n",
       " 'oscars',\n",
       " 'rummanahussain',\n",
       " 'column',\n",
       " 'touched',\n",
       " 'experience',\n",
       " 'tied',\n",
       " 'chris',\n",
       " 'rock',\n",
       " 'joke',\n",
       " 'mahomes',\n",
       " 'wife',\n",
       " 'brittany',\n",
       " 'matthews',\n",
       " 'has',\n",
       " 'words',\n",
       " 'advice',\n",
       " 'smith',\n",
       " 'slapping',\n",
       " 'chris',\n",
       " 'rock',\n",
       " 'oscars',\n",
       " 'rummanahussain',\n",
       " 'column',\n",
       " 'touched',\n",
       " 'experience',\n",
       " 'tied',\n",
       " 'chris',\n",
       " 'rock',\n",
       " 'joke',\n",
       " 'dre…rt',\n",
       " 'rummanahussain',\n",
       " 'column',\n",
       " 'touched',\n",
       " 'experience',\n",
       " 'tied',\n",
       " 'chris',\n",
       " 'rock',\n",
       " 'joke',\n",
       " 'dre…',\n",
       " 'be',\n",
       " 'check',\n",
       " 'story',\n",
       " 'i',\n",
       " 'covered',\n",
       " 'smith',\n",
       " 'chris',\n",
       " 'rock',\n",
       " 'fallout',\n",
       " 'implications',\n",
       " 'wins',\n",
       " 'made',\n",
       " 'actors',\n",
       " 'actresses',\n",
       " 'debose',\n",
       " 'year',\n",
       " 'oscars',\n",
       " 'show',\n",
       " 'link',\n",
       " 'smith',\n",
       " 'chris',\n",
       " 'rock',\n",
       " 'oscars',\n",
       " '|',\n",
       " 'william',\n",
       " 'spivey',\n",
       " '|',\n",
       " 'mar',\n",
       " '|',\n",
       " 'medium',\n",
       " 'oscars',\n",
       " 'ஸ்மித்',\n",
       " 'நிஜமாகவே',\n",
       " 'குத்தினாரா…ஆஸ்கர்',\n",
       " 'மேடையில்',\n",
       " 'நடந்த',\n",
       " 'பரபரப்பு',\n",
       " 'சம்பவம்',\n",
       " '|',\n",
       " 'smith',\n",
       " 'punches',\n",
       " 'rock',\n",
       " 'oscars',\n",
       " 'smith',\n",
       " 'smacks',\n",
       " 'chris',\n",
       " 'rock',\n",
       " 'oscars',\n",
       " 'june_space_',\n",
       " 'recap',\n",
       " 'is',\n",
       " 'gon',\n",
       " 'include',\n",
       " 'things',\n",
       " 'time',\n",
       " 'smith',\n",
       " 'chris',\n",
       " 'rock',\n",
       " 'oscars',\n",
       " 'anomaly…us',\n",
       " 'is',\n",
       " 'failing',\n",
       " 'amp',\n",
       " 'get',\n",
       " 'fired',\n",
       " 'failing',\n",
       " 'potus',\n",
       " 'is',\n",
       " 'djt',\n",
       " 'was',\n",
       " 'potus',\n",
       " 'tear',\n",
       " 'did',\n",
       " 'joe',\n",
       " 'go',\n",
       " 'trump',\n",
       " 'desantis',\n",
       " 'destroy',\n",
       " 'joe',\n",
       " 'happen',\n",
       " 'please',\n",
       " 'be',\n",
       " 'i',\n",
       " \"'m\",\n",
       " 'father',\n",
       " 'right',\n",
       " 'day',\n",
       " 'smith',\n",
       " 'chris',\n",
       " 'rock',\n",
       " 'got',\n",
       " 'love',\n",
       " '👍👍👍',\n",
       " 'oscars',\n",
       " 'fatherhood',\n",
       " 'news',\n",
       " 'daughterloverobin',\n",
       " 'roberts',\n",
       " 'respects',\n",
       " 'rock',\n",
       " 'speaking',\n",
       " 'oscars',\n",
       " '|',\n",
       " 'watch',\n",
       " 'torta',\n",
       " 'le',\n",
       " 'acaba',\n",
       " 'meter',\n",
       " 'smith',\n",
       " 'rock.👋',\n",
       " 'oscars',\n",
       " 'goodenufmother',\n",
       " 'developing',\n",
       " 'oscars',\n",
       " 'review',\n",
       " 'smith',\n",
       " 'rock',\n",
       " 'slap',\n",
       " 'varietyrt',\n",
       " 'goodenufmother',\n",
       " 'breaking',\n",
       " 'willsmith',\n",
       " 'resigns',\n",
       " 'academy',\n",
       " 'chrisrock',\n",
       " 'oscars',\n",
       " 'slap',\n",
       " 'variety',\n",
       " 'bramwell',\n",
       " '“',\n",
       " 'were',\n",
       " 'used',\n",
       " 'seeing',\n",
       " 'defend',\n",
       " 'honor',\n",
       " 'women',\n",
       " 'be',\n",
       " 'surprise',\n",
       " '”',\n",
       " '“',\n",
       " 'i',\n",
       " 'lost',\n",
       " 'respect',\n",
       " 'chrisrock',\n",
       " 'time',\n",
       " 'hosted',\n",
       " 'spent',\n",
       " 'majority',\n",
       " 'monologue',\n",
       " 'throwing',\n",
       " 'people',\n",
       " 'knows',\n",
       " 'thing',\n",
       " 'krushgroove',\n",
       " 'artist',\n",
       " 'dj',\n",
       " 'speaks',\n",
       " 'releasing',\n",
       " 'music',\n",
       " 's',\n",
       " 'amp',\n",
       " 'shares',\n",
       " 'opinion',\n",
       " 'smith',\n",
       " 'oscars',\n",
       " 'situation',\n",
       " '🔥💯👑',\n",
       " '•',\n",
       " 'djquik',\n",
       " 'iamcecevalencia',\n",
       " 'romeoonyoradio',\n",
       " 'kdaymorningshow',\n",
       " '[',\n",
       " 'watch',\n",
       " ']',\n",
       " 'mahomes',\n",
       " 'wife',\n",
       " 'brittany',\n",
       " 'matthews',\n",
       " 'has',\n",
       " 'words',\n",
       " 'advice',\n",
       " 'smith',\n",
       " 'slapping',\n",
       " 'chris',\n",
       " 'rock',\n",
       " 'oscars',\n",
       " 'murflicks',\n",
       " 'is',\n",
       " 'smith',\n",
       " 'chris',\n",
       " 'rock',\n",
       " 'stage',\n",
       " 'slapped',\n",
       " 'oscars',\n",
       " 'cool',\n",
       " 'is',\n",
       " 'guys',\n",
       " 'realitytea',\n",
       " 'case',\n",
       " 'missed',\n",
       " 'bethenny',\n",
       " 'frankel',\n",
       " 'says',\n",
       " 'smith',\n",
       " 'have',\n",
       " 'been',\n",
       " 'kicked',\n",
       " 'slapped',\n",
       " 'chris',\n",
       " 'june_space_',\n",
       " 'recap',\n",
       " 'is',\n",
       " 'gon',\n",
       " 'include',\n",
       " 'things',\n",
       " 'time',\n",
       " 'smith',\n",
       " 'chris',\n",
       " 'rock',\n",
       " 'oscars',\n",
       " 'rummanahussain',\n",
       " 'column',\n",
       " 'touched',\n",
       " 'experience',\n",
       " 'tied',\n",
       " 'chris',\n",
       " 'rock',\n",
       " 'joke',\n",
       " 'samuelljackson',\n",
       " 'revelations',\n",
       " 'smith',\n",
       " 'call',\n",
       " 'oscar',\n",
       " 'bosses',\n",
       " 'outrages',\n",
       " 'board',\n",
       " 'amp',\n",
       " 'smartnews',\n",
       " 'thisakoto',\n",
       " 'guardianaus',\n",
       " 'don',\n",
       " 't',\n",
       " 'mention',\n",
       " 'slap',\n",
       " 'one',\n",
       " 'was',\n",
       " 'talking',\n",
       " 'smith',\n",
       " 'chris',\n",
       " 'rock',\n",
       " 'oscars',\n",
       " 'peterdredd',\n",
       " 'smith',\n",
       " '‘',\n",
       " 'flooded',\n",
       " 'movie',\n",
       " 'offers',\n",
       " 'spite',\n",
       " 'oscars',\n",
       " 'ban',\n",
       " 'chris',\n",
       " 'rock',\n",
       " 'recap',\n",
       " 'is',\n",
       " 'gon',\n",
       " 'include',\n",
       " 'things',\n",
       " 'time',\n",
       " 'smith',\n",
       " 'chris',\n",
       " 'rock',\n",
       " 'oscars',\n",
       " 'anomaly',\n",
       " '-2.1113894444444443',\n",
       " 'smith',\n",
       " '‘',\n",
       " 'flooded',\n",
       " 'movie',\n",
       " 'offers',\n",
       " 'spite',\n",
       " 'oscars',\n",
       " 'ban',\n",
       " 'chris',\n",
       " 'rock',\n",
       " 'smith',\n",
       " 'slaps',\n",
       " 'rock',\n",
       " 'oscars',\n",
       " 'south',\n",
       " 'park',\n",
       " 'animated',\n",
       " 'youtube',\n",
       " 'smith',\n",
       " 'resigns',\n",
       " 'academy',\n",
       " 'chris',\n",
       " 'rock',\n",
       " 'slap',\n",
       " 'incident',\n",
       " 'smith',\n",
       " 'resigns',\n",
       " 'academy',\n",
       " 'motion',\n",
       " 'picture',\n",
       " 'arts',\n",
       " 'sciences',\n",
       " 'response',\n",
       " 'backlash',\n",
       " 'slapped',\n",
       " 'chris',\n",
       " 'rock',\n",
       " 'oscars',\n",
       " 'column',\n",
       " 'touched',\n",
       " 'experience',\n",
       " 'tied',\n",
       " 'chris',\n",
       " 'rock',\n",
       " 'joke',\n",
       " 'drew',\n",
       " 'controversy',\n",
       " 'oscars',\n",
       " 'smith',\n",
       " 'slaps',\n",
       " 'rock',\n",
       " 'week',\n",
       " 'onstage',\n",
       " 'oscars',\n",
       " 'jada',\n",
       " 'joke',\n",
       " 'jjauthor',\n",
       " 'i',\n",
       " 'saw',\n",
       " 'oscars',\n",
       " 'smith',\n",
       " 'chris',\n",
       " 'rock',\n",
       " 'jjauthor',\n",
       " 'i',\n",
       " 'saw',\n",
       " 'oscars',\n",
       " 'smith',\n",
       " 'chris',\n",
       " 'rock',\n",
       " 'i',\n",
       " 'saw',\n",
       " 'oscars',\n",
       " 'smith',\n",
       " 'chris',\n",
       " 'rock',\n",
       " 'instagram',\n",
       " 'post',\n",
       " 'celebrity',\n",
       " 'apprentice',\n",
       " 'alum',\n",
       " 'shared',\n",
       " 'joke',\n",
       " 'friend',\n",
       " 'chris',\n",
       " 'rock',\n",
       " 'being',\n",
       " 'slapped',\n",
       " 'smith',\n",
       " 'oscars',\n",
       " 'selfie',\n",
       " 'comedian',\n",
       " 'city_news',\n",
       " 'was',\n",
       " 'oscars',\n",
       " 'smith',\n",
       " 'slapping',\n",
       " 'rock',\n",
       " 'reports',\n",
       " 'streaming',\n",
       " ...]"
      ]
     },
     "execution_count": 6,
     "metadata": {},
     "output_type": "execute_result"
    }
   ],
   "source": [
    "lines = clean1\n",
    "# function to test if something is a noun\n",
    "is_noun = lambda pos: pos[:2] == 'NN' or pos[:2] == 'VB'\n",
    "# do the nlp stuff\n",
    "tokenized = nltk.word_tokenize(lines)\n",
    "final_words = [word for (word, pos) in nltk.pos_tag(tokenized) if is_noun(pos) & (not word.startswith(\"/\")) & (word != '’') & (not word.startswith(\"https\"))]\n",
    "final_words"
   ]
  },
  {
   "cell_type": "markdown",
   "metadata": {},
   "source": [
    "[counter python docs](https://docs.python.org/3/library/collections.html#collections.Counter)"
   ]
  },
  {
   "cell_type": "code",
   "execution_count": 7,
   "metadata": {},
   "outputs": [
    {
     "data": {
      "text/plain": [
       "Counter({'rt': 2,\n",
       "         'samuelljackson': 3,\n",
       "         'revelations': 3,\n",
       "         'smith': 76,\n",
       "         'call': 3,\n",
       "         'oscar': 6,\n",
       "         'bosses': 3,\n",
       "         'outrages': 3,\n",
       "         'board': 3,\n",
       "         'amp': 6,\n",
       "         'smartnews': 3,\n",
       "         'slaps': 13,\n",
       "         'rock': 77,\n",
       "         'oscars': 80,\n",
       "         'packer': 2,\n",
       "         'claims': 2,\n",
       "         'chris': 54,\n",
       "         'said': 1,\n",
       "         'leave': 1,\n",
       "         'sources': 2,\n",
       "         'say': 1,\n",
       "         \"'s\": 1,\n",
       "         'tmzwill': 1,\n",
       "         'acceptance': 2,\n",
       "         'speech': 2,\n",
       "         'spiked': 1,\n",
       "         'audience': 3,\n",
       "         'viewers': 1,\n",
       "         'south': 6,\n",
       "         'park': 6,\n",
       "         'animated': 10,\n",
       "         'greatest-night': 1,\n",
       "         'television': 1,\n",
       "         'historyrt': 1,\n",
       "         'extratv': 1,\n",
       "         'jada': 3,\n",
       "         'pinkett': 3,\n",
       "         'is': 14,\n",
       "         'table': 3,\n",
       "         'wake': 3,\n",
       "         'altercation': 3,\n",
       "         'lightfootinhwd': 2,\n",
       "         'procedures': 3,\n",
       "         'were': 5,\n",
       "         'shaken': 3,\n",
       "         'did': 4,\n",
       "         'liza': 4,\n",
       "         'directors': 3,\n",
       "         'chair': 3,\n",
       "         'weeks': 1,\n",
       "         'celebs': 2,\n",
       "         'are': 3,\n",
       "         '*': 5,\n",
       "         'reacting': 2,\n",
       "         'slap': 15,\n",
       "         'night': 1,\n",
       "         'live': 2,\n",
       "         'takes': 1,\n",
       "         'breakingnews': 1,\n",
       "         'news': 4,\n",
       "         'twitter': 1,\n",
       "         'bidenafter': 1,\n",
       "         'forced': 1,\n",
       "         'wheelchair.💔': 1,\n",
       "         'minnelli': 1,\n",
       "         'was': 8,\n",
       "         'sabotaged': 1,\n",
       "         'pal': 1,\n",
       "         'laligaendirecto': 1,\n",
       "         'que': 1,\n",
       "         'alguien': 1,\n",
       "         'pare': 1,\n",
       "         'esto': 1,\n",
       "         'por': 1,\n",
       "         'favor': 1,\n",
       "         'óscars': 1,\n",
       "         'sylvester': 1,\n",
       "         'stallone': 1,\n",
       "         'y': 1,\n",
       "         'muhammad': 1,\n",
       "         'ali': 1,\n",
       "         'tienen': 1,\n",
       "         \"unapelea'…\": 1,\n",
       "         's': 8,\n",
       "         'reliance': 1,\n",
       "         'written': 1,\n",
       "         'statements': 1,\n",
       "         'acknowledgment': 1,\n",
       "         'apologies': 1,\n",
       "         'missing': 1,\n",
       "         'parties': 1,\n",
       "         'hollywoodnews': 1,\n",
       "         'variety': 4,\n",
       "         'theimagecartel': 1,\n",
       "         '“': 3,\n",
       "         'has': 9,\n",
       "         'been': 2,\n",
       "         'bullying': 1,\n",
       "         'life': 1,\n",
       "         '”': 2,\n",
       "         'actor': 1,\n",
       "         'made': 2,\n",
       "         'claim': 1,\n",
       "         'dwyane': 1,\n",
       "         'wade': 1,\n",
       "         'wife': 7,\n",
       "         'comments': 2,\n",
       "         'malik': 1,\n",
       "         'fighter': 1,\n",
       "         'calls': 1,\n",
       "         'interim': 1,\n",
       "         'champion': 2,\n",
       "         'reference': 1,\n",
       "         'crypto_wires': 2,\n",
       "         'youtube': 5,\n",
       "         'willsmithchrisrock…will': 1,\n",
       "         'willsmithchrisrock': 1,\n",
       "         'mentalhealthtelling': 1,\n",
       "         'kids': 1,\n",
       "         'julianaoxenford': 1,\n",
       "         '|': 8,\n",
       "         'william': 2,\n",
       "         'spivey': 2,\n",
       "         'mar': 2,\n",
       "         'medium': 2,\n",
       "         'harringtonboyce': 1,\n",
       "         'thank': 1,\n",
       "         'fortune': 1,\n",
       "         'shoutout': 1,\n",
       "         '🚀👏slapping': 1,\n",
       "         'way': 1,\n",
       "         'ath': 1,\n",
       "         '🚀https': 1,\n",
       "         'logoarchitect': 1,\n",
       "         'vividesign': 1,\n",
       "         'group': 1,\n",
       "         'sold': 1,\n",
       "         'tickets': 1,\n",
       "         'week': 3,\n",
       "         'reseller': 1,\n",
       "         'says': 2,\n",
       "         'apologizes': 1,\n",
       "         'slapping': 15,\n",
       "         'i': 9,\n",
       "         'am': 1,\n",
       "         'embarrassed': 1,\n",
       "         'actions': 2,\n",
       "         'm…chris': 1,\n",
       "         'breaks': 1,\n",
       "         'silence': 2,\n",
       "         'onstage': 2,\n",
       "         'joke': 9,\n",
       "         'mahomes': 6,\n",
       "         'brittany': 6,\n",
       "         'matthews': 6,\n",
       "         'words': 6,\n",
       "         'advice': 6,\n",
       "         'smithfor': 1,\n",
       "         'steamed': 1,\n",
       "         'mojahedfudailat': 1,\n",
       "         'animation': 1,\n",
       "         'reported': 1,\n",
       "         'grew': 1,\n",
       "         '👉': 1,\n",
       "         'do': 1,\n",
       "         'know': 1,\n",
       "         'planned': 1,\n",
       "         'tells': 1,\n",
       "         'lot': 1,\n",
       "         'behavior.rt': 1,\n",
       "         'crinstitute': 1,\n",
       "         'telecast': 2,\n",
       "         'cycles': 2,\n",
       "         'dominated': 2,\n",
       "         'culture': 2,\n",
       "         'story': 3,\n",
       "         'denzel': 2,\n",
       "         'backlash': 2,\n",
       "         'check': 2,\n",
       "         'article': 1,\n",
       "         'chrisrock': 4,\n",
       "         'entertainment': 1,\n",
       "         'comedy': 1,\n",
       "         'jadapinkettsmith': 1,\n",
       "         'washington': 1,\n",
       "         'pastor': 1,\n",
       "         't.j.': 1,\n",
       "         'jakes': 2,\n",
       "         'leadership': 1,\n",
       "         'summit': 1,\n",
       "         'clt': 1,\n",
       "         'beliefs': 1,\n",
       "         'see': 1,\n",
       "         'apologetics': 1,\n",
       "         'resigns': 6,\n",
       "         'academy': 7,\n",
       "         'jadapinketsmith': 2,\n",
       "         'krushgroove': 2,\n",
       "         'artist': 2,\n",
       "         'dj': 2,\n",
       "         'speaks': 2,\n",
       "         'releasing': 2,\n",
       "         'music': 2,\n",
       "         'shares': 3,\n",
       "         'opinion': 2,\n",
       "         'situation': 2,\n",
       "         '🔥💯👑': 2,\n",
       "         '•': 2,\n",
       "         'djqu…will': 1,\n",
       "         'd': 1,\n",
       "         'shit': 1,\n",
       "         'june_space_': 3,\n",
       "         'recap': 4,\n",
       "         'gon': 4,\n",
       "         'include': 4,\n",
       "         'things': 4,\n",
       "         'time': 5,\n",
       "         'anomaly…have': 1,\n",
       "         'moved': 1,\n",
       "         'have': 2,\n",
       "         'look': 1,\n",
       "         'language': 1,\n",
       "         'analyst': 1,\n",
       "         'reacts': 1,\n",
       "         'smith/chris': 1,\n",
       "         'staged': 1,\n",
       "         'youtubewill': 1,\n",
       "         'apologised': 1,\n",
       "         'schumer': 2,\n",
       "         'praises': 2,\n",
       "         'keeping': 2,\n",
       "         'composure': 2,\n",
       "         'getting': 2,\n",
       "         'slapped': 7,\n",
       "         'watch': 4,\n",
       "         'comedienne': 2,\n",
       "         'discuss': 2,\n",
       "         'aftermath': 2,\n",
       "         'hablará': 1,\n",
       "         'hasta': 1,\n",
       "         'le': 2,\n",
       "         'paguen': 1,\n",
       "         'rummanahussain': 5,\n",
       "         'column': 6,\n",
       "         'touched': 6,\n",
       "         'experience': 6,\n",
       "         'tied': 6,\n",
       "         'dre…while': 1,\n",
       "         'everyone': 1,\n",
       "         'talking': 2,\n",
       "         'awards': 1,\n",
       "         'thought': 1,\n",
       "         'turn': 1,\n",
       "         'attention': 1,\n",
       "         '…': 1,\n",
       "         'continue': 2,\n",
       "         'reading': 2,\n",
       "         'broken': 1,\n",
       "         'being': 2,\n",
       "         'willsmith': 2,\n",
       "         'took': 1,\n",
       "         'stage': 2,\n",
       "         'wilbur': 1,\n",
       "         'boston': 1,\n",
       "         'day': 2,\n",
       "         'stint': 1,\n",
       "         'greeted': 1,\n",
       "         'standing': 1,\n",
       "         'ovation': 1,\n",
       "         'dre…rt': 1,\n",
       "         'dre…': 1,\n",
       "         'be': 3,\n",
       "         'covered': 1,\n",
       "         'fallout': 1,\n",
       "         'implications': 1,\n",
       "         'wins': 1,\n",
       "         'actors': 1,\n",
       "         'actresses': 1,\n",
       "         'debose': 1,\n",
       "         'year': 1,\n",
       "         'show': 1,\n",
       "         'link': 1,\n",
       "         'ஸ்மித்': 1,\n",
       "         'நிஜமாகவே': 1,\n",
       "         'குத்தினாரா…ஆஸ்கர்': 1,\n",
       "         'மேடையில்': 1,\n",
       "         'நடந்த': 1,\n",
       "         'பரபரப்பு': 1,\n",
       "         'சம்பவம்': 1,\n",
       "         'punches': 1,\n",
       "         'smacks': 1,\n",
       "         'anomaly…us': 1,\n",
       "         'failing': 2,\n",
       "         'get': 1,\n",
       "         'fired': 1,\n",
       "         'potus': 2,\n",
       "         'djt': 1,\n",
       "         'tear': 1,\n",
       "         'joe': 2,\n",
       "         'go': 1,\n",
       "         'trump': 1,\n",
       "         'desantis': 1,\n",
       "         'destroy': 1,\n",
       "         'happen': 1,\n",
       "         'please': 1,\n",
       "         \"'m\": 1,\n",
       "         'father': 1,\n",
       "         'right': 1,\n",
       "         'got': 1,\n",
       "         'love': 1,\n",
       "         '👍👍👍': 1,\n",
       "         'fatherhood': 1,\n",
       "         'daughterloverobin': 1,\n",
       "         'roberts': 1,\n",
       "         'respects': 1,\n",
       "         'speaking': 1,\n",
       "         'torta': 1,\n",
       "         'acaba': 1,\n",
       "         'meter': 1,\n",
       "         'rock.👋': 1,\n",
       "         'goodenufmother': 2,\n",
       "         'developing': 1,\n",
       "         'review': 1,\n",
       "         'varietyrt': 1,\n",
       "         'breaking': 1,\n",
       "         'bramwell': 1,\n",
       "         'used': 1,\n",
       "         'seeing': 1,\n",
       "         'defend': 1,\n",
       "         'honor': 1,\n",
       "         'women': 1,\n",
       "         'surprise': 1,\n",
       "         'lost': 1,\n",
       "         'respect': 1,\n",
       "         'hosted': 1,\n",
       "         'spent': 1,\n",
       "         'majority': 1,\n",
       "         'monologue': 1,\n",
       "         'throwing': 1,\n",
       "         'people': 1,\n",
       "         'knows': 1,\n",
       "         'thing': 1,\n",
       "         'djquik': 1,\n",
       "         'iamcecevalencia': 1,\n",
       "         'romeoonyoradio': 1,\n",
       "         'kdaymorningshow': 1,\n",
       "         '[': 1,\n",
       "         ']': 1,\n",
       "         'murflicks': 1,\n",
       "         'cool': 1,\n",
       "         'guys': 1,\n",
       "         'realitytea': 1,\n",
       "         'case': 1,\n",
       "         'missed': 1,\n",
       "         'bethenny': 1,\n",
       "         'frankel': 1,\n",
       "         'kicked': 1,\n",
       "         'thisakoto': 1,\n",
       "         'guardianaus': 1,\n",
       "         'don': 1,\n",
       "         't': 1,\n",
       "         'mention': 1,\n",
       "         'one': 1,\n",
       "         'peterdredd': 1,\n",
       "         '‘': 2,\n",
       "         'flooded': 2,\n",
       "         'movie': 2,\n",
       "         'offers': 2,\n",
       "         'spite': 2,\n",
       "         'ban': 2,\n",
       "         'anomaly': 1,\n",
       "         '-2.1113894444444443': 1,\n",
       "         'incident': 1,\n",
       "         'motion': 1,\n",
       "         'picture': 1,\n",
       "         'arts': 1,\n",
       "         'sciences': 1,\n",
       "         'response': 1,\n",
       "         'drew': 1,\n",
       "         'controversy': 1,\n",
       "         'jjauthor': 2,\n",
       "         'saw': 3,\n",
       "         'instagram': 1,\n",
       "         'post': 1,\n",
       "         'celebrity': 1,\n",
       "         'apprentice': 1,\n",
       "         'alum': 1,\n",
       "         'shared': 1,\n",
       "         'friend': 1,\n",
       "         'selfie': 1,\n",
       "         'comedian': 1,\n",
       "         'city_news': 1,\n",
       "         'reports': 1,\n",
       "         'streaming': 1,\n",
       "         'columnist': 1,\n",
       "         'israel': 1,\n",
       "         'message': 1,\n",
       "         'ignited': 2,\n",
       "         'conversation': 2,\n",
       "         '—': 2,\n",
       "         'including': 2,\n",
       "         'philadelphia': 2,\n",
       "         'fres…will': 1,\n",
       "         'prince': 1,\n",
       "         'costars': 1})"
      ]
     },
     "execution_count": 7,
     "metadata": {},
     "output_type": "execute_result"
    }
   ],
   "source": [
    "from collections import Counter\n",
    "c = Counter(final_words)\n",
    "c"
   ]
  },
  {
   "cell_type": "code",
   "execution_count": 8,
   "metadata": {},
   "outputs": [
    {
     "data": {
      "text/html": [
       "<div>\n",
       "<style scoped>\n",
       "    .dataframe tbody tr th:only-of-type {\n",
       "        vertical-align: middle;\n",
       "    }\n",
       "\n",
       "    .dataframe tbody tr th {\n",
       "        vertical-align: top;\n",
       "    }\n",
       "\n",
       "    .dataframe thead th {\n",
       "        text-align: right;\n",
       "    }\n",
       "</style>\n",
       "<table border=\"1\" class=\"dataframe\">\n",
       "  <thead>\n",
       "    <tr style=\"text-align: right;\">\n",
       "      <th></th>\n",
       "      <th>words</th>\n",
       "      <th>freq</th>\n",
       "    </tr>\n",
       "  </thead>\n",
       "  <tbody>\n",
       "    <tr>\n",
       "      <th>0</th>\n",
       "      <td>oscars</td>\n",
       "      <td>80</td>\n",
       "    </tr>\n",
       "    <tr>\n",
       "      <th>2</th>\n",
       "      <td>smith</td>\n",
       "      <td>76</td>\n",
       "    </tr>\n",
       "    <tr>\n",
       "      <th>3</th>\n",
       "      <td>chris</td>\n",
       "      <td>54</td>\n",
       "    </tr>\n",
       "    <tr>\n",
       "      <th>4</th>\n",
       "      <td>slap</td>\n",
       "      <td>15</td>\n",
       "    </tr>\n",
       "    <tr>\n",
       "      <th>5</th>\n",
       "      <td>slapping</td>\n",
       "      <td>15</td>\n",
       "    </tr>\n",
       "    <tr>\n",
       "      <th>...</th>\n",
       "      <td>...</td>\n",
       "      <td>...</td>\n",
       "    </tr>\n",
       "    <tr>\n",
       "      <th>400</th>\n",
       "      <td>israel</td>\n",
       "      <td>1</td>\n",
       "    </tr>\n",
       "    <tr>\n",
       "      <th>401</th>\n",
       "      <td>message</td>\n",
       "      <td>1</td>\n",
       "    </tr>\n",
       "    <tr>\n",
       "      <th>402</th>\n",
       "      <td>fres…will</td>\n",
       "      <td>1</td>\n",
       "    </tr>\n",
       "    <tr>\n",
       "      <th>403</th>\n",
       "      <td>prince</td>\n",
       "      <td>1</td>\n",
       "    </tr>\n",
       "    <tr>\n",
       "      <th>404</th>\n",
       "      <td>costars</td>\n",
       "      <td>1</td>\n",
       "    </tr>\n",
       "  </tbody>\n",
       "</table>\n",
       "<p>404 rows × 2 columns</p>\n",
       "</div>"
      ],
      "text/plain": [
       "         words  freq\n",
       "0       oscars    80\n",
       "2        smith    76\n",
       "3        chris    54\n",
       "4         slap    15\n",
       "5     slapping    15\n",
       "..         ...   ...\n",
       "400     israel     1\n",
       "401    message     1\n",
       "402  fres…will     1\n",
       "403     prince     1\n",
       "404    costars     1\n",
       "\n",
       "[404 rows x 2 columns]"
      ]
     },
     "execution_count": 8,
     "metadata": {},
     "output_type": "execute_result"
    }
   ],
   "source": [
    "most_common = c.most_common()\n",
    "\n",
    "words = [x[0] for x in most_common]\n",
    "freq = [x[1] for x in most_common]\n",
    "\n",
    "df = pd.DataFrame()\n",
    "df['words'] = words\n",
    "df['freq'] = freq\n",
    "\n",
    "df1 = df.drop(1)\n",
    "df1\n"
   ]
  },
  {
   "cell_type": "code",
   "execution_count": 9,
   "metadata": {},
   "outputs": [],
   "source": [
    "df1.to_csv(\"MCchrisRock.csv\", index = False)"
   ]
  },
  {
   "cell_type": "code",
   "execution_count": 10,
   "metadata": {},
   "outputs": [
    {
     "data": {
      "application/vnd.plotly.v1+json": {
       "config": {
        "plotlyServerURL": "https://plot.ly"
       },
       "data": [
        {
         "alignmentgroup": "True",
         "hovertemplate": "words=%{x}<br>freq=%{y}<extra></extra>",
         "legendgroup": "",
         "marker": {
          "color": "#636efa",
          "pattern": {
           "shape": ""
          }
         },
         "name": "",
         "offsetgroup": "",
         "orientation": "v",
         "showlegend": false,
         "textposition": "auto",
         "type": "bar",
         "x": [
          "oscars",
          "smith",
          "chris",
          "slap",
          "slapping",
          "is",
          "slaps",
          "animated",
          "has",
          "i"
         ],
         "xaxis": "x",
         "y": [
          80,
          76,
          54,
          15,
          15,
          14,
          13,
          10,
          9,
          9
         ],
         "yaxis": "y"
        }
       ],
       "layout": {
        "barmode": "relative",
        "legend": {
         "tracegroupgap": 0
        },
        "margin": {
         "t": 60
        },
        "template": {
         "data": {
          "bar": [
           {
            "error_x": {
             "color": "#2a3f5f"
            },
            "error_y": {
             "color": "#2a3f5f"
            },
            "marker": {
             "line": {
              "color": "#E5ECF6",
              "width": 0.5
             },
             "pattern": {
              "fillmode": "overlay",
              "size": 10,
              "solidity": 0.2
             }
            },
            "type": "bar"
           }
          ],
          "barpolar": [
           {
            "marker": {
             "line": {
              "color": "#E5ECF6",
              "width": 0.5
             },
             "pattern": {
              "fillmode": "overlay",
              "size": 10,
              "solidity": 0.2
             }
            },
            "type": "barpolar"
           }
          ],
          "carpet": [
           {
            "aaxis": {
             "endlinecolor": "#2a3f5f",
             "gridcolor": "white",
             "linecolor": "white",
             "minorgridcolor": "white",
             "startlinecolor": "#2a3f5f"
            },
            "baxis": {
             "endlinecolor": "#2a3f5f",
             "gridcolor": "white",
             "linecolor": "white",
             "minorgridcolor": "white",
             "startlinecolor": "#2a3f5f"
            },
            "type": "carpet"
           }
          ],
          "choropleth": [
           {
            "colorbar": {
             "outlinewidth": 0,
             "ticks": ""
            },
            "type": "choropleth"
           }
          ],
          "contour": [
           {
            "colorbar": {
             "outlinewidth": 0,
             "ticks": ""
            },
            "colorscale": [
             [
              0,
              "#0d0887"
             ],
             [
              0.1111111111111111,
              "#46039f"
             ],
             [
              0.2222222222222222,
              "#7201a8"
             ],
             [
              0.3333333333333333,
              "#9c179e"
             ],
             [
              0.4444444444444444,
              "#bd3786"
             ],
             [
              0.5555555555555556,
              "#d8576b"
             ],
             [
              0.6666666666666666,
              "#ed7953"
             ],
             [
              0.7777777777777778,
              "#fb9f3a"
             ],
             [
              0.8888888888888888,
              "#fdca26"
             ],
             [
              1,
              "#f0f921"
             ]
            ],
            "type": "contour"
           }
          ],
          "contourcarpet": [
           {
            "colorbar": {
             "outlinewidth": 0,
             "ticks": ""
            },
            "type": "contourcarpet"
           }
          ],
          "heatmap": [
           {
            "colorbar": {
             "outlinewidth": 0,
             "ticks": ""
            },
            "colorscale": [
             [
              0,
              "#0d0887"
             ],
             [
              0.1111111111111111,
              "#46039f"
             ],
             [
              0.2222222222222222,
              "#7201a8"
             ],
             [
              0.3333333333333333,
              "#9c179e"
             ],
             [
              0.4444444444444444,
              "#bd3786"
             ],
             [
              0.5555555555555556,
              "#d8576b"
             ],
             [
              0.6666666666666666,
              "#ed7953"
             ],
             [
              0.7777777777777778,
              "#fb9f3a"
             ],
             [
              0.8888888888888888,
              "#fdca26"
             ],
             [
              1,
              "#f0f921"
             ]
            ],
            "type": "heatmap"
           }
          ],
          "heatmapgl": [
           {
            "colorbar": {
             "outlinewidth": 0,
             "ticks": ""
            },
            "colorscale": [
             [
              0,
              "#0d0887"
             ],
             [
              0.1111111111111111,
              "#46039f"
             ],
             [
              0.2222222222222222,
              "#7201a8"
             ],
             [
              0.3333333333333333,
              "#9c179e"
             ],
             [
              0.4444444444444444,
              "#bd3786"
             ],
             [
              0.5555555555555556,
              "#d8576b"
             ],
             [
              0.6666666666666666,
              "#ed7953"
             ],
             [
              0.7777777777777778,
              "#fb9f3a"
             ],
             [
              0.8888888888888888,
              "#fdca26"
             ],
             [
              1,
              "#f0f921"
             ]
            ],
            "type": "heatmapgl"
           }
          ],
          "histogram": [
           {
            "marker": {
             "pattern": {
              "fillmode": "overlay",
              "size": 10,
              "solidity": 0.2
             }
            },
            "type": "histogram"
           }
          ],
          "histogram2d": [
           {
            "colorbar": {
             "outlinewidth": 0,
             "ticks": ""
            },
            "colorscale": [
             [
              0,
              "#0d0887"
             ],
             [
              0.1111111111111111,
              "#46039f"
             ],
             [
              0.2222222222222222,
              "#7201a8"
             ],
             [
              0.3333333333333333,
              "#9c179e"
             ],
             [
              0.4444444444444444,
              "#bd3786"
             ],
             [
              0.5555555555555556,
              "#d8576b"
             ],
             [
              0.6666666666666666,
              "#ed7953"
             ],
             [
              0.7777777777777778,
              "#fb9f3a"
             ],
             [
              0.8888888888888888,
              "#fdca26"
             ],
             [
              1,
              "#f0f921"
             ]
            ],
            "type": "histogram2d"
           }
          ],
          "histogram2dcontour": [
           {
            "colorbar": {
             "outlinewidth": 0,
             "ticks": ""
            },
            "colorscale": [
             [
              0,
              "#0d0887"
             ],
             [
              0.1111111111111111,
              "#46039f"
             ],
             [
              0.2222222222222222,
              "#7201a8"
             ],
             [
              0.3333333333333333,
              "#9c179e"
             ],
             [
              0.4444444444444444,
              "#bd3786"
             ],
             [
              0.5555555555555556,
              "#d8576b"
             ],
             [
              0.6666666666666666,
              "#ed7953"
             ],
             [
              0.7777777777777778,
              "#fb9f3a"
             ],
             [
              0.8888888888888888,
              "#fdca26"
             ],
             [
              1,
              "#f0f921"
             ]
            ],
            "type": "histogram2dcontour"
           }
          ],
          "mesh3d": [
           {
            "colorbar": {
             "outlinewidth": 0,
             "ticks": ""
            },
            "type": "mesh3d"
           }
          ],
          "parcoords": [
           {
            "line": {
             "colorbar": {
              "outlinewidth": 0,
              "ticks": ""
             }
            },
            "type": "parcoords"
           }
          ],
          "pie": [
           {
            "automargin": true,
            "type": "pie"
           }
          ],
          "scatter": [
           {
            "fillpattern": {
             "fillmode": "overlay",
             "size": 10,
             "solidity": 0.2
            },
            "type": "scatter"
           }
          ],
          "scatter3d": [
           {
            "line": {
             "colorbar": {
              "outlinewidth": 0,
              "ticks": ""
             }
            },
            "marker": {
             "colorbar": {
              "outlinewidth": 0,
              "ticks": ""
             }
            },
            "type": "scatter3d"
           }
          ],
          "scattercarpet": [
           {
            "marker": {
             "colorbar": {
              "outlinewidth": 0,
              "ticks": ""
             }
            },
            "type": "scattercarpet"
           }
          ],
          "scattergeo": [
           {
            "marker": {
             "colorbar": {
              "outlinewidth": 0,
              "ticks": ""
             }
            },
            "type": "scattergeo"
           }
          ],
          "scattergl": [
           {
            "marker": {
             "colorbar": {
              "outlinewidth": 0,
              "ticks": ""
             }
            },
            "type": "scattergl"
           }
          ],
          "scattermapbox": [
           {
            "marker": {
             "colorbar": {
              "outlinewidth": 0,
              "ticks": ""
             }
            },
            "type": "scattermapbox"
           }
          ],
          "scatterpolar": [
           {
            "marker": {
             "colorbar": {
              "outlinewidth": 0,
              "ticks": ""
             }
            },
            "type": "scatterpolar"
           }
          ],
          "scatterpolargl": [
           {
            "marker": {
             "colorbar": {
              "outlinewidth": 0,
              "ticks": ""
             }
            },
            "type": "scatterpolargl"
           }
          ],
          "scatterternary": [
           {
            "marker": {
             "colorbar": {
              "outlinewidth": 0,
              "ticks": ""
             }
            },
            "type": "scatterternary"
           }
          ],
          "surface": [
           {
            "colorbar": {
             "outlinewidth": 0,
             "ticks": ""
            },
            "colorscale": [
             [
              0,
              "#0d0887"
             ],
             [
              0.1111111111111111,
              "#46039f"
             ],
             [
              0.2222222222222222,
              "#7201a8"
             ],
             [
              0.3333333333333333,
              "#9c179e"
             ],
             [
              0.4444444444444444,
              "#bd3786"
             ],
             [
              0.5555555555555556,
              "#d8576b"
             ],
             [
              0.6666666666666666,
              "#ed7953"
             ],
             [
              0.7777777777777778,
              "#fb9f3a"
             ],
             [
              0.8888888888888888,
              "#fdca26"
             ],
             [
              1,
              "#f0f921"
             ]
            ],
            "type": "surface"
           }
          ],
          "table": [
           {
            "cells": {
             "fill": {
              "color": "#EBF0F8"
             },
             "line": {
              "color": "white"
             }
            },
            "header": {
             "fill": {
              "color": "#C8D4E3"
             },
             "line": {
              "color": "white"
             }
            },
            "type": "table"
           }
          ]
         },
         "layout": {
          "annotationdefaults": {
           "arrowcolor": "#2a3f5f",
           "arrowhead": 0,
           "arrowwidth": 1
          },
          "autotypenumbers": "strict",
          "coloraxis": {
           "colorbar": {
            "outlinewidth": 0,
            "ticks": ""
           }
          },
          "colorscale": {
           "diverging": [
            [
             0,
             "#8e0152"
            ],
            [
             0.1,
             "#c51b7d"
            ],
            [
             0.2,
             "#de77ae"
            ],
            [
             0.3,
             "#f1b6da"
            ],
            [
             0.4,
             "#fde0ef"
            ],
            [
             0.5,
             "#f7f7f7"
            ],
            [
             0.6,
             "#e6f5d0"
            ],
            [
             0.7,
             "#b8e186"
            ],
            [
             0.8,
             "#7fbc41"
            ],
            [
             0.9,
             "#4d9221"
            ],
            [
             1,
             "#276419"
            ]
           ],
           "sequential": [
            [
             0,
             "#0d0887"
            ],
            [
             0.1111111111111111,
             "#46039f"
            ],
            [
             0.2222222222222222,
             "#7201a8"
            ],
            [
             0.3333333333333333,
             "#9c179e"
            ],
            [
             0.4444444444444444,
             "#bd3786"
            ],
            [
             0.5555555555555556,
             "#d8576b"
            ],
            [
             0.6666666666666666,
             "#ed7953"
            ],
            [
             0.7777777777777778,
             "#fb9f3a"
            ],
            [
             0.8888888888888888,
             "#fdca26"
            ],
            [
             1,
             "#f0f921"
            ]
           ],
           "sequentialminus": [
            [
             0,
             "#0d0887"
            ],
            [
             0.1111111111111111,
             "#46039f"
            ],
            [
             0.2222222222222222,
             "#7201a8"
            ],
            [
             0.3333333333333333,
             "#9c179e"
            ],
            [
             0.4444444444444444,
             "#bd3786"
            ],
            [
             0.5555555555555556,
             "#d8576b"
            ],
            [
             0.6666666666666666,
             "#ed7953"
            ],
            [
             0.7777777777777778,
             "#fb9f3a"
            ],
            [
             0.8888888888888888,
             "#fdca26"
            ],
            [
             1,
             "#f0f921"
            ]
           ]
          },
          "colorway": [
           "#636efa",
           "#EF553B",
           "#00cc96",
           "#ab63fa",
           "#FFA15A",
           "#19d3f3",
           "#FF6692",
           "#B6E880",
           "#FF97FF",
           "#FECB52"
          ],
          "font": {
           "color": "#2a3f5f"
          },
          "geo": {
           "bgcolor": "white",
           "lakecolor": "white",
           "landcolor": "#E5ECF6",
           "showlakes": true,
           "showland": true,
           "subunitcolor": "white"
          },
          "hoverlabel": {
           "align": "left"
          },
          "hovermode": "closest",
          "mapbox": {
           "style": "light"
          },
          "paper_bgcolor": "white",
          "plot_bgcolor": "#E5ECF6",
          "polar": {
           "angularaxis": {
            "gridcolor": "white",
            "linecolor": "white",
            "ticks": ""
           },
           "bgcolor": "#E5ECF6",
           "radialaxis": {
            "gridcolor": "white",
            "linecolor": "white",
            "ticks": ""
           }
          },
          "scene": {
           "xaxis": {
            "backgroundcolor": "#E5ECF6",
            "gridcolor": "white",
            "gridwidth": 2,
            "linecolor": "white",
            "showbackground": true,
            "ticks": "",
            "zerolinecolor": "white"
           },
           "yaxis": {
            "backgroundcolor": "#E5ECF6",
            "gridcolor": "white",
            "gridwidth": 2,
            "linecolor": "white",
            "showbackground": true,
            "ticks": "",
            "zerolinecolor": "white"
           },
           "zaxis": {
            "backgroundcolor": "#E5ECF6",
            "gridcolor": "white",
            "gridwidth": 2,
            "linecolor": "white",
            "showbackground": true,
            "ticks": "",
            "zerolinecolor": "white"
           }
          },
          "shapedefaults": {
           "line": {
            "color": "#2a3f5f"
           }
          },
          "ternary": {
           "aaxis": {
            "gridcolor": "white",
            "linecolor": "white",
            "ticks": ""
           },
           "baxis": {
            "gridcolor": "white",
            "linecolor": "white",
            "ticks": ""
           },
           "bgcolor": "#E5ECF6",
           "caxis": {
            "gridcolor": "white",
            "linecolor": "white",
            "ticks": ""
           }
          },
          "title": {
           "x": 0.05
          },
          "xaxis": {
           "automargin": true,
           "gridcolor": "white",
           "linecolor": "white",
           "ticks": "",
           "title": {
            "standoff": 15
           },
           "zerolinecolor": "white",
           "zerolinewidth": 2
          },
          "yaxis": {
           "automargin": true,
           "gridcolor": "white",
           "linecolor": "white",
           "ticks": "",
           "title": {
            "standoff": 15
           },
           "zerolinecolor": "white",
           "zerolinewidth": 2
          }
         }
        },
        "title": {
         "text": "10 Most Common Words of 100 Tweets Under \"chris rock\" Topic"
        },
        "xaxis": {
         "anchor": "y",
         "domain": [
          0,
          1
         ],
         "title": {
          "text": "Word"
         }
        },
        "yaxis": {
         "anchor": "x",
         "domain": [
          0,
          1
         ],
         "title": {
          "text": "Number of Occurances"
         }
        }
       }
      }
     },
     "metadata": {},
     "output_type": "display_data"
    }
   ],
   "source": [
    "import plotly.express as px\n",
    "\n",
    "fig = px.bar(df1[:10], x= 'words', y='freq')\n",
    "fig.update_layout(\n",
    "    title=\"10 Most Common Words of 100 Tweets Under \\\"chris rock\\\" Topic\",\n",
    "    xaxis_title=\"Word\",\n",
    "    yaxis_title=\"Number of Occurances\")\n",
    "fig.show()"
   ]
  },
  {
   "cell_type": "code",
   "execution_count": 11,
   "metadata": {},
   "outputs": [
    {
     "data": {
      "application/vnd.plotly.v1+json": {
       "config": {
        "plotlyServerURL": "https://plot.ly"
       },
       "data": [
        {
         "alignmentgroup": "True",
         "hovertemplate": "words=%{x}<br>freq=%{y}<extra></extra>",
         "legendgroup": "",
         "marker": {
          "color": "#636efa",
          "pattern": {
           "shape": ""
          }
         },
         "name": "",
         "offsetgroup": "",
         "orientation": "v",
         "showlegend": false,
         "textposition": "auto",
         "type": "bar",
         "x": [
          "oscars",
          "smith",
          "chris",
          "slap",
          "slapping",
          "is",
          "slaps",
          "animated",
          "has",
          "i"
         ],
         "xaxis": "x",
         "y": [
          80,
          76,
          54,
          15,
          15,
          14,
          13,
          10,
          9,
          9
         ],
         "yaxis": "y"
        }
       ],
       "layout": {
        "barmode": "relative",
        "legend": {
         "tracegroupgap": 0
        },
        "margin": {
         "t": 60
        },
        "template": {
         "data": {
          "bar": [
           {
            "error_x": {
             "color": "#2a3f5f"
            },
            "error_y": {
             "color": "#2a3f5f"
            },
            "marker": {
             "line": {
              "color": "#E5ECF6",
              "width": 0.5
             },
             "pattern": {
              "fillmode": "overlay",
              "size": 10,
              "solidity": 0.2
             }
            },
            "type": "bar"
           }
          ],
          "barpolar": [
           {
            "marker": {
             "line": {
              "color": "#E5ECF6",
              "width": 0.5
             },
             "pattern": {
              "fillmode": "overlay",
              "size": 10,
              "solidity": 0.2
             }
            },
            "type": "barpolar"
           }
          ],
          "carpet": [
           {
            "aaxis": {
             "endlinecolor": "#2a3f5f",
             "gridcolor": "white",
             "linecolor": "white",
             "minorgridcolor": "white",
             "startlinecolor": "#2a3f5f"
            },
            "baxis": {
             "endlinecolor": "#2a3f5f",
             "gridcolor": "white",
             "linecolor": "white",
             "minorgridcolor": "white",
             "startlinecolor": "#2a3f5f"
            },
            "type": "carpet"
           }
          ],
          "choropleth": [
           {
            "colorbar": {
             "outlinewidth": 0,
             "ticks": ""
            },
            "type": "choropleth"
           }
          ],
          "contour": [
           {
            "colorbar": {
             "outlinewidth": 0,
             "ticks": ""
            },
            "colorscale": [
             [
              0,
              "#0d0887"
             ],
             [
              0.1111111111111111,
              "#46039f"
             ],
             [
              0.2222222222222222,
              "#7201a8"
             ],
             [
              0.3333333333333333,
              "#9c179e"
             ],
             [
              0.4444444444444444,
              "#bd3786"
             ],
             [
              0.5555555555555556,
              "#d8576b"
             ],
             [
              0.6666666666666666,
              "#ed7953"
             ],
             [
              0.7777777777777778,
              "#fb9f3a"
             ],
             [
              0.8888888888888888,
              "#fdca26"
             ],
             [
              1,
              "#f0f921"
             ]
            ],
            "type": "contour"
           }
          ],
          "contourcarpet": [
           {
            "colorbar": {
             "outlinewidth": 0,
             "ticks": ""
            },
            "type": "contourcarpet"
           }
          ],
          "heatmap": [
           {
            "colorbar": {
             "outlinewidth": 0,
             "ticks": ""
            },
            "colorscale": [
             [
              0,
              "#0d0887"
             ],
             [
              0.1111111111111111,
              "#46039f"
             ],
             [
              0.2222222222222222,
              "#7201a8"
             ],
             [
              0.3333333333333333,
              "#9c179e"
             ],
             [
              0.4444444444444444,
              "#bd3786"
             ],
             [
              0.5555555555555556,
              "#d8576b"
             ],
             [
              0.6666666666666666,
              "#ed7953"
             ],
             [
              0.7777777777777778,
              "#fb9f3a"
             ],
             [
              0.8888888888888888,
              "#fdca26"
             ],
             [
              1,
              "#f0f921"
             ]
            ],
            "type": "heatmap"
           }
          ],
          "heatmapgl": [
           {
            "colorbar": {
             "outlinewidth": 0,
             "ticks": ""
            },
            "colorscale": [
             [
              0,
              "#0d0887"
             ],
             [
              0.1111111111111111,
              "#46039f"
             ],
             [
              0.2222222222222222,
              "#7201a8"
             ],
             [
              0.3333333333333333,
              "#9c179e"
             ],
             [
              0.4444444444444444,
              "#bd3786"
             ],
             [
              0.5555555555555556,
              "#d8576b"
             ],
             [
              0.6666666666666666,
              "#ed7953"
             ],
             [
              0.7777777777777778,
              "#fb9f3a"
             ],
             [
              0.8888888888888888,
              "#fdca26"
             ],
             [
              1,
              "#f0f921"
             ]
            ],
            "type": "heatmapgl"
           }
          ],
          "histogram": [
           {
            "marker": {
             "pattern": {
              "fillmode": "overlay",
              "size": 10,
              "solidity": 0.2
             }
            },
            "type": "histogram"
           }
          ],
          "histogram2d": [
           {
            "colorbar": {
             "outlinewidth": 0,
             "ticks": ""
            },
            "colorscale": [
             [
              0,
              "#0d0887"
             ],
             [
              0.1111111111111111,
              "#46039f"
             ],
             [
              0.2222222222222222,
              "#7201a8"
             ],
             [
              0.3333333333333333,
              "#9c179e"
             ],
             [
              0.4444444444444444,
              "#bd3786"
             ],
             [
              0.5555555555555556,
              "#d8576b"
             ],
             [
              0.6666666666666666,
              "#ed7953"
             ],
             [
              0.7777777777777778,
              "#fb9f3a"
             ],
             [
              0.8888888888888888,
              "#fdca26"
             ],
             [
              1,
              "#f0f921"
             ]
            ],
            "type": "histogram2d"
           }
          ],
          "histogram2dcontour": [
           {
            "colorbar": {
             "outlinewidth": 0,
             "ticks": ""
            },
            "colorscale": [
             [
              0,
              "#0d0887"
             ],
             [
              0.1111111111111111,
              "#46039f"
             ],
             [
              0.2222222222222222,
              "#7201a8"
             ],
             [
              0.3333333333333333,
              "#9c179e"
             ],
             [
              0.4444444444444444,
              "#bd3786"
             ],
             [
              0.5555555555555556,
              "#d8576b"
             ],
             [
              0.6666666666666666,
              "#ed7953"
             ],
             [
              0.7777777777777778,
              "#fb9f3a"
             ],
             [
              0.8888888888888888,
              "#fdca26"
             ],
             [
              1,
              "#f0f921"
             ]
            ],
            "type": "histogram2dcontour"
           }
          ],
          "mesh3d": [
           {
            "colorbar": {
             "outlinewidth": 0,
             "ticks": ""
            },
            "type": "mesh3d"
           }
          ],
          "parcoords": [
           {
            "line": {
             "colorbar": {
              "outlinewidth": 0,
              "ticks": ""
             }
            },
            "type": "parcoords"
           }
          ],
          "pie": [
           {
            "automargin": true,
            "type": "pie"
           }
          ],
          "scatter": [
           {
            "fillpattern": {
             "fillmode": "overlay",
             "size": 10,
             "solidity": 0.2
            },
            "type": "scatter"
           }
          ],
          "scatter3d": [
           {
            "line": {
             "colorbar": {
              "outlinewidth": 0,
              "ticks": ""
             }
            },
            "marker": {
             "colorbar": {
              "outlinewidth": 0,
              "ticks": ""
             }
            },
            "type": "scatter3d"
           }
          ],
          "scattercarpet": [
           {
            "marker": {
             "colorbar": {
              "outlinewidth": 0,
              "ticks": ""
             }
            },
            "type": "scattercarpet"
           }
          ],
          "scattergeo": [
           {
            "marker": {
             "colorbar": {
              "outlinewidth": 0,
              "ticks": ""
             }
            },
            "type": "scattergeo"
           }
          ],
          "scattergl": [
           {
            "marker": {
             "colorbar": {
              "outlinewidth": 0,
              "ticks": ""
             }
            },
            "type": "scattergl"
           }
          ],
          "scattermapbox": [
           {
            "marker": {
             "colorbar": {
              "outlinewidth": 0,
              "ticks": ""
             }
            },
            "type": "scattermapbox"
           }
          ],
          "scatterpolar": [
           {
            "marker": {
             "colorbar": {
              "outlinewidth": 0,
              "ticks": ""
             }
            },
            "type": "scatterpolar"
           }
          ],
          "scatterpolargl": [
           {
            "marker": {
             "colorbar": {
              "outlinewidth": 0,
              "ticks": ""
             }
            },
            "type": "scatterpolargl"
           }
          ],
          "scatterternary": [
           {
            "marker": {
             "colorbar": {
              "outlinewidth": 0,
              "ticks": ""
             }
            },
            "type": "scatterternary"
           }
          ],
          "surface": [
           {
            "colorbar": {
             "outlinewidth": 0,
             "ticks": ""
            },
            "colorscale": [
             [
              0,
              "#0d0887"
             ],
             [
              0.1111111111111111,
              "#46039f"
             ],
             [
              0.2222222222222222,
              "#7201a8"
             ],
             [
              0.3333333333333333,
              "#9c179e"
             ],
             [
              0.4444444444444444,
              "#bd3786"
             ],
             [
              0.5555555555555556,
              "#d8576b"
             ],
             [
              0.6666666666666666,
              "#ed7953"
             ],
             [
              0.7777777777777778,
              "#fb9f3a"
             ],
             [
              0.8888888888888888,
              "#fdca26"
             ],
             [
              1,
              "#f0f921"
             ]
            ],
            "type": "surface"
           }
          ],
          "table": [
           {
            "cells": {
             "fill": {
              "color": "#EBF0F8"
             },
             "line": {
              "color": "white"
             }
            },
            "header": {
             "fill": {
              "color": "#C8D4E3"
             },
             "line": {
              "color": "white"
             }
            },
            "type": "table"
           }
          ]
         },
         "layout": {
          "annotationdefaults": {
           "arrowcolor": "#2a3f5f",
           "arrowhead": 0,
           "arrowwidth": 1
          },
          "autotypenumbers": "strict",
          "coloraxis": {
           "colorbar": {
            "outlinewidth": 0,
            "ticks": ""
           }
          },
          "colorscale": {
           "diverging": [
            [
             0,
             "#8e0152"
            ],
            [
             0.1,
             "#c51b7d"
            ],
            [
             0.2,
             "#de77ae"
            ],
            [
             0.3,
             "#f1b6da"
            ],
            [
             0.4,
             "#fde0ef"
            ],
            [
             0.5,
             "#f7f7f7"
            ],
            [
             0.6,
             "#e6f5d0"
            ],
            [
             0.7,
             "#b8e186"
            ],
            [
             0.8,
             "#7fbc41"
            ],
            [
             0.9,
             "#4d9221"
            ],
            [
             1,
             "#276419"
            ]
           ],
           "sequential": [
            [
             0,
             "#0d0887"
            ],
            [
             0.1111111111111111,
             "#46039f"
            ],
            [
             0.2222222222222222,
             "#7201a8"
            ],
            [
             0.3333333333333333,
             "#9c179e"
            ],
            [
             0.4444444444444444,
             "#bd3786"
            ],
            [
             0.5555555555555556,
             "#d8576b"
            ],
            [
             0.6666666666666666,
             "#ed7953"
            ],
            [
             0.7777777777777778,
             "#fb9f3a"
            ],
            [
             0.8888888888888888,
             "#fdca26"
            ],
            [
             1,
             "#f0f921"
            ]
           ],
           "sequentialminus": [
            [
             0,
             "#0d0887"
            ],
            [
             0.1111111111111111,
             "#46039f"
            ],
            [
             0.2222222222222222,
             "#7201a8"
            ],
            [
             0.3333333333333333,
             "#9c179e"
            ],
            [
             0.4444444444444444,
             "#bd3786"
            ],
            [
             0.5555555555555556,
             "#d8576b"
            ],
            [
             0.6666666666666666,
             "#ed7953"
            ],
            [
             0.7777777777777778,
             "#fb9f3a"
            ],
            [
             0.8888888888888888,
             "#fdca26"
            ],
            [
             1,
             "#f0f921"
            ]
           ]
          },
          "colorway": [
           "#636efa",
           "#EF553B",
           "#00cc96",
           "#ab63fa",
           "#FFA15A",
           "#19d3f3",
           "#FF6692",
           "#B6E880",
           "#FF97FF",
           "#FECB52"
          ],
          "font": {
           "color": "#2a3f5f"
          },
          "geo": {
           "bgcolor": "white",
           "lakecolor": "white",
           "landcolor": "#E5ECF6",
           "showlakes": true,
           "showland": true,
           "subunitcolor": "white"
          },
          "hoverlabel": {
           "align": "left"
          },
          "hovermode": "closest",
          "mapbox": {
           "style": "light"
          },
          "paper_bgcolor": "white",
          "plot_bgcolor": "#E5ECF6",
          "polar": {
           "angularaxis": {
            "gridcolor": "white",
            "linecolor": "white",
            "ticks": ""
           },
           "bgcolor": "#E5ECF6",
           "radialaxis": {
            "gridcolor": "white",
            "linecolor": "white",
            "ticks": ""
           }
          },
          "scene": {
           "xaxis": {
            "backgroundcolor": "#E5ECF6",
            "gridcolor": "white",
            "gridwidth": 2,
            "linecolor": "white",
            "showbackground": true,
            "ticks": "",
            "zerolinecolor": "white"
           },
           "yaxis": {
            "backgroundcolor": "#E5ECF6",
            "gridcolor": "white",
            "gridwidth": 2,
            "linecolor": "white",
            "showbackground": true,
            "ticks": "",
            "zerolinecolor": "white"
           },
           "zaxis": {
            "backgroundcolor": "#E5ECF6",
            "gridcolor": "white",
            "gridwidth": 2,
            "linecolor": "white",
            "showbackground": true,
            "ticks": "",
            "zerolinecolor": "white"
           }
          },
          "shapedefaults": {
           "line": {
            "color": "#2a3f5f"
           }
          },
          "ternary": {
           "aaxis": {
            "gridcolor": "white",
            "linecolor": "white",
            "ticks": ""
           },
           "baxis": {
            "gridcolor": "white",
            "linecolor": "white",
            "ticks": ""
           },
           "bgcolor": "#E5ECF6",
           "caxis": {
            "gridcolor": "white",
            "linecolor": "white",
            "ticks": ""
           }
          },
          "title": {
           "x": 0.05
          },
          "xaxis": {
           "automargin": true,
           "gridcolor": "white",
           "linecolor": "white",
           "ticks": "",
           "title": {
            "standoff": 15
           },
           "zerolinecolor": "white",
           "zerolinewidth": 2
          },
          "yaxis": {
           "automargin": true,
           "gridcolor": "white",
           "linecolor": "white",
           "ticks": "",
           "title": {
            "standoff": 15
           },
           "zerolinecolor": "white",
           "zerolinewidth": 2
          }
         }
        },
        "title": {
         "text": "10 Most Common Words of 100 Tweets Under \"will smith\" Topic"
        },
        "xaxis": {
         "anchor": "y",
         "domain": [
          0,
          1
         ],
         "title": {
          "text": "Word"
         }
        },
        "yaxis": {
         "anchor": "x",
         "domain": [
          0,
          1
         ],
         "title": {
          "text": "Number of Occurances"
         }
        }
       }
      }
     },
     "metadata": {},
     "output_type": "display_data"
    }
   ],
   "source": [
    "import plotly.express as px\n",
    "\n",
    "fig = px.bar(df1[:10], x= 'words', y='freq')\n",
    "fig.update_layout(\n",
    "    title=\"10 Most Common Words of 100 Tweets Under \\\"will smith\\\" Topic\",\n",
    "    xaxis_title=\"Word\",\n",
    "    yaxis_title=\"Number of Occurances\")\n",
    "fig.show()"
   ]
  }
 ],
 "metadata": {
  "interpreter": {
   "hash": "ce9cee3d5ee3f2a4e0552862d2333eeebf09f6e5235c1f229d60a7fc27105b3c"
  },
  "kernelspec": {
   "display_name": "Python 3.9.7 ('base')",
   "language": "python",
   "name": "python3"
  },
  "language_info": {
   "codemirror_mode": {
    "name": "ipython",
    "version": 3
   },
   "file_extension": ".py",
   "mimetype": "text/x-python",
   "name": "python",
   "nbconvert_exporter": "python",
   "pygments_lexer": "ipython3",
   "version": "3.9.7"
  },
  "orig_nbformat": 4
 },
 "nbformat": 4,
 "nbformat_minor": 2
}
