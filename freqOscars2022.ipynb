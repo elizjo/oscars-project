{
 "cells": [
  {
   "cell_type": "code",
   "execution_count": 2,
   "metadata": {},
   "outputs": [],
   "source": [
    "import pandas as pd\n"
   ]
  },
  {
   "cell_type": "markdown",
   "metadata": {},
   "source": [
    "data visualization\n",
    "- most freq word\n",
    "(concat all string text, do .split)\n",
    "from collections import counter, counter(list of words), most_common\n",
    "\n",
    "pairs of words\n",
    "- word2vect (average alignment score: with anger etc)\n",
    "counter"
   ]
  },
  {
   "cell_type": "code",
   "execution_count": 3,
   "metadata": {},
   "outputs": [
    {
     "data": {
      "text/html": [
       "<div>\n",
       "<style scoped>\n",
       "    .dataframe tbody tr th:only-of-type {\n",
       "        vertical-align: middle;\n",
       "    }\n",
       "\n",
       "    .dataframe tbody tr th {\n",
       "        vertical-align: top;\n",
       "    }\n",
       "\n",
       "    .dataframe thead th {\n",
       "        text-align: right;\n",
       "    }\n",
       "</style>\n",
       "<table border=\"1\" class=\"dataframe\">\n",
       "  <thead>\n",
       "    <tr style=\"text-align: right;\">\n",
       "      <th></th>\n",
       "      <th>id</th>\n",
       "      <th>author_id</th>\n",
       "      <th>text</th>\n",
       "      <th>created_at</th>\n",
       "      <th>public_metrics.retweet_count</th>\n",
       "      <th>public_metrics.reply_count</th>\n",
       "      <th>public_metrics.like_count</th>\n",
       "      <th>public_metrics.quote_count</th>\n",
       "    </tr>\n",
       "  </thead>\n",
       "  <tbody>\n",
       "    <tr>\n",
       "      <th>0</th>\n",
       "      <td>1516645649160224768</td>\n",
       "      <td>1290329205247541249</td>\n",
       "      <td>RT @safeforchris: fluffy chris evans at oscars...</td>\n",
       "      <td>2022-04-20T05:11:15.000Z</td>\n",
       "      <td>1567</td>\n",
       "      <td>0</td>\n",
       "      <td>0</td>\n",
       "      <td>0</td>\n",
       "    </tr>\n",
       "    <tr>\n",
       "      <th>1</th>\n",
       "      <td>1516645619145785350</td>\n",
       "      <td>1448047748541042689</td>\n",
       "      <td>AutoconheCINEMA - King Richard\\n#willsmith #ja...</td>\n",
       "      <td>2022-04-20T05:11:08.000Z</td>\n",
       "      <td>0</td>\n",
       "      <td>0</td>\n",
       "      <td>0</td>\n",
       "      <td>0</td>\n",
       "    </tr>\n",
       "    <tr>\n",
       "      <th>2</th>\n",
       "      <td>1516644745140916229</td>\n",
       "      <td>1486983671416504321</td>\n",
       "      <td>Liza Minnelli Was ‘Sabotaged’ At 2022 Oscars C...</td>\n",
       "      <td>2022-04-20T05:07:39.000Z</td>\n",
       "      <td>0</td>\n",
       "      <td>0</td>\n",
       "      <td>0</td>\n",
       "      <td>0</td>\n",
       "    </tr>\n",
       "    <tr>\n",
       "      <th>3</th>\n",
       "      <td>1516642867816640512</td>\n",
       "      <td>1330911446440554496</td>\n",
       "      <td>Liza Minnelli Was 'Sabotaged' At 2022 Oscars C...</td>\n",
       "      <td>2022-04-20T05:00:12.000Z</td>\n",
       "      <td>0</td>\n",
       "      <td>0</td>\n",
       "      <td>0</td>\n",
       "      <td>0</td>\n",
       "    </tr>\n",
       "    <tr>\n",
       "      <th>4</th>\n",
       "      <td>1516642633065635844</td>\n",
       "      <td>102129088</td>\n",
       "      <td>Oscars' 'punishment' for Will Smith slap is pa...</td>\n",
       "      <td>2022-04-20T04:59:16.000Z</td>\n",
       "      <td>0</td>\n",
       "      <td>0</td>\n",
       "      <td>0</td>\n",
       "      <td>0</td>\n",
       "    </tr>\n",
       "    <tr>\n",
       "      <th>...</th>\n",
       "      <td>...</td>\n",
       "      <td>...</td>\n",
       "      <td>...</td>\n",
       "      <td>...</td>\n",
       "      <td>...</td>\n",
       "      <td>...</td>\n",
       "      <td>...</td>\n",
       "      <td>...</td>\n",
       "    </tr>\n",
       "    <tr>\n",
       "      <th>95</th>\n",
       "      <td>1516585940524929025</td>\n",
       "      <td>22208192</td>\n",
       "      <td>Michael Feinstein, a five-time Grammy nominee,...</td>\n",
       "      <td>2022-04-20T01:13:59.000Z</td>\n",
       "      <td>1</td>\n",
       "      <td>0</td>\n",
       "      <td>0</td>\n",
       "      <td>0</td>\n",
       "    </tr>\n",
       "    <tr>\n",
       "      <th>96</th>\n",
       "      <td>1516585939199537155</td>\n",
       "      <td>309978842</td>\n",
       "      <td>Michael Feinstein, a five-time Grammy nominee,...</td>\n",
       "      <td>2022-04-20T01:13:59.000Z</td>\n",
       "      <td>0</td>\n",
       "      <td>0</td>\n",
       "      <td>1</td>\n",
       "      <td>0</td>\n",
       "    </tr>\n",
       "    <tr>\n",
       "      <th>97</th>\n",
       "      <td>1516585090079469575</td>\n",
       "      <td>1705999651</td>\n",
       "      <td>Social Update: Jada Pinkett Smith's 'Red Table...</td>\n",
       "      <td>2022-04-20T01:10:36.000Z</td>\n",
       "      <td>0</td>\n",
       "      <td>0</td>\n",
       "      <td>0</td>\n",
       "      <td>0</td>\n",
       "    </tr>\n",
       "    <tr>\n",
       "      <th>98</th>\n",
       "      <td>1516584537286975500</td>\n",
       "      <td>16478261</td>\n",
       "      <td>@10mm_404 @thedailybeast We know that states w...</td>\n",
       "      <td>2022-04-20T01:08:25.000Z</td>\n",
       "      <td>0</td>\n",
       "      <td>1</td>\n",
       "      <td>0</td>\n",
       "      <td>0</td>\n",
       "    </tr>\n",
       "    <tr>\n",
       "      <th>99</th>\n",
       "      <td>1516584194616578056</td>\n",
       "      <td>1473305363818631178</td>\n",
       "      <td>G-Eazy, Ashley Benson spotted making out at pr...</td>\n",
       "      <td>2022-04-20T01:07:03.000Z</td>\n",
       "      <td>0</td>\n",
       "      <td>1</td>\n",
       "      <td>0</td>\n",
       "      <td>0</td>\n",
       "    </tr>\n",
       "  </tbody>\n",
       "</table>\n",
       "<p>100 rows × 8 columns</p>\n",
       "</div>"
      ],
      "text/plain": [
       "                     id            author_id  \\\n",
       "0   1516645649160224768  1290329205247541249   \n",
       "1   1516645619145785350  1448047748541042689   \n",
       "2   1516644745140916229  1486983671416504321   \n",
       "3   1516642867816640512  1330911446440554496   \n",
       "4   1516642633065635844            102129088   \n",
       "..                  ...                  ...   \n",
       "95  1516585940524929025             22208192   \n",
       "96  1516585939199537155            309978842   \n",
       "97  1516585090079469575           1705999651   \n",
       "98  1516584537286975500             16478261   \n",
       "99  1516584194616578056  1473305363818631178   \n",
       "\n",
       "                                                 text  \\\n",
       "0   RT @safeforchris: fluffy chris evans at oscars...   \n",
       "1   AutoconheCINEMA - King Richard\\n#willsmith #ja...   \n",
       "2   Liza Minnelli Was ‘Sabotaged’ At 2022 Oscars C...   \n",
       "3   Liza Minnelli Was 'Sabotaged' At 2022 Oscars C...   \n",
       "4   Oscars' 'punishment' for Will Smith slap is pa...   \n",
       "..                                                ...   \n",
       "95  Michael Feinstein, a five-time Grammy nominee,...   \n",
       "96  Michael Feinstein, a five-time Grammy nominee,...   \n",
       "97  Social Update: Jada Pinkett Smith's 'Red Table...   \n",
       "98  @10mm_404 @thedailybeast We know that states w...   \n",
       "99  G-Eazy, Ashley Benson spotted making out at pr...   \n",
       "\n",
       "                  created_at  public_metrics.retweet_count  \\\n",
       "0   2022-04-20T05:11:15.000Z                          1567   \n",
       "1   2022-04-20T05:11:08.000Z                             0   \n",
       "2   2022-04-20T05:07:39.000Z                             0   \n",
       "3   2022-04-20T05:00:12.000Z                             0   \n",
       "4   2022-04-20T04:59:16.000Z                             0   \n",
       "..                       ...                           ...   \n",
       "95  2022-04-20T01:13:59.000Z                             1   \n",
       "96  2022-04-20T01:13:59.000Z                             0   \n",
       "97  2022-04-20T01:10:36.000Z                             0   \n",
       "98  2022-04-20T01:08:25.000Z                             0   \n",
       "99  2022-04-20T01:07:03.000Z                             0   \n",
       "\n",
       "    public_metrics.reply_count  public_metrics.like_count  \\\n",
       "0                            0                          0   \n",
       "1                            0                          0   \n",
       "2                            0                          0   \n",
       "3                            0                          0   \n",
       "4                            0                          0   \n",
       "..                         ...                        ...   \n",
       "95                           0                          0   \n",
       "96                           0                          1   \n",
       "97                           0                          0   \n",
       "98                           1                          0   \n",
       "99                           1                          0   \n",
       "\n",
       "    public_metrics.quote_count  \n",
       "0                            0  \n",
       "1                            0  \n",
       "2                            0  \n",
       "3                            0  \n",
       "4                            0  \n",
       "..                         ...  \n",
       "95                           0  \n",
       "96                           0  \n",
       "97                           0  \n",
       "98                           0  \n",
       "99                           0  \n",
       "\n",
       "[100 rows x 8 columns]"
      ]
     },
     "execution_count": 3,
     "metadata": {},
     "output_type": "execute_result"
    }
   ],
   "source": [
    "oscars2022_df = pd.read_csv(\"oscars2022.csv\")\n",
    "oscars2022_df"
   ]
  },
  {
   "cell_type": "code",
   "execution_count": 4,
   "metadata": {},
   "outputs": [
    {
     "data": {
      "text/plain": [
       "'rt @safeforchris: fluffy chris evans at oscars 2022 https://t.co/d5idzky3trautoconhecinema - king richard\\n#willsmith #jadapinkettsmith for   #oscars   #oscars2022 for  winner for #criticschoicesawards for winner for #emmys for his movie champion of will smith 🎥🎥🎥🎥🎥🎥🎥🎥🎥 may 9th 2022 https://t.co/erjylgua4sliza minnelli was ‘sabotaged’ at 2022 oscars ceremony, longtime collaborator\\xa0claims https://t.co/oqqxgzwemnliza minnelli was \\'sabotaged\\' at 2022 oscars ceremony, longtime collaborator claims\\n\\n#feinstein #oscars\\n\\nhttps://t.co/pkom3x3y67oscars\\' \\'punishment\\' for will smith slap is pathetic and weak https://t.co/kyflpb1ulj via @nypost great take 👍👍liza minnelli’s friend michael feinstein says she was ‘sabotaged’ at the oscars https://t.co/4jbed0iocz via @justjared\"we didn\\'t need voices!\" and they have the oscars to prove it. https://t.co/ood8xha61vliza minnelli was ‘sabotaged’ at oscars 2022, longtime pal claims https://t.co/3j9ug9njdi via @pagesixliza minnelli was \\'sabotaged\\' at 2022 oscars ceremony, longtime collaborator claims https://t.co/6wlgopfyj4 via @yahoojada pinkett smith’s ‘red table talk’ returns this week with first post-oscars episode https://t.co/9fcadpenk5 via @deadlinert @huffpost: michael feinstein, a five-time grammy nominee, alleged that the \"cabaret\" star was \"forced\" to appear in a wheelchair against…#lizaminnelli liza minnelli was \\'sabotaged\\' at 2022 oscars ceremony, longtime collaborator claims - huffpost https://t.co/vdbpumrxva https://t.co/c2wy3xohlfrt @variety: jada pinkett smith’s ‘red table talk’ announces lineup for new season, but no mention of oscars\\xa0slap https://t.co/svri75vnsprt @variety: jada pinkett smith\\'s #redtabletalk is coming back. but it\\'s unclear whether will smith\\'s infamous oscars slap will be discusse…rt @huffpost: michael feinstein, a five-time grammy nominee, alleged that the \"cabaret\" star was \"forced\" to appear in a wheelchair against…this makes so much sense. no wonder.\\n\\nliza minnelli was \\'sabotaged\\' at 2022 oscars ceremony, longtime collaborator claims https://t.co/umrdlvpkyu via @yahoort @samuelljackson: revelations of will smith call with oscar bosses outrages board &amp; more #smartnews  https://t.co/0cej5wgcyw@parrhizzia @imani_gomes @ayannapressley ..by commiting assault? you act like there was no other way to handle the situation. not to mention, it was a tepid joke.\\nwhy can\\'t jps stand up/speak for herself? she claims to be empowered &amp; comfortable with her look 🤷🏻\\u200d♂️\\nhttps://t.co/qdpt0qwfiort @iambeckyg: oscars 2022 ⭐️ @theacademy https://t.co/d6h705zwroliza minnelli\\'s friend michael feinstein says she was \\'sabotaged\\' at the oscars https://t.co/z2jdiev50ort @theinsideoutex1: things we should actually still be talking about post oscars 2022! \\n\\nhttps://t.co/weabmljuhy\\n#oscars #jonbatiste #free…things we should actually still be talking about post oscars 2022! \\n\\nhttps://t.co/weabmljuhy\\n#oscars #jonbatiste #freedom #joy #embodiment #healing #acceptyourself #lovert @huffpost: michael feinstein, a five-time grammy nominee, alleged that the \"cabaret\" star was \"forced\" to appear in a wheelchair against…rt @nerdist: dune won the most #oscars this year 🏆https://t.co/4ibbjtdibf https://t.co/ilzdfw8b9qthe smiths should be keep a low profile until this shit settled down! bout to f*ck up the bag again..https://t.co/noa5wlvwv5rt @huffpost: michael feinstein, a five-time grammy nominee, alleged that the \"cabaret\" star was \"forced\" to appear in a wheelchair against…rt @huffpost: michael feinstein, a five-time grammy nominee, alleged that the \"cabaret\" star was \"forced\" to appear in a wheelchair against…oscarsodead been liza minnelli was \\'sabotaged\\' at 2022 oscars ceremony, longtime collaborator claims https://t.co/ervdc89dr7 via @yahoomichael feinstein, a five-time grammy nominee, alleged that the \"cabaret\" star was \"forced\" to appear in a wheelchair against her wishes. https://t.co/ufjcxdgtqehttps://t.co/ty00gqswgs gaga has a set 9f pipes i\\'ll give her that bit she thinks her shit doesn\\'t stink and has put herself in a better than thou state of mind ever since that movie a star is born.rt @discoverfoshan: 🏆🏆#foshan\\'s guicheng reading station recently won a 2022 if design award, one of the most recognized international desi…new trailer! jada pinkett smith’s ‘red table talk’ returns following oscars slap https://t.co/t8yggmpqna via @extratvrt @variety: \"framing the nominees for best animated feature as a corporate product for kids that parents must begrudgingly endure could be…see kristen stewart in a see-through chanel gown at the 2022 vanity fair #oscars after-party https://t.co/zyl7wgjzgqrt @cineclubucn: ciclo de cine oscars 2022 🎥\\n\\nmañana proyección de “los ojos de tammy faye” ✨\\n\\n⏰ 19:30 hrs.\\n📍 escuela de periodismo univers…this is infuriating and just another thing on a long list you should feel deeply ashamed over @theacademy \\n\\nhttps://t.co/sel5igmdibciclo de cine oscars 2022 🎥\\n\\nmañana proyección de “los ojos de tammy faye” ✨\\n\\n⏰ 19:30 hrs.\\n📍 escuela de periodismo universidad católica del norte\\n📌 gratuita y abierta a todo público\\n\\n#antofagasta https://t.co/4hmzlcjyvjrt @phil_lewis_: jada pinkett smith’s red table talk is returning to facebook watch tomorrow\\n\\nhttps://t.co/ddsz55dxqsliza minnelli was ‘sabotaged’ at 2022 oscars ceremony, longtime collaborator\\xa0claims https://t.co/fxhochik71how should i respond to the #oscarslap in light of easter?\\n\\n#liveimmanuel #brokensaintblog https://t.co/uckcab76xkrt @deucaliondurden: le 🌍 entier est une scène 🎬, hommes et femmes, tous…n\\'y sont que des acteurs…\\n#hoax 🎥 👁🔺 #claque👋 #fake #oscars #willa…liza minnelli was \\'sabotaged\\' at 2022 oscars ceremony, longtime collaborator claims https://t.co/0a2uqlxgyqrt @phil_lewis_: jada pinkett smith’s red table talk is returning to facebook watch tomorrow\\n\\nhttps://t.co/ddsz55dxqsrt @justjared: liza minnelli\\'s friend michael feinstein, who was backstage with her at the #oscars, says she was \"sabotaged\" before going o…rt @justjared: liza minnelli\\'s friend michael feinstein, who was backstage with her at the #oscars, says she was \"sabotaged\" before going o…rt @justjared: liza minnelli\\'s friend michael feinstein, who was backstage with her at the #oscars, says she was \"sabotaged\" before going o…will smith slaps chris rock at the\\xa0oscars https://t.co/chhaadl70bliza minnelli was ‘sabotaged’ at 2022 oscars ceremony, longtime collaborator\\xa0claims https://t.co/duxi01ayirrt @jehangirmalik: #feelingblessed on a beautiful #ramadan eve with @appgbritmuslims and inspirational array of #britishmuslim talent inclu…liza minnelli\\'s friend michael feinstein, who was backstage with her at the #oscars, says she was \"sabotaged\" before going on stage to present https://t.co/b5h1qa5vwmliza minnelli was ‘sabotaged’ at 2022 oscars ceremony, longtime collaborator\\xa0claims https://t.co/bejduwcwc2liza minnelli was ‘sabotaged’ at 2022 oscars ceremony, longtime collaborator\\xa0claims https://t.co/ilnnv5lapyrt @ellemagazine: dakota johnson looked like a princess in a feathered gucci gown at the vanity fair #oscars after-party https://t.co/pu41s…liza minnelli was ‘sabotaged’ at 2022 oscars ceremony, longtime collaborator\\xa0claims https://t.co/dxo76vqpknliza minnelli 2022 oscars ceremony was ‘sabotaged’, claims longtime\\xa0collaborator https://t.co/nu0ndwaedjliza minnelli was \\'sabotaged\\' at 2022 oscars ceremony, longtime collaborator claims - huffpost the director and production company had no experience for this production and were in way over their heads. terrible show.  https://t.co/jhr6sjyau2liza minnelli was ‘sabotaged’ at 2022 oscars ceremony, longtime collaborator\\xa0claims https://t.co/8lzilxr090liza minnelli was ‘sabotaged’ at 2022 oscars ceremony, longtime collaborator\\xa0claims https://t.co/3eazw1ux8poscars 2022: the academy cuts 8 awards from live broadcast https://t.co/0nmyp3ehfione more indication that this year’s years oscar’s were a fiasco \\n\\nshe did not want to be in a wheelchair, rather a director’s chair.\\n\\nshe has pride and wants to look strong \\n\\nhttps://t.co/0nglpo6rvdwill packer claims chris rock said will could leave, rock sources say that\\'s a lie https://t.co/fh262ilc0h via @tmzone of liza minnelli\\'s longtime collaborators and friends claims the \"cabaret\" star was \"sabotaged\" during her oscars appearance with lady gaga, in part because she didn\\'t want to be seen in a wheelchair. https://t.co/ysllgif4k6 via @huffpostent@gulftoday the #redtabletalk season 5 trailer has been released -- is will smith going to discuss the oscars debacle? https://t.co/sns1iyshw1 https://t.co/aiobo9aeot https://t.co/i3c6f9g9ftrt @ellemagazine: dakota johnson looked like a princess in a feathered gucci gown at the vanity fair #oscars after-party https://t.co/pu41s…will smith’s post-slap oscars acceptance speech spiked audience by 600,000 viewers https://t.co/sojb2atnf6rt @johnapp63499667: liza minnelli was \\'sabotaged\\' at 2022 oscars ceremony, longtime collaborator claims https://t.co/buojjmde4eliza minnelli was \\'sabotaged\\' at 2022 oscars ceremony, longtime collaborator claims https://t.co/buojjmde4ewill smith slaps chris rock at oscars 2022 - south park animated https://t.co/i7i9iidr9u via @youtube the greatest-night in television historygaga and liza were my favorite moment of the oscars… #igotyou  https://t.co/q3mlaqnpsqliza minnelli was ‘sabotaged’ at 2022 oscars ceremony, longtime collaborator\\xa0claims https://t.co/o92wx2vvprliza minnelli was \\'sabotaged\\' at 2022 oscars ceremony, longtime collaborator claims https://t.co/8zkkwtyfgvliza minnelli was ‘sabotaged’ at 2022 oscars ceremony, longtime collaborator\\xa0claims https://t.co/cfuplx6yeuliza minnelli was ‘sabotaged’ at 2022 oscars ceremony, longtime collaborator\\xa0claims https://t.co/rmxyqwpxawliza minnelli was \\'sabotaged\\' at 2022 oscars ceremony, longtime collaborator claims   https://t.co/bpkjisjsqqliza minnelli was ‘sabotaged’ at 2022 oscars ceremony, longtime collaborator\\xa0claims https://t.co/lxwk65knfbliza minnelli was ‘sabotaged’ at 2022 oscars ceremony, longtime collaborator\\xa0claims https://t.co/rtrmr3urwrrt @deadline: jada pinkett smith’s ‘red table talk’ returns this week with first post-oscars episode https://t.co/9oczbiy2psmichael feinstein, a five-time grammy nominee, alleged that the \"cabaret\" star was \"forced\" to appear in a wheelchair against her wishes. https://t.co/2vwdj3geixrt @extratv: jada pinkett smith is back at the red table in the wake of the oscars altercation between will smith and chris rock. https://t…liza minnelli 2022 oscars ceremony was ‘sabotaged’, claims longtime\\xa0collaborator https://t.co/z6szrwjcnrrt @markcovino: what a shame. they really need to just kill the oscar’s for good. it’s a total trash heap…\\n\\nhttps://t.co/nzkdoq01hert @phil_lewis_: jada pinkett smith’s red table talk is returning to facebook watch tomorrow\\n\\nhttps://t.co/ddsz55dxqswhat a shame. they really need to just kill the oscar’s for good. it’s a total trash heap…\\n\\nhttps://t.co/nzkdoq01heliam payne explains ‘funny’ accent during his will smith oscars chat on\\xa0gmb https://t.co/r2yctyxwwujada pinkett smith is back at the red table in the wake of the oscars altercation between will smith and chris rock. https://t.co/aoiupohrhjliza minnelli was \\'sabotaged\\' at 2022 oscars ceremony, longtime collaborator claims\\nhttps://t.co/maws8oqqb7sabatoged\\n\\nhttps://t.co/adlrmkap1bliza minnelli, 76, felt ‘shaken’ and ‘sabotaged’ after being forced on stage in wheelchair at\\xa0oscars https://t.co/atslcarooprt @phil_lewis_: jada pinkett smith’s red table talk is returning to facebook watch tomorrow\\n\\nhttps://t.co/ddsz55dxqsrt @thejoshuablog: via @huffpostqueer: liza minnelli was \\'sabotaged\\' at 2022 oscars ceremony, longtime collaborator claims https://t.co/6eo…rt @huffpostent: michael feinstein, a five-time grammy nominee, alleged that the \"cabaret\" star was \"forced\" to appear in a wheelchair agai…rt @huffpostqueer: michael feinstein, a five-time grammy nominee, alleged that the \"cabaret\" star was \"forced\" to appear in a wheelchair ag…via @huffpostqueer: liza minnelli was \\'sabotaged\\' at 2022 oscars ceremony, longtime collaborator claims https://t.co/6eosolqwhf | #lgbtq #lgbt #politicsmichael feinstein, a five-time grammy nominee, alleged that the \"cabaret\" star was \"forced\" to appear in a wheelchair against her wishes. https://t.co/awhldjf4apmichael feinstein, a five-time grammy nominee, alleged that the \"cabaret\" star was \"forced\" to appear in a wheelchair against her wishes. https://t.co/9vo7pplpyamichael feinstein, a five-time grammy nominee, alleged that the \"cabaret\" star was \"forced\" to appear in a wheelchair against her wishes. https://t.co/wwlqqk9dajmichael feinstein, a five-time grammy nominee, alleged that the \"cabaret\" star was \"forced\" to appear in a wheelchair against her wishes. https://t.co/tvmielpagfsocial update: jada pinkett smith\\'s \\'red table talk\\' lineup revealed, no mention of will or slap. jada pinkett smith\\'s \"red table talk\" is returning with all-new episodes, but their lineup is glaringly missing will smith as a guest... https://t.co/pz8abngtnn #tmz #theartsandus https://t.co/cjumouf1xa@10mm_404 @thedailybeast we know that states without mandates weren’t always worse on covid. and science isn’t necessary at the oscars or state of the union. airplane air is extremely well filtered and very clear. it’s 2022 now.g-eazy, ashley benson spotted making out at pre-oscars party https://t.co/yzcsb63c1z via @pagesix'"
      ]
     },
     "execution_count": 4,
     "metadata": {},
     "output_type": "execute_result"
    }
   ],
   "source": [
    "all_text = oscars2022_df['text'].tolist()\n",
    "\n",
    "str_all_text = \"\"\n",
    "for entry in all_text:\n",
    "    str_all_text += entry \n",
    "    \n",
    "cleaned = str_all_text.lower()\n",
    "cleaned"
   ]
  },
  {
   "cell_type": "code",
   "execution_count": 5,
   "metadata": {},
   "outputs": [
    {
     "data": {
      "text/plain": [
       "'rt safeforchris: fluffy chris evans at oscars 2022 https://t.co/d5idzky3trautoconhecinema - king richard\\n#willsmith #jadapinkettsmith for   #oscars   #oscars2022 for  winner for #criticschoicesawards for winner for #emmys for his movie champion of will smith 🎥🎥🎥🎥🎥🎥🎥🎥🎥 may 9th 2022 https://t.co/erjylgua4sliza minnelli was ‘sabotaged’ at 2022 oscars ceremony, longtime collaborator\\xa0claims https://t.co/oqqxgzwemnliza minnelli wassabotaged\\' at 2022 oscars ceremony, longtime collaborator claims\\n\\n#feinstein #oscars\\n\\nhttps://t.co/pkom3x3y67oscars\\'punishment\\' for will smith slap is pathetic and weak https://t.co/kyflpb1ulj via nypost great take 👍👍liza minnelli’s friend michael feinstein says she was ‘sabotaged’ at the oscars https://t.co/4jbed0iocz via justjared\"we didn\\'t need voices!\" and they have the oscars to prove it. https://t.co/ood8xha61vliza minnelli was ‘sabotaged’ at oscars 2022, longtime pal claims https://t.co/3j9ug9njdi via pagesixliza minnelli wassabotaged\\' at 2022 oscars ceremony, longtime collaborator claims https://t.co/6wlgopfyj4 via yahoojada pinkett smith’s ‘red table talk’ returns this week with first post-oscars episode https://t.co/9fcadpenk5 via deadlinert huffpost: michael feinstein, a five-time grammy nominee, alleged that the \"cabaret\" star was \"forced\" to appear in a wheelchair against…#lizaminnelli liza minnelli wassabotaged\\' at 2022 oscars ceremony, longtime collaborator claims - huffpost https://t.co/vdbpumrxva https://t.co/c2wy3xohlfrt variety: jada pinkett smith’s ‘red table talk’ announces lineup for new season, but no mention of oscars\\xa0slap https://t.co/svri75vnsprt variety: jada pinkett smith\\'s #redtabletalk is coming back. but it\\'s unclear whether will smith\\'s infamous oscars slap will be discusse…rt huffpost: michael feinstein, a five-time grammy nominee, alleged that the \"cabaret\" star was \"forced\" to appear in a wheelchair against…this makes so much sense. no wonder.\\n\\nliza minnelli wassabotaged\\' at 2022 oscars ceremony, longtime collaborator claims https://t.co/umrdlvpkyu via yahoort samuelljackson: revelations of will smith call with oscar bosses outrages board &amp; more #smartnews  https://t.co/0cej5wgcywparrhizzia imani_gomes ayannapressley ..by commiting assault? you act like there was no other way to handle the situation. not to mention, it was a tepid joke.\\nwhy can\\'t jps stand up/speak for herself? she claims to be empowered &amp; comfortable with her look 🤷🏻\\u200d♂️\\nhttps://t.co/qdpt0qwfiort iambeckyg: oscars 2022 ⭐️ theacademy https://t.co/d6h705zwroliza minnelli\\'s friend michael feinstein says she wassabotaged\\' at the oscars https://t.co/z2jdiev50ort theinsideoutex1: things we should actually still be talking about post oscars 2022! \\n\\nhttps://t.co/weabmljuhy\\n#oscars #jonbatiste #free…things we should actually still be talking about post oscars 2022! \\n\\nhttps://t.co/weabmljuhy\\n#oscars #jonbatiste #freedom #joy #embodiment #healing #acceptyourself #lovert huffpost: michael feinstein, a five-time grammy nominee, alleged that the \"cabaret\" star was \"forced\" to appear in a wheelchair against…rt nerdist: dune won the most #oscars this year 🏆https://t.co/4ibbjtdibf https://t.co/ilzdfw8b9qthe smiths should be keep a low profile until this shit settled down! bout to f*ck up the bag again..https://t.co/noa5wlvwv5rt huffpost: michael feinstein, a five-time grammy nominee, alleged that the \"cabaret\" star was \"forced\" to appear in a wheelchair against…rt huffpost: michael feinstein, a five-time grammy nominee, alleged that the \"cabaret\" star was \"forced\" to appear in a wheelchair against…oscarsodead been liza minnelli wassabotaged\\' at 2022 oscars ceremony, longtime collaborator claims https://t.co/ervdc89dr7 via yahoomichael feinstein, a five-time grammy nominee, alleged that the \"cabaret\" star was \"forced\" to appear in a wheelchair against her wishes. https://t.co/ufjcxdgtqehttps://t.co/ty00gqswgs gaga has a set 9f pipes i\\'ll give her that bit she thinks her shit doesn\\'t stink and has put herself in a better than thou state of mind ever since that movie a star is born.rt discoverfoshan: 🏆🏆#foshan\\'s guicheng reading station recently won a 2022 if design award, one of the most recognized international desi…new trailer! jada pinkett smith’s ‘red table talk’ returns following oscars slap https://t.co/t8yggmpqna via extratvrt variety: \"framing the nominees for best animated feature as a corporate product for kids that parents must begrudgingly endure could be…see kristen stewart in a see-through chanel gown at the 2022 vanity fair #oscars after-party https://t.co/zyl7wgjzgqrt cineclubucn: ciclo de cine oscars 2022 🎥\\n\\nmañana proyección de “los ojos de tammy faye” ✨\\n\\n⏰ 19:30 hrs.\\n📍 escuela de periodismo univers…this is infuriating and just another thing on a long list you should feel deeply ashamed over theacademy \\n\\nhttps://t.co/sel5igmdibciclo de cine oscars 2022 🎥\\n\\nmañana proyección de “los ojos de tammy faye” ✨\\n\\n⏰ 19:30 hrs.\\n📍 escuela de periodismo universidad católica del norte\\n📌 gratuita y abierta a todo público\\n\\n#antofagasta https://t.co/4hmzlcjyvjrt phil_lewis_: jada pinkett smith’s red table talk is returning to facebook watch tomorrow\\n\\nhttps://t.co/ddsz55dxqsliza minnelli was ‘sabotaged’ at 2022 oscars ceremony, longtime collaborator\\xa0claims https://t.co/fxhochik71how should i respond to the #oscarslap in light of easter?\\n\\n#liveimmanuel #brokensaintblog https://t.co/uckcab76xkrt deucaliondurden: le 🌍 entier est une scène 🎬, hommes et femmes, tous…n\\'y sont que des acteurs…\\n#hoax 🎥 👁🔺 #claque👋 #fake #oscars #willa…liza minnelli wassabotaged\\' at 2022 oscars ceremony, longtime collaborator claims https://t.co/0a2uqlxgyqrt phil_lewis_: jada pinkett smith’s red table talk is returning to facebook watch tomorrow\\n\\nhttps://t.co/ddsz55dxqsrt justjared: liza minnelli\\'s friend michael feinstein, who was backstage with her at the #oscars, says she was \"sabotaged\" before going o…rt justjared: liza minnelli\\'s friend michael feinstein, who was backstage with her at the #oscars, says she was \"sabotaged\" before going o…rt justjared: liza minnelli\\'s friend michael feinstein, who was backstage with her at the #oscars, says she was \"sabotaged\" before going o…will smith slaps chris rock at the\\xa0oscars https://t.co/chhaadl70bliza minnelli was ‘sabotaged’ at 2022 oscars ceremony, longtime collaborator\\xa0claims https://t.co/duxi01ayirrt jehangirmalik: #feelingblessed on a beautiful #ramadan eve with appgbritmuslims and inspirational array of #britishmuslim talent inclu…liza minnelli\\'s friend michael feinstein, who was backstage with her at the #oscars, says she was \"sabotaged\" before going on stage to present https://t.co/b5h1qa5vwmliza minnelli was ‘sabotaged’ at 2022 oscars ceremony, longtime collaborator\\xa0claims https://t.co/bejduwcwc2liza minnelli was ‘sabotaged’ at 2022 oscars ceremony, longtime collaborator\\xa0claims https://t.co/ilnnv5lapyrt ellemagazine: dakota johnson looked like a princess in a feathered gucci gown at the vanity fair #oscars after-party https://t.co/pu41s…liza minnelli was ‘sabotaged’ at 2022 oscars ceremony, longtime collaborator\\xa0claims https://t.co/dxo76vqpknliza minnelli 2022 oscars ceremony was ‘sabotaged’, claims longtime\\xa0collaborator https://t.co/nu0ndwaedjliza minnelli wassabotaged\\' at 2022 oscars ceremony, longtime collaborator claims - huffpost the director and production company had no experience for this production and were in way over their heads. terrible show.  https://t.co/jhr6sjyau2liza minnelli was ‘sabotaged’ at 2022 oscars ceremony, longtime collaborator\\xa0claims https://t.co/8lzilxr090liza minnelli was ‘sabotaged’ at 2022 oscars ceremony, longtime collaborator\\xa0claims https://t.co/3eazw1ux8poscars 2022: the academy cuts 8 awards from live broadcast https://t.co/0nmyp3ehfione more indication that this year’s years oscar’s were a fiasco \\n\\nshe did not want to be in a wheelchair, rather a director’s chair.\\n\\nshe has pride and wants to look strong \\n\\nhttps://t.co/0nglpo6rvdwill packer claims chris rock said will could leave, rock sources say that\\'s a lie https://t.co/fh262ilc0h via tmzone of liza minnelli\\'s longtime collaborators and friends claims the \"cabaret\" star was \"sabotaged\" during her oscars appearance with lady gaga, in part because she didn\\'t want to be seen in a wheelchair. https://t.co/ysllgif4k6 via huffpostentgulftoday the #redtabletalk season 5 trailer has been released -- is will smith going to discuss the oscars debacle? https://t.co/sns1iyshw1 https://t.co/aiobo9aeot https://t.co/i3c6f9g9ftrt ellemagazine: dakota johnson looked like a princess in a feathered gucci gown at the vanity fair #oscars after-party https://t.co/pu41s…will smith’s post-slap oscars acceptance speech spiked audience by 600,000 viewers https://t.co/sojb2atnf6rt johnapp63499667: liza minnelli wassabotaged\\' at 2022 oscars ceremony, longtime collaborator claims https://t.co/buojjmde4eliza minnelli wassabotaged\\' at 2022 oscars ceremony, longtime collaborator claims https://t.co/buojjmde4ewill smith slaps chris rock at oscars 2022 - south park animated https://t.co/i7i9iidr9u via youtube the greatest-night in television historygaga and liza were my favorite moment of the oscars… #igotyou  https://t.co/q3mlaqnpsqliza minnelli was ‘sabotaged’ at 2022 oscars ceremony, longtime collaborator\\xa0claims https://t.co/o92wx2vvprliza minnelli wassabotaged\\' at 2022 oscars ceremony, longtime collaborator claims https://t.co/8zkkwtyfgvliza minnelli was ‘sabotaged’ at 2022 oscars ceremony, longtime collaborator\\xa0claims https://t.co/cfuplx6yeuliza minnelli was ‘sabotaged’ at 2022 oscars ceremony, longtime collaborator\\xa0claims https://t.co/rmxyqwpxawliza minnelli wassabotaged\\' at 2022 oscars ceremony, longtime collaborator claims   https://t.co/bpkjisjsqqliza minnelli was ‘sabotaged’ at 2022 oscars ceremony, longtime collaborator\\xa0claims https://t.co/lxwk65knfbliza minnelli was ‘sabotaged’ at 2022 oscars ceremony, longtime collaborator\\xa0claims https://t.co/rtrmr3urwrrt deadline: jada pinkett smith’s ‘red table talk’ returns this week with first post-oscars episode https://t.co/9oczbiy2psmichael feinstein, a five-time grammy nominee, alleged that the \"cabaret\" star was \"forced\" to appear in a wheelchair against her wishes. https://t.co/2vwdj3geixrt extratv: jada pinkett smith is back at the red table in the wake of the oscars altercation between will smith and chris rock. https://t…liza minnelli 2022 oscars ceremony was ‘sabotaged’, claims longtime\\xa0collaborator https://t.co/z6szrwjcnrrt markcovino: what a shame. they really need to just kill the oscar’s for good. it’s a total trash heap…\\n\\nhttps://t.co/nzkdoq01hert phil_lewis_: jada pinkett smith’s red table talk is returning to facebook watch tomorrow\\n\\nhttps://t.co/ddsz55dxqswhat a shame. they really need to just kill the oscar’s for good. it’s a total trash heap…\\n\\nhttps://t.co/nzkdoq01heliam payne explains ‘funny’ accent during his will smith oscars chat on\\xa0gmb https://t.co/r2yctyxwwujada pinkett smith is back at the red table in the wake of the oscars altercation between will smith and chris rock. https://t.co/aoiupohrhjliza minnelli wassabotaged\\' at 2022 oscars ceremony, longtime collaborator claims\\nhttps://t.co/maws8oqqb7sabatoged\\n\\nhttps://t.co/adlrmkap1bliza minnelli, 76, felt ‘shaken’ and ‘sabotaged’ after being forced on stage in wheelchair at\\xa0oscars https://t.co/atslcarooprt phil_lewis_: jada pinkett smith’s red table talk is returning to facebook watch tomorrow\\n\\nhttps://t.co/ddsz55dxqsrt thejoshuablog: via huffpostqueer: liza minnelli wassabotaged\\' at 2022 oscars ceremony, longtime collaborator claims https://t.co/6eo…rt huffpostent: michael feinstein, a five-time grammy nominee, alleged that the \"cabaret\" star was \"forced\" to appear in a wheelchair agai…rt huffpostqueer: michael feinstein, a five-time grammy nominee, alleged that the \"cabaret\" star was \"forced\" to appear in a wheelchair ag…via huffpostqueer: liza minnelli wassabotaged\\' at 2022 oscars ceremony, longtime collaborator claims https://t.co/6eosolqwhf | #lgbtq #lgbt #politicsmichael feinstein, a five-time grammy nominee, alleged that the \"cabaret\" star was \"forced\" to appear in a wheelchair against her wishes. https://t.co/awhldjf4apmichael feinstein, a five-time grammy nominee, alleged that the \"cabaret\" star was \"forced\" to appear in a wheelchair against her wishes. https://t.co/9vo7pplpyamichael feinstein, a five-time grammy nominee, alleged that the \"cabaret\" star was \"forced\" to appear in a wheelchair against her wishes. https://t.co/wwlqqk9dajmichael feinstein, a five-time grammy nominee, alleged that the \"cabaret\" star was \"forced\" to appear in a wheelchair against her wishes. https://t.co/tvmielpagfsocial update: jada pinkett smith\\'sred table talk\\' lineup revealed, no mention of will or slap. jada pinkett smith\\'s \"red table talk\" is returning with all-new episodes, but their lineup is glaringly missing will smith as a guest... https://t.co/pz8abngtnn #tmz #theartsandus https://t.co/cjumouf1xa10mm_404 thedailybeast we know that states without mandates weren’t always worse on covid. and science isn’t necessary at the oscars or state of the union. airplane air is extremely well filtered and very clear. it’s 2022 now.g-eazy, ashley benson spotted making out at pre-oscars party https://t.co/yzcsb63c1z via pagesix'"
      ]
     },
     "execution_count": 5,
     "metadata": {},
     "output_type": "execute_result"
    }
   ],
   "source": [
    "import re\n",
    "clean1 = re.sub(\"@| / | /g | https | '\", \"\", cleaned)\n",
    "clean1"
   ]
  },
  {
   "cell_type": "code",
   "execution_count": 6,
   "metadata": {},
   "outputs": [
    {
     "name": "stderr",
     "output_type": "stream",
     "text": [
      "[nltk_data] Downloading package punkt to\n",
      "[nltk_data]     /Users/elizabethjohnson/nltk_data...\n",
      "[nltk_data]   Package punkt is already up-to-date!\n",
      "[nltk_data] Downloading package averaged_perceptron_tagger to\n",
      "[nltk_data]     /Users/elizabethjohnson/nltk_data...\n",
      "[nltk_data]   Package averaged_perceptron_tagger is already up-to-\n",
      "[nltk_data]       date!\n",
      "[nltk_data] Downloading collection 'all'\n",
      "[nltk_data]    | \n",
      "[nltk_data]    | Downloading package abc to\n",
      "[nltk_data]    |     /Users/elizabethjohnson/nltk_data...\n",
      "[nltk_data]    |   Package abc is already up-to-date!\n",
      "[nltk_data]    | Downloading package alpino to\n",
      "[nltk_data]    |     /Users/elizabethjohnson/nltk_data...\n",
      "[nltk_data]    |   Package alpino is already up-to-date!\n",
      "[nltk_data]    | Downloading package averaged_perceptron_tagger to\n",
      "[nltk_data]    |     /Users/elizabethjohnson/nltk_data...\n",
      "[nltk_data]    |   Package averaged_perceptron_tagger is already up-\n",
      "[nltk_data]    |       to-date!\n",
      "[nltk_data]    | Downloading package averaged_perceptron_tagger_ru to\n",
      "[nltk_data]    |     /Users/elizabethjohnson/nltk_data...\n",
      "[nltk_data]    |   Package averaged_perceptron_tagger_ru is already\n",
      "[nltk_data]    |       up-to-date!\n",
      "[nltk_data]    | Downloading package basque_grammars to\n",
      "[nltk_data]    |     /Users/elizabethjohnson/nltk_data...\n",
      "[nltk_data]    |   Package basque_grammars is already up-to-date!\n",
      "[nltk_data]    | Downloading package biocreative_ppi to\n",
      "[nltk_data]    |     /Users/elizabethjohnson/nltk_data...\n",
      "[nltk_data]    |   Package biocreative_ppi is already up-to-date!\n",
      "[nltk_data]    | Downloading package bllip_wsj_no_aux to\n",
      "[nltk_data]    |     /Users/elizabethjohnson/nltk_data...\n",
      "[nltk_data]    |   Package bllip_wsj_no_aux is already up-to-date!\n",
      "[nltk_data]    | Downloading package book_grammars to\n",
      "[nltk_data]    |     /Users/elizabethjohnson/nltk_data...\n",
      "[nltk_data]    |   Package book_grammars is already up-to-date!\n",
      "[nltk_data]    | Downloading package brown to\n",
      "[nltk_data]    |     /Users/elizabethjohnson/nltk_data...\n",
      "[nltk_data]    |   Package brown is already up-to-date!\n",
      "[nltk_data]    | Downloading package brown_tei to\n",
      "[nltk_data]    |     /Users/elizabethjohnson/nltk_data...\n",
      "[nltk_data]    |   Package brown_tei is already up-to-date!\n",
      "[nltk_data]    | Downloading package cess_cat to\n",
      "[nltk_data]    |     /Users/elizabethjohnson/nltk_data...\n",
      "[nltk_data]    |   Package cess_cat is already up-to-date!\n",
      "[nltk_data]    | Downloading package cess_esp to\n",
      "[nltk_data]    |     /Users/elizabethjohnson/nltk_data...\n",
      "[nltk_data]    |   Package cess_esp is already up-to-date!\n",
      "[nltk_data]    | Downloading package chat80 to\n",
      "[nltk_data]    |     /Users/elizabethjohnson/nltk_data...\n",
      "[nltk_data]    |   Package chat80 is already up-to-date!\n",
      "[nltk_data]    | Downloading package city_database to\n",
      "[nltk_data]    |     /Users/elizabethjohnson/nltk_data...\n",
      "[nltk_data]    |   Package city_database is already up-to-date!\n",
      "[nltk_data]    | Downloading package cmudict to\n",
      "[nltk_data]    |     /Users/elizabethjohnson/nltk_data...\n",
      "[nltk_data]    |   Package cmudict is already up-to-date!\n",
      "[nltk_data]    | Downloading package comparative_sentences to\n",
      "[nltk_data]    |     /Users/elizabethjohnson/nltk_data...\n",
      "[nltk_data]    |   Package comparative_sentences is already up-to-\n",
      "[nltk_data]    |       date!\n",
      "[nltk_data]    | Downloading package comtrans to\n",
      "[nltk_data]    |     /Users/elizabethjohnson/nltk_data...\n",
      "[nltk_data]    |   Package comtrans is already up-to-date!\n",
      "[nltk_data]    | Downloading package conll2000 to\n",
      "[nltk_data]    |     /Users/elizabethjohnson/nltk_data...\n",
      "[nltk_data]    |   Package conll2000 is already up-to-date!\n",
      "[nltk_data]    | Downloading package conll2002 to\n",
      "[nltk_data]    |     /Users/elizabethjohnson/nltk_data...\n",
      "[nltk_data]    |   Package conll2002 is already up-to-date!\n",
      "[nltk_data]    | Downloading package conll2007 to\n",
      "[nltk_data]    |     /Users/elizabethjohnson/nltk_data...\n",
      "[nltk_data]    |   Package conll2007 is already up-to-date!\n",
      "[nltk_data]    | Downloading package crubadan to\n",
      "[nltk_data]    |     /Users/elizabethjohnson/nltk_data...\n",
      "[nltk_data]    |   Package crubadan is already up-to-date!\n",
      "[nltk_data]    | Downloading package dependency_treebank to\n",
      "[nltk_data]    |     /Users/elizabethjohnson/nltk_data...\n",
      "[nltk_data]    |   Package dependency_treebank is already up-to-date!\n",
      "[nltk_data]    | Downloading package dolch to\n",
      "[nltk_data]    |     /Users/elizabethjohnson/nltk_data...\n",
      "[nltk_data]    |   Package dolch is already up-to-date!\n",
      "[nltk_data]    | Downloading package europarl_raw to\n",
      "[nltk_data]    |     /Users/elizabethjohnson/nltk_data...\n",
      "[nltk_data]    |   Package europarl_raw is already up-to-date!\n",
      "[nltk_data]    | Downloading package extended_omw to\n",
      "[nltk_data]    |     /Users/elizabethjohnson/nltk_data...\n",
      "[nltk_data]    |   Package extended_omw is already up-to-date!\n",
      "[nltk_data]    | Downloading package floresta to\n",
      "[nltk_data]    |     /Users/elizabethjohnson/nltk_data...\n",
      "[nltk_data]    |   Package floresta is already up-to-date!\n",
      "[nltk_data]    | Downloading package framenet_v15 to\n",
      "[nltk_data]    |     /Users/elizabethjohnson/nltk_data...\n",
      "[nltk_data]    |   Package framenet_v15 is already up-to-date!\n",
      "[nltk_data]    | Downloading package framenet_v17 to\n",
      "[nltk_data]    |     /Users/elizabethjohnson/nltk_data...\n",
      "[nltk_data]    |   Package framenet_v17 is already up-to-date!\n",
      "[nltk_data]    | Downloading package gazetteers to\n",
      "[nltk_data]    |     /Users/elizabethjohnson/nltk_data...\n",
      "[nltk_data]    |   Package gazetteers is already up-to-date!\n",
      "[nltk_data]    | Downloading package genesis to\n",
      "[nltk_data]    |     /Users/elizabethjohnson/nltk_data...\n",
      "[nltk_data]    |   Package genesis is already up-to-date!\n",
      "[nltk_data]    | Downloading package gutenberg to\n",
      "[nltk_data]    |     /Users/elizabethjohnson/nltk_data...\n",
      "[nltk_data]    |   Package gutenberg is already up-to-date!\n",
      "[nltk_data]    | Downloading package ieer to\n",
      "[nltk_data]    |     /Users/elizabethjohnson/nltk_data...\n",
      "[nltk_data]    |   Package ieer is already up-to-date!\n",
      "[nltk_data]    | Downloading package inaugural to\n",
      "[nltk_data]    |     /Users/elizabethjohnson/nltk_data...\n",
      "[nltk_data]    |   Package inaugural is already up-to-date!\n",
      "[nltk_data]    | Downloading package indian to\n",
      "[nltk_data]    |     /Users/elizabethjohnson/nltk_data...\n",
      "[nltk_data]    |   Package indian is already up-to-date!\n",
      "[nltk_data]    | Downloading package jeita to\n",
      "[nltk_data]    |     /Users/elizabethjohnson/nltk_data...\n",
      "[nltk_data]    |   Package jeita is already up-to-date!\n",
      "[nltk_data]    | Downloading package kimmo to\n",
      "[nltk_data]    |     /Users/elizabethjohnson/nltk_data...\n",
      "[nltk_data]    |   Package kimmo is already up-to-date!\n",
      "[nltk_data]    | Downloading package knbc to\n",
      "[nltk_data]    |     /Users/elizabethjohnson/nltk_data...\n",
      "[nltk_data]    |   Package knbc is already up-to-date!\n",
      "[nltk_data]    | Downloading package large_grammars to\n",
      "[nltk_data]    |     /Users/elizabethjohnson/nltk_data...\n",
      "[nltk_data]    |   Package large_grammars is already up-to-date!\n",
      "[nltk_data]    | Downloading package lin_thesaurus to\n",
      "[nltk_data]    |     /Users/elizabethjohnson/nltk_data...\n",
      "[nltk_data]    |   Package lin_thesaurus is already up-to-date!\n",
      "[nltk_data]    | Downloading package mac_morpho to\n",
      "[nltk_data]    |     /Users/elizabethjohnson/nltk_data...\n",
      "[nltk_data]    |   Package mac_morpho is already up-to-date!\n",
      "[nltk_data]    | Downloading package machado to\n",
      "[nltk_data]    |     /Users/elizabethjohnson/nltk_data...\n",
      "[nltk_data]    |   Package machado is already up-to-date!\n",
      "[nltk_data]    | Downloading package masc_tagged to\n",
      "[nltk_data]    |     /Users/elizabethjohnson/nltk_data...\n",
      "[nltk_data]    |   Package masc_tagged is already up-to-date!\n",
      "[nltk_data]    | Downloading package maxent_ne_chunker to\n",
      "[nltk_data]    |     /Users/elizabethjohnson/nltk_data...\n",
      "[nltk_data]    |   Package maxent_ne_chunker is already up-to-date!\n",
      "[nltk_data]    | Downloading package maxent_treebank_pos_tagger to\n",
      "[nltk_data]    |     /Users/elizabethjohnson/nltk_data...\n",
      "[nltk_data]    |   Package maxent_treebank_pos_tagger is already up-\n",
      "[nltk_data]    |       to-date!\n",
      "[nltk_data]    | Downloading package moses_sample to\n",
      "[nltk_data]    |     /Users/elizabethjohnson/nltk_data...\n",
      "[nltk_data]    |   Package moses_sample is already up-to-date!\n",
      "[nltk_data]    | Downloading package movie_reviews to\n",
      "[nltk_data]    |     /Users/elizabethjohnson/nltk_data...\n",
      "[nltk_data]    |   Package movie_reviews is already up-to-date!\n",
      "[nltk_data]    | Downloading package mte_teip5 to\n",
      "[nltk_data]    |     /Users/elizabethjohnson/nltk_data...\n",
      "[nltk_data]    |   Package mte_teip5 is already up-to-date!\n",
      "[nltk_data]    | Downloading package mwa_ppdb to\n",
      "[nltk_data]    |     /Users/elizabethjohnson/nltk_data...\n",
      "[nltk_data]    |   Package mwa_ppdb is already up-to-date!\n",
      "[nltk_data]    | Downloading package names to\n",
      "[nltk_data]    |     /Users/elizabethjohnson/nltk_data...\n",
      "[nltk_data]    |   Package names is already up-to-date!\n",
      "[nltk_data]    | Downloading package nombank.1.0 to\n",
      "[nltk_data]    |     /Users/elizabethjohnson/nltk_data...\n",
      "[nltk_data]    |   Package nombank.1.0 is already up-to-date!\n",
      "[nltk_data]    | Downloading package nonbreaking_prefixes to\n",
      "[nltk_data]    |     /Users/elizabethjohnson/nltk_data...\n",
      "[nltk_data]    |   Package nonbreaking_prefixes is already up-to-date!\n",
      "[nltk_data]    | Downloading package nps_chat to\n",
      "[nltk_data]    |     /Users/elizabethjohnson/nltk_data...\n",
      "[nltk_data]    |   Package nps_chat is already up-to-date!\n",
      "[nltk_data]    | Downloading package omw to\n",
      "[nltk_data]    |     /Users/elizabethjohnson/nltk_data...\n",
      "[nltk_data]    |   Package omw is already up-to-date!\n",
      "[nltk_data]    | Downloading package omw-1.4 to\n",
      "[nltk_data]    |     /Users/elizabethjohnson/nltk_data...\n",
      "[nltk_data]    |   Package omw-1.4 is already up-to-date!\n",
      "[nltk_data]    | Downloading package opinion_lexicon to\n",
      "[nltk_data]    |     /Users/elizabethjohnson/nltk_data...\n",
      "[nltk_data]    |   Package opinion_lexicon is already up-to-date!\n",
      "[nltk_data]    | Downloading package panlex_swadesh to\n",
      "[nltk_data]    |     /Users/elizabethjohnson/nltk_data...\n",
      "[nltk_data]    |   Package panlex_swadesh is already up-to-date!\n",
      "[nltk_data]    | Downloading package paradigms to\n",
      "[nltk_data]    |     /Users/elizabethjohnson/nltk_data...\n",
      "[nltk_data]    |   Package paradigms is already up-to-date!\n",
      "[nltk_data]    | Downloading package pe08 to\n",
      "[nltk_data]    |     /Users/elizabethjohnson/nltk_data...\n",
      "[nltk_data]    |   Package pe08 is already up-to-date!\n",
      "[nltk_data]    | Downloading package perluniprops to\n",
      "[nltk_data]    |     /Users/elizabethjohnson/nltk_data...\n",
      "[nltk_data]    |   Package perluniprops is already up-to-date!\n",
      "[nltk_data]    | Downloading package pil to\n",
      "[nltk_data]    |     /Users/elizabethjohnson/nltk_data...\n",
      "[nltk_data]    |   Package pil is already up-to-date!\n",
      "[nltk_data]    | Downloading package pl196x to\n",
      "[nltk_data]    |     /Users/elizabethjohnson/nltk_data...\n",
      "[nltk_data]    |   Package pl196x is already up-to-date!\n",
      "[nltk_data]    | Downloading package porter_test to\n",
      "[nltk_data]    |     /Users/elizabethjohnson/nltk_data...\n",
      "[nltk_data]    |   Package porter_test is already up-to-date!\n",
      "[nltk_data]    | Downloading package ppattach to\n",
      "[nltk_data]    |     /Users/elizabethjohnson/nltk_data...\n",
      "[nltk_data]    |   Package ppattach is already up-to-date!\n",
      "[nltk_data]    | Downloading package problem_reports to\n",
      "[nltk_data]    |     /Users/elizabethjohnson/nltk_data...\n",
      "[nltk_data]    |   Package problem_reports is already up-to-date!\n",
      "[nltk_data]    | Downloading package product_reviews_1 to\n",
      "[nltk_data]    |     /Users/elizabethjohnson/nltk_data...\n",
      "[nltk_data]    |   Package product_reviews_1 is already up-to-date!\n",
      "[nltk_data]    | Downloading package product_reviews_2 to\n",
      "[nltk_data]    |     /Users/elizabethjohnson/nltk_data...\n",
      "[nltk_data]    |   Package product_reviews_2 is already up-to-date!\n",
      "[nltk_data]    | Downloading package propbank to\n",
      "[nltk_data]    |     /Users/elizabethjohnson/nltk_data...\n",
      "[nltk_data]    |   Package propbank is already up-to-date!\n",
      "[nltk_data]    | Downloading package pros_cons to\n",
      "[nltk_data]    |     /Users/elizabethjohnson/nltk_data...\n",
      "[nltk_data]    |   Package pros_cons is already up-to-date!\n",
      "[nltk_data]    | Downloading package ptb to\n",
      "[nltk_data]    |     /Users/elizabethjohnson/nltk_data...\n",
      "[nltk_data]    |   Package ptb is already up-to-date!\n",
      "[nltk_data]    | Downloading package punkt to\n",
      "[nltk_data]    |     /Users/elizabethjohnson/nltk_data...\n",
      "[nltk_data]    |   Package punkt is already up-to-date!\n",
      "[nltk_data]    | Downloading package qc to\n",
      "[nltk_data]    |     /Users/elizabethjohnson/nltk_data...\n",
      "[nltk_data]    |   Package qc is already up-to-date!\n",
      "[nltk_data]    | Downloading package reuters to\n",
      "[nltk_data]    |     /Users/elizabethjohnson/nltk_data...\n",
      "[nltk_data]    |   Package reuters is already up-to-date!\n",
      "[nltk_data]    | Downloading package rslp to\n",
      "[nltk_data]    |     /Users/elizabethjohnson/nltk_data...\n",
      "[nltk_data]    |   Package rslp is already up-to-date!\n",
      "[nltk_data]    | Downloading package rte to\n",
      "[nltk_data]    |     /Users/elizabethjohnson/nltk_data...\n",
      "[nltk_data]    |   Package rte is already up-to-date!\n",
      "[nltk_data]    | Downloading package sample_grammars to\n",
      "[nltk_data]    |     /Users/elizabethjohnson/nltk_data...\n",
      "[nltk_data]    |   Package sample_grammars is already up-to-date!\n",
      "[nltk_data]    | Downloading package semcor to\n",
      "[nltk_data]    |     /Users/elizabethjohnson/nltk_data...\n",
      "[nltk_data]    |   Package semcor is already up-to-date!\n",
      "[nltk_data]    | Downloading package senseval to\n",
      "[nltk_data]    |     /Users/elizabethjohnson/nltk_data...\n",
      "[nltk_data]    |   Package senseval is already up-to-date!\n",
      "[nltk_data]    | Downloading package sentence_polarity to\n",
      "[nltk_data]    |     /Users/elizabethjohnson/nltk_data...\n",
      "[nltk_data]    |   Package sentence_polarity is already up-to-date!\n",
      "[nltk_data]    | Downloading package sentiwordnet to\n",
      "[nltk_data]    |     /Users/elizabethjohnson/nltk_data...\n",
      "[nltk_data]    |   Package sentiwordnet is already up-to-date!\n",
      "[nltk_data]    | Downloading package shakespeare to\n",
      "[nltk_data]    |     /Users/elizabethjohnson/nltk_data...\n",
      "[nltk_data]    |   Package shakespeare is already up-to-date!\n",
      "[nltk_data]    | Downloading package sinica_treebank to\n",
      "[nltk_data]    |     /Users/elizabethjohnson/nltk_data...\n",
      "[nltk_data]    |   Package sinica_treebank is already up-to-date!\n",
      "[nltk_data]    | Downloading package smultron to\n",
      "[nltk_data]    |     /Users/elizabethjohnson/nltk_data...\n",
      "[nltk_data]    |   Package smultron is already up-to-date!\n",
      "[nltk_data]    | Downloading package snowball_data to\n",
      "[nltk_data]    |     /Users/elizabethjohnson/nltk_data...\n",
      "[nltk_data]    |   Package snowball_data is already up-to-date!\n",
      "[nltk_data]    | Downloading package spanish_grammars to\n",
      "[nltk_data]    |     /Users/elizabethjohnson/nltk_data...\n",
      "[nltk_data]    |   Package spanish_grammars is already up-to-date!\n",
      "[nltk_data]    | Downloading package state_union to\n",
      "[nltk_data]    |     /Users/elizabethjohnson/nltk_data...\n",
      "[nltk_data]    |   Package state_union is already up-to-date!\n",
      "[nltk_data]    | Downloading package stopwords to\n",
      "[nltk_data]    |     /Users/elizabethjohnson/nltk_data...\n",
      "[nltk_data]    |   Package stopwords is already up-to-date!\n",
      "[nltk_data]    | Downloading package subjectivity to\n",
      "[nltk_data]    |     /Users/elizabethjohnson/nltk_data...\n",
      "[nltk_data]    |   Package subjectivity is already up-to-date!\n",
      "[nltk_data]    | Downloading package swadesh to\n",
      "[nltk_data]    |     /Users/elizabethjohnson/nltk_data...\n",
      "[nltk_data]    |   Package swadesh is already up-to-date!\n",
      "[nltk_data]    | Downloading package switchboard to\n",
      "[nltk_data]    |     /Users/elizabethjohnson/nltk_data...\n",
      "[nltk_data]    |   Package switchboard is already up-to-date!\n",
      "[nltk_data]    | Downloading package tagsets to\n",
      "[nltk_data]    |     /Users/elizabethjohnson/nltk_data...\n",
      "[nltk_data]    |   Package tagsets is already up-to-date!\n",
      "[nltk_data]    | Downloading package timit to\n",
      "[nltk_data]    |     /Users/elizabethjohnson/nltk_data...\n",
      "[nltk_data]    |   Package timit is already up-to-date!\n",
      "[nltk_data]    | Downloading package toolbox to\n",
      "[nltk_data]    |     /Users/elizabethjohnson/nltk_data...\n",
      "[nltk_data]    |   Package toolbox is already up-to-date!\n",
      "[nltk_data]    | Downloading package treebank to\n",
      "[nltk_data]    |     /Users/elizabethjohnson/nltk_data...\n",
      "[nltk_data]    |   Package treebank is already up-to-date!\n",
      "[nltk_data]    | Downloading package twitter_samples to\n",
      "[nltk_data]    |     /Users/elizabethjohnson/nltk_data...\n",
      "[nltk_data]    |   Package twitter_samples is already up-to-date!\n",
      "[nltk_data]    | Downloading package udhr to\n",
      "[nltk_data]    |     /Users/elizabethjohnson/nltk_data...\n",
      "[nltk_data]    |   Package udhr is already up-to-date!\n",
      "[nltk_data]    | Downloading package udhr2 to\n",
      "[nltk_data]    |     /Users/elizabethjohnson/nltk_data...\n",
      "[nltk_data]    |   Package udhr2 is already up-to-date!\n",
      "[nltk_data]    | Downloading package unicode_samples to\n",
      "[nltk_data]    |     /Users/elizabethjohnson/nltk_data...\n",
      "[nltk_data]    |   Package unicode_samples is already up-to-date!\n",
      "[nltk_data]    | Downloading package universal_tagset to\n",
      "[nltk_data]    |     /Users/elizabethjohnson/nltk_data...\n",
      "[nltk_data]    |   Package universal_tagset is already up-to-date!\n",
      "[nltk_data]    | Downloading package universal_treebanks_v20 to\n",
      "[nltk_data]    |     /Users/elizabethjohnson/nltk_data...\n",
      "[nltk_data]    |   Package universal_treebanks_v20 is already up-to-\n",
      "[nltk_data]    |       date!\n",
      "[nltk_data]    | Downloading package vader_lexicon to\n",
      "[nltk_data]    |     /Users/elizabethjohnson/nltk_data...\n",
      "[nltk_data]    |   Package vader_lexicon is already up-to-date!\n",
      "[nltk_data]    | Downloading package verbnet to\n",
      "[nltk_data]    |     /Users/elizabethjohnson/nltk_data...\n",
      "[nltk_data]    |   Package verbnet is already up-to-date!\n",
      "[nltk_data]    | Downloading package verbnet3 to\n",
      "[nltk_data]    |     /Users/elizabethjohnson/nltk_data...\n",
      "[nltk_data]    |   Package verbnet3 is already up-to-date!\n",
      "[nltk_data]    | Downloading package webtext to\n",
      "[nltk_data]    |     /Users/elizabethjohnson/nltk_data...\n",
      "[nltk_data]    |   Package webtext is already up-to-date!\n",
      "[nltk_data]    | Downloading package wmt15_eval to\n",
      "[nltk_data]    |     /Users/elizabethjohnson/nltk_data...\n",
      "[nltk_data]    |   Package wmt15_eval is already up-to-date!\n",
      "[nltk_data]    | Downloading package word2vec_sample to\n",
      "[nltk_data]    |     /Users/elizabethjohnson/nltk_data...\n",
      "[nltk_data]    |   Package word2vec_sample is already up-to-date!\n",
      "[nltk_data]    | Downloading package wordnet to\n",
      "[nltk_data]    |     /Users/elizabethjohnson/nltk_data...\n",
      "[nltk_data]    |   Package wordnet is already up-to-date!\n",
      "[nltk_data]    | Downloading package wordnet2021 to\n",
      "[nltk_data]    |     /Users/elizabethjohnson/nltk_data...\n",
      "[nltk_data]    |   Package wordnet2021 is already up-to-date!\n",
      "[nltk_data]    | Downloading package wordnet31 to\n",
      "[nltk_data]    |     /Users/elizabethjohnson/nltk_data...\n",
      "[nltk_data]    |   Package wordnet31 is already up-to-date!\n",
      "[nltk_data]    | Downloading package wordnet_ic to\n",
      "[nltk_data]    |     /Users/elizabethjohnson/nltk_data...\n",
      "[nltk_data]    |   Package wordnet_ic is already up-to-date!\n",
      "[nltk_data]    | Downloading package words to\n",
      "[nltk_data]    |     /Users/elizabethjohnson/nltk_data...\n",
      "[nltk_data]    |   Package words is already up-to-date!\n",
      "[nltk_data]    | Downloading package ycoe to\n",
      "[nltk_data]    |     /Users/elizabethjohnson/nltk_data...\n",
      "[nltk_data]    |   Package ycoe is already up-to-date!\n",
      "[nltk_data]    | \n",
      "[nltk_data]  Done downloading collection all\n"
     ]
    },
    {
     "data": {
      "text/plain": [
       "True"
      ]
     },
     "execution_count": 6,
     "metadata": {},
     "output_type": "execute_result"
    }
   ],
   "source": [
    "import nltk\n",
    "nltk.download('punkt')\n",
    "nltk.download('averaged_perceptron_tagger')\n",
    "nltk.download('all')"
   ]
  },
  {
   "cell_type": "code",
   "execution_count": 7,
   "metadata": {},
   "outputs": [
    {
     "data": {
      "text/plain": [
       "['safeforchris',\n",
       " 'chris',\n",
       " 'evans',\n",
       " 'oscars',\n",
       " 'king',\n",
       " 'jadapinkettsmith',\n",
       " 'oscars',\n",
       " 'oscars2022',\n",
       " 'winner',\n",
       " 'criticschoicesawards',\n",
       " 'winner',\n",
       " 'emmys',\n",
       " 'movie',\n",
       " 'champion',\n",
       " 'smith',\n",
       " '🎥🎥🎥🎥🎥🎥🎥🎥🎥',\n",
       " 'minnelli',\n",
       " 'was',\n",
       " 'sabotaged',\n",
       " 'oscars',\n",
       " 'ceremony',\n",
       " 'collaborator',\n",
       " 'claims',\n",
       " 'minnelli',\n",
       " 'wassabotaged',\n",
       " 'oscars',\n",
       " 'ceremony',\n",
       " 'collaborator',\n",
       " 'claims',\n",
       " 'oscars',\n",
       " 'smith',\n",
       " 'slap',\n",
       " 'is',\n",
       " 'take',\n",
       " 'minnelli',\n",
       " 'friend',\n",
       " 'michael',\n",
       " 'feinstein',\n",
       " 'says',\n",
       " 'was',\n",
       " 'sabotaged',\n",
       " 'oscars',\n",
       " 'did',\n",
       " 'need',\n",
       " 'voices',\n",
       " 'have',\n",
       " 'oscars',\n",
       " 'prove',\n",
       " 'minnelli',\n",
       " 'was',\n",
       " 'sabotaged',\n",
       " 'oscars',\n",
       " 'pal',\n",
       " 'claims',\n",
       " 'pagesixliza',\n",
       " 'minnelli',\n",
       " 'wassabotaged',\n",
       " 'oscars',\n",
       " 'ceremony',\n",
       " 'collaborator',\n",
       " 'claims',\n",
       " 'pinkett',\n",
       " 'smith',\n",
       " 's',\n",
       " '‘',\n",
       " 'red',\n",
       " 'talk',\n",
       " 'returns',\n",
       " 'week',\n",
       " 'post-oscars',\n",
       " 'episode',\n",
       " 'huffpost',\n",
       " 'michael',\n",
       " 'feinstein',\n",
       " 'grammy',\n",
       " 'nominee',\n",
       " 'alleged',\n",
       " 'star',\n",
       " 'was',\n",
       " 'forced',\n",
       " 'appear',\n",
       " 'wheelchair',\n",
       " 'liza',\n",
       " 'minnelli',\n",
       " 'wassabotaged',\n",
       " 'oscars',\n",
       " 'ceremony',\n",
       " 'collaborator',\n",
       " 'claims',\n",
       " 'huffpost',\n",
       " 'variety',\n",
       " 'jada',\n",
       " 'pinkett',\n",
       " 'smith',\n",
       " 's',\n",
       " '‘',\n",
       " 'red',\n",
       " 'talk',\n",
       " 'announces',\n",
       " 'lineup',\n",
       " 'season',\n",
       " 'mention',\n",
       " 'oscars',\n",
       " 'variety',\n",
       " 'jada',\n",
       " 'pinkett',\n",
       " 'smith',\n",
       " 'redtabletalk',\n",
       " 'is',\n",
       " 'coming',\n",
       " \"'s\",\n",
       " 'smith',\n",
       " 'oscars',\n",
       " 'slap',\n",
       " 'be',\n",
       " 'huffpost',\n",
       " 'michael',\n",
       " 'feinstein',\n",
       " 'grammy',\n",
       " 'nominee',\n",
       " 'alleged',\n",
       " 'star',\n",
       " 'was',\n",
       " 'forced',\n",
       " 'appear',\n",
       " 'wheelchair',\n",
       " 'against…this',\n",
       " 'makes',\n",
       " 'sense',\n",
       " 'wonder',\n",
       " 'wassabotaged',\n",
       " 'oscars',\n",
       " 'ceremony',\n",
       " 'collaborator',\n",
       " 'claims',\n",
       " 'yahoort',\n",
       " 'samuelljackson',\n",
       " 'revelations',\n",
       " 'smith',\n",
       " 'call',\n",
       " 'oscar',\n",
       " 'bosses',\n",
       " 'outrages',\n",
       " 'board',\n",
       " 'amp',\n",
       " 'smartnews',\n",
       " 'imani_gomes',\n",
       " 'ayannapressley',\n",
       " '..',\n",
       " 'commiting',\n",
       " 'assault',\n",
       " 'act',\n",
       " 'was',\n",
       " 'way',\n",
       " 'handle',\n",
       " 'situation',\n",
       " 'mention',\n",
       " 'was',\n",
       " 'joke',\n",
       " 'jps',\n",
       " 'stand',\n",
       " 'herself',\n",
       " 'claims',\n",
       " 'be',\n",
       " 'empowered',\n",
       " 'amp',\n",
       " 'look',\n",
       " 'iambeckyg',\n",
       " 'oscars',\n",
       " '⭐️',\n",
       " 'theacademy',\n",
       " 'minnelli',\n",
       " 'friend',\n",
       " 'michael',\n",
       " 'feinstein',\n",
       " 'says',\n",
       " 'wassabotaged',\n",
       " 'oscars',\n",
       " 'theinsideoutex1',\n",
       " 'things',\n",
       " 'be',\n",
       " 'talking',\n",
       " 'post',\n",
       " 'oscars',\n",
       " 'oscars',\n",
       " 'jonbatiste',\n",
       " 'free…things',\n",
       " 'be',\n",
       " 'talking',\n",
       " 'post',\n",
       " 'oscars',\n",
       " 'oscars',\n",
       " 'jonbatiste',\n",
       " 'freedom',\n",
       " 'joy',\n",
       " 'healing',\n",
       " 'huffpost',\n",
       " 'michael',\n",
       " 'feinstein',\n",
       " 'grammy',\n",
       " 'nominee',\n",
       " 'alleged',\n",
       " 'star',\n",
       " 'was',\n",
       " 'forced',\n",
       " 'appear',\n",
       " 'wheelchair',\n",
       " 'nerdist',\n",
       " 'dune',\n",
       " 'won',\n",
       " 'oscars',\n",
       " 'year',\n",
       " '🏆https',\n",
       " 'smiths',\n",
       " 'be',\n",
       " 'keep',\n",
       " 'profile',\n",
       " 'shit',\n",
       " 'settled',\n",
       " 'bout',\n",
       " 'f',\n",
       " '*',\n",
       " 'ck',\n",
       " 'bag',\n",
       " 'huffpost',\n",
       " 'michael',\n",
       " 'feinstein',\n",
       " 'grammy',\n",
       " 'nominee',\n",
       " 'alleged',\n",
       " 'star',\n",
       " 'was',\n",
       " 'forced',\n",
       " 'appear',\n",
       " 'wheelchair',\n",
       " 'against…rt',\n",
       " 'huffpost',\n",
       " 'michael',\n",
       " 'feinstein',\n",
       " 'grammy',\n",
       " 'nominee',\n",
       " 'alleged',\n",
       " 'star',\n",
       " 'was',\n",
       " 'forced',\n",
       " 'appear',\n",
       " 'wheelchair',\n",
       " 'been',\n",
       " 'wassabotaged',\n",
       " 'oscars',\n",
       " 'ceremony',\n",
       " 'collaborator',\n",
       " 'claims',\n",
       " 'yahoomichael',\n",
       " 'feinstein',\n",
       " 'grammy',\n",
       " 'nominee',\n",
       " 'alleged',\n",
       " 'star',\n",
       " 'was',\n",
       " 'forced',\n",
       " 'appear',\n",
       " 'wheelchair',\n",
       " 'wishes',\n",
       " 'gaga',\n",
       " 'has',\n",
       " 'set',\n",
       " 'pipes',\n",
       " 'give',\n",
       " 'bit',\n",
       " 'thinks',\n",
       " 'shit',\n",
       " 'does',\n",
       " 'stink',\n",
       " 'has',\n",
       " 'put',\n",
       " 'state',\n",
       " 'mind',\n",
       " 'movie',\n",
       " 'star',\n",
       " 'is',\n",
       " 'discoverfoshan',\n",
       " 'foshan',\n",
       " 'guicheng',\n",
       " 'reading',\n",
       " 'station',\n",
       " 'won',\n",
       " 'design',\n",
       " 'award',\n",
       " 'desi…new',\n",
       " 'trailer',\n",
       " 'jada',\n",
       " 'pinkett',\n",
       " 'smith',\n",
       " 's',\n",
       " '‘',\n",
       " 'red',\n",
       " 'talk',\n",
       " 'returns',\n",
       " 'following',\n",
       " 'oscars',\n",
       " 'variety',\n",
       " 'framing',\n",
       " 'nominees',\n",
       " 'feature',\n",
       " 'product',\n",
       " 'kids',\n",
       " 'parents',\n",
       " 'endure',\n",
       " 'be…see',\n",
       " 'stewart',\n",
       " 'chanel',\n",
       " 'gown',\n",
       " 'vanity',\n",
       " 'oscars',\n",
       " 'cineclubucn',\n",
       " 'ciclo',\n",
       " 'cine',\n",
       " 'oscars',\n",
       " '🎥',\n",
       " 'proyección',\n",
       " '“',\n",
       " '✨',\n",
       " 'hrs',\n",
       " 'escuela',\n",
       " 'univers…this',\n",
       " 'is',\n",
       " 'infuriating',\n",
       " 'thing',\n",
       " 'list',\n",
       " 'feel',\n",
       " 'ashamed',\n",
       " 'cine',\n",
       " 'oscars',\n",
       " '🎥',\n",
       " 'proyección',\n",
       " '“',\n",
       " '✨',\n",
       " 'hrs',\n",
       " 'escuela',\n",
       " 'católica',\n",
       " 'del',\n",
       " '📌',\n",
       " 'gratuita',\n",
       " 'y',\n",
       " 'abierta',\n",
       " 'público',\n",
       " 'phil_lewis_',\n",
       " 'jada',\n",
       " 'pinkett',\n",
       " 'smith',\n",
       " 's',\n",
       " 'red',\n",
       " 'talk',\n",
       " 'is',\n",
       " 'returning',\n",
       " 'facebook',\n",
       " 'watch',\n",
       " 'tomorrow',\n",
       " 'minnelli',\n",
       " 'was',\n",
       " 'sabotaged',\n",
       " 'oscars',\n",
       " 'ceremony',\n",
       " 'collaborator',\n",
       " 'claims',\n",
       " 'i',\n",
       " 'respond',\n",
       " 'oscarslap',\n",
       " 'light',\n",
       " 'easter',\n",
       " 'brokensaintblog',\n",
       " 'deucaliondurden',\n",
       " 'le',\n",
       " 'scène',\n",
       " '🎬',\n",
       " 'hommes',\n",
       " 'femmes',\n",
       " 'tous…n',\n",
       " 'sont',\n",
       " 'que',\n",
       " 'des',\n",
       " 'hoax',\n",
       " '🎥',\n",
       " '👁🔺',\n",
       " 'claque👋',\n",
       " 'oscars',\n",
       " 'minnelli',\n",
       " 'wassabotaged',\n",
       " 'oscars',\n",
       " 'ceremony',\n",
       " 'collaborator',\n",
       " 'claims',\n",
       " 'phil_lewis_',\n",
       " 'jada',\n",
       " 'pinkett',\n",
       " 'smith',\n",
       " 's',\n",
       " 'red',\n",
       " 'talk',\n",
       " 'is',\n",
       " 'returning',\n",
       " 'facebook',\n",
       " 'watch',\n",
       " 'tomorrow',\n",
       " 'justjared',\n",
       " 'liza',\n",
       " 'minnelli',\n",
       " 'friend',\n",
       " 'michael',\n",
       " 'feinstein',\n",
       " 'was',\n",
       " 'backstage',\n",
       " 'oscars',\n",
       " 'says',\n",
       " 'was',\n",
       " 'sabotaged',\n",
       " 'going',\n",
       " 'justjared',\n",
       " 'minnelli',\n",
       " 'friend',\n",
       " 'michael',\n",
       " 'feinstein',\n",
       " 'was',\n",
       " 'backstage',\n",
       " 'oscars',\n",
       " 'says',\n",
       " 'was',\n",
       " 'sabotaged',\n",
       " 'going',\n",
       " 'justjared',\n",
       " 'minnelli',\n",
       " 'friend',\n",
       " 'michael',\n",
       " 'feinstein',\n",
       " 'was',\n",
       " 'backstage',\n",
       " 'oscars',\n",
       " 'says',\n",
       " 'was',\n",
       " 'sabotaged',\n",
       " 'going',\n",
       " 'slaps',\n",
       " 'rock',\n",
       " 'oscars',\n",
       " 'minnelli',\n",
       " 'was',\n",
       " 'sabotaged',\n",
       " 'oscars',\n",
       " 'ceremony',\n",
       " 'collaborator',\n",
       " 'claims',\n",
       " 'jehangirmalik',\n",
       " 'feelingblessed',\n",
       " 'ramadan',\n",
       " 'eve',\n",
       " 'appgbritmuslims',\n",
       " 'array',\n",
       " 'talent',\n",
       " 'inclu…liza',\n",
       " 'minnelli',\n",
       " 'friend',\n",
       " 'michael',\n",
       " 'feinstein',\n",
       " 'was',\n",
       " 'backstage',\n",
       " 'oscars',\n",
       " 'says',\n",
       " 'was',\n",
       " 'sabotaged',\n",
       " 'going',\n",
       " 'stage',\n",
       " 'minnelli',\n",
       " 'was',\n",
       " 'sabotaged',\n",
       " 'oscars',\n",
       " 'ceremony',\n",
       " 'collaborator',\n",
       " 'claims',\n",
       " 'minnelli',\n",
       " 'was',\n",
       " 'sabotaged',\n",
       " 'oscars',\n",
       " 'ceremony',\n",
       " 'collaborator',\n",
       " 'claims',\n",
       " 'ellemagazine',\n",
       " 'dakota',\n",
       " 'johnson',\n",
       " 'looked',\n",
       " 'princess',\n",
       " 'gucci',\n",
       " 'gown',\n",
       " 'vanity',\n",
       " 'oscars',\n",
       " 'minnelli',\n",
       " 'was',\n",
       " 'sabotaged',\n",
       " 'oscars',\n",
       " 'ceremony',\n",
       " 'collaborator',\n",
       " 'claims',\n",
       " 'minnelli',\n",
       " 'oscars',\n",
       " 'ceremony',\n",
       " 'was',\n",
       " 'sabotaged',\n",
       " 'claims',\n",
       " 'longtime',\n",
       " 'collaborator',\n",
       " 'minnelli',\n",
       " 'wassabotaged',\n",
       " 'oscars',\n",
       " 'ceremony',\n",
       " 'collaborator',\n",
       " 'claims',\n",
       " 'huffpost',\n",
       " 'director',\n",
       " 'production',\n",
       " 'company',\n",
       " 'had',\n",
       " 'experience',\n",
       " 'production',\n",
       " 'were',\n",
       " 'way',\n",
       " 'heads',\n",
       " 'show',\n",
       " 'minnelli',\n",
       " 'was',\n",
       " 'sabotaged',\n",
       " 'oscars',\n",
       " 'ceremony',\n",
       " 'collaborator',\n",
       " 'claims',\n",
       " 'minnelli',\n",
       " 'was',\n",
       " 'sabotaged',\n",
       " 'oscars',\n",
       " 'ceremony',\n",
       " 'collaborator',\n",
       " 'claims',\n",
       " 'academy',\n",
       " 'cuts',\n",
       " 'awards',\n",
       " 'broadcast',\n",
       " 'indication',\n",
       " 'year',\n",
       " 'years',\n",
       " 'oscar',\n",
       " 's',\n",
       " 'were',\n",
       " 'did',\n",
       " 'want',\n",
       " 'be',\n",
       " 'wheelchair',\n",
       " 'director',\n",
       " 's',\n",
       " 'chair',\n",
       " 'has',\n",
       " 'pride',\n",
       " 'wants',\n",
       " 'look',\n",
       " 'packer',\n",
       " 'claims',\n",
       " 'chris',\n",
       " 'rock',\n",
       " 'said',\n",
       " 'leave',\n",
       " 'rock',\n",
       " 'sources',\n",
       " 'say',\n",
       " \"'s\",\n",
       " 'tmzone',\n",
       " 'minnelli',\n",
       " 'collaborators',\n",
       " 'friends',\n",
       " 'claims',\n",
       " 'star',\n",
       " 'was',\n",
       " 'oscars',\n",
       " 'appearance',\n",
       " 'gaga',\n",
       " 'part',\n",
       " 'did',\n",
       " 'want',\n",
       " 'be',\n",
       " 'seen',\n",
       " 'wheelchair',\n",
       " 'redtabletalk',\n",
       " 'season',\n",
       " 'trailer',\n",
       " 'has',\n",
       " 'been',\n",
       " 'released',\n",
       " 'is',\n",
       " 'smith',\n",
       " 'going',\n",
       " 'discuss',\n",
       " 'oscars',\n",
       " 'debacle',\n",
       " 'ellemagazine',\n",
       " 'dakota',\n",
       " 'johnson',\n",
       " 'looked',\n",
       " 'princess',\n",
       " 'gucci',\n",
       " 'gown',\n",
       " 'vanity',\n",
       " 'oscars',\n",
       " 'smith',\n",
       " 'oscars',\n",
       " 'acceptance',\n",
       " 'speech',\n",
       " 'spiked',\n",
       " 'audience',\n",
       " 'viewers',\n",
       " 'johnapp63499667',\n",
       " 'liza',\n",
       " 'minnelli',\n",
       " 'wassabotaged',\n",
       " 'oscars',\n",
       " 'ceremony',\n",
       " 'collaborator',\n",
       " 'claims',\n",
       " 'minnelli',\n",
       " 'wassabotaged',\n",
       " 'oscars',\n",
       " 'ceremony',\n",
       " 'collaborator',\n",
       " 'claims',\n",
       " 'smith',\n",
       " 'slaps',\n",
       " 'rock',\n",
       " 'oscars',\n",
       " 'south',\n",
       " 'park',\n",
       " 'animated',\n",
       " 'greatest-night',\n",
       " 'television',\n",
       " 'historygaga',\n",
       " 'liza',\n",
       " 'were',\n",
       " 'moment',\n",
       " 'minnelli',\n",
       " 'was',\n",
       " 'sabotaged',\n",
       " 'oscars',\n",
       " 'ceremony',\n",
       " 'collaborator',\n",
       " 'claims',\n",
       " 'minnelli',\n",
       " 'wassabotaged',\n",
       " 'oscars',\n",
       " 'ceremony',\n",
       " 'collaborator',\n",
       " 'claims',\n",
       " 'minnelli',\n",
       " 'was',\n",
       " 'sabotaged',\n",
       " 'oscars',\n",
       " 'ceremony',\n",
       " 'collaborator',\n",
       " 'claims',\n",
       " 'minnelli',\n",
       " 'was',\n",
       " 'sabotaged',\n",
       " 'oscars',\n",
       " 'ceremony',\n",
       " 'collaborator',\n",
       " 'claims',\n",
       " 'minnelli',\n",
       " 'wassabotaged',\n",
       " 'oscars',\n",
       " 'ceremony',\n",
       " 'collaborator',\n",
       " 'claims',\n",
       " 'minnelli',\n",
       " 'was',\n",
       " 'sabotaged',\n",
       " 'oscars',\n",
       " 'ceremony',\n",
       " 'collaborator',\n",
       " 'claims',\n",
       " 'minnelli',\n",
       " 'was',\n",
       " 'sabotaged',\n",
       " 'oscars',\n",
       " 'ceremony',\n",
       " 'collaborator',\n",
       " 'claims',\n",
       " 'deadline',\n",
       " 'jada',\n",
       " 'pinkett',\n",
       " 'smith',\n",
       " 's',\n",
       " '‘',\n",
       " 'red',\n",
       " 'talk',\n",
       " 'returns',\n",
       " 'week',\n",
       " 'post-oscars',\n",
       " 'episode',\n",
       " 'feinstein',\n",
       " 'grammy',\n",
       " 'nominee',\n",
       " 'alleged',\n",
       " 'star',\n",
       " 'was',\n",
       " 'forced',\n",
       " 'appear',\n",
       " 'wheelchair',\n",
       " 'wishes',\n",
       " 'extratv',\n",
       " 'jada',\n",
       " 'pinkett',\n",
       " 'smith',\n",
       " 'is',\n",
       " 'table',\n",
       " 'wake',\n",
       " 'oscars',\n",
       " 'altercation',\n",
       " 'smith',\n",
       " 'chris',\n",
       " 'rock',\n",
       " 'minnelli',\n",
       " 'oscars',\n",
       " 'ceremony',\n",
       " 'was',\n",
       " 'sabotaged',\n",
       " 'claims',\n",
       " 'longtime',\n",
       " 'collaborator',\n",
       " 'markcovino',\n",
       " 'shame',\n",
       " 'need',\n",
       " 'kill',\n",
       " 'oscar',\n",
       " 's',\n",
       " 's',\n",
       " 'trash',\n",
       " 'heap…',\n",
       " 'phil_lewis_',\n",
       " 'jada',\n",
       " 'pinkett',\n",
       " 'smith',\n",
       " 's',\n",
       " 'red',\n",
       " 'talk',\n",
       " 'is',\n",
       " 'returning',\n",
       " 'facebook',\n",
       " 'watch',\n",
       " 'tomorrow',\n",
       " 'shame',\n",
       " 'need',\n",
       " 'kill',\n",
       " 'oscar',\n",
       " 's',\n",
       " 's',\n",
       " 'trash',\n",
       " 'heap…',\n",
       " 'payne',\n",
       " 'explains',\n",
       " 'accent',\n",
       " 'smith',\n",
       " 'oscars',\n",
       " 'pinkett',\n",
       " 'smith',\n",
       " 'is',\n",
       " 'table',\n",
       " 'wake',\n",
       " 'oscars',\n",
       " 'altercation',\n",
       " 'smith',\n",
       " 'chris',\n",
       " 'rock',\n",
       " 'minnelli',\n",
       " 'wassabotaged',\n",
       " 'oscars',\n",
       " 'ceremony',\n",
       " 'collaborator',\n",
       " 'claims',\n",
       " 'minnelli',\n",
       " 'felt',\n",
       " '‘',\n",
       " 'shaken',\n",
       " '‘',\n",
       " 'sabotaged',\n",
       " 'being',\n",
       " 'forced',\n",
       " 'stage',\n",
       " 'wheelchair',\n",
       " 'oscars',\n",
       " 'phil_lewis_',\n",
       " 'jada',\n",
       " 'pinkett',\n",
       " 'smith',\n",
       " 's',\n",
       " 'red',\n",
       " 'talk',\n",
       " 'is',\n",
       " 'returning',\n",
       " 'facebook',\n",
       " 'watch',\n",
       " 'tomorrow',\n",
       " 'thejoshuablog',\n",
       " 'huffpostqueer',\n",
       " 'liza',\n",
       " 'minnelli',\n",
       " 'wassabotaged',\n",
       " 'oscars',\n",
       " 'ceremony',\n",
       " 'collaborator',\n",
       " 'claims',\n",
       " 'huffpostent',\n",
       " 'michael',\n",
       " 'feinstein',\n",
       " 'grammy',\n",
       " 'nominee',\n",
       " 'alleged',\n",
       " 'star',\n",
       " 'was',\n",
       " 'forced',\n",
       " 'appear',\n",
       " 'wheelchair',\n",
       " 'huffpostqueer',\n",
       " 'michael',\n",
       " 'feinstein',\n",
       " 'grammy',\n",
       " 'nominee',\n",
       " 'alleged',\n",
       " 'star',\n",
       " 'was',\n",
       " 'forced',\n",
       " 'appear',\n",
       " 'wheelchair',\n",
       " 'huffpostqueer',\n",
       " 'liza',\n",
       " 'minnelli',\n",
       " 'wassabotaged',\n",
       " 'oscars',\n",
       " 'ceremony',\n",
       " 'collaborator',\n",
       " 'claims',\n",
       " '|',\n",
       " 'politicsmichael',\n",
       " 'feinstein',\n",
       " 'grammy',\n",
       " 'nominee',\n",
       " 'alleged',\n",
       " 'star',\n",
       " 'was',\n",
       " 'forced',\n",
       " 'appear',\n",
       " 'wheelchair',\n",
       " 'wishes',\n",
       " 'feinstein',\n",
       " 'grammy',\n",
       " 'nominee',\n",
       " 'alleged',\n",
       " 'star',\n",
       " 'was',\n",
       " 'forced',\n",
       " 'appear',\n",
       " 'wheelchair',\n",
       " 'wishes',\n",
       " 'feinstein',\n",
       " 'grammy',\n",
       " 'nominee',\n",
       " 'alleged',\n",
       " 'star',\n",
       " 'was',\n",
       " 'forced',\n",
       " 'appear',\n",
       " 'wheelchair',\n",
       " 'wishes',\n",
       " 'feinstein',\n",
       " 'grammy',\n",
       " 'nominee',\n",
       " 'alleged',\n",
       " 'star',\n",
       " 'was',\n",
       " 'forced',\n",
       " 'appear',\n",
       " 'wheelchair',\n",
       " 'wishes',\n",
       " 'update',\n",
       " 'jada',\n",
       " 'pinkett',\n",
       " \"smith'sred\",\n",
       " 'talk',\n",
       " 'lineup',\n",
       " 'revealed',\n",
       " 'mention',\n",
       " 'slap',\n",
       " 'jada',\n",
       " 'pinkett',\n",
       " 'smith',\n",
       " 'table',\n",
       " 'talk',\n",
       " 'is',\n",
       " 'returning',\n",
       " 'episodes',\n",
       " 'lineup',\n",
       " 'is',\n",
       " 'missing',\n",
       " 'smith',\n",
       " 'guest',\n",
       " 'know',\n",
       " 'states',\n",
       " 'mandates',\n",
       " 'weren',\n",
       " 't',\n",
       " 'covid',\n",
       " 'science',\n",
       " 'isn',\n",
       " 't',\n",
       " 'oscars',\n",
       " 'state',\n",
       " 'union',\n",
       " 'airplane',\n",
       " 'air',\n",
       " 'is',\n",
       " 'benson',\n",
       " 'spotted',\n",
       " 'making',\n",
       " 'pre-oscars',\n",
       " 'party',\n",
       " 'pagesix']"
      ]
     },
     "execution_count": 7,
     "metadata": {},
     "output_type": "execute_result"
    }
   ],
   "source": [
    "lines = clean1\n",
    "# function to test if something is a noun\n",
    "is_noun = lambda pos: pos[:2] == 'NN' or pos[:2] == 'VB'\n",
    "# do the nlp stuff\n",
    "tokenized = nltk.word_tokenize(lines)\n",
    "final_words = [word for (word, pos) in nltk.pos_tag(tokenized) if is_noun(pos) & (not word.startswith(\"/\")) & (word != '’') & (not word.startswith(\"https\"))]\n",
    "final_words"
   ]
  },
  {
   "cell_type": "markdown",
   "metadata": {},
   "source": [
    "[counter python docs](https://docs.python.org/3/library/collections.html#collections.Counter)"
   ]
  },
  {
   "cell_type": "code",
   "execution_count": 8,
   "metadata": {},
   "outputs": [
    {
     "data": {
      "text/plain": [
       "Counter({'safeforchris': 1,\n",
       "         'chris': 4,\n",
       "         'evans': 1,\n",
       "         'oscars': 65,\n",
       "         'king': 1,\n",
       "         'jadapinkettsmith': 1,\n",
       "         'oscars2022': 1,\n",
       "         'winner': 2,\n",
       "         'criticschoicesawards': 1,\n",
       "         'emmys': 1,\n",
       "         'movie': 2,\n",
       "         'champion': 1,\n",
       "         'smith': 23,\n",
       "         '🎥🎥🎥🎥🎥🎥🎥🎥🎥': 1,\n",
       "         'minnelli': 36,\n",
       "         'was': 41,\n",
       "         'sabotaged': 22,\n",
       "         'ceremony': 29,\n",
       "         'collaborator': 29,\n",
       "         'claims': 33,\n",
       "         'wassabotaged': 15,\n",
       "         'slap': 3,\n",
       "         'is': 14,\n",
       "         'take': 1,\n",
       "         'friend': 6,\n",
       "         'michael': 13,\n",
       "         'feinstein': 19,\n",
       "         'says': 6,\n",
       "         'did': 3,\n",
       "         'need': 3,\n",
       "         'voices': 1,\n",
       "         'have': 1,\n",
       "         'prove': 1,\n",
       "         'pal': 1,\n",
       "         'pagesixliza': 1,\n",
       "         'pinkett': 13,\n",
       "         's': 14,\n",
       "         '‘': 6,\n",
       "         'red': 8,\n",
       "         'talk': 10,\n",
       "         'returns': 3,\n",
       "         'week': 2,\n",
       "         'post-oscars': 2,\n",
       "         'episode': 2,\n",
       "         'huffpost': 7,\n",
       "         'grammy': 13,\n",
       "         'nominee': 13,\n",
       "         'alleged': 13,\n",
       "         'star': 15,\n",
       "         'forced': 14,\n",
       "         'appear': 13,\n",
       "         'wheelchair': 16,\n",
       "         'liza': 6,\n",
       "         'variety': 3,\n",
       "         'jada': 11,\n",
       "         'announces': 1,\n",
       "         'lineup': 3,\n",
       "         'season': 2,\n",
       "         'mention': 3,\n",
       "         'redtabletalk': 2,\n",
       "         'coming': 1,\n",
       "         \"'s\": 2,\n",
       "         'be': 7,\n",
       "         'against…this': 1,\n",
       "         'makes': 1,\n",
       "         'sense': 1,\n",
       "         'wonder': 1,\n",
       "         'yahoort': 1,\n",
       "         'samuelljackson': 1,\n",
       "         'revelations': 1,\n",
       "         'call': 1,\n",
       "         'oscar': 4,\n",
       "         'bosses': 1,\n",
       "         'outrages': 1,\n",
       "         'board': 1,\n",
       "         'amp': 2,\n",
       "         'smartnews': 1,\n",
       "         'imani_gomes': 1,\n",
       "         'ayannapressley': 1,\n",
       "         '..': 1,\n",
       "         'commiting': 1,\n",
       "         'assault': 1,\n",
       "         'act': 1,\n",
       "         'way': 2,\n",
       "         'handle': 1,\n",
       "         'situation': 1,\n",
       "         'joke': 1,\n",
       "         'jps': 1,\n",
       "         'stand': 1,\n",
       "         'herself': 1,\n",
       "         'empowered': 1,\n",
       "         'look': 2,\n",
       "         'iambeckyg': 1,\n",
       "         '⭐️': 1,\n",
       "         'theacademy': 1,\n",
       "         'theinsideoutex1': 1,\n",
       "         'things': 1,\n",
       "         'talking': 2,\n",
       "         'post': 2,\n",
       "         'jonbatiste': 2,\n",
       "         'free…things': 1,\n",
       "         'freedom': 1,\n",
       "         'joy': 1,\n",
       "         'healing': 1,\n",
       "         'nerdist': 1,\n",
       "         'dune': 1,\n",
       "         'won': 2,\n",
       "         'year': 2,\n",
       "         '🏆https': 1,\n",
       "         'smiths': 1,\n",
       "         'keep': 1,\n",
       "         'profile': 1,\n",
       "         'shit': 2,\n",
       "         'settled': 1,\n",
       "         'bout': 1,\n",
       "         'f': 1,\n",
       "         '*': 1,\n",
       "         'ck': 1,\n",
       "         'bag': 1,\n",
       "         'against…rt': 1,\n",
       "         'been': 2,\n",
       "         'yahoomichael': 1,\n",
       "         'wishes': 6,\n",
       "         'gaga': 2,\n",
       "         'has': 4,\n",
       "         'set': 1,\n",
       "         'pipes': 1,\n",
       "         'give': 1,\n",
       "         'bit': 1,\n",
       "         'thinks': 1,\n",
       "         'does': 1,\n",
       "         'stink': 1,\n",
       "         'put': 1,\n",
       "         'state': 2,\n",
       "         'mind': 1,\n",
       "         'discoverfoshan': 1,\n",
       "         'foshan': 1,\n",
       "         'guicheng': 1,\n",
       "         'reading': 1,\n",
       "         'station': 1,\n",
       "         'design': 1,\n",
       "         'award': 1,\n",
       "         'desi…new': 1,\n",
       "         'trailer': 2,\n",
       "         'following': 1,\n",
       "         'framing': 1,\n",
       "         'nominees': 1,\n",
       "         'feature': 1,\n",
       "         'product': 1,\n",
       "         'kids': 1,\n",
       "         'parents': 1,\n",
       "         'endure': 1,\n",
       "         'be…see': 1,\n",
       "         'stewart': 1,\n",
       "         'chanel': 1,\n",
       "         'gown': 3,\n",
       "         'vanity': 3,\n",
       "         'cineclubucn': 1,\n",
       "         'ciclo': 1,\n",
       "         'cine': 2,\n",
       "         '🎥': 3,\n",
       "         'proyección': 2,\n",
       "         '“': 2,\n",
       "         '✨': 2,\n",
       "         'hrs': 2,\n",
       "         'escuela': 2,\n",
       "         'univers…this': 1,\n",
       "         'infuriating': 1,\n",
       "         'thing': 1,\n",
       "         'list': 1,\n",
       "         'feel': 1,\n",
       "         'ashamed': 1,\n",
       "         'católica': 1,\n",
       "         'del': 1,\n",
       "         '📌': 1,\n",
       "         'gratuita': 1,\n",
       "         'y': 1,\n",
       "         'abierta': 1,\n",
       "         'público': 1,\n",
       "         'phil_lewis_': 4,\n",
       "         'returning': 5,\n",
       "         'facebook': 4,\n",
       "         'watch': 4,\n",
       "         'tomorrow': 4,\n",
       "         'i': 1,\n",
       "         'respond': 1,\n",
       "         'oscarslap': 1,\n",
       "         'light': 1,\n",
       "         'easter': 1,\n",
       "         'brokensaintblog': 1,\n",
       "         'deucaliondurden': 1,\n",
       "         'le': 1,\n",
       "         'scène': 1,\n",
       "         '🎬': 1,\n",
       "         'hommes': 1,\n",
       "         'femmes': 1,\n",
       "         'tous…n': 1,\n",
       "         'sont': 1,\n",
       "         'que': 1,\n",
       "         'des': 1,\n",
       "         'hoax': 1,\n",
       "         '👁🔺': 1,\n",
       "         'claque👋': 1,\n",
       "         'justjared': 3,\n",
       "         'backstage': 4,\n",
       "         'going': 5,\n",
       "         'slaps': 2,\n",
       "         'rock': 6,\n",
       "         'jehangirmalik': 1,\n",
       "         'feelingblessed': 1,\n",
       "         'ramadan': 1,\n",
       "         'eve': 1,\n",
       "         'appgbritmuslims': 1,\n",
       "         'array': 1,\n",
       "         'talent': 1,\n",
       "         'inclu…liza': 1,\n",
       "         'stage': 2,\n",
       "         'ellemagazine': 2,\n",
       "         'dakota': 2,\n",
       "         'johnson': 2,\n",
       "         'looked': 2,\n",
       "         'princess': 2,\n",
       "         'gucci': 2,\n",
       "         'longtime': 2,\n",
       "         'director': 2,\n",
       "         'production': 2,\n",
       "         'company': 1,\n",
       "         'had': 1,\n",
       "         'experience': 1,\n",
       "         'were': 3,\n",
       "         'heads': 1,\n",
       "         'show': 1,\n",
       "         'academy': 1,\n",
       "         'cuts': 1,\n",
       "         'awards': 1,\n",
       "         'broadcast': 1,\n",
       "         'indication': 1,\n",
       "         'years': 1,\n",
       "         'want': 2,\n",
       "         'chair': 1,\n",
       "         'pride': 1,\n",
       "         'wants': 1,\n",
       "         'packer': 1,\n",
       "         'said': 1,\n",
       "         'leave': 1,\n",
       "         'sources': 1,\n",
       "         'say': 1,\n",
       "         'tmzone': 1,\n",
       "         'collaborators': 1,\n",
       "         'friends': 1,\n",
       "         'appearance': 1,\n",
       "         'part': 1,\n",
       "         'seen': 1,\n",
       "         'released': 1,\n",
       "         'discuss': 1,\n",
       "         'debacle': 1,\n",
       "         'acceptance': 1,\n",
       "         'speech': 1,\n",
       "         'spiked': 1,\n",
       "         'audience': 1,\n",
       "         'viewers': 1,\n",
       "         'johnapp63499667': 1,\n",
       "         'south': 1,\n",
       "         'park': 1,\n",
       "         'animated': 1,\n",
       "         'greatest-night': 1,\n",
       "         'television': 1,\n",
       "         'historygaga': 1,\n",
       "         'moment': 1,\n",
       "         'deadline': 1,\n",
       "         'extratv': 1,\n",
       "         'table': 3,\n",
       "         'wake': 2,\n",
       "         'altercation': 2,\n",
       "         'markcovino': 1,\n",
       "         'shame': 2,\n",
       "         'kill': 2,\n",
       "         'trash': 2,\n",
       "         'heap…': 2,\n",
       "         'payne': 1,\n",
       "         'explains': 1,\n",
       "         'accent': 1,\n",
       "         'felt': 1,\n",
       "         'shaken': 1,\n",
       "         'being': 1,\n",
       "         'thejoshuablog': 1,\n",
       "         'huffpostqueer': 3,\n",
       "         'huffpostent': 1,\n",
       "         '|': 1,\n",
       "         'politicsmichael': 1,\n",
       "         'update': 1,\n",
       "         \"smith'sred\": 1,\n",
       "         'revealed': 1,\n",
       "         'episodes': 1,\n",
       "         'missing': 1,\n",
       "         'guest': 1,\n",
       "         'know': 1,\n",
       "         'states': 1,\n",
       "         'mandates': 1,\n",
       "         'weren': 1,\n",
       "         't': 2,\n",
       "         'covid': 1,\n",
       "         'science': 1,\n",
       "         'isn': 1,\n",
       "         'union': 1,\n",
       "         'airplane': 1,\n",
       "         'air': 1,\n",
       "         'benson': 1,\n",
       "         'spotted': 1,\n",
       "         'making': 1,\n",
       "         'pre-oscars': 1,\n",
       "         'party': 1,\n",
       "         'pagesix': 1})"
      ]
     },
     "execution_count": 8,
     "metadata": {},
     "output_type": "execute_result"
    }
   ],
   "source": [
    "from collections import Counter\n",
    "c = Counter(final_words)\n",
    "c"
   ]
  },
  {
   "cell_type": "code",
   "execution_count": 9,
   "metadata": {},
   "outputs": [
    {
     "data": {
      "text/html": [
       "<div>\n",
       "<style scoped>\n",
       "    .dataframe tbody tr th:only-of-type {\n",
       "        vertical-align: middle;\n",
       "    }\n",
       "\n",
       "    .dataframe tbody tr th {\n",
       "        vertical-align: top;\n",
       "    }\n",
       "\n",
       "    .dataframe thead th {\n",
       "        text-align: right;\n",
       "    }\n",
       "</style>\n",
       "<table border=\"1\" class=\"dataframe\">\n",
       "  <thead>\n",
       "    <tr style=\"text-align: right;\">\n",
       "      <th></th>\n",
       "      <th>words</th>\n",
       "      <th>freq</th>\n",
       "    </tr>\n",
       "  </thead>\n",
       "  <tbody>\n",
       "    <tr>\n",
       "      <th>0</th>\n",
       "      <td>oscars</td>\n",
       "      <td>65</td>\n",
       "    </tr>\n",
       "    <tr>\n",
       "      <th>2</th>\n",
       "      <td>minnelli</td>\n",
       "      <td>36</td>\n",
       "    </tr>\n",
       "    <tr>\n",
       "      <th>3</th>\n",
       "      <td>claims</td>\n",
       "      <td>33</td>\n",
       "    </tr>\n",
       "    <tr>\n",
       "      <th>4</th>\n",
       "      <td>ceremony</td>\n",
       "      <td>29</td>\n",
       "    </tr>\n",
       "    <tr>\n",
       "      <th>5</th>\n",
       "      <td>collaborator</td>\n",
       "      <td>29</td>\n",
       "    </tr>\n",
       "    <tr>\n",
       "      <th>...</th>\n",
       "      <td>...</td>\n",
       "      <td>...</td>\n",
       "    </tr>\n",
       "    <tr>\n",
       "      <th>308</th>\n",
       "      <td>spotted</td>\n",
       "      <td>1</td>\n",
       "    </tr>\n",
       "    <tr>\n",
       "      <th>309</th>\n",
       "      <td>making</td>\n",
       "      <td>1</td>\n",
       "    </tr>\n",
       "    <tr>\n",
       "      <th>310</th>\n",
       "      <td>pre-oscars</td>\n",
       "      <td>1</td>\n",
       "    </tr>\n",
       "    <tr>\n",
       "      <th>311</th>\n",
       "      <td>party</td>\n",
       "      <td>1</td>\n",
       "    </tr>\n",
       "    <tr>\n",
       "      <th>312</th>\n",
       "      <td>pagesix</td>\n",
       "      <td>1</td>\n",
       "    </tr>\n",
       "  </tbody>\n",
       "</table>\n",
       "<p>312 rows × 2 columns</p>\n",
       "</div>"
      ],
      "text/plain": [
       "            words  freq\n",
       "0          oscars    65\n",
       "2        minnelli    36\n",
       "3          claims    33\n",
       "4        ceremony    29\n",
       "5    collaborator    29\n",
       "..            ...   ...\n",
       "308       spotted     1\n",
       "309        making     1\n",
       "310    pre-oscars     1\n",
       "311         party     1\n",
       "312       pagesix     1\n",
       "\n",
       "[312 rows x 2 columns]"
      ]
     },
     "execution_count": 9,
     "metadata": {},
     "output_type": "execute_result"
    }
   ],
   "source": [
    "most_common = c.most_common()\n",
    "\n",
    "words = [x[0] for x in most_common]\n",
    "freq = [x[1] for x in most_common]\n",
    "\n",
    "df = pd.DataFrame()\n",
    "df['words'] = words\n",
    "df['freq'] = freq\n",
    "\n",
    "df1 = df.drop(1)\n",
    "df1\n"
   ]
  },
  {
   "cell_type": "code",
   "execution_count": 10,
   "metadata": {},
   "outputs": [],
   "source": [
    "df1.to_csv(\"MCoscars2022.csv\", index = False)"
   ]
  },
  {
   "cell_type": "code",
   "execution_count": 11,
   "metadata": {},
   "outputs": [
    {
     "data": {
      "application/vnd.plotly.v1+json": {
       "config": {
        "plotlyServerURL": "https://plot.ly"
       },
       "data": [
        {
         "alignmentgroup": "True",
         "hovertemplate": "words=%{x}<br>freq=%{y}<extra></extra>",
         "legendgroup": "",
         "marker": {
          "color": "#636efa",
          "pattern": {
           "shape": ""
          }
         },
         "name": "",
         "offsetgroup": "",
         "orientation": "v",
         "showlegend": false,
         "textposition": "auto",
         "type": "bar",
         "x": [
          "oscars",
          "minnelli",
          "claims",
          "ceremony",
          "collaborator",
          "smith",
          "sabotaged",
          "feinstein",
          "wheelchair",
          "wassabotaged"
         ],
         "xaxis": "x",
         "y": [
          65,
          36,
          33,
          29,
          29,
          23,
          22,
          19,
          16,
          15
         ],
         "yaxis": "y"
        }
       ],
       "layout": {
        "barmode": "relative",
        "legend": {
         "tracegroupgap": 0
        },
        "margin": {
         "t": 60
        },
        "template": {
         "data": {
          "bar": [
           {
            "error_x": {
             "color": "#2a3f5f"
            },
            "error_y": {
             "color": "#2a3f5f"
            },
            "marker": {
             "line": {
              "color": "#E5ECF6",
              "width": 0.5
             },
             "pattern": {
              "fillmode": "overlay",
              "size": 10,
              "solidity": 0.2
             }
            },
            "type": "bar"
           }
          ],
          "barpolar": [
           {
            "marker": {
             "line": {
              "color": "#E5ECF6",
              "width": 0.5
             },
             "pattern": {
              "fillmode": "overlay",
              "size": 10,
              "solidity": 0.2
             }
            },
            "type": "barpolar"
           }
          ],
          "carpet": [
           {
            "aaxis": {
             "endlinecolor": "#2a3f5f",
             "gridcolor": "white",
             "linecolor": "white",
             "minorgridcolor": "white",
             "startlinecolor": "#2a3f5f"
            },
            "baxis": {
             "endlinecolor": "#2a3f5f",
             "gridcolor": "white",
             "linecolor": "white",
             "minorgridcolor": "white",
             "startlinecolor": "#2a3f5f"
            },
            "type": "carpet"
           }
          ],
          "choropleth": [
           {
            "colorbar": {
             "outlinewidth": 0,
             "ticks": ""
            },
            "type": "choropleth"
           }
          ],
          "contour": [
           {
            "colorbar": {
             "outlinewidth": 0,
             "ticks": ""
            },
            "colorscale": [
             [
              0,
              "#0d0887"
             ],
             [
              0.1111111111111111,
              "#46039f"
             ],
             [
              0.2222222222222222,
              "#7201a8"
             ],
             [
              0.3333333333333333,
              "#9c179e"
             ],
             [
              0.4444444444444444,
              "#bd3786"
             ],
             [
              0.5555555555555556,
              "#d8576b"
             ],
             [
              0.6666666666666666,
              "#ed7953"
             ],
             [
              0.7777777777777778,
              "#fb9f3a"
             ],
             [
              0.8888888888888888,
              "#fdca26"
             ],
             [
              1,
              "#f0f921"
             ]
            ],
            "type": "contour"
           }
          ],
          "contourcarpet": [
           {
            "colorbar": {
             "outlinewidth": 0,
             "ticks": ""
            },
            "type": "contourcarpet"
           }
          ],
          "heatmap": [
           {
            "colorbar": {
             "outlinewidth": 0,
             "ticks": ""
            },
            "colorscale": [
             [
              0,
              "#0d0887"
             ],
             [
              0.1111111111111111,
              "#46039f"
             ],
             [
              0.2222222222222222,
              "#7201a8"
             ],
             [
              0.3333333333333333,
              "#9c179e"
             ],
             [
              0.4444444444444444,
              "#bd3786"
             ],
             [
              0.5555555555555556,
              "#d8576b"
             ],
             [
              0.6666666666666666,
              "#ed7953"
             ],
             [
              0.7777777777777778,
              "#fb9f3a"
             ],
             [
              0.8888888888888888,
              "#fdca26"
             ],
             [
              1,
              "#f0f921"
             ]
            ],
            "type": "heatmap"
           }
          ],
          "heatmapgl": [
           {
            "colorbar": {
             "outlinewidth": 0,
             "ticks": ""
            },
            "colorscale": [
             [
              0,
              "#0d0887"
             ],
             [
              0.1111111111111111,
              "#46039f"
             ],
             [
              0.2222222222222222,
              "#7201a8"
             ],
             [
              0.3333333333333333,
              "#9c179e"
             ],
             [
              0.4444444444444444,
              "#bd3786"
             ],
             [
              0.5555555555555556,
              "#d8576b"
             ],
             [
              0.6666666666666666,
              "#ed7953"
             ],
             [
              0.7777777777777778,
              "#fb9f3a"
             ],
             [
              0.8888888888888888,
              "#fdca26"
             ],
             [
              1,
              "#f0f921"
             ]
            ],
            "type": "heatmapgl"
           }
          ],
          "histogram": [
           {
            "marker": {
             "pattern": {
              "fillmode": "overlay",
              "size": 10,
              "solidity": 0.2
             }
            },
            "type": "histogram"
           }
          ],
          "histogram2d": [
           {
            "colorbar": {
             "outlinewidth": 0,
             "ticks": ""
            },
            "colorscale": [
             [
              0,
              "#0d0887"
             ],
             [
              0.1111111111111111,
              "#46039f"
             ],
             [
              0.2222222222222222,
              "#7201a8"
             ],
             [
              0.3333333333333333,
              "#9c179e"
             ],
             [
              0.4444444444444444,
              "#bd3786"
             ],
             [
              0.5555555555555556,
              "#d8576b"
             ],
             [
              0.6666666666666666,
              "#ed7953"
             ],
             [
              0.7777777777777778,
              "#fb9f3a"
             ],
             [
              0.8888888888888888,
              "#fdca26"
             ],
             [
              1,
              "#f0f921"
             ]
            ],
            "type": "histogram2d"
           }
          ],
          "histogram2dcontour": [
           {
            "colorbar": {
             "outlinewidth": 0,
             "ticks": ""
            },
            "colorscale": [
             [
              0,
              "#0d0887"
             ],
             [
              0.1111111111111111,
              "#46039f"
             ],
             [
              0.2222222222222222,
              "#7201a8"
             ],
             [
              0.3333333333333333,
              "#9c179e"
             ],
             [
              0.4444444444444444,
              "#bd3786"
             ],
             [
              0.5555555555555556,
              "#d8576b"
             ],
             [
              0.6666666666666666,
              "#ed7953"
             ],
             [
              0.7777777777777778,
              "#fb9f3a"
             ],
             [
              0.8888888888888888,
              "#fdca26"
             ],
             [
              1,
              "#f0f921"
             ]
            ],
            "type": "histogram2dcontour"
           }
          ],
          "mesh3d": [
           {
            "colorbar": {
             "outlinewidth": 0,
             "ticks": ""
            },
            "type": "mesh3d"
           }
          ],
          "parcoords": [
           {
            "line": {
             "colorbar": {
              "outlinewidth": 0,
              "ticks": ""
             }
            },
            "type": "parcoords"
           }
          ],
          "pie": [
           {
            "automargin": true,
            "type": "pie"
           }
          ],
          "scatter": [
           {
            "fillpattern": {
             "fillmode": "overlay",
             "size": 10,
             "solidity": 0.2
            },
            "type": "scatter"
           }
          ],
          "scatter3d": [
           {
            "line": {
             "colorbar": {
              "outlinewidth": 0,
              "ticks": ""
             }
            },
            "marker": {
             "colorbar": {
              "outlinewidth": 0,
              "ticks": ""
             }
            },
            "type": "scatter3d"
           }
          ],
          "scattercarpet": [
           {
            "marker": {
             "colorbar": {
              "outlinewidth": 0,
              "ticks": ""
             }
            },
            "type": "scattercarpet"
           }
          ],
          "scattergeo": [
           {
            "marker": {
             "colorbar": {
              "outlinewidth": 0,
              "ticks": ""
             }
            },
            "type": "scattergeo"
           }
          ],
          "scattergl": [
           {
            "marker": {
             "colorbar": {
              "outlinewidth": 0,
              "ticks": ""
             }
            },
            "type": "scattergl"
           }
          ],
          "scattermapbox": [
           {
            "marker": {
             "colorbar": {
              "outlinewidth": 0,
              "ticks": ""
             }
            },
            "type": "scattermapbox"
           }
          ],
          "scatterpolar": [
           {
            "marker": {
             "colorbar": {
              "outlinewidth": 0,
              "ticks": ""
             }
            },
            "type": "scatterpolar"
           }
          ],
          "scatterpolargl": [
           {
            "marker": {
             "colorbar": {
              "outlinewidth": 0,
              "ticks": ""
             }
            },
            "type": "scatterpolargl"
           }
          ],
          "scatterternary": [
           {
            "marker": {
             "colorbar": {
              "outlinewidth": 0,
              "ticks": ""
             }
            },
            "type": "scatterternary"
           }
          ],
          "surface": [
           {
            "colorbar": {
             "outlinewidth": 0,
             "ticks": ""
            },
            "colorscale": [
             [
              0,
              "#0d0887"
             ],
             [
              0.1111111111111111,
              "#46039f"
             ],
             [
              0.2222222222222222,
              "#7201a8"
             ],
             [
              0.3333333333333333,
              "#9c179e"
             ],
             [
              0.4444444444444444,
              "#bd3786"
             ],
             [
              0.5555555555555556,
              "#d8576b"
             ],
             [
              0.6666666666666666,
              "#ed7953"
             ],
             [
              0.7777777777777778,
              "#fb9f3a"
             ],
             [
              0.8888888888888888,
              "#fdca26"
             ],
             [
              1,
              "#f0f921"
             ]
            ],
            "type": "surface"
           }
          ],
          "table": [
           {
            "cells": {
             "fill": {
              "color": "#EBF0F8"
             },
             "line": {
              "color": "white"
             }
            },
            "header": {
             "fill": {
              "color": "#C8D4E3"
             },
             "line": {
              "color": "white"
             }
            },
            "type": "table"
           }
          ]
         },
         "layout": {
          "annotationdefaults": {
           "arrowcolor": "#2a3f5f",
           "arrowhead": 0,
           "arrowwidth": 1
          },
          "autotypenumbers": "strict",
          "coloraxis": {
           "colorbar": {
            "outlinewidth": 0,
            "ticks": ""
           }
          },
          "colorscale": {
           "diverging": [
            [
             0,
             "#8e0152"
            ],
            [
             0.1,
             "#c51b7d"
            ],
            [
             0.2,
             "#de77ae"
            ],
            [
             0.3,
             "#f1b6da"
            ],
            [
             0.4,
             "#fde0ef"
            ],
            [
             0.5,
             "#f7f7f7"
            ],
            [
             0.6,
             "#e6f5d0"
            ],
            [
             0.7,
             "#b8e186"
            ],
            [
             0.8,
             "#7fbc41"
            ],
            [
             0.9,
             "#4d9221"
            ],
            [
             1,
             "#276419"
            ]
           ],
           "sequential": [
            [
             0,
             "#0d0887"
            ],
            [
             0.1111111111111111,
             "#46039f"
            ],
            [
             0.2222222222222222,
             "#7201a8"
            ],
            [
             0.3333333333333333,
             "#9c179e"
            ],
            [
             0.4444444444444444,
             "#bd3786"
            ],
            [
             0.5555555555555556,
             "#d8576b"
            ],
            [
             0.6666666666666666,
             "#ed7953"
            ],
            [
             0.7777777777777778,
             "#fb9f3a"
            ],
            [
             0.8888888888888888,
             "#fdca26"
            ],
            [
             1,
             "#f0f921"
            ]
           ],
           "sequentialminus": [
            [
             0,
             "#0d0887"
            ],
            [
             0.1111111111111111,
             "#46039f"
            ],
            [
             0.2222222222222222,
             "#7201a8"
            ],
            [
             0.3333333333333333,
             "#9c179e"
            ],
            [
             0.4444444444444444,
             "#bd3786"
            ],
            [
             0.5555555555555556,
             "#d8576b"
            ],
            [
             0.6666666666666666,
             "#ed7953"
            ],
            [
             0.7777777777777778,
             "#fb9f3a"
            ],
            [
             0.8888888888888888,
             "#fdca26"
            ],
            [
             1,
             "#f0f921"
            ]
           ]
          },
          "colorway": [
           "#636efa",
           "#EF553B",
           "#00cc96",
           "#ab63fa",
           "#FFA15A",
           "#19d3f3",
           "#FF6692",
           "#B6E880",
           "#FF97FF",
           "#FECB52"
          ],
          "font": {
           "color": "#2a3f5f"
          },
          "geo": {
           "bgcolor": "white",
           "lakecolor": "white",
           "landcolor": "#E5ECF6",
           "showlakes": true,
           "showland": true,
           "subunitcolor": "white"
          },
          "hoverlabel": {
           "align": "left"
          },
          "hovermode": "closest",
          "mapbox": {
           "style": "light"
          },
          "paper_bgcolor": "white",
          "plot_bgcolor": "#E5ECF6",
          "polar": {
           "angularaxis": {
            "gridcolor": "white",
            "linecolor": "white",
            "ticks": ""
           },
           "bgcolor": "#E5ECF6",
           "radialaxis": {
            "gridcolor": "white",
            "linecolor": "white",
            "ticks": ""
           }
          },
          "scene": {
           "xaxis": {
            "backgroundcolor": "#E5ECF6",
            "gridcolor": "white",
            "gridwidth": 2,
            "linecolor": "white",
            "showbackground": true,
            "ticks": "",
            "zerolinecolor": "white"
           },
           "yaxis": {
            "backgroundcolor": "#E5ECF6",
            "gridcolor": "white",
            "gridwidth": 2,
            "linecolor": "white",
            "showbackground": true,
            "ticks": "",
            "zerolinecolor": "white"
           },
           "zaxis": {
            "backgroundcolor": "#E5ECF6",
            "gridcolor": "white",
            "gridwidth": 2,
            "linecolor": "white",
            "showbackground": true,
            "ticks": "",
            "zerolinecolor": "white"
           }
          },
          "shapedefaults": {
           "line": {
            "color": "#2a3f5f"
           }
          },
          "ternary": {
           "aaxis": {
            "gridcolor": "white",
            "linecolor": "white",
            "ticks": ""
           },
           "baxis": {
            "gridcolor": "white",
            "linecolor": "white",
            "ticks": ""
           },
           "bgcolor": "#E5ECF6",
           "caxis": {
            "gridcolor": "white",
            "linecolor": "white",
            "ticks": ""
           }
          },
          "title": {
           "x": 0.05
          },
          "xaxis": {
           "automargin": true,
           "gridcolor": "white",
           "linecolor": "white",
           "ticks": "",
           "title": {
            "standoff": 15
           },
           "zerolinecolor": "white",
           "zerolinewidth": 2
          },
          "yaxis": {
           "automargin": true,
           "gridcolor": "white",
           "linecolor": "white",
           "ticks": "",
           "title": {
            "standoff": 15
           },
           "zerolinecolor": "white",
           "zerolinewidth": 2
          }
         }
        },
        "title": {
         "text": "10 Most Common Words of 100 Tweets Under \"oscars 2022\" Topic"
        },
        "xaxis": {
         "anchor": "y",
         "domain": [
          0,
          1
         ],
         "title": {
          "text": "Word"
         }
        },
        "yaxis": {
         "anchor": "x",
         "domain": [
          0,
          1
         ],
         "title": {
          "text": "Number of Occurances"
         }
        }
       }
      }
     },
     "metadata": {},
     "output_type": "display_data"
    }
   ],
   "source": [
    "import plotly.express as px\n",
    "\n",
    "fig = px.bar(df1[:10], x= 'words', y='freq')\n",
    "fig.update_layout(\n",
    "    title=\"10 Most Common Words of 100 Tweets Under \\\"oscars 2022\\\" Topic\",\n",
    "    xaxis_title=\"Word\",\n",
    "    yaxis_title=\"Number of Occurances\")\n",
    "fig.show()"
   ]
  }
 ],
 "metadata": {
  "interpreter": {
   "hash": "ce9cee3d5ee3f2a4e0552862d2333eeebf09f6e5235c1f229d60a7fc27105b3c"
  },
  "kernelspec": {
   "display_name": "Python 3.9.7 ('base')",
   "language": "python",
   "name": "python3"
  },
  "language_info": {
   "codemirror_mode": {
    "name": "ipython",
    "version": 3
   },
   "file_extension": ".py",
   "mimetype": "text/x-python",
   "name": "python",
   "nbconvert_exporter": "python",
   "pygments_lexer": "ipython3",
   "version": "3.9.7"
  },
  "orig_nbformat": 4
 },
 "nbformat": 4,
 "nbformat_minor": 2
}
