{
  "cells": [
    {
      "cell_type": "code",
      "execution_count": 1,
      "metadata": {
        "id": "LaAsBF_f1GoK"
      },
      "outputs": [],
      "source": [
        "#\n",
        "# hw6pr4.py and hw7pr1.py ~ cs181y/cs35 spring 2022\n",
        "#\n",
        "\n",
        "#\n",
        "# Note the Colab version of these problems uses  gensim 3.8.3   (the local version uses 4.0)\n",
        "#\n",
        "\n",
        "\n",
        "# our libraries\n",
        "import numpy as np\n",
        "import matplotlib.pyplot as plt\n",
        "import seaborn as sns \n",
        "sns.set_theme(style=\"darkgrid\")"
      ]
    },
    {
      "cell_type": "markdown",
      "metadata": {},
      "source": [
        "- word2vect (average alignment score: with anger etc)\n",
        "counter"
      ]
    },
    {
      "cell_type": "code",
      "execution_count": 2,
      "metadata": {
        "id": "0joosV6N1GoN"
      },
      "outputs": [],
      "source": [
        "#\n",
        "# ok! On to word-vectors...\n",
        "#\n",
        "import gensim"
      ]
    },
    {
      "cell_type": "code",
      "execution_count": 3,
      "metadata": {
        "colab": {
          "base_uri": "https://localhost:8080/"
        },
        "id": "U2NMSxCJ1GoO",
        "outputId": "d106e7ea-c36f-4556-8c26-0d1e499186d8"
      },
      "outputs": [
        {
          "name": "stdout",
          "output_type": "stream",
          "text": [
            "app.py                      oscars2022SlapGraph.ipynb\n",
            "chrisRock.csv               projDataAnalysis.ipynb\n",
            "credentials.txt             slap_oscars2022.csv\n",
            "dash_pract.ipynb            tweetMetrics.ipynb\n",
            "hw9_project_progress.ipynb  willSmith.csv\n",
            "nltk_test.ipynb             word2vec.ipynb\n",
            "oscars2022.csv              word2vec_model.txt\n"
          ]
        }
      ],
      "source": [
        "# \n",
        "# Most important is installing gensim, the word-embedding (word2vec and glove) library\n",
        "# \n",
        "# At the command-line use your-path-to-pip  or  your-path-to-pip3, then:\n",
        "\n",
        "# <your-path>/pip install --upgrade gensim\n",
        "\n",
        "# You may need to restart this notebook (or its kernel) in order to use it.\n",
        "# You will need a large \"word embeddings file,\" too.\n",
        "\n",
        "# Grab    word2vec_model.txt   from the assignment page and be sure it's here:\n",
        "%ls\n",
        "\n",
        "# you will want to be sure to see    word2vec_model.txt    within the results!"
      ]
    },
    {
      "cell_type": "code",
      "execution_count": 4,
      "metadata": {
        "colab": {
          "base_uri": "https://localhost:8080/"
        },
        "id": "7rClOOQK1GoP",
        "outputId": "3fb9ff04-7b6d-4344-c648-7810e40196d7"
      },
      "outputs": [
        {
          "name": "stdout",
          "output_type": "stream",
          "text": [
            "Starting to load the model in  word2vec_model.txt ...\n",
            "Model loaded.\n",
            "\n",
            "The model built is <gensim.models.keyedvectors.KeyedVectors object at 0x7feaa87aa0a0> \n",
            "\n",
            "The vocabulary has 43981 words\n",
            "Each word is a vector of size 300\n",
            "\n",
            "Try m.get_vector('python') to see a the vector for 'python'!\n",
            "\n"
          ]
        },
        {
          "name": "stderr",
          "output_type": "stream",
          "text": [
            "/var/folders/yk/v4q7xgf968jgjzrckxn2cqx40000gn/T/ipykernel_30404/3267115252.py:27: DeprecationWarning: Call to deprecated `init_sims` (Use fill_norms() instead. See https://github.com/RaRe-Technologies/gensim/wiki/Migrating-from-Gensim-3.x-to-4).\n",
            "  model.init_sims()  # freezes the model, m, as-is (no more training)\n"
          ]
        }
      ],
      "source": [
        "#\n",
        "# Create a model, m, using\n",
        "# \n",
        "#     m = read_word2vec_model()\n",
        "#\n",
        "\n",
        "from gensim.models import KeyedVectors\n",
        "\n",
        "def read_word2vec_model(filename):  \n",
        "    \"\"\" a function that reads a word2vec model from the file\n",
        "        \"word2vec_model.txt\" and returns a model object that\n",
        "        we will usually name m or model...\n",
        "    \"\"\"\n",
        "    try:\n",
        "        print(\"Starting to load the model in \", filename, \"...\")\n",
        "        model = KeyedVectors.load_word2vec_format(filename, binary=False)\n",
        "        print(\"Model loaded.\\n\")\n",
        "    except FileNotFoundError as e:\n",
        "        print(f\"  [WARNING]    The file {filename} was not found.     [WARNING]  \")\n",
        "        return None   # returning a placeholder, not a model\n",
        "\n",
        "    # let's print some attributes\n",
        "    print(\"The model built is\", model, \"\\n\")\n",
        "    print(\"The vocabulary has\", model.vectors.shape[0], \"words\")   # The vocabulary has 43981 words\n",
        "    print(\"Each word is a vector of size\", model.vector_size)  # 300\n",
        "    print(\"\\nTry m.get_vector('python') to see a the vector for 'python'!\\n\")\n",
        "    model.init_sims()  # freezes the model, m, as-is (no more training)\n",
        "    # we weren't going to train more, so no worries (in week7, at least)\n",
        "    return model\n",
        "\n",
        "\n",
        "m = read_word2vec_model(filename = \"word2vec_model.txt\")\n"
      ]
    },
    {
      "cell_type": "code",
      "execution_count": 5,
      "metadata": {
        "colab": {
          "base_uri": "https://localhost:8080/"
        },
        "id": "QLcfO5qR1GoQ",
        "outputId": "54dc664d-22ac-41bf-fd31-84361d8f017a"
      },
      "outputs": [
        {
          "data": {
            "text/plain": [
              "True"
            ]
          },
          "execution_count": 5,
          "metadata": {},
          "output_type": "execute_result"
        }
      ],
      "source": [
        "#\n",
        "# you can use Python's in operator to check if a word is in the vocabulary\n",
        "#\n",
        "\n",
        "'python' in m   # for this model, everything is lowercase"
      ]
    },
    {
      "cell_type": "code",
      "execution_count": 6,
      "metadata": {
        "colab": {
          "base_uri": "https://localhost:8080/"
        },
        "id": "gEbZvp221GoQ",
        "outputId": "e09dcb9b-baca-4761-9aae-a48324c71070"
      },
      "outputs": [
        {
          "data": {
            "text/plain": [
              "False"
            ]
          },
          "execution_count": 6,
          "metadata": {},
          "output_type": "execute_result"
        }
      ],
      "source": [
        "#\n",
        "# 40,000 words really isn't that many\n",
        "#\n",
        "\n",
        "'google' in m   # this large number is not there (nor is \"google\")"
      ]
    },
    {
      "cell_type": "code",
      "execution_count": 7,
      "metadata": {
        "colab": {
          "base_uri": "https://localhost:8080/"
        },
        "id": "BTU2xsPG1GoQ",
        "outputId": "dc42ce00-d650-45b5-9aee-ce65d1ff14f7"
      },
      "outputs": [
        {
          "data": {
            "text/plain": [
              "True"
            ]
          },
          "execution_count": 7,
          "metadata": {},
          "output_type": "execute_result"
        }
      ],
      "source": [
        "# but 'python' _is_ present:\n",
        "\n",
        "'python' in m"
      ]
    },
    {
      "cell_type": "code",
      "execution_count": 8,
      "metadata": {
        "colab": {
          "base_uri": "https://localhost:8080/"
        },
        "id": "pbJkP8PC1GoR",
        "outputId": "f5508c47-d7d5-46c6-a573-97aca3b92aae"
      },
      "outputs": [
        {
          "data": {
            "text/plain": [
              "array([ 0.0731009 ,  0.0326895 , -0.107592  ,  0.041441  , -0.0519943 ,\n",
              "       -0.0310164 ,  0.017503  ,  0.0218788 , -0.0777341 ,  0.0756749 ,\n",
              "       -0.0122264 , -0.143113  , -0.0212353 , -0.0253537 , -0.0620328 ,\n",
              "       -0.0767045 ,  0.044015  ,  0.0208492 , -0.0689826 , -0.00855847,\n",
              "       -0.0229084 , -0.0561127 ,  0.0509647 ,  0.080308  ,  0.0126125 ,\n",
              "       -0.00868717, -0.102444  ,  0.0648642 ,  0.152379  , -0.0823672 ,\n",
              "       -0.010682  ,  0.0885448 , -0.00669234, -0.0432428 , -0.0240667 ,\n",
              "        0.0329469 , -0.0178891 ,  0.0607458 , -0.00242919,  0.0998703 ,\n",
              "       -0.0113255 , -0.00701408,  0.0240667 ,  0.0870004 , -0.00727148,\n",
              "       -0.0664086 ,  0.0383522 ,  0.0169882 ,  0.0365505 , -0.01879   ,\n",
              "        0.010682  ,  0.0013996 ,  0.148261  , -0.0736157 ,  0.0638346 ,\n",
              "       -0.0517369 ,  0.0844264 , -0.0432428 ,  0.0684678 ,  0.0355209 ,\n",
              "        0.0684678 , -0.0169882 , -0.0253537 , -0.017503  , -0.0700121 ,\n",
              "        0.0119046 , -0.0176317 , -0.0664086 , -0.047876  , -0.00711061,\n",
              "        0.038867  , -0.0299868 , -0.0272841 , -0.0561127 , -0.042728  ,\n",
              "        0.118918  ,  0.0957519 , -0.120977  , -0.00965241,  0.00160873,\n",
              "       -0.00456881,  0.0787637 , -0.016023  , -0.0054697 , -0.0512221 ,\n",
              "        0.0114542 , -0.107077  , -0.0499351 ,  0.0254824 , -0.0604884 ,\n",
              "       -0.0274128 ,  0.0005148 ,  0.0114542 ,  0.00920196, -0.0167308 ,\n",
              "       -0.0875152 , -0.0135777 ,  0.00588797,  0.0942075 , -0.0669234 ,\n",
              "       -0.0266406 , -0.0849412 ,  0.0198196 , -0.0849412 ,  0.0154439 ,\n",
              "        0.03758   ,  0.0148004 , -0.0656364 , -0.0705269 , -0.0658938 ,\n",
              "       -0.00894457, -0.0694973 ,  0.0525091 ,  0.143113  , -0.0227797 ,\n",
              "        0.0106177 , -0.0463316 , -0.106048  ,  0.0159587 ,  0.01879   ,\n",
              "       -0.0571423 , -0.0136421 , -0.0658938 , -0.00357139,  0.0135134 ,\n",
              "        0.045302  ,  0.0895744 ,  0.0218788 ,  0.0159587 , -0.0756749 ,\n",
              "        0.0162804 ,  0.0368079 , -0.0527665 ,  0.0885448 , -0.0808228 ,\n",
              "        0.114285  , -0.014736  ,  0.012162  ,  0.0483907 ,  0.138995  ,\n",
              "       -0.0238093 , -0.114799  , -0.0957519 ,  0.0530239 ,  0.0720713 ,\n",
              "        0.0190474 , -0.0471038 ,  0.0885448 ,  0.0110681 ,  0.00371618,\n",
              "        0.128699  , -0.0481333 , -0.107592  ,  0.0746453 ,  0.0797933 ,\n",
              "       -0.0633198 , -0.148261  ,  0.0284424 , -0.0150578 , -0.0130629 ,\n",
              "        0.0202057 , -0.0236806 ,  0.0424706 , -0.0196909 , -0.0512221 ,\n",
              "        0.00281529,  0.0715565 , -0.0643494 , -0.0365505 ,  0.0525091 ,\n",
              "       -0.00698191,  0.111196  , -0.0274128 ,  0.0777341 , -0.0548257 ,\n",
              "        0.0193048 ,  0.168853  ,  0.0972963 , -0.0669234 ,  0.014543  ,\n",
              "       -0.000736  ,  0.0664086 , -0.0245815 , -0.0323034 , -0.0110681 ,\n",
              "        0.00460098,  0.0191761 ,  0.0555979 , -0.00304051,  0.0024131 ,\n",
              "        0.0416984 , -0.0158943 , -0.0455594 ,  0.0530239 , -0.0177604 ,\n",
              "        0.0694973 , -0.0993555 , -0.0168595 , -0.0859708 , -0.030759  ,\n",
              "        0.0576571 , -0.0875152 ,  0.00450446,  0.0532813 ,  0.0463316 ,\n",
              "       -0.0347487 ,  0.128699  ,  0.0471038 ,  0.0741305 ,  0.0463316 ,\n",
              "       -0.0808228 , -0.0245815 ,  0.0126125 , -0.0823672 , -0.0720713 ,\n",
              "        0.0669234 ,  0.0772193 , -0.0286998 ,  0.0160873 ,  0.0509647 ,\n",
              "       -0.0373227 ,  0.0266406 , -0.0736157 , -0.0152508 , -0.0299868 ,\n",
              "       -0.0782489 , -0.0154439 ,  0.0584293 ,  0.00242919,  0.00669234,\n",
              "        0.0409262 , -0.0684678 , -0.0245815 , -0.0398966 ,  0.0530239 ,\n",
              "        0.0234232 ,  0.0947223 ,  0.0232945 ,  0.0437576 ,  0.0148647 ,\n",
              "        0.0378374 , -0.0146717 ,  0.0076254 , -0.0380948 ,  0.0355209 ,\n",
              "       -0.0445298 ,  0.0167308 , -0.00836542,  0.0368079 , -0.0355209 ,\n",
              "       -0.0610032 ,  0.0594588 ,  0.047876  , -0.0458168 ,  0.0792785 ,\n",
              "       -0.0101029 , -0.0386096 , -0.00201092, -0.0216214 ,  0.062805  ,\n",
              "        0.114285  ,  0.0731009 , -0.00875152, -0.0146073 ,  0.0279276 ,\n",
              "        0.0725861 , -0.0302442 ,  0.0391244 , -0.0220075 ,  0.00900892,\n",
              "       -0.0527665 ,  0.0302442 , -0.121492  ,  0.0604884 ,  0.0537961 ,\n",
              "        0.0229084 ,  0.0217501 ,  0.0731009 , -0.0209779 , -0.0050836 ,\n",
              "       -0.00344269,  0.0761897 ,  0.0432428 ,  0.0507073 , -0.0163447 ,\n",
              "       -0.0988407 ,  0.0171169 ,  0.010489  ,  0.0926631 ,  0.0137064 ,\n",
              "       -0.0592014 ,  0.00153634, -0.0298581 ,  0.0612606 ,  0.00888022,\n",
              "        0.0181465 , -0.0689826 ,  0.129214  , -0.0571423 , -0.00164091],\n",
              "      dtype=float32)"
            ]
          },
          "execution_count": 8,
          "metadata": {},
          "output_type": "execute_result"
        }
      ],
      "source": [
        "# let's see it!\n",
        "\n",
        "m.get_vector('python')"
      ]
    },
    {
      "cell_type": "code",
      "execution_count": 9,
      "metadata": {
        "colab": {
          "base_uri": "https://localhost:8080/"
        },
        "id": "uKBnwAoDPr2E",
        "outputId": "d7dfbbc8-f501-44c0-aa58-4d63c34070c5"
      },
      "outputs": [
        {
          "data": {
            "text/plain": [
              "array([ 0.00173332, -0.0474043 , -0.022896  ,  0.0407935 ,  0.0435346 ,\n",
              "       -0.0293455 , -0.0235409 , -0.0715902 , -0.0651406 ,  0.0183813 ,\n",
              "       -0.0249921 , -0.125767  ,  0.0343439 , -0.00026957,  0.043857  ,\n",
              "        0.0372462 ,  0.0240246 , -0.015479  ,  0.0217673 ,  0.0311192 ,\n",
              "        0.0628833 ,  0.045147  , -0.0780398 , -0.0391811 ,  0.021606  ,\n",
              "       -0.0175751 , -0.101903  ,  0.030313  ,  0.0622383 , -0.0551438 ,\n",
              "       -0.0515965 , -0.0432121 , -0.0272494 ,  0.0703003 , -0.117382  ,\n",
              "       -0.0435346 ,  0.0317641 ,  0.0870691 , -0.0312804 ,  0.0606259 ,\n",
              "        0.0353114 , -0.137376  ,  0.089004  , -0.00915032,  0.0580461 ,\n",
              "       -0.0372462 , -0.00136046,  0.0480493 ,  0.0515965 ,  0.0883591 ,\n",
              "       -0.00592554,  0.0325703 ,  0.0174944 , -0.0103193 , -0.0538539 ,\n",
              "       -0.0191875 , -0.113512  , -0.0570787 ,  0.03773   , -0.0298292 ,\n",
              "        0.044502  ,  0.0922288 , -0.0164464 ,  0.0428896 ,  0.0580461 ,\n",
              "       -0.0732026 , -0.0039302 ,  0.0464369 , -0.059981  ,  0.0391811 ,\n",
              "        0.0532089 ,  0.0709452 , -0.0699778 ,  0.0419222 , -0.033054  ,\n",
              "        0.045147  ,  0.0419222 ,  0.00505888,  0.0345052 , -0.00919063,\n",
              "       -0.019913  ,  0.00733638,  0.059981  , -0.022251  ,  0.0162045 ,\n",
              "        0.0509516 , -0.0825544 ,  0.0461144 ,  0.0973884 ,  0.0351501 ,\n",
              "        0.110933  , -0.073525  , -0.0412772 , -0.0174944 ,  0.0635282 ,\n",
              "        0.0225735 ,  0.0230572 , -0.017172  ,  0.0477268 ,  0.00148138,\n",
              "       -0.00334571, -0.0490167 ,  0.0719127 , -0.0644957 , -0.128991  ,\n",
              "        0.025637  , -0.189617  , -0.0261207 , -0.0133828 , -0.0619158 ,\n",
              "        0.0838444 ,  0.051919  ,  0.0412772 ,  0.0464369 ,  0.0664305 ,\n",
              "       -0.0193487 ,  0.0557887 , -0.0928738 ,  0.0567562 ,  0.0632057 ,\n",
              "        0.0399873 , -0.0496617 , -0.00229766, -0.0783622 ,  0.0461144 ,\n",
              "       -0.00276122, -0.0155596 ,  0.0483717 , -0.0187844 ,  0.033699  ,\n",
              "        0.0278944 ,  0.0699778 , -0.00604647,  0.166399  , -0.0160433 ,\n",
              "        0.0732026 , -0.0844893 ,  0.0112867 ,  0.0522415 , -0.0111255 ,\n",
              "        0.022251  , -0.0831994 ,  0.0152371 , -0.0240246 ,  0.026282  ,\n",
              "        0.0139472 , -0.00042577,  0.066753  , -0.0432121 , -0.019913  ,\n",
              "        0.012496  ,  0.0448245 ,  0.0369238 , -0.0812645 , -0.0790072 ,\n",
              "       -0.0780398 , -0.0142697 , -0.00959373,  0.0777173 , -0.00128991,\n",
              "       -0.0166076 ,  0.0609484 ,  0.166399  , -0.00220696, -0.011448  ,\n",
              "       -0.0249921 ,  0.0203161 , -0.103838  , -0.0124154 ,  0.0780398 ,\n",
              "       -0.0422447 ,  0.0509516 ,  0.0980334 ,  0.00894877, -0.0564337 ,\n",
              "       -0.07417   ,  0.00079612,  0.0349889 , -0.0109643 ,  0.00481702,\n",
              "       -0.0712677 ,  0.081587  , -0.0245083 , -0.033699  ,  0.0557887 ,\n",
              "       -0.0166076 ,  0.0686879 , -0.0127379 , -0.073525  ,  0.0909389 ,\n",
              "       -0.0196712 , -0.00580461,  0.00592554,  0.0293455 ,  0.0425671 ,\n",
              "        0.0603034 ,  0.0477268 ,  0.0343439 , -0.043857  , -0.107708  ,\n",
              "        0.0012748 , -0.0375687 , -0.0166883 , -0.0432121 ,  0.00729607,\n",
              "       -0.0483717 ,  0.0354726 ,  0.0761049 ,  0.0503066 ,  0.0751374 ,\n",
              "        0.0159627 ,  0.0224122 , -0.0224122 , -0.0851343 ,  0.037085  ,\n",
              "        0.00119922, -0.0396648 , -0.0703003 ,  0.037085  ,  0.0401485 ,\n",
              "        0.0225735 ,  0.0162045 ,  0.0902939 , -0.00099767, -0.0012496 ,\n",
              "        0.00063992,  0.0619158 , -0.0960985 ,  0.0298292 ,  0.0870691 ,\n",
              "       -0.0844893 , -0.0948086 , -0.134796  ,  0.0348277 ,  0.130926  ,\n",
              "       -0.0240246 , -0.0142697 , -0.0209611 , -0.00019903, -0.0380524 ,\n",
              "        0.103838  , -0.073525  ,  0.0448245 , -0.00648988,  0.0506291 ,\n",
              "        0.00118914, -0.0396648 ,  0.0214448 ,  0.0535314 , -0.0551438 ,\n",
              "        0.010803  , -0.00115891,  0.0622383 ,  0.0638507 ,  0.043857  ,\n",
              "        0.0224122 , -0.112867  , -0.0275719 , -0.0973884 , -0.00693328,\n",
              "        0.0293455 ,  0.107063  , -0.121897  , -0.0283781 , -0.0163658 ,\n",
              "        0.0435346 ,  0.0145921 ,  0.118672  ,  0.0709452 ,  0.0877141 ,\n",
              "       -0.0902939 ,  0.0777173 ,  0.03773   ,  0.029023  ,  0.0619158 ,\n",
              "       -0.109643  ,  0.0499841 , -0.0119317 , -0.0393424 ,  0.0915838 ,\n",
              "        0.0357951 , -0.0240246 ,  0.0767498 ,  0.00072558,  0.0786847 ,\n",
              "       -0.082232  , -0.0407935 , -0.052564  , -0.00198526,  0.0480493 ,\n",
              "       -0.00152169, -0.0744925 , -0.125122  , -0.124477  , -0.0272494 ,\n",
              "       -0.0136247 ,  0.0554663 , -0.015479  ,  0.0538539 ,  0.0509516 ],\n",
              "      dtype=float32)"
            ]
          },
          "execution_count": 9,
          "metadata": {},
          "output_type": "execute_result"
        }
      ],
      "source": [
        "m.get_vector('queen')"
      ]
    },
    {
      "cell_type": "code",
      "execution_count": 10,
      "metadata": {
        "colab": {
          "base_uri": "https://localhost:8080/"
        },
        "id": "OCtoxxUH1GoR",
        "outputId": "351248a0-c569-4462-ea85-86a11b072f35"
      },
      "outputs": [
        {
          "name": "stdout",
          "output_type": "stream",
          "text": [
            "[0.02973240055143833, 0.0428926981985569, -0.07083799690008163, -0.016003500670194626, -0.06466399878263474, 0.012266700156033039, -0.014703700318932533, -0.003939960151910782, -0.05134129896759987, 0.0857853963971138, 0.06108960136771202, -0.13907599449157715, -0.0318446010351181, -0.01567859947681427, -0.07733680307865143, -0.038018498569726944, 0.029407499358057976, -0.016003500670194626, -0.01917169988155365, -0.0396432988345623, 0.030057400465011597, 0.0019801300950348377, 0.08838500082492828, 0.03769360110163689, -0.04354260116815567, 0.02307109907269478, -0.05946490168571472, 0.026158099994063377, 0.1585730016231537, -0.05719029903411865, -0.003432230092585087, 0.08773510158061981, -0.05589050054550171, -0.047116998583078384, 0.002558940090239048, 0.001294699963182211, 0.012266700156033039, -0.023558499291539192, -0.01307899970561266, 0.07603710144758224, 0.05751520022749901, -0.015759799629449844, 0.04419250041246414, 0.03818099945783615, -0.10008300095796585, -0.03428170084953308, 0.026970399543642998, 0.0445174016058445, 0.06628870218992233, -0.019253000617027283, -0.010560699738562107, 0.08188609778881073, 0.11178100109100342, -0.07766179740428925, 0.09423399716615677, 0.002863579895347357, 0.04386749863624573, -0.05199119821190834, 0.10983099788427353, 0.13322700560092926, 0.01307899970561266, 0.038668401539325714, 0.03818099945783615, 0.0490667000412941, 0.004305520094931126, -0.08286090195178986, -0.013647699728608131, -0.05134129896759987, -0.06108960136771202, -0.020552799105644226, 0.028757600113749504, 0.0012642400106415153, 0.03948080167174339, -0.04191790148615837, -0.047766901552677155, 0.031682100147008896, -0.0428926981985569, -0.048416800796985626, 9.456399857299402e-05, -0.053940799087285995, 0.005117880180478096, 0.07278759777545929, 0.05361590161919594, -0.05913989990949631, -0.08318589627742767, 0.006661369930952787, -0.12282899767160416, -0.033306799829006195, 0.027782799676060677, -0.024045899510383606, 0.024858299642801285, 0.032494500279426575, -0.04646709933876991, 0.018440600484609604, -0.0077580600045621395, 0.011373099870979786, -0.015759799629449844, 0.029570000246167183, 0.03428170084953308, -0.00032113699126057327, 0.040943000465631485, -0.11438100039958954, 0.09553380310535431, -0.09748339653015137, 0.02989489957690239, -0.02128390036523342, 0.004752319771796465, -0.019740400835871696, -0.05654039978981018, -0.14297600090503693, -0.06888829916715622, -0.06498890370130539, 0.04256780073046684, 0.08513549715280533, -0.022421199828386307, -0.0350940003991127, -0.007514350116252899, -0.11048100143671036, -0.031032200902700424, -0.006417660042643547, -0.0237210001796484, -0.009748339653015137, -0.0445174016058445, -0.020065300166606903, -0.10008300095796585, 0.03493160009384155, 0.07733680307865143, -0.010276399552822113, 0.03525650128722191, -0.05719029903411865, -0.11438100039958954, 0.07603710144758224, -0.045492298901081085, 0.050041500478982925, -0.0077580600045621395, 0.06108960136771202, 0.012916600331664085, 0.026970399543642998, 0.034119199961423874, 0.19496700167655945, 0.0237210001796484, -0.05296599864959717, 0.005320969969034195, 0.028595099225640297, 0.02518320083618164, 0.11502999812364578, -0.08221100270748138, -0.013566399924457073, -0.04581720009446144, -0.04256780073046684, 0.08286090195178986, -0.002366000087931752, -0.13972599804401398, 0.09423399716615677, 0.051666200160980225, -0.006092709954828024, -0.11568000167608261, -0.010641899891197681, -0.047766901552677155, -0.013647699728608131, 0.03151959925889969, -0.003005739999935031, 0.014297599904239178, -0.08968470245599747, -0.04191790148615837, -0.03054480068385601, 0.0428926981985569, -0.02518320083618164, 0.0253456998616457, 0.023396000266075134, 0.023883400484919548, 0.04256780073046684, 0.019902899861335754, 0.05913989990949631, 0.011779200285673141, -0.09293419867753983, 0.08188609778881073, 0.025508200749754906, -0.051666200160980225, 0.02290860004723072, -0.10658200085163116, -0.05264100059866905, -0.04419250041246414, -0.013485199771821499, -0.07018809765577316, 0.020796500146389008, 0.02144639939069748, 0.004102429840713739, 0.016815900802612305, 0.11113099753856659, 0.03883089870214462, -0.010398199781775475, -0.10138300061225891, 0.06011480093002319, -0.0029854299500584602, 0.03395669907331467, -0.0968334972858429, -0.11958000063896179, -0.09553380310535431, -0.008204859681427479, 0.08903490006923676, -0.09423399716615677, -0.0022746101021766663, -0.011779200285673141, -0.00698630977421999, -0.008692270144820213, 0.0763619989156723, -0.013485199771821499, 0.0350940003991127, 0.03428170084953308, -0.13452699780464172, -0.04256780073046684, -0.04159289970993996, -0.18456900119781494, 0.01003270037472248, 0.0779867023229599, -0.008935979567468166, -0.012429100461304188, 0.007189400028437376, 0.02290860004723072, 0.03883089870214462, -0.01567859947681427, -0.023883400484919548, -0.03769360110163689, 0.037856098264455795, 0.0014114800142124295, 0.024045899510383606, 0.020065300166606903, -0.030219899490475655, -0.011291800066828728, 0.05913989990949631, -0.04029310122132301, -0.04159289970993996, 0.009382779709994793, 0.011616799980401993, 0.07506220042705536, 0.07993640005588531, 0.014460000209510326, 0.04143049940466881, -0.0051991199143230915, 0.12477900087833405, -0.056215401738882065, -0.04744189977645874, -0.06401409953832626, 0.10138300061225891, -0.03753110021352768, 0.007676819805055857, 0.02827019989490509, 0.04110550135374069, -0.03395669907331467, -0.09423399716615677, -0.011698000133037567, -0.023883400484919548, 0.0029651199001818895, 0.07538720220327377, 0.01754700019955635, -0.10463199764490128, -0.04256780073046684, -0.023396000266075134, -0.019253000617027283, 0.0731125995516777, 0.04191790148615837, -0.07343749701976776, 0.03070729970932007, 0.06563880294561386, 0.07506220042705536, -0.022583700716495514, -0.02144639939069748, -0.020146600902080536, -0.015841100364923477, -0.03070729970932007, 0.037856098264455795, -0.023233499377965927, 0.01673470064997673, 0.13712699711322784, 0.020796500146389008, -0.06823839992284775, 0.08221100270748138, -0.028107700869441032, 0.026482999324798584, 0.0396432988345623, 0.009585870429873466, 0.062389399856328964, 0.0685632973909378, -0.020796500146389008, -0.11828000098466873, -0.11502999812364578, -0.009910809807479382, 0.05134129896759987, 0.04224279895424843, -0.09553380310535431, 0.018603099510073662, -0.03216949850320816, 0.030057400465011597, -0.013241499662399292, -0.009788960218429565, 0.007311259862035513, 0.07896160334348679, -0.07408740371465683, 0.0428926981985569]\n"
          ]
        }
      ],
      "source": [
        "snake_embedding = m.get_vector('snake')\n",
        "L = snake_embedding.tolist()  # convert to a Python list to see it\n",
        "print(L)"
      ]
    },
    {
      "cell_type": "code",
      "execution_count": null,
      "metadata": {
        "id": "6q2Uaa9XPrK0"
      },
      "outputs": [],
      "source": []
    },
    {
      "cell_type": "code",
      "execution_count": 12,
      "metadata": {
        "id": "Yd42O4dk1GoS"
      },
      "outputs": [
        {
          "name": "stdout",
          "output_type": "stream",
          "text": [
            "[==================================================] 100.0% 104.8/104.8MB downloaded\n"
          ]
        }
      ],
      "source": [
        "# Optional:  try out a different model...\n",
        "\n",
        "# You'll need to comment-back-in these lines:\n",
        "\n",
        "import gensim.downloader as api\n",
        "\n",
        "info = api.info()  # show info about available models/datasets\n",
        "info\n",
        "\n",
        "g = api.load(\"glove-twitter-25\")   # glove models word co-occurrences, not word-replaceability"
      ]
    },
    {
      "cell_type": "code",
      "execution_count": 13,
      "metadata": {
        "id": "tn6HF7yj1GoT"
      },
      "outputs": [
        {
          "name": "stdout",
          "output_type": "stream",
          "text": [
            "[-0.25645  -0.22323   0.025901  0.22901   0.49028  -0.060829  0.24563\n",
            " -0.84854   1.5882   -0.7274    0.60603   0.25205  -1.8064   -0.95526\n",
            "  0.44867   0.013614  0.60856   0.65423   0.82506   0.99459  -0.29403\n",
            " -0.27013  -0.348    -0.7293    0.2201  ]\n"
          ]
        }
      ],
      "source": [
        "#\n",
        "# here is a glove vector with only 25 components\n",
        "#\n",
        "\n",
        "python_glove = g.get_vector('python')\n",
        "print(python_glove)"
      ]
    },
    {
      "cell_type": "code",
      "execution_count": 14,
      "metadata": {
        "id": "U3TscMuK1GoT"
      },
      "outputs": [
        {
          "data": {
            "text/plain": [
              "[('dog', 0.9590820074081421),\n",
              " ('monkey', 0.920357882976532),\n",
              " ('bear', 0.9143136143684387),\n",
              " ('pet', 0.9108031988143921),\n",
              " ('girl', 0.8880629539489746)]"
            ]
          },
          "execution_count": 14,
          "metadata": {},
          "output_type": "execute_result"
        }
      ],
      "source": [
        "#\n",
        "# first, let's show off the \"most_similar\" method\n",
        "#        the topn input indicates how many to include\n",
        "\n",
        "g.most_similar(\"cat\", topn=5)  # try python!!"
      ]
    },
    {
      "cell_type": "code",
      "execution_count": 15,
      "metadata": {
        "id": "J719-9011GoT"
      },
      "outputs": [
        {
          "data": {
            "text/plain": [
              "[('cats', 0.8099379539489746),\n",
              " ('dog', 0.760945737361908),\n",
              " ('kitten', 0.7464984655380249),\n",
              " ('feline', 0.7326231598854065),\n",
              " ('puppy', 0.7075452208518982)]"
            ]
          },
          "execution_count": 15,
          "metadata": {},
          "output_type": "execute_result"
        }
      ],
      "source": [
        "#\n",
        "# let's try it for the word2vec model, too\n",
        "\n",
        "m.most_similar(\"cat\", topn=5)   \n",
        "                                # the results are quite different between glove and word2vec\n",
        "                                # glove is \"co-occurrence\" ; word2vec is \"replaceability\""
      ]
    },
    {
      "cell_type": "code",
      "execution_count": 11,
      "metadata": {
        "id": "W-Te6Lfy1GoT"
      },
      "outputs": [],
      "source": [
        "# variable-assignment statements start to get noticeably \"meta\" ...\n",
        "python = m.get_vector('python')\n",
        "snake = m.get_vector('snake')\n",
        "code = m.get_vector('code')\n",
        "queen = m.get_vector('queen')"
      ]
    },
    {
      "cell_type": "code",
      "execution_count": 17,
      "metadata": {
        "colab": {
          "base_uri": "https://localhost:8080/"
        },
        "id": "Xn_Cb1C31GoU",
        "outputId": "db00db39-576a-4b39-cfae-a10d98f0135b"
      },
      "outputs": [
        {
          "name": "stdout",
          "output_type": "stream",
          "text": [
            "1.0\n"
          ]
        }
      ],
      "source": [
        "print(np.linalg.norm(snake))  # this is the length of the vector...\n",
        "\n",
        "# the word2vec model provides unit vectors"
      ]
    },
    {
      "cell_type": "code",
      "execution_count": 18,
      "metadata": {
        "colab": {
          "base_uri": "https://localhost:8080/"
        },
        "id": "XfnNybXQ1GoU",
        "outputId": "9e6ad12e-9cae-4e1c-87fa-ac3e2dac44c2"
      },
      "outputs": [
        {
          "data": {
            "text/plain": [
              "0.6606293"
            ]
          },
          "execution_count": 18,
          "metadata": {},
          "output_type": "execute_result"
        }
      ],
      "source": [
        "#\n",
        "# the dot product is available in the numpy library\n",
        "np.dot(python, snake)\n",
        "\n",
        "# these are unit vectors, so this is the cosine \"similarity\""
      ]
    },
    {
      "cell_type": "code",
      "execution_count": 19,
      "metadata": {
        "colab": {
          "base_uri": "https://localhost:8080/"
        },
        "id": "_sN-dVrS1GoU",
        "outputId": "3f5f0fc3-85de-4c64-cae9-15513f453518"
      },
      "outputs": [
        {
          "name": "stdout",
          "output_type": "stream",
          "text": [
            "which is 48.65282532960036 degrees\n"
          ]
        }
      ],
      "source": [
        "#\n",
        "# we can find the angle between the two vectors :-)\n",
        "deg = np.degrees(np.arccos(0.66062))  # converting from radians to degrees\n",
        "print(f\"which is {deg} degrees\")"
      ]
    },
    {
      "cell_type": "code",
      "execution_count": 20,
      "metadata": {
        "colab": {
          "base_uri": "https://localhost:8080/"
        },
        "id": "2aXZmBuZ1GoU",
        "outputId": "92da0db1-3bfb-4959-c953-35863afa6697"
      },
      "outputs": [
        {
          "name": "stdout",
          "output_type": "stream",
          "text": [
            "Help on method similarity in module gensim.models.keyedvectors:\n",
            "\n",
            "similarity(w1, w2) method of gensim.models.keyedvectors.KeyedVectors instance\n",
            "    Compute cosine similarity between two keys.\n",
            "    \n",
            "    Parameters\n",
            "    ----------\n",
            "    w1 : str\n",
            "        Input key.\n",
            "    w2 : str\n",
            "        Input key.\n",
            "    \n",
            "    Returns\n",
            "    -------\n",
            "    float\n",
            "        Cosine similarity between `w1` and `w2`.\n",
            "\n"
          ]
        }
      ],
      "source": [
        "#\n",
        "# The gensim library has its own similarity method:\n",
        "help(m.similarity)"
      ]
    },
    {
      "cell_type": "code",
      "execution_count": 21,
      "metadata": {
        "colab": {
          "base_uri": "https://localhost:8080/"
        },
        "id": "AEWsqMWJ1GoU",
        "outputId": "1fb6cff3-979b-474a-b8be-dde30d256fcc"
      },
      "outputs": [
        {
          "data": {
            "text/plain": [
              "0.66062915"
            ]
          },
          "execution_count": 21,
          "metadata": {},
          "output_type": "execute_result"
        }
      ],
      "source": [
        "# Let's try it!\n",
        "m.similarity('python','snake')   # should be the same .66062..."
      ]
    },
    {
      "cell_type": "code",
      "execution_count": 22,
      "metadata": {
        "colab": {
          "base_uri": "https://localhost:8080/"
        },
        "id": "Rcja-9T61GoV",
        "outputId": "ce0f87d7-68a0-427b-dc0a-1c8880cff417"
      },
      "outputs": [
        {
          "data": {
            "text/plain": [
              "0.33937084674835205"
            ]
          },
          "execution_count": 22,
          "metadata": {},
          "output_type": "execute_result"
        }
      ],
      "source": [
        "m.distance( 'python', 'snake' )   # This is 1 - the similarity"
      ]
    },
    {
      "cell_type": "code",
      "execution_count": 23,
      "metadata": {
        "colab": {
          "base_uri": "https://localhost:8080/"
        },
        "id": "gQL775ls1GoV",
        "outputId": "6ad62ff6-8369-4d9c-e037-08ed15775dbd"
      },
      "outputs": [
        {
          "data": {
            "text/plain": [
              "0.02125825"
            ]
          },
          "execution_count": 23,
          "metadata": {},
          "output_type": "execute_result"
        }
      ],
      "source": [
        "m.similarity( 'python', 'coffee' )   # let's see..."
      ]
    },
    {
      "cell_type": "markdown",
      "metadata": {
        "id": "j4GQZiRy1GoV"
      },
      "source": [
        "<br>\n",
        "\n",
        "####  hw6pr4 task #1: exploring dataset bias\n",
        "\n",
        "With the cell below as a starting point, explore different similarities to find one or more additional example of \"dataset bias\"\n",
        "\n",
        "Include a cell explaining your example -- and the extent to which the dataset itself can _quantify_ that similarity-bias.\n",
        "\n"
      ]
    },
    {
      "cell_type": "code",
      "execution_count": 24,
      "metadata": {
        "colab": {
          "base_uri": "https://localhost:8080/"
        },
        "id": "h6ZL_c4J1GoW",
        "outputId": "84718d56-f885-43ff-de69-b745fcb44b7d"
      },
      "outputs": [
        {
          "name": "stdout",
          "output_type": "stream",
          "text": [
            "similarity w 'woman': 0.08992718160152435\n",
            "similarity w 'man': 0.12616890668869019\n",
            "similarity w 'person': 0.22314056754112244\n"
          ]
        }
      ],
      "source": [
        "#\n",
        "# with similarity, the biases of the datset can show through: let's check \"programmer\" vs \"woman\" and \"man\"\n",
        "#\n",
        "simw = m.similarity(\"programmer\",\"woman\")\n",
        "print(f\"similarity w 'woman': {simw}\")\n",
        "\n",
        "simm = m.similarity(\"programmer\",\"man\")\n",
        "print(f\"similarity w 'man': {simm}\")\n",
        "\n",
        "simp = m.similarity(\"programmer\",\"person\")\n",
        "print(f\"similarity w 'person': {simp}\")\n",
        "\n",
        "# notice that the values provide a starting-point to _quantify_ the bias in the dataset\n",
        "# quantifying dataset bias is currently a very active area of research\n",
        "# it would also be possible to compare both of these with m.similarity(\"programmer\",\"person\") # try it!"
      ]
    },
    {
      "cell_type": "code",
      "execution_count": 25,
      "metadata": {
        "id": "8ctxyjbn1GoX"
      },
      "outputs": [
        {
          "name": "stdout",
          "output_type": "stream",
          "text": [
            "nurse example\n",
            "similarity w 'woman': 0.4413556456565857\n",
            "similarity w 'man': 0.25472283363342285\n",
            "similarity w 'person': 0.2809489667415619\n",
            "surgeon example\n",
            "similarity w 'woman': 0.2604469954967499\n",
            "similarity w 'man': 0.2430235892534256\n",
            "similarity w 'person': 0.18987378478050232\n",
            "boss example\n",
            "similarity w 'woman': 0.13914363086223602\n",
            "similarity w 'man': 0.26151806116104126\n",
            "similarity w 'person': 0.15459895133972168\n"
          ]
        }
      ],
      "source": [
        "#\n",
        "# the dataset will reflect back biases carried by the source-texts\n",
        "# as you explore these, see if the similarity-scores provide a way to quantify those biases\n",
        "# it seems that roles that are traditionally more gendered produce larger differences\n",
        "# also the gendered vs nongendered language\n",
        "print(\"nurse example\")\n",
        "simw = m.similarity(\"nurse\",\"woman\")\n",
        "print(f\"similarity w 'woman': {simw}\")\n",
        "\n",
        "simm = m.similarity(\"nurse\",\"man\")\n",
        "print(f\"similarity w 'man': {simm}\")\n",
        "\n",
        "simp = m.similarity(\"nurse\",\"person\")\n",
        "print(f\"similarity w 'person': {simp}\")\n",
        "\n",
        "print(\"surgeon example\")\n",
        "simw = m.similarity(\"surgeon\" ,\"woman\")\n",
        "print(f\"similarity w 'woman': {simw}\")\n",
        "\n",
        "simm = m.similarity(\"surgeon\",\"man\")\n",
        "print(f\"similarity w 'man': {simm}\")\n",
        "\n",
        "simp = m.similarity(\"surgeon\",\"person\")\n",
        "print(f\"similarity w 'person': {simp}\")\n",
        "\n",
        "print(\"boss example\")\n",
        "simw = m.similarity(\"boss\" ,\"woman\")\n",
        "print(f\"similarity w 'woman': {simw}\")\n",
        "\n",
        "simm = m.similarity(\"boss\",\"man\")\n",
        "print(f\"similarity w 'man': {simm}\")\n",
        "\n",
        "simp = m.similarity(\"boss\",\"person\")\n",
        "print(f\"similarity w 'person': {simp}\")"
      ]
    },
    {
      "cell_type": "markdown",
      "metadata": {
        "id": "TcS_v3Gy1GoX"
      },
      "source": [
        "<br>\n",
        "\n",
        "#### Computing multiple similarities..."
      ]
    },
    {
      "cell_type": "code",
      "execution_count": 26,
      "metadata": {
        "colab": {
          "base_uri": "https://localhost:8080/"
        },
        "id": "AopcODIs1GoY",
        "outputId": "67cdad3c-d050-42f4-8b10-771826d39c9e"
      },
      "outputs": [
        {
          "name": "stdout",
          "output_type": "stream",
          "text": [
            "python_snake  similarity: 0.660629153251648\n",
            "python_coffee similarity: 0.021258249878883362\n",
            "snake_coffee  similarity: 0.07976284623146057\n"
          ]
        }
      ],
      "source": [
        "# Let's compare multiple similarities:\n",
        "\n",
        "python_snake = m.similarity('python','snake')\n",
        "python_coffee = m.similarity('python','coffee')\n",
        "snake_coffee = m.similarity('snake','coffee')\n",
        "\n",
        "print(f\"python_snake  similarity: {python_snake}\")   # try :4.2f after the variable for formatting\n",
        "print(f\"python_coffee similarity: {python_coffee}\")  # 4 characters wide, 2 places after the decimal point\n",
        "print(f\"snake_coffee  similarity: {snake_coffee}\")"
      ]
    },
    {
      "cell_type": "code",
      "execution_count": 27,
      "metadata": {
        "id": "SvKn-cZC1GoY"
      },
      "outputs": [],
      "source": [
        "#\n",
        "# We could imagine defining an \"odd-one-out\" from any collection of words, \n",
        "# simply by considering all possible similarities (and adding them up for each word)\n",
        "\n",
        "\"\"\"\n",
        "here, for example:\n",
        "\n",
        "python_snake  similarity: .66\n",
        "python_coffee similarity: .02\n",
        "snake_coffee  similarity: .08\n",
        "\n",
        "So, summing for each of the three terms:\n",
        "  python:  .66 + .02 == .68\n",
        "  coffee:  .08 + .02 == .10\n",
        "  snake:   .66 + .08 == .74\n",
        "\n",
        "+++ In this case, \"coffee\" is the odd one out  (intuitive, in some ways)\n",
        "\n",
        "\n",
        "# What do you think about python, serpent, snake?\n",
        "# or python, serpent, snake, code?\n",
        "\n",
        "\"\"\"\n",
        "None"
      ]
    },
    {
      "cell_type": "code",
      "execution_count": 28,
      "metadata": {
        "colab": {
          "base_uri": "https://localhost:8080/"
        },
        "id": "tfIK_zEN1GoY",
        "outputId": "ed8c32fb-1999-4dd0-b184-1bfbb4044e97"
      },
      "outputs": [
        {
          "data": {
            "text/plain": [
              "['snake', 'serpent', 'python', 'code', 'ai', 'ml', 'programming']"
            ]
          },
          "execution_count": 28,
          "metadata": {},
          "output_type": "execute_result"
        }
      ],
      "source": [
        "# notice that the split function makes creating lists-of-words a bit easier\n",
        "initial_words = \"snake serpent python code ai ml programming\".split()\n",
        "initial_words"
      ]
    },
    {
      "cell_type": "code",
      "execution_count": 29,
      "metadata": {
        "colab": {
          "base_uri": "https://localhost:8080/"
        },
        "id": "qxwnEjUY1GoY",
        "outputId": "2b3f89f3-4925-4fbd-b49a-3117977fb84e"
      },
      "outputs": [
        {
          "name": "stdout",
          "output_type": "stream",
          "text": [
            "similarity between python and snake:   0.66\n",
            "similarity between python and serpent:   0.45\n",
            "similarity between python and python:   1.00\n",
            "similarity between python and code:   0.11\n",
            "  __  ai  __ was not in the vocabulary\n",
            "similarity between python and ml:   0.08\n",
            "similarity between python and programming:   0.09\n",
            "LoS is [0.66062915, 0.4477138, 1.0, 0.10966148, 0.084807836, 0.090359524]\n",
            "LoW is ['snake', 'serpent', 'python', 'code', 'ml', 'programming']\n"
          ]
        }
      ],
      "source": [
        "#\n",
        "# here is a _single_ keyword, with similarities computed against every word w in initial_words\n",
        "key = 'python'\n",
        "\n",
        "LoS = []\n",
        "LoW = []\n",
        "for w in initial_words:\n",
        "    if w in m:  # is the word, w present in the vocabulary?\n",
        "        similarity = m.similarity(key,w)\n",
        "        print(f\"similarity between {key} and {w}: {similarity:6.2f}\", )\n",
        "        LoS.append( similarity )\n",
        "        LoW.append( w )\n",
        "    else:\n",
        "        print(f\"  __  {w}  __ was not in the vocabulary\", )   # not every word will be present\n",
        "\n",
        "print(f\"LoS is {LoS}\")\n",
        "print(f\"LoW is {LoW}\")\n"
      ]
    },
    {
      "cell_type": "markdown",
      "metadata": {
        "id": "a4w_s0jB1GoZ"
      },
      "source": [
        "<br>\n",
        "\n",
        "####  hw6pr4 task #2: computing the \"odd-one-out\"\n",
        "\n",
        "Adapting the above cell as a starting point, create a function that computes the \"odd one out\"\n",
        "\n",
        "That is, <tt>odd_one_out( LoW, m )</tt> should\n",
        "+ take in LoW, a list-of-words\n",
        "+ take in m, a gensim word-embedding model (of type KeyedVectors)\n",
        "+ computing the similarities of all pairs-of-words across the elements of LoW\n",
        "+ return the word with the lowest _sum_ across all of those similarities\n",
        "+ (don't include any words not in the vocabulary)\n",
        "\n",
        "There are other ways to compute \"overall dissimilarity.\"  \n",
        "+ For our purposes, this is a reasonable first approach.\n",
        "+ Below is a cell with a signature line to get started:\n",
        "\n",
        "When you have built this, test it with three new examples of your own design\n",
        "+ Be sure that at least one example contains at least five words\n",
        "+ How well do your examples work?\n",
        "<br>"
      ]
    },
    {
      "cell_type": "code",
      "execution_count": 64,
      "metadata": {
        "id": "wBmSlwtG1GoZ"
      },
      "outputs": [
        {
          "name": "stdout",
          "output_type": "stream",
          "text": [
            "{'snake': 1.3222660198807716, 'serpent': 1.2388774892315269, 'python': 1.393171787261963, 'code': 0.4473024681210518, 'ml': 0.3926144205033779, 'programming': 0.2686671717092395}\n",
            "These word(s) were not in our model: ['ai'] \n"
          ]
        },
        {
          "data": {
            "text/plain": [
              "'programming was the odd one out!'"
            ]
          },
          "execution_count": 64,
          "metadata": {},
          "output_type": "execute_result"
        }
      ],
      "source": [
        "#\n",
        "# here is a signature line for odd_one_out (a starting point)\n",
        "#\n",
        "\n",
        "def odd_one_out( LoW, m ):\n",
        "    \"\"\" \n",
        "        odd_one_out should take in LoW, a list-of-words\n",
        "        odd_one_out should take in m, a gensim word-embedding model (of type KeyedVectors)\n",
        "        and it should return the word, w, in LoW that is _least_ like all the others\n",
        "    \"\"\"\n",
        "    sim_dict ={}\n",
        "    cLoW= [item for item in LoW if (item in m)]\n",
        "    nLoW = [item for item in LoW if (item not in m)]\n",
        "    for key in cLoW:\n",
        "        comp_list = cLoW.copy()\n",
        "        comp_list.remove(key)\n",
        "          # is the word, w present in the vocabulary?\n",
        "        sim_list = [m.similarity(key,w) for w in comp_list]\n",
        "        sim_dict[key] = sum(sim_list)\n",
        "        comp_list = cLoW\n",
        "    \n",
        "    print(sim_dict)\n",
        "    print(f\"These word(s) were not in our model: {nLoW} \")  \n",
        "    best_key = min(sim_dict, key = sim_dict.get)\n",
        "    return (f\"{best_key} was the odd one out!\")\n",
        "\n",
        "initial_words = \"snake serpent python code ai ml programming\".split()\n",
        "odd_one_out(initial_words, m)\n"
      ]
    },
    {
      "cell_type": "code",
      "execution_count": 65,
      "metadata": {},
      "outputs": [
        {
          "name": "stdout",
          "output_type": "stream",
          "text": [
            "{'python': 0.6818874031305313, 'coffee': 0.10102109611034393, 'snake': 0.7403919994831085}\n",
            "These word(s) were not in our model: [] \n"
          ]
        },
        {
          "data": {
            "text/plain": [
              "'coffee was the odd one out!'"
            ]
          },
          "execution_count": 65,
          "metadata": {},
          "output_type": "execute_result"
        }
      ],
      "source": [
        "# matches example above!\n",
        "initial_words2 = \"python coffee snake\".split()\n",
        "odd_one_out(initial_words2, m )\n"
      ]
    },
    {
      "cell_type": "code",
      "execution_count": 67,
      "metadata": {},
      "outputs": [
        {
          "name": "stdout",
          "output_type": "stream",
          "text": [
            "{'cookie': 1.1133569180965424, 'coffee': 0.790449470281601, 'cake': 1.0201400816440582, 'dog': 0.6687707006931305}\n",
            "These word(s) were not in our model: ['yogurt'] \n"
          ]
        },
        {
          "data": {
            "text/plain": [
              "'dog was the odd one out!'"
            ]
          },
          "execution_count": 67,
          "metadata": {},
          "output_type": "execute_result"
        }
      ],
      "source": [
        "# our own example1\n",
        "initial_words3 = \"cookie coffee cake yogurt dog\".split()\n",
        "odd_one_out(initial_words3, m )"
      ]
    },
    {
      "cell_type": "code",
      "execution_count": 73,
      "metadata": {},
      "outputs": [
        {
          "name": "stdout",
          "output_type": "stream",
          "text": [
            "{'cookie': 1.5108186602592468, 'cheese': 1.943600058555603, 'ham': 1.7480922639369965, 'pizza': 1.9637376964092255, 'sandwich': 2.0895949602127075}\n",
            "These word(s) were not in our model: [] \n"
          ]
        },
        {
          "data": {
            "text/plain": [
              "'cookie was the odd one out!'"
            ]
          },
          "execution_count": 73,
          "metadata": {},
          "output_type": "execute_result"
        }
      ],
      "source": [
        "# our own example2\n",
        "initial_words4 = \"cookie cheese ham pizza sandwich\".split()\n",
        "odd_one_out(initial_words4, m )"
      ]
    },
    {
      "cell_type": "code",
      "execution_count": 76,
      "metadata": {},
      "outputs": [
        {
          "name": "stdout",
          "output_type": "stream",
          "text": [
            "{'turkey': 2.098513185977936, 'cheese': 1.9024181962013245, 'ham': 2.1268526315689087, 'beef': 1.9531689286231995, 'chicken': 2.2345375418663025}\n",
            "These word(s) were not in our model: [] \n"
          ]
        },
        {
          "data": {
            "text/plain": [
              "'cheese was the odd one out!'"
            ]
          },
          "execution_count": 76,
          "metadata": {},
          "output_type": "execute_result"
        }
      ],
      "source": [
        "# our own example3\n",
        "initial_words5 = \"turkey cheese ham beef chicken\".split()\n",
        "odd_one_out(initial_words5, m )"
      ]
    },
    {
      "cell_type": "markdown",
      "metadata": {
        "id": "dnOuC33d1GoZ"
      },
      "source": [
        "<br>\n",
        "\n",
        "####  hw6pr4 __optional__ task: visualizing similarity as a heat map\n",
        "\n",
        "The next cell begins the process of visualizing similarity as a heat map.\n",
        "+ an optional (and fun) task is to expand this into a full 2d visualization of the correlations\n",
        "\n",
        "<br>"
      ]
    },
    {
      "cell_type": "code",
      "execution_count": 31,
      "metadata": {
        "colab": {
          "base_uri": "https://localhost:8080/",
          "height": 362
        },
        "id": "WdYnZ_wp1GoZ",
        "outputId": "41f1a31b-e483-40e9-cbdb-254625ab69fe"
      },
      "outputs": [
        {
          "name": "stdout",
          "output_type": "stream",
          "text": [
            "similarity between python and snake:   0.66\n",
            "similarity between python and serpent:   0.45\n",
            "similarity between python and python:   1.00\n",
            "similarity between python and code:   0.11\n",
            "  __  ai  __ was not in the vocabulary\n",
            "similarity between python and ml:   0.08\n",
            "similarity between python and programming:   0.09\n",
            "LoS is [0.66062915, 0.4477138, 1.0, 0.10966148, 0.084807836, 0.090359524]\n",
            "LoW is ['snake', 'serpent', 'python', 'code', 'ml', 'programming']\n"
          ]
        },
        {
          "data": {
            "text/plain": [
              "'Result:'"
            ]
          },
          "execution_count": 31,
          "metadata": {},
          "output_type": "execute_result"
        },
        {
          "data": {
            "image/png": "[encoded data removed]",
            "text/plain": [
              "<Figure size 1296x864 with 1 Axes>"
            ]
          },
          "metadata": {},
          "output_type": "display_data"
        }
      ],
      "source": [
        "# visualizing similarity through a heat map\n",
        "\n",
        "# copy of the old starting code\n",
        "key = 'python'\n",
        "LoS = []\n",
        "LoW = []\n",
        "for w in initial_words:\n",
        "    if w in m:  # is the word, w present in the vocabulary?\n",
        "        similarity = m.similarity(key,w)\n",
        "        print(f\"similarity between {key} and {w}: {similarity:6.2f}\", )\n",
        "        LoS.append( similarity )\n",
        "        LoW.append( w )\n",
        "    else:\n",
        "        print(f\"  __  {w}  __ was not in the vocabulary\", )   # not every word will be present\n",
        "\n",
        "print(f\"LoS is {LoS}\")\n",
        "print(f\"LoW is {LoW}\")\n",
        "\n",
        "import pandas as pd\n",
        "import matplotlib.pyplot as plt\n",
        "import seaborn as sns\n",
        "sns.set_theme(style=\"darkgrid\")\n",
        "\n",
        "my_data_list = [ LoS ]\n",
        "my_dataframe = pd.DataFrame(my_data_list, columns=LoW)\n",
        "\n",
        "\n",
        "# Draw a heatmap with the numeric values in each cell\n",
        "f, ax = plt.subplots(figsize=(18,12))  # (18, 12)\n",
        "sns.heatmap(data=my_dataframe, annot=True, fmt=\"4.2f\", linewidths=2, yticklabels=[\"python\"], square=True, cmap=\"Purples\", cbar=False, ax=ax)\n",
        "\n",
        "ylocs, ylabels = plt.yticks()\n",
        "plt.setp(ylabels, rotation=0, fontsize=15)\n",
        "xlocs, xlabels = plt.xticks()\n",
        "plt.setp(xlabels, rotation=70, fontsize=15)\n",
        "\"Result:\"\n",
        "\n",
        "# The goal is to output a square heatmap with all of the similarities plotted..."
      ]
    },
    {
      "cell_type": "code",
      "execution_count": 32,
      "metadata": {
        "id": "ogguddqn1GoZ"
      },
      "outputs": [],
      "source": [
        "#\n",
        "# This is an alternative view of the data -- within a projection of word-embedding space itself\n",
        "# \n",
        "# Let's see the word vectors in two dimensions!\n",
        "#\n",
        "def visualize_wordvecs(wordlist, model):\n",
        "    \"\"\" example of finding an outlier with word2vec and graphically \"\"\"\n",
        "    # \n",
        "    # Are all of the works in the model?\n",
        "    #\n",
        "    for w in wordlist:\n",
        "        if w not in model:\n",
        "            print(\"Aargh - the model does not contain\", w)\n",
        "            print(\"Stopping...\")\n",
        "            return\n",
        "    #\n",
        "    # Next, we use PCA, Principal Components Analysis, to toss out 298 dimensions!\n",
        "    # and create a scatterplot of the words...\n",
        "    #\n",
        "    # Intuitive description of PCA:   https://setosa.io/ev/principal-component-analysis/\n",
        "    #\n",
        "    from sklearn.decomposition import PCA\n",
        "    import matplotlib.pyplot as plt\n",
        "    import numpy\n",
        "\n",
        "    pca = PCA(n_components=2)             # 2 dimensions\n",
        "    pca_model = pca.fit(model.vectors)    # all 43,981 words with 300 numbers each!\n",
        "    LoM = [model.get_vector(w) for w in wordlist]   # list of models for each word w\n",
        "    \n",
        "    word_vectors = numpy.vstack(LoM)     # vstack creates a vertical column from a list\n",
        "    transformed_words = pca_model.transform(word_vectors)  # transform to our 2d space\n",
        "\n",
        "    # scatterplot\n",
        "    plt.scatter(transformed_words[:,0],transformed_words[:,1])\n",
        "    \n",
        "    # This is matplotlib's code for _annotating_ graphs (yay!)\n",
        "    for i, word in enumerate(wordlist):\n",
        "        plt.annotate(word, (transformed_words[i,0], transformed_words[i,1]), size='large')\n",
        "        # it's possible to be more sophisticated, but this is ok for now\n",
        "\n",
        "    plt.show()\n",
        "    return"
      ]
    },
    {
      "cell_type": "code",
      "execution_count": 81,
      "metadata": {
        "colab": {
          "base_uri": "https://localhost:8080/",
          "height": 269
        },
        "id": "twD6Ej-xlHWx",
        "outputId": "bfdc872c-71e8-41e9-b9c8-2d7da912407a"
      },
      "outputs": [
        {
          "data": {
            "image/png": "[encoded data removed]",
            "text/plain": [
              "<Figure size 432x288 with 1 Axes>"
            ]
          },
          "metadata": {},
          "output_type": "display_data"
        }
      ],
      "source": [
        "# matches our result that odd_one_out is dog!\n",
        "initial_words3 = \"cookie coffee cake dog\".split()\n",
        "visualize_wordvecs(initial_words3, m)"
      ]
    },
    {
      "cell_type": "code",
      "execution_count": 78,
      "metadata": {
        "colab": {
          "base_uri": "https://localhost:8080/",
          "height": 269
        },
        "id": "gaZMXKe81Goa",
        "outputId": "ae8e23b0-aee3-47dc-df9c-5a9051faece4"
      },
      "outputs": [
        {
          "data": {
            "image/png": "[encoded data removed]",
            "text/plain": [
              "<Figure size 432x288 with 1 Axes>"
            ]
          },
          "metadata": {},
          "output_type": "display_data"
        }
      ],
      "source": [
        "# does not match our odd_one_out function that cookie is the outlier??\n",
        "initial_words4 = \"cookie cheese ham pizza sandwich\".split()\n",
        "visualize_wordvecs(initial_words4, m)    # , \"cereal\" , \"python\""
      ]
    },
    {
      "cell_type": "code",
      "execution_count": 79,
      "metadata": {},
      "outputs": [
        {
          "data": {
            "image/png": "[encoded data removed]",
            "text/plain": [
              "<Figure size 432x288 with 1 Axes>"
            ]
          },
          "metadata": {},
          "output_type": "display_data"
        }
      ],
      "source": [
        "#hmm this one is tricky since beef is very far and looks like an outlier\n",
        "# but beef is also close to turkey\n",
        "initial_words5 = \"turkey cheese ham beef chicken\".split()\n",
        "visualize_wordvecs(initial_words5, m)"
      ]
    },
    {
      "cell_type": "markdown",
      "metadata": {
        "id": "EqvBQHst1Goa"
      },
      "source": [
        "<br>\n",
        "\n",
        "####  hw6pr4 task #3: creating two more examples for \"odd-one-out\"\n",
        "\n",
        "With this two-dimensional \"viewport\" into the data available, your task is \n",
        "+ to explore it to find an example in which the two-dimensional visualization \"works\"\n",
        "  + that is, the farthest-away word is, in fact, the \"odd-one-out\"\n",
        "+ AND, to find one in which the two-dimensional visualization \"doesn't work\"\n",
        "  + that is, the farthest-away word is _not_ the \"odd-one-out\"\n",
        "\n",
        "In a comment or a markdown cell, briefly explain your reasoning for these two examples.\n",
        "+  Naturally, our goal is this _thinking_ \n",
        "+  These can not be inherently \"correct\" or \"incorrect,\" to be sure!"
      ]
    },
    {
      "cell_type": "code",
      "execution_count": 35,
      "metadata": {
        "colab": {
          "base_uri": "https://localhost:8080/",
          "height": 269
        },
        "id": "kuyK_1BZ1Goa",
        "outputId": "9212f185-fb44-48a6-a9c0-07ee0ed69745"
      },
      "outputs": [
        {
          "data": {
            "image/png": "[encoded data removed]",
            "text/plain": [
              "<Figure size 432x288 with 1 Axes>"
            ]
          },
          "metadata": {},
          "output_type": "display_data"
        }
      ],
      "source": [
        "#\n",
        "# for your explorations, use a different example from these \"meal\" examples\n",
        "#\n",
        "LoW = \"breakfast lunch dinner cereal\".split()  #   \"breakfast lunch dinner cereal python\".split()\n",
        "visualize_wordvecs(LoW, m) "
      ]
    },
    {
      "cell_type": "code",
      "execution_count": null,
      "metadata": {},
      "outputs": [],
      "source": [
        "visualize_wordvecs([\"python\", \"snake\", \"coffee\"], m)"
      ]
    },
    {
      "cell_type": "code",
      "execution_count": null,
      "metadata": {},
      "outputs": [],
      "source": [
        "visualize_wordvecs([\"python\", \"snake\", \"coffee\"], m)"
      ]
    },
    {
      "cell_type": "code",
      "execution_count": null,
      "metadata": {},
      "outputs": [],
      "source": [
        "visualize_wordvecs([\"python\", \"snake\", \"coffee\"], m)"
      ]
    },
    {
      "cell_type": "markdown",
      "metadata": {
        "id": "kwNHIeff1Goa"
      },
      "source": [
        "<br>\n",
        "\n",
        "## hw7pr1: Analogies!\n",
        "\n",
        "#### More word-embedding geometry:  \n",
        "+ These are an introduction to hw7pr1 (for week 7's hw)\n",
        "+ For the moment, we'll keep the examples and explorations in this notebook\n",
        "+ Feel free to complete both problems and submit the same notebook for both -- if you're using Colab, this is probably the easiest!"
      ]
    },
    {
      "cell_type": "code",
      "execution_count": 36,
      "metadata": {
        "colab": {
          "base_uri": "https://localhost:8080/"
        },
        "id": "fYYCBGCO1Goa",
        "outputId": "5ab3d959-c86e-4a78-d95d-57834990b13b"
      },
      "outputs": [
        {
          "data": {
            "text/plain": [
              "[('snake', 0.6606292724609375),\n",
              " ('crocodile', 0.6591363549232483),\n",
              " ('alligator', 0.6421656012535095),\n",
              " ('boa', 0.5617719888687134),\n",
              " ('constrictor', 0.537888765335083),\n",
              " ('constrictors', 0.5356364846229553),\n",
              " ('snakes', 0.5345132350921631),\n",
              " ('anaconda', 0.5207394957542419),\n",
              " ('rabbit', 0.5074971318244934),\n",
              " ('tortoise', 0.5046289563179016),\n",
              " ('lizards', 0.5041102766990662),\n",
              " ('cobra', 0.5008569955825806),\n",
              " ('spider', 0.500656008720398),\n",
              " ('critter', 0.499703586101532),\n",
              " ('toad', 0.4993741512298584),\n",
              " ('turtle', 0.48819172382354736),\n",
              " ('elephant', 0.4803968369960785),\n",
              " ('creature', 0.47500306367874146),\n",
              " ('rattlesnake', 0.474714994430542),\n",
              " ('tiger', 0.461387038230896),\n",
              " ('frog', 0.4597766697406769),\n",
              " ('cat', 0.4588299095630646),\n",
              " ('kitten', 0.45524877309799194),\n",
              " ('rhinoceros', 0.4551759958267212),\n",
              " ('ape', 0.45376309752464294),\n",
              " ('possum', 0.45238471031188965),\n",
              " ('monkey', 0.4510401487350464),\n",
              " ('cheetah', 0.44869622588157654),\n",
              " ('serpent', 0.4477137625217438),\n",
              " ('fox', 0.44736403226852417),\n",
              " ('mammal', 0.4471549689769745),\n",
              " ('cottonmouth', 0.4436091184616089),\n",
              " ('dinosaur', 0.44051867723464966),\n",
              " ('coyote', 0.4391794800758362),\n",
              " ('rodent', 0.43737849593162537),\n",
              " ('otter', 0.43570202589035034),\n",
              " ('zebra', 0.43523383140563965),\n",
              " ('rabbits', 0.4297146797180176),\n",
              " ('anteater', 0.42907461524009705),\n",
              " ('anacondas', 0.42416319251060486),\n",
              " ('feline', 0.42003050446510315),\n",
              " ('peacock', 0.4186227023601532),\n",
              " ('owl', 0.41736850142478943),\n",
              " ('dingo', 0.41313332319259644),\n",
              " ('dog', 0.41118505597114563),\n",
              " ('rattlers', 0.4076958894729614),\n",
              " ('cats', 0.4070482850074768),\n",
              " ('pig', 0.4060199558734894),\n",
              " ('tusks', 0.4045761823654175),\n",
              " ('mastiff', 0.40434595942497253),\n",
              " ('ant', 0.40331780910491943),\n",
              " ('rattler', 0.40128856897354126),\n",
              " ('poodle', 0.3993483781814575),\n",
              " ('parakeets', 0.39837130904197693),\n",
              " ('Pinscher', 0.3983587622642517),\n",
              " ('wasp', 0.3956824541091919),\n",
              " ('armadillo', 0.3928162455558777),\n",
              " ('kob', 0.392452597618103),\n",
              " ('peacocks', 0.39199015498161316),\n",
              " ('dolphin', 0.39064887166023254),\n",
              " ('pup', 0.39063647389411926),\n",
              " ('rooster', 0.38938599824905396),\n",
              " ('turtles', 0.3884179890155792),\n",
              " ('seahorse', 0.38570085167884827),\n",
              " ('Tortoises', 0.3854447603225708),\n",
              " ('antelope', 0.3837023675441742),\n",
              " ('bird', 0.38155344128608704),\n",
              " ('animal', 0.38023582100868225),\n",
              " ('rat', 0.3791848421096802),\n",
              " ('cockatoo', 0.3790898323059082),\n",
              " ('lioness', 0.37869828939437866),\n",
              " ('Doberman', 0.37850087881088257),\n",
              " ('puppy', 0.37703731656074524),\n",
              " ('zoo', 0.37390100955963135),\n",
              " ('snails', 0.3737713396549225),\n",
              " ('snail', 0.37356188893318176),\n",
              " ('octopus', 0.3729875981807709),\n",
              " ('falcon', 0.37263229489326477),\n",
              " ('sables', 0.37198418378829956),\n",
              " ('cheetal', 0.3716854751110077),\n",
              " ('squirrel', 0.3715307414531708),\n",
              " ('calico', 0.3693177402019501),\n",
              " ('rattlesnakes', 0.36871272325515747),\n",
              " ('lions', 0.36721181869506836),\n",
              " ('leopards', 0.3667135536670685),\n",
              " ('frogs', 0.3667031228542328),\n",
              " ('specimen', 0.36533322930336),\n",
              " ('kittens', 0.36434686183929443),\n",
              " ('eel', 0.36355364322662354),\n",
              " ('beast', 0.3633771240711212),\n",
              " ('claws', 0.36254894733428955),\n",
              " ('ocelot', 0.36107733845710754),\n",
              " ('handbag', 0.3606354296207428),\n",
              " ('razorback', 0.36003732681274414),\n",
              " ('tigress', 0.3597410023212433),\n",
              " ('swan', 0.35816335678100586),\n",
              " ('fawn', 0.357317715883255),\n",
              " ('terrier', 0.3570992946624756),\n",
              " ('animals', 0.3568144142627716),\n",
              " ('moth', 0.35548996925354004)]"
            ]
          },
          "execution_count": 36,
          "metadata": {},
          "output_type": "execute_result"
        }
      ],
      "source": [
        "#\n",
        "# Let's take a look at some additional \"geometry\" of word-meanings (cool!)\n",
        "#\n",
        "\n",
        "m.most_similar(positive='python', topn=100)  # negative='snake'"
      ]
    },
    {
      "cell_type": "code",
      "execution_count": 37,
      "metadata": {
        "colab": {
          "base_uri": "https://localhost:8080/"
        },
        "id": "wokK7E4J1Gob",
        "outputId": "9cf37708-213a-48a8-bec2-caae60ed0640"
      },
      "outputs": [
        {
          "data": {
            "text/plain": [
              "[('Java', 0.22111037373542786),\n",
              " ('Dior', 0.2102828174829483),\n",
              " ('Notte', 0.2078552097082138),\n",
              " ('os', 0.19944755733013153),\n",
              " ('frock', 0.19739562273025513),\n",
              " ('blouse', 0.19704443216323853),\n",
              " ('plaids', 0.19696445763111115),\n",
              " ('blazer', 0.1878664642572403),\n",
              " ('gown', 0.17895957827568054),\n",
              " ('Gala', 0.17834942042827606)]"
            ]
          },
          "execution_count": 37,
          "metadata": {},
          "output_type": "execute_result"
        }
      ],
      "source": [
        "#\n",
        "# With this most_similar method, we can \"subtract\" vectors, too:\n",
        "#\n",
        "\n",
        "m.most_similar(positive=['python'], negative=['snake'], topn=10) "
      ]
    },
    {
      "cell_type": "code",
      "execution_count": 38,
      "metadata": {
        "colab": {
          "base_uri": "https://localhost:8080/"
        },
        "id": "8MuPPUgq1Gob",
        "outputId": "ec2fa1be-ae11-4876-fc10-5060ec91b812"
      },
      "outputs": [
        {
          "data": {
            "text/plain": [
              "[('queen', 0.7118192315101624),\n",
              " ('monarch', 0.6189674139022827),\n",
              " ('princess', 0.5902431607246399),\n",
              " ('prince', 0.5377321243286133),\n",
              " ('kings', 0.5236842632293701),\n",
              " ('queens', 0.5181134939193726),\n",
              " ('throne', 0.5005807280540466),\n",
              " ('royal', 0.493820458650589),\n",
              " ('ruler', 0.4909273386001587),\n",
              " ('princes', 0.481081485748291)]"
            ]
          },
          "execution_count": 38,
          "metadata": {},
          "output_type": "execute_result"
        }
      ],
      "source": [
        "#\n",
        "# Here, see if you can determine the analogy that is being computed using word embeddings:\n",
        "# \n",
        "\n",
        "m.most_similar(positive=['king','woman'], negative=['man'], topn=10) \n"
      ]
    },
    {
      "cell_type": "code",
      "execution_count": 39,
      "metadata": {
        "id": "bioKAwBl1Gob"
      },
      "outputs": [],
      "source": [
        "#\n",
        "# The word-embedding problem, hw7pr1 is to\n",
        "#    (a) quantify and (b) create more analogies...\n",
        "#    Below are the signatures for the functions for hw7pr1:\n",
        "#"
      ]
    },
    {
      "cell_type": "code",
      "execution_count": 40,
      "metadata": {
        "id": "49FaZBy01Gob"
      },
      "outputs": [
        {
          "data": {
            "text/plain": [
              "('queen', 0.7118192315101624)"
            ]
          },
          "execution_count": 40,
          "metadata": {},
          "output_type": "execute_result"
        }
      ],
      "source": [
        "#\n",
        "# here is a starting line for generate_analogy:\n",
        "\n",
        "def generate_analogy(w1, w2, w3, model):\n",
        "  \"\"\" returns word2vec's \"answer\" for w1:w2 :: w3:?? \"\"\"\n",
        "  w_pred = model.most_similar(positive=[w3,w2], negative=[w1], topn=100)\n",
        "  return w_pred[0]\n",
        "\n",
        "generate_analogy('man', 'woman', 'king', m)"
      ]
    },
    {
      "cell_type": "code",
      "execution_count": 41,
      "metadata": {
        "id": "fWTcpkHk1Gob"
      },
      "outputs": [
        {
          "name": "stdout",
          "output_type": "stream",
          "text": [
            "100\n",
            "0\n",
            "96\n"
          ]
        }
      ],
      "source": [
        "#\n",
        "# here is a starting line for check_analogy:\n",
        "\n",
        "def check_analogy(w1, w2, w3, w4, model):\n",
        "  \"\"\" returns word2vec's 1-100 score for w1:w2 :: w3:w4 \"\"\"\n",
        "  w_pred = model.most_similar(positive=[w3,w2], negative=[w1], topn=100)\n",
        "  result = [x[0] for x in w_pred]\n",
        "  if w4 in result:\n",
        "    rank = result.index(w4)\n",
        "    return (100-rank) \n",
        "  return 0  \n",
        "\n",
        "#100\n",
        "print(check_analogy( \"man\", \"king\", \"woman\", \"queen\", m))\n",
        "#0 \n",
        "print(check_analogy( \"woman\", \"man\", \"bicycle\", \"fish\", m ))\n",
        "#96\n",
        "print(check_analogy( \"woman\", \"man\", \"bicycle\", \"pedestrian\", m ))"
      ]
    },
    {
      "cell_type": "code",
      "execution_count": 42,
      "metadata": {
        "id": "8GiCK0NWP4WR"
      },
      "outputs": [
        {
          "name": "stdout",
          "output_type": "stream",
          "text": [
            "got ('hen', 0.44639620184898376), but with relatively lower score of 0.44639620184898376 \n",
            "got ('actor', 0.7722328901290894), but with relatively high score of 0.7722328901290894\n",
            "got ('priest', 0.6733502745628357), but with relatively high score of 0.6733502745628357\n",
            "got ('roosters', 0.6464723348617554), instead of expected result = hen\n",
            "got (('scoreless', 0.4423339068889618),), instead of expected result = skating\n",
            "got ('stewardesses', 0.5693697929382324), instead of expected result = steward\n",
            "final task for hw7pr1\n",
            "for input (male, female, rooster), my expected result = hen had rank 83\n",
            "for input (glide, ice, scoring) expected result = skating had rank 44\n",
            "for input (female, male, stewardess), the expected result = steward had rank 12\n",
            "from (female, male, nun), I also expected monk, which had rank = 98\n",
            "expected result = guacamole had rank 0\n"
          ]
        }
      ],
      "source": [
        "## 2 examples work well\n",
        "result1 = generate_analogy(\"male\", \"female\", \"cock\", m)\n",
        "print(f\"got {result1}, but with relatively lower score of {result1[1]} \")\n",
        "result2a = generate_analogy(\"female\", \"male\", \"actress\", m)\n",
        "print(f\"got {result2a}, but with relatively high score of {result2a[1]}\")\n",
        "result2b = generate_analogy(\"female\", \"male\", \"nun\", m)\n",
        "print(f\"got {result2b}, but with relatively high score of {result2b[1]}\")\n",
        "# # 3 examples does not work as well\n",
        "result3 = generate_analogy(\"male\", \"female\", \"rooster\", m)\n",
        "print(f\"got {result3}, instead of expected result = hen\")\n",
        "result4 = generate_analogy(\"glide\", \"ice\", \"scoring\", m),\n",
        "print(f\"got {result4}, instead of expected result = skating\")\n",
        "result5 = generate_analogy(\"female\", \"male\", \"stewardess\", m)\n",
        "print(f\"got {result5}, instead of expected result = steward\")\n",
        "# \n",
        "print(\"final task for hw7pr1\") \n",
        "# create five analogies with notably different \"goodness\" scores...\n",
        "rank1 = check_analogy(\"male\", \"female\", \"rooster\", \"hen\", m)\n",
        "print(f\"for input (male, female, rooster), my expected result = hen had rank {rank1}\")\n",
        "rank2 = check_analogy(\"glide\", \"ice\", \"scoring\", \"skating\", m)\n",
        "print(f\"for input (glide, ice, scoring) expected result = skating had rank {rank2}\")\n",
        "rank3 = check_analogy(\"female\", \"male\", \"stewardess\", \"steward\", m)\n",
        "print(f\"for input (female, male, stewardess), the expected result = steward had rank {rank3}\")\n",
        "rank4 = check_analogy(\"female\", \"male\", \"nun\", \"monk\", m)\n",
        "print(f\"from (female, male, nun), I also expected monk, which had rank = {rank4}\")\n",
        "rank5 = check_analogy(\"avocado\", \"tomato\", \"whole\", \"guacamole\", m)\n",
        "print(f\"expected result = guacamole had rank {rank5}\")\n",
        "\n",
        "### reflection: generating verbs is reletively more difficult. Additionally, if a word has a plural form, the predictor\n",
        "## will refer to the plural form as the most similar word. For the best matches, assigning a word that was as opposing to\n",
        "## the other two words to the negative variable produced most ideal results.\n",
        "\n",
        "# Here, use check_analogy, as well as generate_analogy!"
      ]
    }
  ],
  "metadata": {
    "colab": {
      "name": "hw7pr1_and_hw6pr4_colab.ipynb",
      "provenance": []
    },
    "kernelspec": {
      "display_name": "Python 3",
      "language": "python",
      "name": "python3"
    },
    "language_info": {
      "codemirror_mode": {
        "name": "ipython",
        "version": 3
      },
      "file_extension": ".py",
      "mimetype": "text/x-python",
      "name": "python",
      "nbconvert_exporter": "python",
      "pygments_lexer": "ipython3",
      "version": "3.9.7"
    }
  },
  "nbformat": 4,
  "nbformat_minor": 0
}
