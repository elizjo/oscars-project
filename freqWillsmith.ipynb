{
 "cells": [
  {
   "cell_type": "code",
   "execution_count": 11,
   "metadata": {},
   "outputs": [],
   "source": [
    "import pandas as pd\n"
   ]
  },
  {
   "cell_type": "markdown",
   "metadata": {},
   "source": [
    "data visualization\n",
    "- most freq word\n",
    "(concat all string text, do .split)\n",
    "from collections import counter, counter(list of words), most_common\n",
    "\n",
    "pairs of words\n",
    "- word2vect (average alignment score: with anger etc)\n",
    "counter"
   ]
  },
  {
   "cell_type": "code",
   "execution_count": 12,
   "metadata": {},
   "outputs": [
    {
     "data": {
      "text/html": [
       "<div>\n",
       "<style scoped>\n",
       "    .dataframe tbody tr th:only-of-type {\n",
       "        vertical-align: middle;\n",
       "    }\n",
       "\n",
       "    .dataframe tbody tr th {\n",
       "        vertical-align: top;\n",
       "    }\n",
       "\n",
       "    .dataframe thead th {\n",
       "        text-align: right;\n",
       "    }\n",
       "</style>\n",
       "<table border=\"1\" class=\"dataframe\">\n",
       "  <thead>\n",
       "    <tr style=\"text-align: right;\">\n",
       "      <th></th>\n",
       "      <th>author_id</th>\n",
       "      <th>id</th>\n",
       "      <th>text</th>\n",
       "      <th>created_at</th>\n",
       "      <th>public_metrics.retweet_count</th>\n",
       "      <th>public_metrics.reply_count</th>\n",
       "      <th>public_metrics.like_count</th>\n",
       "      <th>public_metrics.quote_count</th>\n",
       "    </tr>\n",
       "  </thead>\n",
       "  <tbody>\n",
       "    <tr>\n",
       "      <th>0</th>\n",
       "      <td>1448047748541042689</td>\n",
       "      <td>1516645619145785350</td>\n",
       "      <td>AutoconheCINEMA - King Richard\\n#willsmith #ja...</td>\n",
       "      <td>2022-04-20T05:11:08.000Z</td>\n",
       "      <td>0</td>\n",
       "      <td>0</td>\n",
       "      <td>0</td>\n",
       "      <td>0</td>\n",
       "    </tr>\n",
       "    <tr>\n",
       "      <th>1</th>\n",
       "      <td>102129088</td>\n",
       "      <td>1516642633065635844</td>\n",
       "      <td>Oscars' 'punishment' for Will Smith slap is pa...</td>\n",
       "      <td>2022-04-20T04:59:16.000Z</td>\n",
       "      <td>0</td>\n",
       "      <td>0</td>\n",
       "      <td>0</td>\n",
       "      <td>0</td>\n",
       "    </tr>\n",
       "    <tr>\n",
       "      <th>2</th>\n",
       "      <td>1505024907381334017</td>\n",
       "      <td>1516633403374059522</td>\n",
       "      <td>RT @Variety: Jada Pinkett Smith’s ‘Red Table T...</td>\n",
       "      <td>2022-04-20T04:22:35.000Z</td>\n",
       "      <td>5</td>\n",
       "      <td>0</td>\n",
       "      <td>0</td>\n",
       "      <td>0</td>\n",
       "    </tr>\n",
       "    <tr>\n",
       "      <th>3</th>\n",
       "      <td>1505024907381334017</td>\n",
       "      <td>1516631964195127296</td>\n",
       "      <td>RT @Variety: Jada Pinkett Smith's #RedTableTal...</td>\n",
       "      <td>2022-04-20T04:16:52.000Z</td>\n",
       "      <td>4</td>\n",
       "      <td>0</td>\n",
       "      <td>0</td>\n",
       "      <td>0</td>\n",
       "    </tr>\n",
       "    <tr>\n",
       "      <th>4</th>\n",
       "      <td>1502107370494775296</td>\n",
       "      <td>1516627522649309185</td>\n",
       "      <td>RT @SamuelLJackson: Revelations Of Will Smith ...</td>\n",
       "      <td>2022-04-20T03:59:13.000Z</td>\n",
       "      <td>87</td>\n",
       "      <td>0</td>\n",
       "      <td>0</td>\n",
       "      <td>0</td>\n",
       "    </tr>\n",
       "    <tr>\n",
       "      <th>...</th>\n",
       "      <td>...</td>\n",
       "      <td>...</td>\n",
       "      <td>...</td>\n",
       "      <td>...</td>\n",
       "      <td>...</td>\n",
       "      <td>...</td>\n",
       "      <td>...</td>\n",
       "      <td>...</td>\n",
       "    </tr>\n",
       "    <tr>\n",
       "      <th>95</th>\n",
       "      <td>1254591098837762048</td>\n",
       "      <td>1516447352902631432</td>\n",
       "      <td>Will Smith Slaps Chris Rock Into Next Week Ons...</td>\n",
       "      <td>2022-04-19T16:03:17.000Z</td>\n",
       "      <td>0</td>\n",
       "      <td>0</td>\n",
       "      <td>0</td>\n",
       "      <td>0</td>\n",
       "    </tr>\n",
       "    <tr>\n",
       "      <th>96</th>\n",
       "      <td>1254591098837762048</td>\n",
       "      <td>1516447284015345670</td>\n",
       "      <td>Will Smith Responds To Being Banned From The O...</td>\n",
       "      <td>2022-04-19T16:03:01.000Z</td>\n",
       "      <td>0</td>\n",
       "      <td>0</td>\n",
       "      <td>0</td>\n",
       "      <td>0</td>\n",
       "    </tr>\n",
       "    <tr>\n",
       "      <th>97</th>\n",
       "      <td>1254591098837762048</td>\n",
       "      <td>1516447221369221124</td>\n",
       "      <td>Will Smith Got Banned From The Oscars For The ...</td>\n",
       "      <td>2022-04-19T16:02:46.000Z</td>\n",
       "      <td>0</td>\n",
       "      <td>0</td>\n",
       "      <td>0</td>\n",
       "      <td>0</td>\n",
       "    </tr>\n",
       "    <tr>\n",
       "      <th>98</th>\n",
       "      <td>283604227</td>\n",
       "      <td>1516446553392619521</td>\n",
       "      <td>Andy Vermaut shares:‘Red Table Talk’ Season 5 ...</td>\n",
       "      <td>2022-04-19T16:00:07.000Z</td>\n",
       "      <td>0</td>\n",
       "      <td>0</td>\n",
       "      <td>1</td>\n",
       "      <td>0</td>\n",
       "    </tr>\n",
       "    <tr>\n",
       "      <th>99</th>\n",
       "      <td>1332941354586886144</td>\n",
       "      <td>1516445054012960770</td>\n",
       "      <td>‘Red Table Talk’ Season 5 Trailer: Is Will Smi...</td>\n",
       "      <td>2022-04-19T15:54:09.000Z</td>\n",
       "      <td>0</td>\n",
       "      <td>0</td>\n",
       "      <td>0</td>\n",
       "      <td>0</td>\n",
       "    </tr>\n",
       "  </tbody>\n",
       "</table>\n",
       "<p>100 rows × 8 columns</p>\n",
       "</div>"
      ],
      "text/plain": [
       "              author_id                   id  \\\n",
       "0   1448047748541042689  1516645619145785350   \n",
       "1             102129088  1516642633065635844   \n",
       "2   1505024907381334017  1516633403374059522   \n",
       "3   1505024907381334017  1516631964195127296   \n",
       "4   1502107370494775296  1516627522649309185   \n",
       "..                  ...                  ...   \n",
       "95  1254591098837762048  1516447352902631432   \n",
       "96  1254591098837762048  1516447284015345670   \n",
       "97  1254591098837762048  1516447221369221124   \n",
       "98            283604227  1516446553392619521   \n",
       "99  1332941354586886144  1516445054012960770   \n",
       "\n",
       "                                                 text  \\\n",
       "0   AutoconheCINEMA - King Richard\\n#willsmith #ja...   \n",
       "1   Oscars' 'punishment' for Will Smith slap is pa...   \n",
       "2   RT @Variety: Jada Pinkett Smith’s ‘Red Table T...   \n",
       "3   RT @Variety: Jada Pinkett Smith's #RedTableTal...   \n",
       "4   RT @SamuelLJackson: Revelations Of Will Smith ...   \n",
       "..                                                ...   \n",
       "95  Will Smith Slaps Chris Rock Into Next Week Ons...   \n",
       "96  Will Smith Responds To Being Banned From The O...   \n",
       "97  Will Smith Got Banned From The Oscars For The ...   \n",
       "98  Andy Vermaut shares:‘Red Table Talk’ Season 5 ...   \n",
       "99  ‘Red Table Talk’ Season 5 Trailer: Is Will Smi...   \n",
       "\n",
       "                  created_at  public_metrics.retweet_count  \\\n",
       "0   2022-04-20T05:11:08.000Z                             0   \n",
       "1   2022-04-20T04:59:16.000Z                             0   \n",
       "2   2022-04-20T04:22:35.000Z                             5   \n",
       "3   2022-04-20T04:16:52.000Z                             4   \n",
       "4   2022-04-20T03:59:13.000Z                            87   \n",
       "..                       ...                           ...   \n",
       "95  2022-04-19T16:03:17.000Z                             0   \n",
       "96  2022-04-19T16:03:01.000Z                             0   \n",
       "97  2022-04-19T16:02:46.000Z                             0   \n",
       "98  2022-04-19T16:00:07.000Z                             0   \n",
       "99  2022-04-19T15:54:09.000Z                             0   \n",
       "\n",
       "    public_metrics.reply_count  public_metrics.like_count  \\\n",
       "0                            0                          0   \n",
       "1                            0                          0   \n",
       "2                            0                          0   \n",
       "3                            0                          0   \n",
       "4                            0                          0   \n",
       "..                         ...                        ...   \n",
       "95                           0                          0   \n",
       "96                           0                          0   \n",
       "97                           0                          0   \n",
       "98                           0                          1   \n",
       "99                           0                          0   \n",
       "\n",
       "    public_metrics.quote_count  \n",
       "0                            0  \n",
       "1                            0  \n",
       "2                            0  \n",
       "3                            0  \n",
       "4                            0  \n",
       "..                         ...  \n",
       "95                           0  \n",
       "96                           0  \n",
       "97                           0  \n",
       "98                           0  \n",
       "99                           0  \n",
       "\n",
       "[100 rows x 8 columns]"
      ]
     },
     "execution_count": 12,
     "metadata": {},
     "output_type": "execute_result"
    }
   ],
   "source": [
    "oscars2022_df = pd.read_csv(\"willSmith.csv\")\n",
    "oscars2022_df"
   ]
  },
  {
   "cell_type": "code",
   "execution_count": 13,
   "metadata": {},
   "outputs": [
    {
     "data": {
      "text/plain": [
       "'autoconhecinema - king richard\\n#willsmith #jadapinkettsmith for   #oscars   #oscars2022 for  winner for #criticschoicesawards for winner for #emmys for his movie champion of will smith 🎥🎥🎥🎥🎥🎥🎥🎥🎥 may 9th 2022 https://t.co/erjylgua4soscars\\' \\'punishment\\' for will smith slap is pathetic and weak https://t.co/kyflpb1ulj via @nypost great take 👍👍rt @variety: jada pinkett smith’s ‘red table talk’ announces lineup for new season, but no mention of oscars\\xa0slap https://t.co/svri75vnsprt @variety: jada pinkett smith\\'s #redtabletalk is coming back. but it\\'s unclear whether will smith\\'s infamous oscars slap will be discusse…rt @samuelljackson: revelations of will smith call with oscar bosses outrages board &amp; more #smartnews  https://t.co/0cej5wgcywwill smith slaps chris rock at the\\xa0oscars https://t.co/chhaadl70bwill packer claims chris rock said will could leave, rock sources say that\\'s a lie https://t.co/fh262ilc0h via @tmz@gulftoday the #redtabletalk season 5 trailer has been released -- is will smith going to discuss the oscars debacle? https://t.co/sns1iyshw1 https://t.co/aiobo9aeot https://t.co/i3c6f9g9ftwill smith’s post-slap oscars acceptance speech spiked audience by 600,000 viewers https://t.co/sojb2atnf6will smith slaps chris rock at oscars 2022 - south park animated https://t.co/i7i9iidr9u via @youtube the greatest-night in television historyrt @extratv: jada pinkett smith is back at the red table in the wake of the oscars altercation between will smith and chris rock. https://t…liam payne explains ‘funny’ accent during his will smith oscars chat on\\xa0gmb https://t.co/r2yctyxwwujada pinkett smith is back at the red table in the wake of the oscars altercation between will smith and chris rock. https://t.co/aoiupohrhjsocial update: jada pinkett smith\\'s \\'red table talk\\' lineup revealed, no mention of will or slap. jada pinkett smith\\'s \"red table talk\" is returning with all-new episodes, but their lineup is glaringly missing will smith as a guest... https://t.co/pz8abngtnn #tmz #theartsandus https://t.co/cjumouf1xaandy vermaut shares:jada pinkett smith’s ‘red table talk’ returns this week with first post-oscars episode: jada pinkett smith’s\\xa0red table talk\\xa0is returning to facebook watch on wednesday for its first episode since her husband will smith… https://t.co/aot5oel5rl thankyou. https://t.co/deug0h33wyrt @tmz: now will the infamous oscars moment get a mention?\\nhttps://t.co/1sluzruofxjada pinkett smith\\'s \\'red table talk\\' lineup revealed, no mention of will or slap https://t.co/aqm8xxjd1v earn money now. work on the internet! https://t.co/xbkdnz447g\\n (#siguemeytesigo) (#followback) (#news) (#sdv)jada pinkett smith releases red table talk trailer after will smith oscars slap https://t.co/3wsupdr6uy via @metroukhttps://t.co/w8vwj16zrhrt @tmz: now will the infamous oscars moment get a mention?\\nhttps://t.co/1sluzruofxrt @hollywoodlife: the #redtabletalk season 5 trailer has been released -- is will smith going to discuss the oscars debacle? https://t.co/…rt @lightfootinhwd: after will smith assaulted chris rock, procedures were so shaken that they didn\\'t present liza in a directors chair, th…no shit.\\n\\nhttps://t.co/ss9ootamp7rt @froomkin: great headline: the climate change story that generated way more reader mail than will smith\\'s oscars slap https://t.co/daaoj…rt @froomkin: great headline: the climate change story that generated way more reader mail than will smith\\'s oscars slap https://t.co/daaoj…rt @froomkin: great headline: the climate change story that generated way more reader mail than will smith\\'s oscars slap https://t.co/daaoj…rt @usweekly: weeks later, celebs are *still* reacting to the #oscars slap. https://t.co/rxuripvpexweeks later, celebs are *still* reacting to the #oscars slap. https://t.co/rxuripvpexrt @froomkin: great headline: the climate change story that generated way more reader mail than will smith\\'s oscars slap https://t.co/daaoj…rt @lightfootinhwd: after will smith assaulted chris rock, procedures were so shaken that they didn\\'t present liza in a directors chair, th…rt @froomkin: great headline: the climate change story that generated way more reader mail than will smith\\'s oscars slap https://t.co/daaoj…rt @froomkin: great headline: the climate change story that generated way more reader mail than will smith\\'s oscars slap https://t.co/daaoj…rt @froomkin: great headline: the climate change story that generated way more reader mail than will smith\\'s oscars slap https://t.co/daaoj…rt @froomkin: great headline: the climate change story that generated way more reader mail than will smith\\'s oscars slap https://t.co/daaoj…great headline: the climate change story that generated way more reader mail than will smith\\'s oscars slap https://t.co/daaoj11ztn\\'saturday night live\\' takes on will smith\\'s oscars slap https://t.co/uqifz5djsk #breakingnews #news #twitter #ukraine️ #ukrainerussiawar #trump #bidenafter will smith assaulted chris rock, procedures were so shaken that they didn\\'t present liza in a directors chair, they forced her out in the wheelchair.💔\\n\\nliza minnelli was ‘sabotaged’ at oscars 2022, longtime pal claims\\n\\nhttps://t.co/wbd3zywzhart @toastmasters: darren lacroix, the 2001 world champion of public speaking was featured in the forbes article how to be a better speaker…the #redtabletalk season 5 trailer has been released -- is will smith going to discuss the oscars debacle? https://t.co/eljm0p7aty https://t.co/wlwjxlcfpyjada pinkett smith\\'s \\'red table talk\\' lineup revealed, no mention of will or slap https://t.co/y0llx3xgslrt @laligaendirecto: 1⃣5⃣ que alguien pare esto, por favor. #laprofecía\\n\\nóscars 1977: sylvester stallone y muhammad ali tienen una \\'pelea\\'…still no sure what a make eh whole oscars debacle but defo agree absolutely wi this article.\\nhttps://t.co/bmt9hnow9bjada pinkett smith\\'s \\'red table talk\\' lineup revealed, no mention of will or slap https://t.co/mtobxwpal7 https://t.co/471khp6kjyrt @tmz: jada pinkett smith\\'s \\'red table talk\\' is coming back for a new season, but it looks like will won\\'t be joining her to talk about h…jada pinkett smith\\'s \\'red table talk\\' lineup revealed, no mention of will or slap via @tmzcancel red fake table…… https://t.co/7b09qcredv\"there’s too much reliance on written statements and not enough acknowledgment that multiple apologies are missing from all parties.\"\\n\\n#hollywoodnews #variety #theimagecartel\\n\\nhttps://t.co/jpv64kl3m9jada pinkett smith\\'s \\'red table talk\\' lineup revealed, no mention of will or slap https://t.co/lohjpr4jzgrt @tmz: jada pinkett smith\\'s \\'red table talk\\' is coming back for a new season, but it looks like will won\\'t be joining her to talk about h…rt @tmz: jada pinkett smith\\'s \\'red table talk\\' is coming back for a new season, but it looks like will won\\'t be joining her to talk about h…rt @tmz: jada pinkett smith\\'s \\'red table talk\\' is coming back for a new season, but it looks like will won\\'t be joining her to talk about h…hosted by mfrazz: jada pinkett smith\\'s \\'red table talk\\' lineup revealed, no mention of will or slap https://t.co/ykm3jmz6lsjada pinkett smith\\'s \\'red table talk\\' lineup revealed, no mention of will or slap https://t.co/zfc2hbgim7jada pinkett smith\\'s \\'red table talk\\' lineup revealed, no mention of will or slap https://t.co/i0mmeh69oi https://t.co/wtauhe1d7irt @tmz: jada pinkett smith\\'s \\'red table talk\\' is coming back for a new season, but it looks like will won\\'t be joining her to talk about h…jada pinkett smith\\'s \\'red table talk\\' lineup revealed, no mention of will or slap https://t.co/vpod0pbl8grt @tmz: jada pinkett smith\\'s \\'red table talk\\' is coming back for a new season, but it looks like will won\\'t be joining her to talk about h…rt @tmz: jada pinkett smith\\'s \\'red table talk\\' is coming back for a new season, but it looks like will won\\'t be joining her to talk about h…rt @tmz: jada pinkett smith\\'s \\'red table talk\\' is coming back for a new season, but it looks like will won\\'t be joining her to talk about h…rt @tmz: jada pinkett smith\\'s \\'red table talk\\' is coming back for a new season, but it looks like will won\\'t be joining her to talk about h…jada pinkett smith\\'s \\'red table talk\\' is coming back for a new season, but it looks like will won\\'t be joining her to talk about his oscars slap. https://t.co/bkvqjrcjat“will smith has been bullying chris rock all his life”: actor who made bold claim on dwyane wade’s wife comments on oscars\\xa0slapgate https://t.co/brdetyjr76zayn malik’s favorite fighter calls out former interim ufc champion with chris rock and will smith’s oscars slap\\xa0reference https://t.co/u6pkp3yszsrt @crypto_wires: will smith slaps chris rock at the oscars 2022! animated https://t.co/3b6ayve9ms via @youtube #funny #willsmithchrisrock…rt @crypto_wires: will smith slaps chris rock at the oscars 2022! animated https://t.co/3b6ayve9ms via @youtube #funny #willsmithchrisrock…will smith slaps chris rock at the oscars 2022! animated https://t.co/3b6ayve9ms via @youtube #funny #willsmithchrisrock #mentalhealthtelling my kids this was will smith and chris rock at the 2022 oscars https://t.co/kqfwjtuoprrt @variety: jada pinkett smith\\'s #redtabletalk is coming back. but it\\'s unclear whether will smith\\'s infamous oscars slap will be discusse…rt @ryangrim: honor culture is back. we eradicated it for a reason. https://t.co/cw7qhyipbdrt @alainpersian: #ویل_اسمیت، بازیگر معروف آمریکایی، در سایه حواشی مراسم #اسکار ۲۰۲۲ اعلام کرد از عضویت در آکادمی علوم و هنرهای سینمایی اسک…rt @eldelquijote: will smith, premio donostia 2022. #oscars https://t.co/8gf6bte3fnrt @variety: jada pinkett smith\\'s #redtabletalk is coming back. but it\\'s unclear whether will smith\\'s infamous oscars slap will be discusse…rt @variety: jada pinkett smith\\'s #redtabletalk is coming back. but it\\'s unclear whether will smith\\'s infamous oscars slap will be discusse…jada pinkett smith\\'s #redtabletalk is coming back. but it\\'s unclear whether will smith\\'s infamous oscars slap will be discussed. https://t.co/svri75noknrt @variety: jada pinkett smith’s ‘red table talk’ announces lineup for new season, but no mention of oscars\\xa0slap https://t.co/svri75vnspabout will smith and chris rock at the oscars | by william spivey | mar, 2022 | medium - via @pensignal  https://t.co/sgeb2orpsm #oscars #willsmithrt @variety: jada pinkett smith’s ‘red table talk’ announces lineup for new season, but no mention of oscars\\xa0slap https://t.co/svri75vnsp2022? elon musk musk twitter? oscars will smith? ukraine russia? get your head out of the clouds, watson! the game is afoot!#jadapinkettsmith’s ‘#redtabletalk’ announces lineup for new season, but no mention of #oscars slap https://t.co/ho2hb4bpjh https://t.co/9fzkkggo8hnews 🔥| new interview with mark jansen! he talked about the upcoming omega mexico tour, will smith at the #oscars and more 👀\\n\\nlink: https://t.co/fyufh5wtbtrt @nypost: oscars slapper will smith says he turned down \\'django\\' due to \\'violence\\' https://t.co/oaesltxbqg https://t.co/nvsem23zfkjada pinkett smith’s ‘red table talk’ announces lineup for new season, but no mention of oscars slap https://t.co/tvvqqwc9wurt @variety: jada pinkett smith’s ‘red table talk’ announces lineup for new season, but no mention of oscars\\xa0slap https://t.co/svri75vnspjada pinkett smith’s ‘red table talk’ announces lineup for new season, but no mention of oscars slap https://t.co/tnzw041kgirt @variety: jada pinkett smith’s ‘red table talk’ announces lineup for new season, but no mention of oscars\\xa0slap https://t.co/svri75vnspjada pinkett smith’s ‘red table talk’ announces lineup for new season, but no mention of oscars slap https://t.co/wt17rp62eq #news #jadapinkettsmithjada pinkett smith’s ‘red table talk’ announces lineup for new season, but no mention of oscars\\xa0slap https://t.co/svri75vnspjada pinkett smith is back at the red table in the wake of the oscars altercation between will smith and chris rock. https://t.co/wkf4hpsottrt @harringtonboyce: thank you fortune for the shoutout 🚀👏slapping our way to a new ath 🚀https://t.co/baoaubnoxi#slap #oscars… https://t.co…rt @loraineforla: note to @latimes: readers care about climate -- and they want the times to cover the protests that are happening\\n\\nthe cli…rt @tmz: now will the infamous oscars moment get a mention?\\nhttps://t.co/1sluzruofxrt @loraineforla: note to @latimes: readers care about climate -- and they want the times to cover the protests that are happening\\n\\nthe cli…rt @navinous: will smith apologizes for slapping oscars presenter chris rock:\\n\"i am embarrassed and my actions were not indicative of the m…rt @loraineforla: note to @latimes: readers care about climate -- and they want the times to cover the protests that are happening\\n\\nthe cli…rt @loraineforla: note to @latimes: readers care about climate -- and they want the times to cover the protests that are happening\\n\\nthe cli…note to @latimes: readers care about climate -- and they want the times to cover the protests that are happening\\n\\nthe climate change story that generated way more reader mail than will smith\\'s oscars slap https://t.co/xehep70xtlwill smith slaps chris rock into next week onstage at oscars after bad jada\\xa0joke https://t.co/gsundbtmj2will smith responds to being banned from the\\xa0oscars https://t.co/qn1lhwdnnewill smith got banned from the oscars for the next\\xa0decade https://t.co/vfix13nxflandy vermaut shares:‘red table talk’ season 5 trailer: is will smith set to appear on jada’s show after oscar’s slap?: following will smith’s incident at the oscars, there will be plenty… https://t.co/6bfj34v9yg thank you. #andyvermautloveshollywood #thankyoufortheentertainment https://t.co/qzu9aifawh‘red table talk’ season 5 trailer: is will smith set to appear on jada’s show after oscar’s\\xa0slap? https://t.co/vc1i3lr9zv'"
      ]
     },
     "execution_count": 13,
     "metadata": {},
     "output_type": "execute_result"
    }
   ],
   "source": [
    "all_text = oscars2022_df['text'].tolist()\n",
    "\n",
    "str_all_text = \"\"\n",
    "for entry in all_text:\n",
    "    str_all_text += entry \n",
    "    \n",
    "cleaned = str_all_text.lower()\n",
    "cleaned"
   ]
  },
  {
   "cell_type": "code",
   "execution_count": 14,
   "metadata": {},
   "outputs": [
    {
     "data": {
      "text/plain": [
       "'autoconhecinema - king richard\\n#willsmith #jadapinkettsmith for   #oscars   #oscars2022 for  winner for #criticschoicesawards for winner for #emmys for his movie champion of will smith 🎥🎥🎥🎥🎥🎥🎥🎥🎥 may 9th 2022 https://t.co/erjylgua4soscars\\'punishment\\' for will smith slap is pathetic and weak https://t.co/kyflpb1ulj via nypost great take 👍👍rt variety: jada pinkett smith’s ‘red table talk’ announces lineup for new season, but no mention of oscars\\xa0slap https://t.co/svri75vnsprt variety: jada pinkett smith\\'s #redtabletalk is coming back. but it\\'s unclear whether will smith\\'s infamous oscars slap will be discusse…rt samuelljackson: revelations of will smith call with oscar bosses outrages board &amp; more #smartnews  https://t.co/0cej5wgcywwill smith slaps chris rock at the\\xa0oscars https://t.co/chhaadl70bwill packer claims chris rock said will could leave, rock sources say that\\'s a lie https://t.co/fh262ilc0h via tmzgulftoday the #redtabletalk season 5 trailer has been released -- is will smith going to discuss the oscars debacle? https://t.co/sns1iyshw1 https://t.co/aiobo9aeot https://t.co/i3c6f9g9ftwill smith’s post-slap oscars acceptance speech spiked audience by 600,000 viewers https://t.co/sojb2atnf6will smith slaps chris rock at oscars 2022 - south park animated https://t.co/i7i9iidr9u via youtube the greatest-night in television historyrt extratv: jada pinkett smith is back at the red table in the wake of the oscars altercation between will smith and chris rock. https://t…liam payne explains ‘funny’ accent during his will smith oscars chat on\\xa0gmb https://t.co/r2yctyxwwujada pinkett smith is back at the red table in the wake of the oscars altercation between will smith and chris rock. https://t.co/aoiupohrhjsocial update: jada pinkett smith\\'sred table talk\\' lineup revealed, no mention of will or slap. jada pinkett smith\\'s \"red table talk\" is returning with all-new episodes, but their lineup is glaringly missing will smith as a guest... https://t.co/pz8abngtnn #tmz #theartsandus https://t.co/cjumouf1xaandy vermaut shares:jada pinkett smith’s ‘red table talk’ returns this week with first post-oscars episode: jada pinkett smith’s\\xa0red table talk\\xa0is returning to facebook watch on wednesday for its first episode since her husband will smith… https://t.co/aot5oel5rl thankyou. https://t.co/deug0h33wyrt tmz: now will the infamous oscars moment get a mention?\\nhttps://t.co/1sluzruofxjada pinkett smith\\'sred table talk\\' lineup revealed, no mention of will or slap https://t.co/aqm8xxjd1v earn money now. work on the internet! https://t.co/xbkdnz447g\\n (#siguemeytesigo) (#followback) (#news) (#sdv)jada pinkett smith releases red table talk trailer after will smith oscars slap https://t.co/3wsupdr6uy via metroukhttps://t.co/w8vwj16zrhrt tmz: now will the infamous oscars moment get a mention?\\nhttps://t.co/1sluzruofxrt hollywoodlife: the #redtabletalk season 5 trailer has been released -- is will smith going to discuss the oscars debacle? https://t.co/…rt lightfootinhwd: after will smith assaulted chris rock, procedures were so shaken that they didn\\'t present liza in a directors chair, th…no shit.\\n\\nhttps://t.co/ss9ootamp7rt froomkin: great headline: the climate change story that generated way more reader mail than will smith\\'s oscars slap https://t.co/daaoj…rt froomkin: great headline: the climate change story that generated way more reader mail than will smith\\'s oscars slap https://t.co/daaoj…rt froomkin: great headline: the climate change story that generated way more reader mail than will smith\\'s oscars slap https://t.co/daaoj…rt usweekly: weeks later, celebs are *still* reacting to the #oscars slap. https://t.co/rxuripvpexweeks later, celebs are *still* reacting to the #oscars slap. https://t.co/rxuripvpexrt froomkin: great headline: the climate change story that generated way more reader mail than will smith\\'s oscars slap https://t.co/daaoj…rt lightfootinhwd: after will smith assaulted chris rock, procedures were so shaken that they didn\\'t present liza in a directors chair, th…rt froomkin: great headline: the climate change story that generated way more reader mail than will smith\\'s oscars slap https://t.co/daaoj…rt froomkin: great headline: the climate change story that generated way more reader mail than will smith\\'s oscars slap https://t.co/daaoj…rt froomkin: great headline: the climate change story that generated way more reader mail than will smith\\'s oscars slap https://t.co/daaoj…rt froomkin: great headline: the climate change story that generated way more reader mail than will smith\\'s oscars slap https://t.co/daaoj…great headline: the climate change story that generated way more reader mail than will smith\\'s oscars slap https://t.co/daaoj11ztn\\'saturday night live\\' takes on will smith\\'s oscars slap https://t.co/uqifz5djsk #breakingnews #news #twitter #ukraine️ #ukrainerussiawar #trump #bidenafter will smith assaulted chris rock, procedures were so shaken that they didn\\'t present liza in a directors chair, they forced her out in the wheelchair.💔\\n\\nliza minnelli was ‘sabotaged’ at oscars 2022, longtime pal claims\\n\\nhttps://t.co/wbd3zywzhart toastmasters: darren lacroix, the 2001 world champion of public speaking was featured in the forbes article how to be a better speaker…the #redtabletalk season 5 trailer has been released -- is will smith going to discuss the oscars debacle? https://t.co/eljm0p7aty https://t.co/wlwjxlcfpyjada pinkett smith\\'sred table talk\\' lineup revealed, no mention of will or slap https://t.co/y0llx3xgslrt laligaendirecto: 1⃣5⃣ que alguien pare esto, por favor. #laprofecía\\n\\nóscars 1977: sylvester stallone y muhammad ali tienen unapelea\\'…still no sure what a make eh whole oscars debacle but defo agree absolutely wi this article.\\nhttps://t.co/bmt9hnow9bjada pinkett smith\\'sred table talk\\' lineup revealed, no mention of will or slap https://t.co/mtobxwpal7 https://t.co/471khp6kjyrt tmz: jada pinkett smith\\'sred table talk\\' is coming back for a new season, but it looks like will won\\'t be joining her to talk about h…jada pinkett smith\\'sred table talk\\' lineup revealed, no mention of will or slap via tmzcancel red fake table…… https://t.co/7b09qcredv\"there’s too much reliance on written statements and not enough acknowledgment that multiple apologies are missing from all parties.\"\\n\\n#hollywoodnews #variety #theimagecartel\\n\\nhttps://t.co/jpv64kl3m9jada pinkett smith\\'sred table talk\\' lineup revealed, no mention of will or slap https://t.co/lohjpr4jzgrt tmz: jada pinkett smith\\'sred table talk\\' is coming back for a new season, but it looks like will won\\'t be joining her to talk about h…rt tmz: jada pinkett smith\\'sred table talk\\' is coming back for a new season, but it looks like will won\\'t be joining her to talk about h…rt tmz: jada pinkett smith\\'sred table talk\\' is coming back for a new season, but it looks like will won\\'t be joining her to talk about h…hosted by mfrazz: jada pinkett smith\\'sred table talk\\' lineup revealed, no mention of will or slap https://t.co/ykm3jmz6lsjada pinkett smith\\'sred table talk\\' lineup revealed, no mention of will or slap https://t.co/zfc2hbgim7jada pinkett smith\\'sred table talk\\' lineup revealed, no mention of will or slap https://t.co/i0mmeh69oi https://t.co/wtauhe1d7irt tmz: jada pinkett smith\\'sred table talk\\' is coming back for a new season, but it looks like will won\\'t be joining her to talk about h…jada pinkett smith\\'sred table talk\\' lineup revealed, no mention of will or slap https://t.co/vpod0pbl8grt tmz: jada pinkett smith\\'sred table talk\\' is coming back for a new season, but it looks like will won\\'t be joining her to talk about h…rt tmz: jada pinkett smith\\'sred table talk\\' is coming back for a new season, but it looks like will won\\'t be joining her to talk about h…rt tmz: jada pinkett smith\\'sred table talk\\' is coming back for a new season, but it looks like will won\\'t be joining her to talk about h…rt tmz: jada pinkett smith\\'sred table talk\\' is coming back for a new season, but it looks like will won\\'t be joining her to talk about h…jada pinkett smith\\'sred table talk\\' is coming back for a new season, but it looks like will won\\'t be joining her to talk about his oscars slap. https://t.co/bkvqjrcjat“will smith has been bullying chris rock all his life”: actor who made bold claim on dwyane wade’s wife comments on oscars\\xa0slapgate https://t.co/brdetyjr76zayn malik’s favorite fighter calls out former interim ufc champion with chris rock and will smith’s oscars slap\\xa0reference https://t.co/u6pkp3yszsrt crypto_wires: will smith slaps chris rock at the oscars 2022! animated https://t.co/3b6ayve9ms via youtube #funny #willsmithchrisrock…rt crypto_wires: will smith slaps chris rock at the oscars 2022! animated https://t.co/3b6ayve9ms via youtube #funny #willsmithchrisrock…will smith slaps chris rock at the oscars 2022! animated https://t.co/3b6ayve9ms via youtube #funny #willsmithchrisrock #mentalhealthtelling my kids this was will smith and chris rock at the 2022 oscars https://t.co/kqfwjtuoprrt variety: jada pinkett smith\\'s #redtabletalk is coming back. but it\\'s unclear whether will smith\\'s infamous oscars slap will be discusse…rt ryangrim: honor culture is back. we eradicated it for a reason. https://t.co/cw7qhyipbdrt alainpersian: #ویل_اسمیت، بازیگر معروف آمریکایی، در سایه حواشی مراسم #اسکار ۲۰۲۲ اعلام کرد از عضویت در آکادمی علوم و هنرهای سینمایی اسک…rt eldelquijote: will smith, premio donostia 2022. #oscars https://t.co/8gf6bte3fnrt variety: jada pinkett smith\\'s #redtabletalk is coming back. but it\\'s unclear whether will smith\\'s infamous oscars slap will be discusse…rt variety: jada pinkett smith\\'s #redtabletalk is coming back. but it\\'s unclear whether will smith\\'s infamous oscars slap will be discusse…jada pinkett smith\\'s #redtabletalk is coming back. but it\\'s unclear whether will smith\\'s infamous oscars slap will be discussed. https://t.co/svri75noknrt variety: jada pinkett smith’s ‘red table talk’ announces lineup for new season, but no mention of oscars\\xa0slap https://t.co/svri75vnspabout will smith and chris rock at the oscars | by william spivey | mar, 2022 | medium - via pensignal  https://t.co/sgeb2orpsm #oscars #willsmithrt variety: jada pinkett smith’s ‘red table talk’ announces lineup for new season, but no mention of oscars\\xa0slap https://t.co/svri75vnsp2022? elon musk musk twitter? oscars will smith? ukraine russia? get your head out of the clouds, watson! the game is afoot!#jadapinkettsmith’s ‘#redtabletalk’ announces lineup for new season, but no mention of #oscars slap https://t.co/ho2hb4bpjh https://t.co/9fzkkggo8hnews 🔥| new interview with mark jansen! he talked about the upcoming omega mexico tour, will smith at the #oscars and more 👀\\n\\nlink: https://t.co/fyufh5wtbtrt nypost: oscars slapper will smith says he turned downdjango\\' due toviolence\\' https://t.co/oaesltxbqg https://t.co/nvsem23zfkjada pinkett smith’s ‘red table talk’ announces lineup for new season, but no mention of oscars slap https://t.co/tvvqqwc9wurt variety: jada pinkett smith’s ‘red table talk’ announces lineup for new season, but no mention of oscars\\xa0slap https://t.co/svri75vnspjada pinkett smith’s ‘red table talk’ announces lineup for new season, but no mention of oscars slap https://t.co/tnzw041kgirt variety: jada pinkett smith’s ‘red table talk’ announces lineup for new season, but no mention of oscars\\xa0slap https://t.co/svri75vnspjada pinkett smith’s ‘red table talk’ announces lineup for new season, but no mention of oscars slap https://t.co/wt17rp62eq #news #jadapinkettsmithjada pinkett smith’s ‘red table talk’ announces lineup for new season, but no mention of oscars\\xa0slap https://t.co/svri75vnspjada pinkett smith is back at the red table in the wake of the oscars altercation between will smith and chris rock. https://t.co/wkf4hpsottrt harringtonboyce: thank you fortune for the shoutout 🚀👏slapping our way to a new ath 🚀https://t.co/baoaubnoxi#slap #oscars… https://t.co…rt loraineforla: note to latimes: readers care about climate -- and they want the times to cover the protests that are happening\\n\\nthe cli…rt tmz: now will the infamous oscars moment get a mention?\\nhttps://t.co/1sluzruofxrt loraineforla: note to latimes: readers care about climate -- and they want the times to cover the protests that are happening\\n\\nthe cli…rt navinous: will smith apologizes for slapping oscars presenter chris rock:\\n\"i am embarrassed and my actions were not indicative of the m…rt loraineforla: note to latimes: readers care about climate -- and they want the times to cover the protests that are happening\\n\\nthe cli…rt loraineforla: note to latimes: readers care about climate -- and they want the times to cover the protests that are happening\\n\\nthe cli…note to latimes: readers care about climate -- and they want the times to cover the protests that are happening\\n\\nthe climate change story that generated way more reader mail than will smith\\'s oscars slap https://t.co/xehep70xtlwill smith slaps chris rock into next week onstage at oscars after bad jada\\xa0joke https://t.co/gsundbtmj2will smith responds to being banned from the\\xa0oscars https://t.co/qn1lhwdnnewill smith got banned from the oscars for the next\\xa0decade https://t.co/vfix13nxflandy vermaut shares:‘red table talk’ season 5 trailer: is will smith set to appear on jada’s show after oscar’s slap?: following will smith’s incident at the oscars, there will be plenty… https://t.co/6bfj34v9yg thank you. #andyvermautloveshollywood #thankyoufortheentertainment https://t.co/qzu9aifawh‘red table talk’ season 5 trailer: is will smith set to appear on jada’s show after oscar’s\\xa0slap? https://t.co/vc1i3lr9zv'"
      ]
     },
     "execution_count": 14,
     "metadata": {},
     "output_type": "execute_result"
    }
   ],
   "source": [
    "import re\n",
    "clean1 = re.sub(\"@| / | /g | https | '\", \"\", cleaned)\n",
    "clean1"
   ]
  },
  {
   "cell_type": "code",
   "execution_count": 15,
   "metadata": {},
   "outputs": [
    {
     "name": "stderr",
     "output_type": "stream",
     "text": [
      "[nltk_data] Downloading package punkt to\n",
      "[nltk_data]     /Users/elizabethjohnson/nltk_data...\n",
      "[nltk_data]   Package punkt is already up-to-date!\n",
      "[nltk_data] Downloading package averaged_perceptron_tagger to\n",
      "[nltk_data]     /Users/elizabethjohnson/nltk_data...\n",
      "[nltk_data]   Package averaged_perceptron_tagger is already up-to-\n",
      "[nltk_data]       date!\n",
      "[nltk_data] Downloading collection 'all'\n",
      "[nltk_data]    | \n",
      "[nltk_data]    | Downloading package abc to\n",
      "[nltk_data]    |     /Users/elizabethjohnson/nltk_data...\n",
      "[nltk_data]    |   Package abc is already up-to-date!\n",
      "[nltk_data]    | Downloading package alpino to\n",
      "[nltk_data]    |     /Users/elizabethjohnson/nltk_data...\n",
      "[nltk_data]    |   Package alpino is already up-to-date!\n",
      "[nltk_data]    | Downloading package averaged_perceptron_tagger to\n",
      "[nltk_data]    |     /Users/elizabethjohnson/nltk_data...\n",
      "[nltk_data]    |   Package averaged_perceptron_tagger is already up-\n",
      "[nltk_data]    |       to-date!\n",
      "[nltk_data]    | Downloading package averaged_perceptron_tagger_ru to\n",
      "[nltk_data]    |     /Users/elizabethjohnson/nltk_data...\n",
      "[nltk_data]    |   Package averaged_perceptron_tagger_ru is already\n",
      "[nltk_data]    |       up-to-date!\n",
      "[nltk_data]    | Downloading package basque_grammars to\n",
      "[nltk_data]    |     /Users/elizabethjohnson/nltk_data...\n",
      "[nltk_data]    |   Package basque_grammars is already up-to-date!\n",
      "[nltk_data]    | Downloading package biocreative_ppi to\n",
      "[nltk_data]    |     /Users/elizabethjohnson/nltk_data...\n",
      "[nltk_data]    |   Package biocreative_ppi is already up-to-date!\n",
      "[nltk_data]    | Downloading package bllip_wsj_no_aux to\n",
      "[nltk_data]    |     /Users/elizabethjohnson/nltk_data...\n",
      "[nltk_data]    |   Package bllip_wsj_no_aux is already up-to-date!\n",
      "[nltk_data]    | Downloading package book_grammars to\n",
      "[nltk_data]    |     /Users/elizabethjohnson/nltk_data...\n",
      "[nltk_data]    |   Package book_grammars is already up-to-date!\n",
      "[nltk_data]    | Downloading package brown to\n",
      "[nltk_data]    |     /Users/elizabethjohnson/nltk_data...\n",
      "[nltk_data]    |   Package brown is already up-to-date!\n",
      "[nltk_data]    | Downloading package brown_tei to\n",
      "[nltk_data]    |     /Users/elizabethjohnson/nltk_data...\n",
      "[nltk_data]    |   Package brown_tei is already up-to-date!\n",
      "[nltk_data]    | Downloading package cess_cat to\n",
      "[nltk_data]    |     /Users/elizabethjohnson/nltk_data...\n",
      "[nltk_data]    |   Package cess_cat is already up-to-date!\n",
      "[nltk_data]    | Downloading package cess_esp to\n",
      "[nltk_data]    |     /Users/elizabethjohnson/nltk_data...\n",
      "[nltk_data]    |   Package cess_esp is already up-to-date!\n",
      "[nltk_data]    | Downloading package chat80 to\n",
      "[nltk_data]    |     /Users/elizabethjohnson/nltk_data...\n",
      "[nltk_data]    |   Package chat80 is already up-to-date!\n",
      "[nltk_data]    | Downloading package city_database to\n",
      "[nltk_data]    |     /Users/elizabethjohnson/nltk_data...\n",
      "[nltk_data]    |   Package city_database is already up-to-date!\n",
      "[nltk_data]    | Downloading package cmudict to\n",
      "[nltk_data]    |     /Users/elizabethjohnson/nltk_data...\n",
      "[nltk_data]    |   Package cmudict is already up-to-date!\n",
      "[nltk_data]    | Downloading package comparative_sentences to\n",
      "[nltk_data]    |     /Users/elizabethjohnson/nltk_data...\n",
      "[nltk_data]    |   Package comparative_sentences is already up-to-\n",
      "[nltk_data]    |       date!\n",
      "[nltk_data]    | Downloading package comtrans to\n",
      "[nltk_data]    |     /Users/elizabethjohnson/nltk_data...\n",
      "[nltk_data]    |   Package comtrans is already up-to-date!\n",
      "[nltk_data]    | Downloading package conll2000 to\n",
      "[nltk_data]    |     /Users/elizabethjohnson/nltk_data...\n",
      "[nltk_data]    |   Package conll2000 is already up-to-date!\n",
      "[nltk_data]    | Downloading package conll2002 to\n",
      "[nltk_data]    |     /Users/elizabethjohnson/nltk_data...\n",
      "[nltk_data]    |   Package conll2002 is already up-to-date!\n",
      "[nltk_data]    | Downloading package conll2007 to\n",
      "[nltk_data]    |     /Users/elizabethjohnson/nltk_data...\n",
      "[nltk_data]    |   Package conll2007 is already up-to-date!\n",
      "[nltk_data]    | Downloading package crubadan to\n",
      "[nltk_data]    |     /Users/elizabethjohnson/nltk_data...\n",
      "[nltk_data]    |   Package crubadan is already up-to-date!\n",
      "[nltk_data]    | Downloading package dependency_treebank to\n",
      "[nltk_data]    |     /Users/elizabethjohnson/nltk_data...\n",
      "[nltk_data]    |   Package dependency_treebank is already up-to-date!\n",
      "[nltk_data]    | Downloading package dolch to\n",
      "[nltk_data]    |     /Users/elizabethjohnson/nltk_data...\n",
      "[nltk_data]    |   Package dolch is already up-to-date!\n",
      "[nltk_data]    | Downloading package europarl_raw to\n",
      "[nltk_data]    |     /Users/elizabethjohnson/nltk_data...\n",
      "[nltk_data]    |   Package europarl_raw is already up-to-date!\n",
      "[nltk_data]    | Downloading package extended_omw to\n",
      "[nltk_data]    |     /Users/elizabethjohnson/nltk_data...\n",
      "[nltk_data]    |   Package extended_omw is already up-to-date!\n",
      "[nltk_data]    | Downloading package floresta to\n",
      "[nltk_data]    |     /Users/elizabethjohnson/nltk_data...\n",
      "[nltk_data]    |   Package floresta is already up-to-date!\n",
      "[nltk_data]    | Downloading package framenet_v15 to\n",
      "[nltk_data]    |     /Users/elizabethjohnson/nltk_data...\n",
      "[nltk_data]    |   Package framenet_v15 is already up-to-date!\n",
      "[nltk_data]    | Downloading package framenet_v17 to\n",
      "[nltk_data]    |     /Users/elizabethjohnson/nltk_data...\n",
      "[nltk_data]    |   Package framenet_v17 is already up-to-date!\n",
      "[nltk_data]    | Downloading package gazetteers to\n",
      "[nltk_data]    |     /Users/elizabethjohnson/nltk_data...\n",
      "[nltk_data]    |   Package gazetteers is already up-to-date!\n",
      "[nltk_data]    | Downloading package genesis to\n",
      "[nltk_data]    |     /Users/elizabethjohnson/nltk_data...\n",
      "[nltk_data]    |   Package genesis is already up-to-date!\n",
      "[nltk_data]    | Downloading package gutenberg to\n",
      "[nltk_data]    |     /Users/elizabethjohnson/nltk_data...\n",
      "[nltk_data]    |   Package gutenberg is already up-to-date!\n",
      "[nltk_data]    | Downloading package ieer to\n",
      "[nltk_data]    |     /Users/elizabethjohnson/nltk_data...\n",
      "[nltk_data]    |   Package ieer is already up-to-date!\n",
      "[nltk_data]    | Downloading package inaugural to\n",
      "[nltk_data]    |     /Users/elizabethjohnson/nltk_data...\n",
      "[nltk_data]    |   Package inaugural is already up-to-date!\n",
      "[nltk_data]    | Downloading package indian to\n",
      "[nltk_data]    |     /Users/elizabethjohnson/nltk_data...\n",
      "[nltk_data]    |   Package indian is already up-to-date!\n",
      "[nltk_data]    | Downloading package jeita to\n",
      "[nltk_data]    |     /Users/elizabethjohnson/nltk_data...\n",
      "[nltk_data]    |   Package jeita is already up-to-date!\n",
      "[nltk_data]    | Downloading package kimmo to\n",
      "[nltk_data]    |     /Users/elizabethjohnson/nltk_data...\n",
      "[nltk_data]    |   Package kimmo is already up-to-date!\n",
      "[nltk_data]    | Downloading package knbc to\n",
      "[nltk_data]    |     /Users/elizabethjohnson/nltk_data...\n",
      "[nltk_data]    |   Package knbc is already up-to-date!\n",
      "[nltk_data]    | Downloading package large_grammars to\n",
      "[nltk_data]    |     /Users/elizabethjohnson/nltk_data...\n",
      "[nltk_data]    |   Package large_grammars is already up-to-date!\n",
      "[nltk_data]    | Downloading package lin_thesaurus to\n",
      "[nltk_data]    |     /Users/elizabethjohnson/nltk_data...\n",
      "[nltk_data]    |   Package lin_thesaurus is already up-to-date!\n",
      "[nltk_data]    | Downloading package mac_morpho to\n",
      "[nltk_data]    |     /Users/elizabethjohnson/nltk_data...\n",
      "[nltk_data]    |   Package mac_morpho is already up-to-date!\n",
      "[nltk_data]    | Downloading package machado to\n",
      "[nltk_data]    |     /Users/elizabethjohnson/nltk_data...\n",
      "[nltk_data]    |   Package machado is already up-to-date!\n",
      "[nltk_data]    | Downloading package masc_tagged to\n",
      "[nltk_data]    |     /Users/elizabethjohnson/nltk_data...\n",
      "[nltk_data]    |   Package masc_tagged is already up-to-date!\n",
      "[nltk_data]    | Downloading package maxent_ne_chunker to\n",
      "[nltk_data]    |     /Users/elizabethjohnson/nltk_data...\n",
      "[nltk_data]    |   Package maxent_ne_chunker is already up-to-date!\n",
      "[nltk_data]    | Downloading package maxent_treebank_pos_tagger to\n",
      "[nltk_data]    |     /Users/elizabethjohnson/nltk_data...\n",
      "[nltk_data]    |   Package maxent_treebank_pos_tagger is already up-\n",
      "[nltk_data]    |       to-date!\n",
      "[nltk_data]    | Downloading package moses_sample to\n",
      "[nltk_data]    |     /Users/elizabethjohnson/nltk_data...\n",
      "[nltk_data]    |   Package moses_sample is already up-to-date!\n",
      "[nltk_data]    | Downloading package movie_reviews to\n",
      "[nltk_data]    |     /Users/elizabethjohnson/nltk_data...\n",
      "[nltk_data]    |   Package movie_reviews is already up-to-date!\n",
      "[nltk_data]    | Downloading package mte_teip5 to\n",
      "[nltk_data]    |     /Users/elizabethjohnson/nltk_data...\n",
      "[nltk_data]    |   Package mte_teip5 is already up-to-date!\n",
      "[nltk_data]    | Downloading package mwa_ppdb to\n",
      "[nltk_data]    |     /Users/elizabethjohnson/nltk_data...\n",
      "[nltk_data]    |   Package mwa_ppdb is already up-to-date!\n",
      "[nltk_data]    | Downloading package names to\n",
      "[nltk_data]    |     /Users/elizabethjohnson/nltk_data...\n",
      "[nltk_data]    |   Package names is already up-to-date!\n",
      "[nltk_data]    | Downloading package nombank.1.0 to\n",
      "[nltk_data]    |     /Users/elizabethjohnson/nltk_data...\n",
      "[nltk_data]    |   Package nombank.1.0 is already up-to-date!\n",
      "[nltk_data]    | Downloading package nonbreaking_prefixes to\n",
      "[nltk_data]    |     /Users/elizabethjohnson/nltk_data...\n",
      "[nltk_data]    |   Package nonbreaking_prefixes is already up-to-date!\n",
      "[nltk_data]    | Downloading package nps_chat to\n",
      "[nltk_data]    |     /Users/elizabethjohnson/nltk_data...\n",
      "[nltk_data]    |   Package nps_chat is already up-to-date!\n",
      "[nltk_data]    | Downloading package omw to\n",
      "[nltk_data]    |     /Users/elizabethjohnson/nltk_data...\n",
      "[nltk_data]    |   Package omw is already up-to-date!\n",
      "[nltk_data]    | Downloading package omw-1.4 to\n",
      "[nltk_data]    |     /Users/elizabethjohnson/nltk_data...\n",
      "[nltk_data]    |   Package omw-1.4 is already up-to-date!\n",
      "[nltk_data]    | Downloading package opinion_lexicon to\n",
      "[nltk_data]    |     /Users/elizabethjohnson/nltk_data...\n",
      "[nltk_data]    |   Package opinion_lexicon is already up-to-date!\n",
      "[nltk_data]    | Downloading package panlex_swadesh to\n",
      "[nltk_data]    |     /Users/elizabethjohnson/nltk_data...\n",
      "[nltk_data]    |   Package panlex_swadesh is already up-to-date!\n",
      "[nltk_data]    | Downloading package paradigms to\n",
      "[nltk_data]    |     /Users/elizabethjohnson/nltk_data...\n",
      "[nltk_data]    |   Package paradigms is already up-to-date!\n",
      "[nltk_data]    | Downloading package pe08 to\n",
      "[nltk_data]    |     /Users/elizabethjohnson/nltk_data...\n",
      "[nltk_data]    |   Package pe08 is already up-to-date!\n",
      "[nltk_data]    | Downloading package perluniprops to\n",
      "[nltk_data]    |     /Users/elizabethjohnson/nltk_data...\n",
      "[nltk_data]    |   Package perluniprops is already up-to-date!\n",
      "[nltk_data]    | Downloading package pil to\n",
      "[nltk_data]    |     /Users/elizabethjohnson/nltk_data...\n",
      "[nltk_data]    |   Package pil is already up-to-date!\n",
      "[nltk_data]    | Downloading package pl196x to\n",
      "[nltk_data]    |     /Users/elizabethjohnson/nltk_data...\n",
      "[nltk_data]    |   Package pl196x is already up-to-date!\n",
      "[nltk_data]    | Downloading package porter_test to\n",
      "[nltk_data]    |     /Users/elizabethjohnson/nltk_data...\n",
      "[nltk_data]    |   Package porter_test is already up-to-date!\n",
      "[nltk_data]    | Downloading package ppattach to\n",
      "[nltk_data]    |     /Users/elizabethjohnson/nltk_data...\n",
      "[nltk_data]    |   Package ppattach is already up-to-date!\n",
      "[nltk_data]    | Downloading package problem_reports to\n",
      "[nltk_data]    |     /Users/elizabethjohnson/nltk_data...\n",
      "[nltk_data]    |   Package problem_reports is already up-to-date!\n",
      "[nltk_data]    | Downloading package product_reviews_1 to\n",
      "[nltk_data]    |     /Users/elizabethjohnson/nltk_data...\n",
      "[nltk_data]    |   Package product_reviews_1 is already up-to-date!\n",
      "[nltk_data]    | Downloading package product_reviews_2 to\n",
      "[nltk_data]    |     /Users/elizabethjohnson/nltk_data...\n",
      "[nltk_data]    |   Package product_reviews_2 is already up-to-date!\n",
      "[nltk_data]    | Downloading package propbank to\n",
      "[nltk_data]    |     /Users/elizabethjohnson/nltk_data...\n",
      "[nltk_data]    |   Package propbank is already up-to-date!\n",
      "[nltk_data]    | Downloading package pros_cons to\n",
      "[nltk_data]    |     /Users/elizabethjohnson/nltk_data...\n",
      "[nltk_data]    |   Package pros_cons is already up-to-date!\n",
      "[nltk_data]    | Downloading package ptb to\n",
      "[nltk_data]    |     /Users/elizabethjohnson/nltk_data...\n",
      "[nltk_data]    |   Package ptb is already up-to-date!\n",
      "[nltk_data]    | Downloading package punkt to\n",
      "[nltk_data]    |     /Users/elizabethjohnson/nltk_data...\n",
      "[nltk_data]    |   Package punkt is already up-to-date!\n",
      "[nltk_data]    | Downloading package qc to\n",
      "[nltk_data]    |     /Users/elizabethjohnson/nltk_data...\n",
      "[nltk_data]    |   Package qc is already up-to-date!\n",
      "[nltk_data]    | Downloading package reuters to\n",
      "[nltk_data]    |     /Users/elizabethjohnson/nltk_data...\n",
      "[nltk_data]    |   Package reuters is already up-to-date!\n",
      "[nltk_data]    | Downloading package rslp to\n",
      "[nltk_data]    |     /Users/elizabethjohnson/nltk_data...\n",
      "[nltk_data]    |   Package rslp is already up-to-date!\n",
      "[nltk_data]    | Downloading package rte to\n",
      "[nltk_data]    |     /Users/elizabethjohnson/nltk_data...\n",
      "[nltk_data]    |   Package rte is already up-to-date!\n",
      "[nltk_data]    | Downloading package sample_grammars to\n",
      "[nltk_data]    |     /Users/elizabethjohnson/nltk_data...\n",
      "[nltk_data]    |   Package sample_grammars is already up-to-date!\n",
      "[nltk_data]    | Downloading package semcor to\n",
      "[nltk_data]    |     /Users/elizabethjohnson/nltk_data...\n",
      "[nltk_data]    |   Package semcor is already up-to-date!\n",
      "[nltk_data]    | Downloading package senseval to\n",
      "[nltk_data]    |     /Users/elizabethjohnson/nltk_data...\n",
      "[nltk_data]    |   Package senseval is already up-to-date!\n",
      "[nltk_data]    | Downloading package sentence_polarity to\n",
      "[nltk_data]    |     /Users/elizabethjohnson/nltk_data...\n",
      "[nltk_data]    |   Package sentence_polarity is already up-to-date!\n",
      "[nltk_data]    | Downloading package sentiwordnet to\n",
      "[nltk_data]    |     /Users/elizabethjohnson/nltk_data...\n",
      "[nltk_data]    |   Package sentiwordnet is already up-to-date!\n",
      "[nltk_data]    | Downloading package shakespeare to\n",
      "[nltk_data]    |     /Users/elizabethjohnson/nltk_data...\n",
      "[nltk_data]    |   Package shakespeare is already up-to-date!\n",
      "[nltk_data]    | Downloading package sinica_treebank to\n",
      "[nltk_data]    |     /Users/elizabethjohnson/nltk_data...\n",
      "[nltk_data]    |   Package sinica_treebank is already up-to-date!\n",
      "[nltk_data]    | Downloading package smultron to\n",
      "[nltk_data]    |     /Users/elizabethjohnson/nltk_data...\n",
      "[nltk_data]    |   Package smultron is already up-to-date!\n",
      "[nltk_data]    | Downloading package snowball_data to\n",
      "[nltk_data]    |     /Users/elizabethjohnson/nltk_data...\n",
      "[nltk_data]    |   Package snowball_data is already up-to-date!\n",
      "[nltk_data]    | Downloading package spanish_grammars to\n",
      "[nltk_data]    |     /Users/elizabethjohnson/nltk_data...\n",
      "[nltk_data]    |   Package spanish_grammars is already up-to-date!\n",
      "[nltk_data]    | Downloading package state_union to\n",
      "[nltk_data]    |     /Users/elizabethjohnson/nltk_data...\n",
      "[nltk_data]    |   Package state_union is already up-to-date!\n",
      "[nltk_data]    | Downloading package stopwords to\n",
      "[nltk_data]    |     /Users/elizabethjohnson/nltk_data...\n",
      "[nltk_data]    |   Package stopwords is already up-to-date!\n",
      "[nltk_data]    | Downloading package subjectivity to\n",
      "[nltk_data]    |     /Users/elizabethjohnson/nltk_data...\n",
      "[nltk_data]    |   Package subjectivity is already up-to-date!\n",
      "[nltk_data]    | Downloading package swadesh to\n",
      "[nltk_data]    |     /Users/elizabethjohnson/nltk_data...\n",
      "[nltk_data]    |   Package swadesh is already up-to-date!\n",
      "[nltk_data]    | Downloading package switchboard to\n",
      "[nltk_data]    |     /Users/elizabethjohnson/nltk_data...\n",
      "[nltk_data]    |   Package switchboard is already up-to-date!\n",
      "[nltk_data]    | Downloading package tagsets to\n",
      "[nltk_data]    |     /Users/elizabethjohnson/nltk_data...\n",
      "[nltk_data]    |   Package tagsets is already up-to-date!\n",
      "[nltk_data]    | Downloading package timit to\n",
      "[nltk_data]    |     /Users/elizabethjohnson/nltk_data...\n",
      "[nltk_data]    |   Package timit is already up-to-date!\n",
      "[nltk_data]    | Downloading package toolbox to\n",
      "[nltk_data]    |     /Users/elizabethjohnson/nltk_data...\n",
      "[nltk_data]    |   Package toolbox is already up-to-date!\n",
      "[nltk_data]    | Downloading package treebank to\n",
      "[nltk_data]    |     /Users/elizabethjohnson/nltk_data...\n",
      "[nltk_data]    |   Package treebank is already up-to-date!\n",
      "[nltk_data]    | Downloading package twitter_samples to\n",
      "[nltk_data]    |     /Users/elizabethjohnson/nltk_data...\n",
      "[nltk_data]    |   Package twitter_samples is already up-to-date!\n",
      "[nltk_data]    | Downloading package udhr to\n",
      "[nltk_data]    |     /Users/elizabethjohnson/nltk_data...\n",
      "[nltk_data]    |   Package udhr is already up-to-date!\n",
      "[nltk_data]    | Downloading package udhr2 to\n",
      "[nltk_data]    |     /Users/elizabethjohnson/nltk_data...\n",
      "[nltk_data]    |   Package udhr2 is already up-to-date!\n",
      "[nltk_data]    | Downloading package unicode_samples to\n",
      "[nltk_data]    |     /Users/elizabethjohnson/nltk_data...\n",
      "[nltk_data]    |   Package unicode_samples is already up-to-date!\n",
      "[nltk_data]    | Downloading package universal_tagset to\n",
      "[nltk_data]    |     /Users/elizabethjohnson/nltk_data...\n",
      "[nltk_data]    |   Package universal_tagset is already up-to-date!\n",
      "[nltk_data]    | Downloading package universal_treebanks_v20 to\n",
      "[nltk_data]    |     /Users/elizabethjohnson/nltk_data...\n",
      "[nltk_data]    |   Package universal_treebanks_v20 is already up-to-\n",
      "[nltk_data]    |       date!\n",
      "[nltk_data]    | Downloading package vader_lexicon to\n",
      "[nltk_data]    |     /Users/elizabethjohnson/nltk_data...\n",
      "[nltk_data]    |   Package vader_lexicon is already up-to-date!\n",
      "[nltk_data]    | Downloading package verbnet to\n",
      "[nltk_data]    |     /Users/elizabethjohnson/nltk_data...\n",
      "[nltk_data]    |   Package verbnet is already up-to-date!\n",
      "[nltk_data]    | Downloading package verbnet3 to\n",
      "[nltk_data]    |     /Users/elizabethjohnson/nltk_data...\n",
      "[nltk_data]    |   Package verbnet3 is already up-to-date!\n",
      "[nltk_data]    | Downloading package webtext to\n",
      "[nltk_data]    |     /Users/elizabethjohnson/nltk_data...\n",
      "[nltk_data]    |   Package webtext is already up-to-date!\n",
      "[nltk_data]    | Downloading package wmt15_eval to\n",
      "[nltk_data]    |     /Users/elizabethjohnson/nltk_data...\n",
      "[nltk_data]    |   Package wmt15_eval is already up-to-date!\n",
      "[nltk_data]    | Downloading package word2vec_sample to\n",
      "[nltk_data]    |     /Users/elizabethjohnson/nltk_data...\n",
      "[nltk_data]    |   Package word2vec_sample is already up-to-date!\n",
      "[nltk_data]    | Downloading package wordnet to\n",
      "[nltk_data]    |     /Users/elizabethjohnson/nltk_data...\n",
      "[nltk_data]    |   Package wordnet is already up-to-date!\n",
      "[nltk_data]    | Downloading package wordnet2021 to\n",
      "[nltk_data]    |     /Users/elizabethjohnson/nltk_data...\n",
      "[nltk_data]    |   Package wordnet2021 is already up-to-date!\n",
      "[nltk_data]    | Downloading package wordnet31 to\n",
      "[nltk_data]    |     /Users/elizabethjohnson/nltk_data...\n",
      "[nltk_data]    |   Package wordnet31 is already up-to-date!\n",
      "[nltk_data]    | Downloading package wordnet_ic to\n",
      "[nltk_data]    |     /Users/elizabethjohnson/nltk_data...\n",
      "[nltk_data]    |   Package wordnet_ic is already up-to-date!\n",
      "[nltk_data]    | Downloading package words to\n",
      "[nltk_data]    |     /Users/elizabethjohnson/nltk_data...\n",
      "[nltk_data]    |   Package words is already up-to-date!\n",
      "[nltk_data]    | Downloading package ycoe to\n",
      "[nltk_data]    |     /Users/elizabethjohnson/nltk_data...\n",
      "[nltk_data]    |   Package ycoe is already up-to-date!\n",
      "[nltk_data]    | \n",
      "[nltk_data]  Done downloading collection all\n"
     ]
    },
    {
     "data": {
      "text/plain": [
       "True"
      ]
     },
     "execution_count": 15,
     "metadata": {},
     "output_type": "execute_result"
    }
   ],
   "source": [
    "import nltk\n",
    "nltk.download('punkt')\n",
    "nltk.download('averaged_perceptron_tagger')\n",
    "nltk.download('all')"
   ]
  },
  {
   "cell_type": "code",
   "execution_count": 16,
   "metadata": {},
   "outputs": [
    {
     "data": {
      "text/plain": [
       "['king',\n",
       " 'jadapinkettsmith',\n",
       " 'oscars',\n",
       " 'oscars2022',\n",
       " 'winner',\n",
       " 'criticschoicesawards',\n",
       " 'winner',\n",
       " 'emmys',\n",
       " 'movie',\n",
       " 'champion',\n",
       " 'smith',\n",
       " '🎥🎥🎥🎥🎥🎥🎥🎥🎥',\n",
       " 'smith',\n",
       " 'slap',\n",
       " 'is',\n",
       " 'take',\n",
       " 'variety',\n",
       " 'jada',\n",
       " 'pinkett',\n",
       " 'smith',\n",
       " 's',\n",
       " '‘',\n",
       " 'red',\n",
       " 'talk',\n",
       " 'announces',\n",
       " 'lineup',\n",
       " 'season',\n",
       " 'mention',\n",
       " 'oscars',\n",
       " 'variety',\n",
       " 'jada',\n",
       " 'pinkett',\n",
       " 'smith',\n",
       " 'redtabletalk',\n",
       " 'is',\n",
       " 'coming',\n",
       " \"'s\",\n",
       " 'smith',\n",
       " 'oscars',\n",
       " 'slap',\n",
       " 'be',\n",
       " 'samuelljackson',\n",
       " 'revelations',\n",
       " 'smith',\n",
       " 'call',\n",
       " 'oscar',\n",
       " 'bosses',\n",
       " 'outrages',\n",
       " 'board',\n",
       " 'amp',\n",
       " 'smartnews',\n",
       " 'smith',\n",
       " 'slaps',\n",
       " 'rock',\n",
       " 'oscars',\n",
       " 'packer',\n",
       " 'claims',\n",
       " 'chris',\n",
       " 'rock',\n",
       " 'said',\n",
       " 'leave',\n",
       " 'rock',\n",
       " 'sources',\n",
       " 'say',\n",
       " \"'s\",\n",
       " 'redtabletalk',\n",
       " 'season',\n",
       " 'trailer',\n",
       " 'has',\n",
       " 'been',\n",
       " 'released',\n",
       " 'is',\n",
       " 'smith',\n",
       " 'going',\n",
       " 'discuss',\n",
       " 'oscars',\n",
       " 'debacle',\n",
       " 'smith',\n",
       " 'oscars',\n",
       " 'acceptance',\n",
       " 'speech',\n",
       " 'spiked',\n",
       " 'audience',\n",
       " 'viewers',\n",
       " 'smith',\n",
       " 'slaps',\n",
       " 'rock',\n",
       " 'oscars',\n",
       " 'south',\n",
       " 'park',\n",
       " 'animated',\n",
       " 'greatest-night',\n",
       " 'television',\n",
       " 'historyrt',\n",
       " 'extratv',\n",
       " 'jada',\n",
       " 'pinkett',\n",
       " 'smith',\n",
       " 'is',\n",
       " 'table',\n",
       " 'wake',\n",
       " 'oscars',\n",
       " 'altercation',\n",
       " 'smith',\n",
       " 'chris',\n",
       " 'rock',\n",
       " 'payne',\n",
       " 'explains',\n",
       " 'accent',\n",
       " 'smith',\n",
       " 'oscars',\n",
       " 'pinkett',\n",
       " 'smith',\n",
       " 'is',\n",
       " 'table',\n",
       " 'wake',\n",
       " 'oscars',\n",
       " 'altercation',\n",
       " 'smith',\n",
       " 'chris',\n",
       " 'rock',\n",
       " 'update',\n",
       " 'jada',\n",
       " 'pinkett',\n",
       " \"smith'sred\",\n",
       " 'talk',\n",
       " 'lineup',\n",
       " 'revealed',\n",
       " 'mention',\n",
       " 'slap',\n",
       " 'jada',\n",
       " 'pinkett',\n",
       " 'smith',\n",
       " 'table',\n",
       " 'talk',\n",
       " 'is',\n",
       " 'returning',\n",
       " 'episodes',\n",
       " 'lineup',\n",
       " 'is',\n",
       " 'missing',\n",
       " 'smith',\n",
       " 'guest',\n",
       " 'shares',\n",
       " 'jada',\n",
       " 'pinkett',\n",
       " 'smith',\n",
       " 's',\n",
       " '‘',\n",
       " 'red',\n",
       " 'talk',\n",
       " 'returns',\n",
       " 'week',\n",
       " 'episode',\n",
       " 'jada',\n",
       " 'pinkett',\n",
       " 'smith',\n",
       " 's',\n",
       " 'red',\n",
       " 'talk',\n",
       " 'is',\n",
       " 'returning',\n",
       " 'facebook',\n",
       " 'watch',\n",
       " 'wednesday',\n",
       " 'episode',\n",
       " 'husband',\n",
       " 'smith…',\n",
       " 'thankyou',\n",
       " 'tmz',\n",
       " 'oscars',\n",
       " 'moment',\n",
       " 'get',\n",
       " 'mention',\n",
       " 'pinkett',\n",
       " \"smith'sred\",\n",
       " 'talk',\n",
       " 'lineup',\n",
       " 'revealed',\n",
       " 'mention',\n",
       " 'slap',\n",
       " 'earn',\n",
       " 'money',\n",
       " 'work',\n",
       " 'internet',\n",
       " 'siguemeytesigo',\n",
       " 'followback',\n",
       " 'news',\n",
       " 'sdv',\n",
       " 'jada',\n",
       " 'pinkett',\n",
       " 'smith',\n",
       " 'releases',\n",
       " 'red',\n",
       " 'talk',\n",
       " 'trailer',\n",
       " 'smith',\n",
       " 'oscars',\n",
       " 'metroukhttps',\n",
       " 'tmz',\n",
       " 'oscars',\n",
       " 'moment',\n",
       " 'get',\n",
       " 'mention',\n",
       " 'hollywoodlife',\n",
       " 'redtabletalk',\n",
       " 'season',\n",
       " 'trailer',\n",
       " 'has',\n",
       " 'been',\n",
       " 'released',\n",
       " 'is',\n",
       " 'smith',\n",
       " 'going',\n",
       " 'discuss',\n",
       " 'oscars',\n",
       " 'debacle',\n",
       " 'lightfootinhwd',\n",
       " 'smith',\n",
       " 'chris',\n",
       " 'rock',\n",
       " 'procedures',\n",
       " 'were',\n",
       " 'shaken',\n",
       " 'did',\n",
       " 'liza',\n",
       " 'directors',\n",
       " 'chair',\n",
       " 'th…no',\n",
       " 'shit',\n",
       " 'froomkin',\n",
       " 'headline',\n",
       " 'climate',\n",
       " 'change',\n",
       " 'story',\n",
       " 'generated',\n",
       " 'way',\n",
       " 'mail',\n",
       " 'smith',\n",
       " 'oscars',\n",
       " 'slap',\n",
       " 'froomkin',\n",
       " 'headline',\n",
       " 'climate',\n",
       " 'change',\n",
       " 'story',\n",
       " 'generated',\n",
       " 'way',\n",
       " 'mail',\n",
       " 'smith',\n",
       " 'oscars',\n",
       " 'slap',\n",
       " 'froomkin',\n",
       " 'headline',\n",
       " 'climate',\n",
       " 'change',\n",
       " 'story',\n",
       " 'generated',\n",
       " 'way',\n",
       " 'mail',\n",
       " 'smith',\n",
       " 'oscars',\n",
       " 'slap',\n",
       " 'weeks',\n",
       " 'celebs',\n",
       " 'are',\n",
       " '*',\n",
       " '*',\n",
       " 'reacting',\n",
       " 'oscars',\n",
       " 'slap',\n",
       " 'celebs',\n",
       " 'are',\n",
       " '*',\n",
       " '*',\n",
       " 'reacting',\n",
       " 'oscars',\n",
       " 'slap',\n",
       " 'froomkin',\n",
       " 'headline',\n",
       " 'climate',\n",
       " 'change',\n",
       " 'story',\n",
       " 'generated',\n",
       " 'way',\n",
       " 'mail',\n",
       " 'smith',\n",
       " 'oscars',\n",
       " 'slap',\n",
       " 'lightfootinhwd',\n",
       " 'smith',\n",
       " 'chris',\n",
       " 'rock',\n",
       " 'procedures',\n",
       " 'were',\n",
       " 'shaken',\n",
       " 'did',\n",
       " 'liza',\n",
       " 'directors',\n",
       " 'chair',\n",
       " 'froomkin',\n",
       " 'headline',\n",
       " 'climate',\n",
       " 'change',\n",
       " 'story',\n",
       " 'generated',\n",
       " 'way',\n",
       " 'mail',\n",
       " 'smith',\n",
       " 'oscars',\n",
       " 'slap',\n",
       " 'froomkin',\n",
       " 'headline',\n",
       " 'climate',\n",
       " 'change',\n",
       " 'story',\n",
       " 'generated',\n",
       " 'way',\n",
       " 'mail',\n",
       " 'smith',\n",
       " 'oscars',\n",
       " 'slap',\n",
       " 'froomkin',\n",
       " 'headline',\n",
       " 'climate',\n",
       " 'change',\n",
       " 'story',\n",
       " 'generated',\n",
       " 'way',\n",
       " 'mail',\n",
       " 'smith',\n",
       " 'oscars',\n",
       " 'slap',\n",
       " 'froomkin',\n",
       " 'headline',\n",
       " 'climate',\n",
       " 'change',\n",
       " 'story',\n",
       " 'generated',\n",
       " 'way',\n",
       " 'mail',\n",
       " 'smith',\n",
       " 'oscars',\n",
       " 'slap',\n",
       " 'headline',\n",
       " 'climate',\n",
       " 'change',\n",
       " 'story',\n",
       " 'generated',\n",
       " 'way',\n",
       " 'mail',\n",
       " 'smith',\n",
       " 'oscars',\n",
       " 'slap',\n",
       " 'night',\n",
       " 'live',\n",
       " 'takes',\n",
       " 'smith',\n",
       " 'oscars',\n",
       " 'slap',\n",
       " 'breakingnews',\n",
       " 'news',\n",
       " 'twitter',\n",
       " 'bidenafter',\n",
       " 'smith',\n",
       " 'chris',\n",
       " 'rock',\n",
       " 'procedures',\n",
       " 'were',\n",
       " 'shaken',\n",
       " 'did',\n",
       " 'liza',\n",
       " 'directors',\n",
       " 'chair',\n",
       " 'forced',\n",
       " 'wheelchair.💔',\n",
       " 'liza',\n",
       " 'minnelli',\n",
       " 'was',\n",
       " 'sabotaged',\n",
       " 'oscars',\n",
       " 'pal',\n",
       " 'claims',\n",
       " 'toastmasters',\n",
       " 'darren',\n",
       " 'lacroix',\n",
       " 'world',\n",
       " 'champion',\n",
       " 'speaking',\n",
       " 'was',\n",
       " 'featured',\n",
       " 'forbes',\n",
       " 'article',\n",
       " 'be',\n",
       " 'speaker…the',\n",
       " 'redtabletalk',\n",
       " 'season',\n",
       " 'trailer',\n",
       " 'has',\n",
       " 'been',\n",
       " 'released',\n",
       " 'is',\n",
       " 'smith',\n",
       " 'going',\n",
       " 'discuss',\n",
       " 'oscars',\n",
       " 'debacle',\n",
       " 'pinkett',\n",
       " \"smith'sred\",\n",
       " 'talk',\n",
       " 'lineup',\n",
       " 'revealed',\n",
       " 'mention',\n",
       " 'slap',\n",
       " 'laligaendirecto',\n",
       " 'que',\n",
       " 'alguien',\n",
       " 'pare',\n",
       " 'esto',\n",
       " 'por',\n",
       " 'favor',\n",
       " 'óscars',\n",
       " 'sylvester',\n",
       " 'stallone',\n",
       " 'y',\n",
       " 'muhammad',\n",
       " 'ali',\n",
       " 'tienen',\n",
       " 'make',\n",
       " 'oscars',\n",
       " 'debacle',\n",
       " 'agree',\n",
       " 'wi',\n",
       " 'article',\n",
       " 'pinkett',\n",
       " \"smith'sred\",\n",
       " 'talk',\n",
       " 'lineup',\n",
       " 'revealed',\n",
       " 'mention',\n",
       " 'slap',\n",
       " 'tmz',\n",
       " 'jada',\n",
       " 'pinkett',\n",
       " \"smith'sred\",\n",
       " 'talk',\n",
       " 'is',\n",
       " 'coming',\n",
       " 'season',\n",
       " 'looks',\n",
       " 'be',\n",
       " 'joining',\n",
       " 'talk',\n",
       " 'h…jada',\n",
       " 'pinkett',\n",
       " \"smith'sred\",\n",
       " 'talk',\n",
       " 'lineup',\n",
       " 'revealed',\n",
       " 'mention',\n",
       " 'slap',\n",
       " 'tmzcancel',\n",
       " 'fake',\n",
       " 'table……',\n",
       " 's',\n",
       " 'reliance',\n",
       " 'written',\n",
       " 'statements',\n",
       " 'acknowledgment',\n",
       " 'apologies',\n",
       " 'are',\n",
       " 'missing',\n",
       " 'parties',\n",
       " 'hollywoodnews',\n",
       " 'variety',\n",
       " 'theimagecartel',\n",
       " 'pinkett',\n",
       " \"smith'sred\",\n",
       " 'talk',\n",
       " 'lineup',\n",
       " 'revealed',\n",
       " 'mention',\n",
       " 'slap',\n",
       " 'tmz',\n",
       " 'jada',\n",
       " 'pinkett',\n",
       " \"smith'sred\",\n",
       " 'talk',\n",
       " 'is',\n",
       " 'coming',\n",
       " 'season',\n",
       " 'looks',\n",
       " 'be',\n",
       " 'joining',\n",
       " 'talk',\n",
       " 'h…rt',\n",
       " 'tmz',\n",
       " 'jada',\n",
       " 'pinkett',\n",
       " \"smith'sred\",\n",
       " 'talk',\n",
       " 'is',\n",
       " 'coming',\n",
       " 'season',\n",
       " 'looks',\n",
       " 'be',\n",
       " 'joining',\n",
       " 'talk',\n",
       " 'h…rt',\n",
       " 'tmz',\n",
       " 'jada',\n",
       " 'pinkett',\n",
       " \"smith'sred\",\n",
       " 'talk',\n",
       " 'is',\n",
       " 'coming',\n",
       " 'season',\n",
       " 'looks',\n",
       " 'be',\n",
       " 'joining',\n",
       " 'talk',\n",
       " 'h…hosted',\n",
       " 'mfrazz',\n",
       " 'jada',\n",
       " 'pinkett',\n",
       " \"smith'sred\",\n",
       " 'talk',\n",
       " 'lineup',\n",
       " 'revealed',\n",
       " 'mention',\n",
       " 'slap',\n",
       " 'pinkett',\n",
       " \"smith'sred\",\n",
       " 'talk',\n",
       " 'lineup',\n",
       " 'revealed',\n",
       " 'mention',\n",
       " 'slap',\n",
       " 'pinkett',\n",
       " \"smith'sred\",\n",
       " 'talk',\n",
       " 'lineup',\n",
       " 'revealed',\n",
       " 'mention',\n",
       " 'slap',\n",
       " 'tmz',\n",
       " 'jada',\n",
       " 'pinkett',\n",
       " \"smith'sred\",\n",
       " 'talk',\n",
       " 'is',\n",
       " 'coming',\n",
       " 'season',\n",
       " 'looks',\n",
       " 'be',\n",
       " 'joining',\n",
       " 'talk',\n",
       " 'h…jada',\n",
       " 'pinkett',\n",
       " \"smith'sred\",\n",
       " 'talk',\n",
       " 'lineup',\n",
       " 'revealed',\n",
       " 'mention',\n",
       " 'slap',\n",
       " 'tmz',\n",
       " 'jada',\n",
       " 'pinkett',\n",
       " \"smith'sred\",\n",
       " 'talk',\n",
       " 'is',\n",
       " 'coming',\n",
       " 'season',\n",
       " 'looks',\n",
       " 'be',\n",
       " 'joining',\n",
       " 'talk',\n",
       " 'h…rt',\n",
       " 'tmz',\n",
       " 'jada',\n",
       " 'pinkett',\n",
       " \"smith'sred\",\n",
       " 'talk',\n",
       " 'is',\n",
       " 'coming',\n",
       " 'season',\n",
       " 'looks',\n",
       " 'be',\n",
       " 'joining',\n",
       " 'talk',\n",
       " 'h…rt',\n",
       " 'tmz',\n",
       " 'jada',\n",
       " 'pinkett',\n",
       " \"smith'sred\",\n",
       " 'talk',\n",
       " 'is',\n",
       " 'coming',\n",
       " 'season',\n",
       " 'looks',\n",
       " 'be',\n",
       " 'joining',\n",
       " 'talk',\n",
       " 'h…rt',\n",
       " 'tmz',\n",
       " 'jada',\n",
       " 'pinkett',\n",
       " \"smith'sred\",\n",
       " 'talk',\n",
       " 'is',\n",
       " 'coming',\n",
       " 'season',\n",
       " 'looks',\n",
       " 'be',\n",
       " 'joining',\n",
       " 'talk',\n",
       " 'h…jada',\n",
       " 'pinkett',\n",
       " \"smith'sred\",\n",
       " 'talk',\n",
       " 'is',\n",
       " 'coming',\n",
       " 'season',\n",
       " 'looks',\n",
       " 'be',\n",
       " 'joining',\n",
       " 'talk',\n",
       " 'oscars',\n",
       " 'slap',\n",
       " '“',\n",
       " 'smith',\n",
       " 'has',\n",
       " 'been',\n",
       " 'bullying',\n",
       " 'chris',\n",
       " 'rock',\n",
       " 'life',\n",
       " '”',\n",
       " 'actor',\n",
       " 'made',\n",
       " 'claim',\n",
       " 'dwyane',\n",
       " 'wade',\n",
       " 's',\n",
       " 'wife',\n",
       " 'comments',\n",
       " 'oscars',\n",
       " 'malik',\n",
       " 's',\n",
       " 'fighter',\n",
       " 'calls',\n",
       " 'interim',\n",
       " 'champion',\n",
       " 'chris',\n",
       " 'rock',\n",
       " 'smith',\n",
       " 'oscars',\n",
       " 'slap',\n",
       " 'reference',\n",
       " 'crypto_wires',\n",
       " 'smith',\n",
       " 'slaps',\n",
       " 'chris',\n",
       " 'rock',\n",
       " 'oscars',\n",
       " 'animated',\n",
       " 'youtube',\n",
       " 'crypto_wires',\n",
       " 'smith',\n",
       " 'slaps',\n",
       " 'chris',\n",
       " 'rock',\n",
       " 'oscars',\n",
       " 'animated',\n",
       " 'youtube',\n",
       " 'willsmithchrisrock…will',\n",
       " 'smith',\n",
       " 'slaps',\n",
       " 'rock',\n",
       " 'oscars',\n",
       " 'animated',\n",
       " 'youtube',\n",
       " 'willsmithchrisrock',\n",
       " 'mentalhealthtelling',\n",
       " 'kids',\n",
       " 'was',\n",
       " 'smith',\n",
       " 'chris',\n",
       " 'rock',\n",
       " 'oscars',\n",
       " 'variety',\n",
       " 'jada',\n",
       " 'pinkett',\n",
       " 'smith',\n",
       " 'redtabletalk',\n",
       " 'is',\n",
       " 'coming',\n",
       " \"'s\",\n",
       " 'smith',\n",
       " 'oscars',\n",
       " 'slap',\n",
       " 'be',\n",
       " 'ryangrim',\n",
       " 'culture',\n",
       " 'is',\n",
       " 'eradicated',\n",
       " 'reason',\n",
       " 'ویل_اسمیت،',\n",
       " 'بازیگر',\n",
       " 'معروف',\n",
       " 'آمریکایی،',\n",
       " 'در',\n",
       " 'سایه',\n",
       " 'حواشی',\n",
       " 'مراسم',\n",
       " 'اعلام',\n",
       " 'کرد',\n",
       " 'از',\n",
       " 'عضویت',\n",
       " 'در',\n",
       " 'آکادمی',\n",
       " 'علوم',\n",
       " 'و',\n",
       " 'هنرهای',\n",
       " 'سینمایی',\n",
       " 'اسک…rt',\n",
       " 'eldelquijote',\n",
       " 'smith',\n",
       " 'donostia',\n",
       " 'oscars',\n",
       " 'variety',\n",
       " 'jada',\n",
       " 'pinkett',\n",
       " 'smith',\n",
       " 'redtabletalk',\n",
       " 'is',\n",
       " 'coming',\n",
       " \"'s\",\n",
       " 'smith',\n",
       " 'oscars',\n",
       " 'slap',\n",
       " 'be',\n",
       " 'variety',\n",
       " 'jada',\n",
       " 'pinkett',\n",
       " 'smith',\n",
       " 'redtabletalk',\n",
       " 'is',\n",
       " 'coming',\n",
       " \"'s\",\n",
       " 'smith',\n",
       " 'oscars',\n",
       " 'slap',\n",
       " 'be',\n",
       " 'pinkett',\n",
       " 'smith',\n",
       " 'redtabletalk',\n",
       " 'is',\n",
       " 'coming',\n",
       " \"'s\",\n",
       " 'smith',\n",
       " 'oscars',\n",
       " 'slap',\n",
       " 'be',\n",
       " 'discussed',\n",
       " 'variety',\n",
       " 'jada',\n",
       " 'pinkett',\n",
       " 'smith',\n",
       " 's',\n",
       " '‘',\n",
       " 'red',\n",
       " 'talk',\n",
       " 'announces',\n",
       " 'lineup',\n",
       " 'season',\n",
       " 'mention',\n",
       " 'oscars',\n",
       " 'smith',\n",
       " 'chris',\n",
       " 'rock',\n",
       " 'oscars',\n",
       " '|',\n",
       " 'william',\n",
       " 'spivey',\n",
       " '|',\n",
       " 'mar',\n",
       " '|',\n",
       " 'medium',\n",
       " 'oscars',\n",
       " 'variety',\n",
       " 'jada',\n",
       " 'pinkett',\n",
       " 'smith',\n",
       " 's',\n",
       " '‘',\n",
       " 'red',\n",
       " 'talk',\n",
       " 'announces',\n",
       " 'lineup',\n",
       " 'season',\n",
       " 'mention',\n",
       " 'oscars',\n",
       " 'elon',\n",
       " 'musk',\n",
       " 'musk',\n",
       " 'twitter',\n",
       " 'oscars',\n",
       " 'smith',\n",
       " 'russia',\n",
       " 'get',\n",
       " 'head',\n",
       " 'clouds',\n",
       " 'watson',\n",
       " 'game',\n",
       " 'is',\n",
       " 'jadapinkettsmith',\n",
       " 's',\n",
       " 'redtabletalk',\n",
       " 'announces',\n",
       " 'lineup',\n",
       " 'season',\n",
       " 'mention',\n",
       " 'oscars',\n",
       " 'slap',\n",
       " '🔥|',\n",
       " 'interview',\n",
       " 'mark',\n",
       " 'jansen',\n",
       " 'talked',\n",
       " 'tour',\n",
       " 'smith',\n",
       " 'oscars',\n",
       " 'link',\n",
       " 'nypost',\n",
       " 'oscars',\n",
       " 'slapper',\n",
       " 'smith',\n",
       " 'says',\n",
       " 'turned',\n",
       " 'toviolence',\n",
       " 'pinkett',\n",
       " 'smith',\n",
       " 's',\n",
       " '‘',\n",
       " 'red',\n",
       " 'talk',\n",
       " 'announces',\n",
       " 'lineup',\n",
       " 'season',\n",
       " 'mention',\n",
       " 'oscars',\n",
       " 'variety',\n",
       " 'jada',\n",
       " 'pinkett',\n",
       " 'smith',\n",
       " 's',\n",
       " '‘',\n",
       " 'red',\n",
       " 'talk',\n",
       " 'announces',\n",
       " 'lineup',\n",
       " 'season',\n",
       " 'mention',\n",
       " 'oscars',\n",
       " 'pinkett',\n",
       " 'smith',\n",
       " 's',\n",
       " '‘',\n",
       " 'red',\n",
       " 'talk',\n",
       " 'announces',\n",
       " 'lineup',\n",
       " 'season',\n",
       " 'mention',\n",
       " 'oscars',\n",
       " 'variety',\n",
       " 'jada',\n",
       " 'pinkett',\n",
       " 'smith',\n",
       " 's',\n",
       " '‘',\n",
       " 'red',\n",
       " 'talk',\n",
       " 'announces',\n",
       " 'lineup',\n",
       " 'season',\n",
       " 'mention',\n",
       " 'oscars',\n",
       " 'pinkett',\n",
       " 'smith',\n",
       " 's',\n",
       " '‘',\n",
       " 'red',\n",
       " 'talk',\n",
       " 'announces',\n",
       " 'lineup',\n",
       " 'season',\n",
       " 'mention',\n",
       " 'oscars',\n",
       " 'news',\n",
       " 'jadapinkettsmithjada',\n",
       " 'pinkett',\n",
       " 'smith',\n",
       " 's',\n",
       " '‘',\n",
       " 'red',\n",
       " 'talk',\n",
       " 'announces',\n",
       " 'lineup',\n",
       " 'season',\n",
       " 'mention',\n",
       " 'oscars',\n",
       " 'pinkett',\n",
       " 'smith',\n",
       " 'is',\n",
       " 'table',\n",
       " 'wake',\n",
       " 'oscars',\n",
       " 'altercation',\n",
       " 'smith',\n",
       " 'chris',\n",
       " 'rock',\n",
       " 'harringtonboyce',\n",
       " 'thank',\n",
       " 'fortune',\n",
       " 'shoutout',\n",
       " '🚀👏slapping',\n",
       " 'way',\n",
       " 'ath',\n",
       " '🚀https',\n",
       " 'loraineforla',\n",
       " 'note',\n",
       " 'latimes',\n",
       " 'readers',\n",
       " 'care',\n",
       " 'climate',\n",
       " 'want',\n",
       " 'times',\n",
       " 'cover',\n",
       " 'protests',\n",
       " 'are',\n",
       " 'happening',\n",
       " 'cli…rt',\n",
       " 'tmz',\n",
       " 'oscars',\n",
       " 'moment',\n",
       " 'get',\n",
       " 'mention',\n",
       " 'loraineforla',\n",
       " 'note',\n",
       " 'latimes',\n",
       " 'readers',\n",
       " 'care',\n",
       " 'climate',\n",
       " 'want',\n",
       " 'times',\n",
       " 'cover',\n",
       " 'protests',\n",
       " 'are',\n",
       " 'happening',\n",
       " 'cli…rt',\n",
       " 'smith',\n",
       " 'apologizes',\n",
       " 'slapping',\n",
       " 'oscars',\n",
       " 'chris',\n",
       " 'rock',\n",
       " 'i',\n",
       " 'am',\n",
       " 'embarrassed',\n",
       " 'actions',\n",
       " 'were',\n",
       " 'm…rt',\n",
       " 'loraineforla',\n",
       " 'note',\n",
       " 'latimes',\n",
       " 'readers',\n",
       " 'care',\n",
       " 'climate',\n",
       " 'want',\n",
       " 'times',\n",
       " 'cover',\n",
       " 'protests',\n",
       " 'are',\n",
       " 'happening',\n",
       " 'cli…rt',\n",
       " 'loraineforla',\n",
       " 'note',\n",
       " 'latimes',\n",
       " 'readers',\n",
       " 'care',\n",
       " 'climate',\n",
       " 'want',\n",
       " 'times',\n",
       " 'cover',\n",
       " 'protests',\n",
       " 'are',\n",
       " 'happening',\n",
       " 'cli…note',\n",
       " ...]"
      ]
     },
     "execution_count": 16,
     "metadata": {},
     "output_type": "execute_result"
    }
   ],
   "source": [
    "lines = clean1\n",
    "# function to test if something is a noun\n",
    "is_noun = lambda pos: pos[:2] == 'NN' or pos[:2] == 'VB'\n",
    "# do the nlp stuff\n",
    "tokenized = nltk.word_tokenize(lines)\n",
    "final_words = [word for (word, pos) in nltk.pos_tag(tokenized) if is_noun(pos) & (not word.startswith(\"/\")) & (word != '’') & (not word.startswith(\"https\"))]\n",
    "final_words"
   ]
  },
  {
   "cell_type": "markdown",
   "metadata": {},
   "source": [
    "[counter python docs](https://docs.python.org/3/library/collections.html#collections.Counter)"
   ]
  },
  {
   "cell_type": "code",
   "execution_count": 17,
   "metadata": {},
   "outputs": [
    {
     "data": {
      "text/plain": [
       "Counter({'king': 1,\n",
       "         'jadapinkettsmith': 2,\n",
       "         'oscars': 63,\n",
       "         'oscars2022': 1,\n",
       "         'winner': 2,\n",
       "         'criticschoicesawards': 1,\n",
       "         'emmys': 1,\n",
       "         'movie': 1,\n",
       "         'champion': 3,\n",
       "         'smith': 73,\n",
       "         '🎥🎥🎥🎥🎥🎥🎥🎥🎥': 1,\n",
       "         'slap': 34,\n",
       "         'is': 29,\n",
       "         'take': 1,\n",
       "         'variety': 10,\n",
       "         'jada': 28,\n",
       "         'pinkett': 41,\n",
       "         's': 19,\n",
       "         '‘': 12,\n",
       "         'red': 14,\n",
       "         'talk': 45,\n",
       "         'announces': 10,\n",
       "         'lineup': 21,\n",
       "         'season': 25,\n",
       "         'mention': 23,\n",
       "         'redtabletalk': 9,\n",
       "         'coming': 15,\n",
       "         \"'s\": 6,\n",
       "         'be': 17,\n",
       "         'samuelljackson': 1,\n",
       "         'revelations': 1,\n",
       "         'call': 1,\n",
       "         'oscar': 3,\n",
       "         'bosses': 1,\n",
       "         'outrages': 1,\n",
       "         'board': 1,\n",
       "         'amp': 1,\n",
       "         'smartnews': 1,\n",
       "         'slaps': 6,\n",
       "         'rock': 19,\n",
       "         'packer': 1,\n",
       "         'claims': 2,\n",
       "         'chris': 14,\n",
       "         'said': 1,\n",
       "         'leave': 1,\n",
       "         'sources': 1,\n",
       "         'say': 1,\n",
       "         'trailer': 6,\n",
       "         'has': 4,\n",
       "         'been': 4,\n",
       "         'released': 3,\n",
       "         'going': 3,\n",
       "         'discuss': 3,\n",
       "         'debacle': 4,\n",
       "         'acceptance': 1,\n",
       "         'speech': 1,\n",
       "         'spiked': 1,\n",
       "         'audience': 1,\n",
       "         'viewers': 1,\n",
       "         'south': 1,\n",
       "         'park': 1,\n",
       "         'animated': 4,\n",
       "         'greatest-night': 1,\n",
       "         'television': 1,\n",
       "         'historyrt': 1,\n",
       "         'extratv': 1,\n",
       "         'table': 4,\n",
       "         'wake': 3,\n",
       "         'altercation': 3,\n",
       "         'payne': 1,\n",
       "         'explains': 1,\n",
       "         'accent': 1,\n",
       "         'update': 1,\n",
       "         \"smith'sred\": 20,\n",
       "         'revealed': 10,\n",
       "         'returning': 2,\n",
       "         'episodes': 1,\n",
       "         'missing': 2,\n",
       "         'guest': 1,\n",
       "         'shares': 2,\n",
       "         'returns': 1,\n",
       "         'week': 2,\n",
       "         'episode': 2,\n",
       "         'facebook': 1,\n",
       "         'watch': 1,\n",
       "         'wednesday': 1,\n",
       "         'husband': 1,\n",
       "         'smith…': 1,\n",
       "         'thankyou': 1,\n",
       "         'tmz': 12,\n",
       "         'moment': 3,\n",
       "         'get': 4,\n",
       "         'earn': 1,\n",
       "         'money': 1,\n",
       "         'work': 1,\n",
       "         'internet': 1,\n",
       "         'siguemeytesigo': 1,\n",
       "         'followback': 1,\n",
       "         'news': 3,\n",
       "         'sdv': 1,\n",
       "         'releases': 1,\n",
       "         'metroukhttps': 1,\n",
       "         'hollywoodlife': 1,\n",
       "         'lightfootinhwd': 2,\n",
       "         'procedures': 3,\n",
       "         'were': 4,\n",
       "         'shaken': 3,\n",
       "         'did': 3,\n",
       "         'liza': 4,\n",
       "         'directors': 3,\n",
       "         'chair': 3,\n",
       "         'th…no': 1,\n",
       "         'shit': 1,\n",
       "         'froomkin': 8,\n",
       "         'headline': 9,\n",
       "         'climate': 15,\n",
       "         'change': 10,\n",
       "         'story': 10,\n",
       "         'generated': 10,\n",
       "         'way': 11,\n",
       "         'mail': 10,\n",
       "         'weeks': 1,\n",
       "         'celebs': 2,\n",
       "         'are': 8,\n",
       "         '*': 4,\n",
       "         'reacting': 2,\n",
       "         'night': 1,\n",
       "         'live': 1,\n",
       "         'takes': 1,\n",
       "         'breakingnews': 1,\n",
       "         'twitter': 2,\n",
       "         'bidenafter': 1,\n",
       "         'forced': 1,\n",
       "         'wheelchair.💔': 1,\n",
       "         'minnelli': 1,\n",
       "         'was': 3,\n",
       "         'sabotaged': 1,\n",
       "         'pal': 1,\n",
       "         'toastmasters': 1,\n",
       "         'darren': 1,\n",
       "         'lacroix': 1,\n",
       "         'world': 1,\n",
       "         'speaking': 1,\n",
       "         'featured': 1,\n",
       "         'forbes': 1,\n",
       "         'article': 2,\n",
       "         'speaker…the': 1,\n",
       "         'laligaendirecto': 1,\n",
       "         'que': 1,\n",
       "         'alguien': 1,\n",
       "         'pare': 1,\n",
       "         'esto': 1,\n",
       "         'por': 1,\n",
       "         'favor': 1,\n",
       "         'óscars': 1,\n",
       "         'sylvester': 1,\n",
       "         'stallone': 1,\n",
       "         'y': 1,\n",
       "         'muhammad': 1,\n",
       "         'ali': 1,\n",
       "         'tienen': 1,\n",
       "         'make': 1,\n",
       "         'agree': 1,\n",
       "         'wi': 1,\n",
       "         'looks': 10,\n",
       "         'joining': 10,\n",
       "         'h…jada': 3,\n",
       "         'tmzcancel': 1,\n",
       "         'fake': 1,\n",
       "         'table……': 1,\n",
       "         'reliance': 1,\n",
       "         'written': 1,\n",
       "         'statements': 1,\n",
       "         'acknowledgment': 1,\n",
       "         'apologies': 1,\n",
       "         'parties': 1,\n",
       "         'hollywoodnews': 1,\n",
       "         'theimagecartel': 1,\n",
       "         'h…rt': 5,\n",
       "         'h…hosted': 1,\n",
       "         'mfrazz': 1,\n",
       "         '“': 1,\n",
       "         'bullying': 1,\n",
       "         'life': 1,\n",
       "         '”': 1,\n",
       "         'actor': 1,\n",
       "         'made': 1,\n",
       "         'claim': 1,\n",
       "         'dwyane': 1,\n",
       "         'wade': 1,\n",
       "         'wife': 1,\n",
       "         'comments': 1,\n",
       "         'malik': 1,\n",
       "         'fighter': 1,\n",
       "         'calls': 1,\n",
       "         'interim': 1,\n",
       "         'reference': 1,\n",
       "         'crypto_wires': 2,\n",
       "         'youtube': 3,\n",
       "         'willsmithchrisrock…will': 1,\n",
       "         'willsmithchrisrock': 1,\n",
       "         'mentalhealthtelling': 1,\n",
       "         'kids': 1,\n",
       "         'ryangrim': 1,\n",
       "         'culture': 1,\n",
       "         'eradicated': 1,\n",
       "         'reason': 1,\n",
       "         'ویل_اسمیت،': 1,\n",
       "         'بازیگر': 1,\n",
       "         'معروف': 1,\n",
       "         'آمریکایی،': 1,\n",
       "         'در': 2,\n",
       "         'سایه': 1,\n",
       "         'حواشی': 1,\n",
       "         'مراسم': 1,\n",
       "         'اعلام': 1,\n",
       "         'کرد': 1,\n",
       "         'از': 1,\n",
       "         'عضویت': 1,\n",
       "         'آکادمی': 1,\n",
       "         'علوم': 1,\n",
       "         'و': 1,\n",
       "         'هنرهای': 1,\n",
       "         'سینمایی': 1,\n",
       "         'اسک…rt': 1,\n",
       "         'eldelquijote': 1,\n",
       "         'donostia': 1,\n",
       "         'discussed': 1,\n",
       "         '|': 3,\n",
       "         'william': 1,\n",
       "         'spivey': 1,\n",
       "         'mar': 1,\n",
       "         'medium': 1,\n",
       "         'elon': 1,\n",
       "         'musk': 2,\n",
       "         'russia': 1,\n",
       "         'head': 1,\n",
       "         'clouds': 1,\n",
       "         'watson': 1,\n",
       "         'game': 1,\n",
       "         '🔥|': 1,\n",
       "         'interview': 1,\n",
       "         'mark': 1,\n",
       "         'jansen': 1,\n",
       "         'talked': 1,\n",
       "         'tour': 1,\n",
       "         'link': 1,\n",
       "         'nypost': 1,\n",
       "         'slapper': 1,\n",
       "         'says': 1,\n",
       "         'turned': 1,\n",
       "         'toviolence': 1,\n",
       "         'jadapinkettsmithjada': 1,\n",
       "         'harringtonboyce': 1,\n",
       "         'thank': 2,\n",
       "         'fortune': 1,\n",
       "         'shoutout': 1,\n",
       "         '🚀👏slapping': 1,\n",
       "         'ath': 1,\n",
       "         '🚀https': 1,\n",
       "         'loraineforla': 4,\n",
       "         'note': 4,\n",
       "         'latimes': 5,\n",
       "         'readers': 5,\n",
       "         'care': 5,\n",
       "         'want': 5,\n",
       "         'times': 5,\n",
       "         'cover': 5,\n",
       "         'protests': 5,\n",
       "         'happening': 5,\n",
       "         'cli…rt': 3,\n",
       "         'apologizes': 1,\n",
       "         'slapping': 1,\n",
       "         'i': 1,\n",
       "         'am': 1,\n",
       "         'embarrassed': 1,\n",
       "         'actions': 1,\n",
       "         'm…rt': 1,\n",
       "         'cli…note': 1,\n",
       "         'onstage': 1,\n",
       "         'joke': 1,\n",
       "         'responds': 1,\n",
       "         'being': 1,\n",
       "         'banned': 2,\n",
       "         'got': 1,\n",
       "         'decade': 1,\n",
       "         'set': 2,\n",
       "         'appear': 2,\n",
       "         'show': 2,\n",
       "         'following': 1,\n",
       "         'incident': 1})"
      ]
     },
     "execution_count": 17,
     "metadata": {},
     "output_type": "execute_result"
    }
   ],
   "source": [
    "from collections import Counter\n",
    "c = Counter(final_words)\n",
    "c"
   ]
  },
  {
   "cell_type": "code",
   "execution_count": 18,
   "metadata": {},
   "outputs": [
    {
     "data": {
      "text/html": [
       "<div>\n",
       "<style scoped>\n",
       "    .dataframe tbody tr th:only-of-type {\n",
       "        vertical-align: middle;\n",
       "    }\n",
       "\n",
       "    .dataframe tbody tr th {\n",
       "        vertical-align: top;\n",
       "    }\n",
       "\n",
       "    .dataframe thead th {\n",
       "        text-align: right;\n",
       "    }\n",
       "</style>\n",
       "<table border=\"1\" class=\"dataframe\">\n",
       "  <thead>\n",
       "    <tr style=\"text-align: right;\">\n",
       "      <th></th>\n",
       "      <th>words</th>\n",
       "      <th>freq</th>\n",
       "    </tr>\n",
       "  </thead>\n",
       "  <tbody>\n",
       "    <tr>\n",
       "      <th>0</th>\n",
       "      <td>smith</td>\n",
       "      <td>73</td>\n",
       "    </tr>\n",
       "    <tr>\n",
       "      <th>2</th>\n",
       "      <td>talk</td>\n",
       "      <td>45</td>\n",
       "    </tr>\n",
       "    <tr>\n",
       "      <th>3</th>\n",
       "      <td>pinkett</td>\n",
       "      <td>41</td>\n",
       "    </tr>\n",
       "    <tr>\n",
       "      <th>4</th>\n",
       "      <td>slap</td>\n",
       "      <td>34</td>\n",
       "    </tr>\n",
       "    <tr>\n",
       "      <th>5</th>\n",
       "      <td>is</td>\n",
       "      <td>29</td>\n",
       "    </tr>\n",
       "    <tr>\n",
       "      <th>...</th>\n",
       "      <td>...</td>\n",
       "      <td>...</td>\n",
       "    </tr>\n",
       "    <tr>\n",
       "      <th>286</th>\n",
       "      <td>being</td>\n",
       "      <td>1</td>\n",
       "    </tr>\n",
       "    <tr>\n",
       "      <th>287</th>\n",
       "      <td>got</td>\n",
       "      <td>1</td>\n",
       "    </tr>\n",
       "    <tr>\n",
       "      <th>288</th>\n",
       "      <td>decade</td>\n",
       "      <td>1</td>\n",
       "    </tr>\n",
       "    <tr>\n",
       "      <th>289</th>\n",
       "      <td>following</td>\n",
       "      <td>1</td>\n",
       "    </tr>\n",
       "    <tr>\n",
       "      <th>290</th>\n",
       "      <td>incident</td>\n",
       "      <td>1</td>\n",
       "    </tr>\n",
       "  </tbody>\n",
       "</table>\n",
       "<p>290 rows × 2 columns</p>\n",
       "</div>"
      ],
      "text/plain": [
       "         words  freq\n",
       "0        smith    73\n",
       "2         talk    45\n",
       "3      pinkett    41\n",
       "4         slap    34\n",
       "5           is    29\n",
       "..         ...   ...\n",
       "286      being     1\n",
       "287        got     1\n",
       "288     decade     1\n",
       "289  following     1\n",
       "290   incident     1\n",
       "\n",
       "[290 rows x 2 columns]"
      ]
     },
     "execution_count": 18,
     "metadata": {},
     "output_type": "execute_result"
    }
   ],
   "source": [
    "most_common = c.most_common()\n",
    "\n",
    "words = [x[0] for x in most_common]\n",
    "freq = [x[1] for x in most_common]\n",
    "\n",
    "df = pd.DataFrame()\n",
    "df['words'] = words\n",
    "df['freq'] = freq\n",
    "\n",
    "df1 = df.drop(1)\n",
    "df1\n"
   ]
  },
  {
   "cell_type": "code",
   "execution_count": 19,
   "metadata": {},
   "outputs": [],
   "source": [
    "df1.to_csv(\"MCwillSmith.csv\", index = False)"
   ]
  },
  {
   "cell_type": "code",
   "execution_count": 21,
   "metadata": {},
   "outputs": [
    {
     "data": {
      "application/vnd.plotly.v1+json": {
       "config": {
        "plotlyServerURL": "https://plot.ly"
       },
       "data": [
        {
         "alignmentgroup": "True",
         "hovertemplate": "words=%{x}<br>freq=%{y}<extra></extra>",
         "legendgroup": "",
         "marker": {
          "color": "#636efa",
          "pattern": {
           "shape": ""
          }
         },
         "name": "",
         "offsetgroup": "",
         "orientation": "v",
         "showlegend": false,
         "textposition": "auto",
         "type": "bar",
         "x": [
          "smith",
          "talk",
          "pinkett",
          "slap",
          "is",
          "jada",
          "season",
          "mention",
          "lineup",
          "smith'sred"
         ],
         "xaxis": "x",
         "y": [
          73,
          45,
          41,
          34,
          29,
          28,
          25,
          23,
          21,
          20
         ],
         "yaxis": "y"
        }
       ],
       "layout": {
        "barmode": "relative",
        "legend": {
         "tracegroupgap": 0
        },
        "margin": {
         "t": 60
        },
        "template": {
         "data": {
          "bar": [
           {
            "error_x": {
             "color": "#2a3f5f"
            },
            "error_y": {
             "color": "#2a3f5f"
            },
            "marker": {
             "line": {
              "color": "#E5ECF6",
              "width": 0.5
             },
             "pattern": {
              "fillmode": "overlay",
              "size": 10,
              "solidity": 0.2
             }
            },
            "type": "bar"
           }
          ],
          "barpolar": [
           {
            "marker": {
             "line": {
              "color": "#E5ECF6",
              "width": 0.5
             },
             "pattern": {
              "fillmode": "overlay",
              "size": 10,
              "solidity": 0.2
             }
            },
            "type": "barpolar"
           }
          ],
          "carpet": [
           {
            "aaxis": {
             "endlinecolor": "#2a3f5f",
             "gridcolor": "white",
             "linecolor": "white",
             "minorgridcolor": "white",
             "startlinecolor": "#2a3f5f"
            },
            "baxis": {
             "endlinecolor": "#2a3f5f",
             "gridcolor": "white",
             "linecolor": "white",
             "minorgridcolor": "white",
             "startlinecolor": "#2a3f5f"
            },
            "type": "carpet"
           }
          ],
          "choropleth": [
           {
            "colorbar": {
             "outlinewidth": 0,
             "ticks": ""
            },
            "type": "choropleth"
           }
          ],
          "contour": [
           {
            "colorbar": {
             "outlinewidth": 0,
             "ticks": ""
            },
            "colorscale": [
             [
              0,
              "#0d0887"
             ],
             [
              0.1111111111111111,
              "#46039f"
             ],
             [
              0.2222222222222222,
              "#7201a8"
             ],
             [
              0.3333333333333333,
              "#9c179e"
             ],
             [
              0.4444444444444444,
              "#bd3786"
             ],
             [
              0.5555555555555556,
              "#d8576b"
             ],
             [
              0.6666666666666666,
              "#ed7953"
             ],
             [
              0.7777777777777778,
              "#fb9f3a"
             ],
             [
              0.8888888888888888,
              "#fdca26"
             ],
             [
              1,
              "#f0f921"
             ]
            ],
            "type": "contour"
           }
          ],
          "contourcarpet": [
           {
            "colorbar": {
             "outlinewidth": 0,
             "ticks": ""
            },
            "type": "contourcarpet"
           }
          ],
          "heatmap": [
           {
            "colorbar": {
             "outlinewidth": 0,
             "ticks": ""
            },
            "colorscale": [
             [
              0,
              "#0d0887"
             ],
             [
              0.1111111111111111,
              "#46039f"
             ],
             [
              0.2222222222222222,
              "#7201a8"
             ],
             [
              0.3333333333333333,
              "#9c179e"
             ],
             [
              0.4444444444444444,
              "#bd3786"
             ],
             [
              0.5555555555555556,
              "#d8576b"
             ],
             [
              0.6666666666666666,
              "#ed7953"
             ],
             [
              0.7777777777777778,
              "#fb9f3a"
             ],
             [
              0.8888888888888888,
              "#fdca26"
             ],
             [
              1,
              "#f0f921"
             ]
            ],
            "type": "heatmap"
           }
          ],
          "heatmapgl": [
           {
            "colorbar": {
             "outlinewidth": 0,
             "ticks": ""
            },
            "colorscale": [
             [
              0,
              "#0d0887"
             ],
             [
              0.1111111111111111,
              "#46039f"
             ],
             [
              0.2222222222222222,
              "#7201a8"
             ],
             [
              0.3333333333333333,
              "#9c179e"
             ],
             [
              0.4444444444444444,
              "#bd3786"
             ],
             [
              0.5555555555555556,
              "#d8576b"
             ],
             [
              0.6666666666666666,
              "#ed7953"
             ],
             [
              0.7777777777777778,
              "#fb9f3a"
             ],
             [
              0.8888888888888888,
              "#fdca26"
             ],
             [
              1,
              "#f0f921"
             ]
            ],
            "type": "heatmapgl"
           }
          ],
          "histogram": [
           {
            "marker": {
             "pattern": {
              "fillmode": "overlay",
              "size": 10,
              "solidity": 0.2
             }
            },
            "type": "histogram"
           }
          ],
          "histogram2d": [
           {
            "colorbar": {
             "outlinewidth": 0,
             "ticks": ""
            },
            "colorscale": [
             [
              0,
              "#0d0887"
             ],
             [
              0.1111111111111111,
              "#46039f"
             ],
             [
              0.2222222222222222,
              "#7201a8"
             ],
             [
              0.3333333333333333,
              "#9c179e"
             ],
             [
              0.4444444444444444,
              "#bd3786"
             ],
             [
              0.5555555555555556,
              "#d8576b"
             ],
             [
              0.6666666666666666,
              "#ed7953"
             ],
             [
              0.7777777777777778,
              "#fb9f3a"
             ],
             [
              0.8888888888888888,
              "#fdca26"
             ],
             [
              1,
              "#f0f921"
             ]
            ],
            "type": "histogram2d"
           }
          ],
          "histogram2dcontour": [
           {
            "colorbar": {
             "outlinewidth": 0,
             "ticks": ""
            },
            "colorscale": [
             [
              0,
              "#0d0887"
             ],
             [
              0.1111111111111111,
              "#46039f"
             ],
             [
              0.2222222222222222,
              "#7201a8"
             ],
             [
              0.3333333333333333,
              "#9c179e"
             ],
             [
              0.4444444444444444,
              "#bd3786"
             ],
             [
              0.5555555555555556,
              "#d8576b"
             ],
             [
              0.6666666666666666,
              "#ed7953"
             ],
             [
              0.7777777777777778,
              "#fb9f3a"
             ],
             [
              0.8888888888888888,
              "#fdca26"
             ],
             [
              1,
              "#f0f921"
             ]
            ],
            "type": "histogram2dcontour"
           }
          ],
          "mesh3d": [
           {
            "colorbar": {
             "outlinewidth": 0,
             "ticks": ""
            },
            "type": "mesh3d"
           }
          ],
          "parcoords": [
           {
            "line": {
             "colorbar": {
              "outlinewidth": 0,
              "ticks": ""
             }
            },
            "type": "parcoords"
           }
          ],
          "pie": [
           {
            "automargin": true,
            "type": "pie"
           }
          ],
          "scatter": [
           {
            "fillpattern": {
             "fillmode": "overlay",
             "size": 10,
             "solidity": 0.2
            },
            "type": "scatter"
           }
          ],
          "scatter3d": [
           {
            "line": {
             "colorbar": {
              "outlinewidth": 0,
              "ticks": ""
             }
            },
            "marker": {
             "colorbar": {
              "outlinewidth": 0,
              "ticks": ""
             }
            },
            "type": "scatter3d"
           }
          ],
          "scattercarpet": [
           {
            "marker": {
             "colorbar": {
              "outlinewidth": 0,
              "ticks": ""
             }
            },
            "type": "scattercarpet"
           }
          ],
          "scattergeo": [
           {
            "marker": {
             "colorbar": {
              "outlinewidth": 0,
              "ticks": ""
             }
            },
            "type": "scattergeo"
           }
          ],
          "scattergl": [
           {
            "marker": {
             "colorbar": {
              "outlinewidth": 0,
              "ticks": ""
             }
            },
            "type": "scattergl"
           }
          ],
          "scattermapbox": [
           {
            "marker": {
             "colorbar": {
              "outlinewidth": 0,
              "ticks": ""
             }
            },
            "type": "scattermapbox"
           }
          ],
          "scatterpolar": [
           {
            "marker": {
             "colorbar": {
              "outlinewidth": 0,
              "ticks": ""
             }
            },
            "type": "scatterpolar"
           }
          ],
          "scatterpolargl": [
           {
            "marker": {
             "colorbar": {
              "outlinewidth": 0,
              "ticks": ""
             }
            },
            "type": "scatterpolargl"
           }
          ],
          "scatterternary": [
           {
            "marker": {
             "colorbar": {
              "outlinewidth": 0,
              "ticks": ""
             }
            },
            "type": "scatterternary"
           }
          ],
          "surface": [
           {
            "colorbar": {
             "outlinewidth": 0,
             "ticks": ""
            },
            "colorscale": [
             [
              0,
              "#0d0887"
             ],
             [
              0.1111111111111111,
              "#46039f"
             ],
             [
              0.2222222222222222,
              "#7201a8"
             ],
             [
              0.3333333333333333,
              "#9c179e"
             ],
             [
              0.4444444444444444,
              "#bd3786"
             ],
             [
              0.5555555555555556,
              "#d8576b"
             ],
             [
              0.6666666666666666,
              "#ed7953"
             ],
             [
              0.7777777777777778,
              "#fb9f3a"
             ],
             [
              0.8888888888888888,
              "#fdca26"
             ],
             [
              1,
              "#f0f921"
             ]
            ],
            "type": "surface"
           }
          ],
          "table": [
           {
            "cells": {
             "fill": {
              "color": "#EBF0F8"
             },
             "line": {
              "color": "white"
             }
            },
            "header": {
             "fill": {
              "color": "#C8D4E3"
             },
             "line": {
              "color": "white"
             }
            },
            "type": "table"
           }
          ]
         },
         "layout": {
          "annotationdefaults": {
           "arrowcolor": "#2a3f5f",
           "arrowhead": 0,
           "arrowwidth": 1
          },
          "autotypenumbers": "strict",
          "coloraxis": {
           "colorbar": {
            "outlinewidth": 0,
            "ticks": ""
           }
          },
          "colorscale": {
           "diverging": [
            [
             0,
             "#8e0152"
            ],
            [
             0.1,
             "#c51b7d"
            ],
            [
             0.2,
             "#de77ae"
            ],
            [
             0.3,
             "#f1b6da"
            ],
            [
             0.4,
             "#fde0ef"
            ],
            [
             0.5,
             "#f7f7f7"
            ],
            [
             0.6,
             "#e6f5d0"
            ],
            [
             0.7,
             "#b8e186"
            ],
            [
             0.8,
             "#7fbc41"
            ],
            [
             0.9,
             "#4d9221"
            ],
            [
             1,
             "#276419"
            ]
           ],
           "sequential": [
            [
             0,
             "#0d0887"
            ],
            [
             0.1111111111111111,
             "#46039f"
            ],
            [
             0.2222222222222222,
             "#7201a8"
            ],
            [
             0.3333333333333333,
             "#9c179e"
            ],
            [
             0.4444444444444444,
             "#bd3786"
            ],
            [
             0.5555555555555556,
             "#d8576b"
            ],
            [
             0.6666666666666666,
             "#ed7953"
            ],
            [
             0.7777777777777778,
             "#fb9f3a"
            ],
            [
             0.8888888888888888,
             "#fdca26"
            ],
            [
             1,
             "#f0f921"
            ]
           ],
           "sequentialminus": [
            [
             0,
             "#0d0887"
            ],
            [
             0.1111111111111111,
             "#46039f"
            ],
            [
             0.2222222222222222,
             "#7201a8"
            ],
            [
             0.3333333333333333,
             "#9c179e"
            ],
            [
             0.4444444444444444,
             "#bd3786"
            ],
            [
             0.5555555555555556,
             "#d8576b"
            ],
            [
             0.6666666666666666,
             "#ed7953"
            ],
            [
             0.7777777777777778,
             "#fb9f3a"
            ],
            [
             0.8888888888888888,
             "#fdca26"
            ],
            [
             1,
             "#f0f921"
            ]
           ]
          },
          "colorway": [
           "#636efa",
           "#EF553B",
           "#00cc96",
           "#ab63fa",
           "#FFA15A",
           "#19d3f3",
           "#FF6692",
           "#B6E880",
           "#FF97FF",
           "#FECB52"
          ],
          "font": {
           "color": "#2a3f5f"
          },
          "geo": {
           "bgcolor": "white",
           "lakecolor": "white",
           "landcolor": "#E5ECF6",
           "showlakes": true,
           "showland": true,
           "subunitcolor": "white"
          },
          "hoverlabel": {
           "align": "left"
          },
          "hovermode": "closest",
          "mapbox": {
           "style": "light"
          },
          "paper_bgcolor": "white",
          "plot_bgcolor": "#E5ECF6",
          "polar": {
           "angularaxis": {
            "gridcolor": "white",
            "linecolor": "white",
            "ticks": ""
           },
           "bgcolor": "#E5ECF6",
           "radialaxis": {
            "gridcolor": "white",
            "linecolor": "white",
            "ticks": ""
           }
          },
          "scene": {
           "xaxis": {
            "backgroundcolor": "#E5ECF6",
            "gridcolor": "white",
            "gridwidth": 2,
            "linecolor": "white",
            "showbackground": true,
            "ticks": "",
            "zerolinecolor": "white"
           },
           "yaxis": {
            "backgroundcolor": "#E5ECF6",
            "gridcolor": "white",
            "gridwidth": 2,
            "linecolor": "white",
            "showbackground": true,
            "ticks": "",
            "zerolinecolor": "white"
           },
           "zaxis": {
            "backgroundcolor": "#E5ECF6",
            "gridcolor": "white",
            "gridwidth": 2,
            "linecolor": "white",
            "showbackground": true,
            "ticks": "",
            "zerolinecolor": "white"
           }
          },
          "shapedefaults": {
           "line": {
            "color": "#2a3f5f"
           }
          },
          "ternary": {
           "aaxis": {
            "gridcolor": "white",
            "linecolor": "white",
            "ticks": ""
           },
           "baxis": {
            "gridcolor": "white",
            "linecolor": "white",
            "ticks": ""
           },
           "bgcolor": "#E5ECF6",
           "caxis": {
            "gridcolor": "white",
            "linecolor": "white",
            "ticks": ""
           }
          },
          "title": {
           "x": 0.05
          },
          "xaxis": {
           "automargin": true,
           "gridcolor": "white",
           "linecolor": "white",
           "ticks": "",
           "title": {
            "standoff": 15
           },
           "zerolinecolor": "white",
           "zerolinewidth": 2
          },
          "yaxis": {
           "automargin": true,
           "gridcolor": "white",
           "linecolor": "white",
           "ticks": "",
           "title": {
            "standoff": 15
           },
           "zerolinecolor": "white",
           "zerolinewidth": 2
          }
         }
        },
        "title": {
         "text": "10 Most Common Words of 100 Tweets Under \"will smith\" Topic"
        },
        "xaxis": {
         "anchor": "y",
         "domain": [
          0,
          1
         ],
         "title": {
          "text": "Word"
         }
        },
        "yaxis": {
         "anchor": "x",
         "domain": [
          0,
          1
         ],
         "title": {
          "text": "Number of Occurances"
         }
        }
       }
      }
     },
     "metadata": {},
     "output_type": "display_data"
    }
   ],
   "source": [
    "import plotly.express as px\n",
    "\n",
    "fig = px.bar(df1[:10], x= 'words', y='freq')\n",
    "fig.update_layout(\n",
    "    title=\"10 Most Common Words of 100 Tweets Under \\\"will smith\\\" Topic\",\n",
    "    xaxis_title=\"Word\",\n",
    "    yaxis_title=\"Number of Occurances\")\n",
    "fig.show()"
   ]
  },
  {
   "cell_type": "code",
   "execution_count": null,
   "metadata": {},
   "outputs": [
    {
     "data": {
      "application/vnd.plotly.v1+json": {
       "config": {
        "plotlyServerURL": "https://plot.ly"
       },
       "data": [
        {
         "alignmentgroup": "True",
         "hovertemplate": "words=%{x}<br>freq=%{y}<extra></extra>",
         "legendgroup": "",
         "marker": {
          "color": "#636efa",
          "pattern": {
           "shape": ""
          }
         },
         "name": "",
         "offsetgroup": "",
         "orientation": "v",
         "showlegend": false,
         "textposition": "auto",
         "type": "bar",
         "x": [
          "smith",
          "talk",
          "pinkett",
          "slap",
          "is",
          "jada",
          "season",
          "mention",
          "lineup",
          "smith'sred"
         ],
         "xaxis": "x",
         "y": [
          73,
          45,
          41,
          34,
          29,
          28,
          25,
          23,
          21,
          20
         ],
         "yaxis": "y"
        }
       ],
       "layout": {
        "barmode": "relative",
        "legend": {
         "tracegroupgap": 0
        },
        "margin": {
         "t": 60
        },
        "template": {
         "data": {
          "bar": [
           {
            "error_x": {
             "color": "#2a3f5f"
            },
            "error_y": {
             "color": "#2a3f5f"
            },
            "marker": {
             "line": {
              "color": "#E5ECF6",
              "width": 0.5
             },
             "pattern": {
              "fillmode": "overlay",
              "size": 10,
              "solidity": 0.2
             }
            },
            "type": "bar"
           }
          ],
          "barpolar": [
           {
            "marker": {
             "line": {
              "color": "#E5ECF6",
              "width": 0.5
             },
             "pattern": {
              "fillmode": "overlay",
              "size": 10,
              "solidity": 0.2
             }
            },
            "type": "barpolar"
           }
          ],
          "carpet": [
           {
            "aaxis": {
             "endlinecolor": "#2a3f5f",
             "gridcolor": "white",
             "linecolor": "white",
             "minorgridcolor": "white",
             "startlinecolor": "#2a3f5f"
            },
            "baxis": {
             "endlinecolor": "#2a3f5f",
             "gridcolor": "white",
             "linecolor": "white",
             "minorgridcolor": "white",
             "startlinecolor": "#2a3f5f"
            },
            "type": "carpet"
           }
          ],
          "choropleth": [
           {
            "colorbar": {
             "outlinewidth": 0,
             "ticks": ""
            },
            "type": "choropleth"
           }
          ],
          "contour": [
           {
            "colorbar": {
             "outlinewidth": 0,
             "ticks": ""
            },
            "colorscale": [
             [
              0,
              "#0d0887"
             ],
             [
              0.1111111111111111,
              "#46039f"
             ],
             [
              0.2222222222222222,
              "#7201a8"
             ],
             [
              0.3333333333333333,
              "#9c179e"
             ],
             [
              0.4444444444444444,
              "#bd3786"
             ],
             [
              0.5555555555555556,
              "#d8576b"
             ],
             [
              0.6666666666666666,
              "#ed7953"
             ],
             [
              0.7777777777777778,
              "#fb9f3a"
             ],
             [
              0.8888888888888888,
              "#fdca26"
             ],
             [
              1,
              "#f0f921"
             ]
            ],
            "type": "contour"
           }
          ],
          "contourcarpet": [
           {
            "colorbar": {
             "outlinewidth": 0,
             "ticks": ""
            },
            "type": "contourcarpet"
           }
          ],
          "heatmap": [
           {
            "colorbar": {
             "outlinewidth": 0,
             "ticks": ""
            },
            "colorscale": [
             [
              0,
              "#0d0887"
             ],
             [
              0.1111111111111111,
              "#46039f"
             ],
             [
              0.2222222222222222,
              "#7201a8"
             ],
             [
              0.3333333333333333,
              "#9c179e"
             ],
             [
              0.4444444444444444,
              "#bd3786"
             ],
             [
              0.5555555555555556,
              "#d8576b"
             ],
             [
              0.6666666666666666,
              "#ed7953"
             ],
             [
              0.7777777777777778,
              "#fb9f3a"
             ],
             [
              0.8888888888888888,
              "#fdca26"
             ],
             [
              1,
              "#f0f921"
             ]
            ],
            "type": "heatmap"
           }
          ],
          "heatmapgl": [
           {
            "colorbar": {
             "outlinewidth": 0,
             "ticks": ""
            },
            "colorscale": [
             [
              0,
              "#0d0887"
             ],
             [
              0.1111111111111111,
              "#46039f"
             ],
             [
              0.2222222222222222,
              "#7201a8"
             ],
             [
              0.3333333333333333,
              "#9c179e"
             ],
             [
              0.4444444444444444,
              "#bd3786"
             ],
             [
              0.5555555555555556,
              "#d8576b"
             ],
             [
              0.6666666666666666,
              "#ed7953"
             ],
             [
              0.7777777777777778,
              "#fb9f3a"
             ],
             [
              0.8888888888888888,
              "#fdca26"
             ],
             [
              1,
              "#f0f921"
             ]
            ],
            "type": "heatmapgl"
           }
          ],
          "histogram": [
           {
            "marker": {
             "pattern": {
              "fillmode": "overlay",
              "size": 10,
              "solidity": 0.2
             }
            },
            "type": "histogram"
           }
          ],
          "histogram2d": [
           {
            "colorbar": {
             "outlinewidth": 0,
             "ticks": ""
            },
            "colorscale": [
             [
              0,
              "#0d0887"
             ],
             [
              0.1111111111111111,
              "#46039f"
             ],
             [
              0.2222222222222222,
              "#7201a8"
             ],
             [
              0.3333333333333333,
              "#9c179e"
             ],
             [
              0.4444444444444444,
              "#bd3786"
             ],
             [
              0.5555555555555556,
              "#d8576b"
             ],
             [
              0.6666666666666666,
              "#ed7953"
             ],
             [
              0.7777777777777778,
              "#fb9f3a"
             ],
             [
              0.8888888888888888,
              "#fdca26"
             ],
             [
              1,
              "#f0f921"
             ]
            ],
            "type": "histogram2d"
           }
          ],
          "histogram2dcontour": [
           {
            "colorbar": {
             "outlinewidth": 0,
             "ticks": ""
            },
            "colorscale": [
             [
              0,
              "#0d0887"
             ],
             [
              0.1111111111111111,
              "#46039f"
             ],
             [
              0.2222222222222222,
              "#7201a8"
             ],
             [
              0.3333333333333333,
              "#9c179e"
             ],
             [
              0.4444444444444444,
              "#bd3786"
             ],
             [
              0.5555555555555556,
              "#d8576b"
             ],
             [
              0.6666666666666666,
              "#ed7953"
             ],
             [
              0.7777777777777778,
              "#fb9f3a"
             ],
             [
              0.8888888888888888,
              "#fdca26"
             ],
             [
              1,
              "#f0f921"
             ]
            ],
            "type": "histogram2dcontour"
           }
          ],
          "mesh3d": [
           {
            "colorbar": {
             "outlinewidth": 0,
             "ticks": ""
            },
            "type": "mesh3d"
           }
          ],
          "parcoords": [
           {
            "line": {
             "colorbar": {
              "outlinewidth": 0,
              "ticks": ""
             }
            },
            "type": "parcoords"
           }
          ],
          "pie": [
           {
            "automargin": true,
            "type": "pie"
           }
          ],
          "scatter": [
           {
            "fillpattern": {
             "fillmode": "overlay",
             "size": 10,
             "solidity": 0.2
            },
            "type": "scatter"
           }
          ],
          "scatter3d": [
           {
            "line": {
             "colorbar": {
              "outlinewidth": 0,
              "ticks": ""
             }
            },
            "marker": {
             "colorbar": {
              "outlinewidth": 0,
              "ticks": ""
             }
            },
            "type": "scatter3d"
           }
          ],
          "scattercarpet": [
           {
            "marker": {
             "colorbar": {
              "outlinewidth": 0,
              "ticks": ""
             }
            },
            "type": "scattercarpet"
           }
          ],
          "scattergeo": [
           {
            "marker": {
             "colorbar": {
              "outlinewidth": 0,
              "ticks": ""
             }
            },
            "type": "scattergeo"
           }
          ],
          "scattergl": [
           {
            "marker": {
             "colorbar": {
              "outlinewidth": 0,
              "ticks": ""
             }
            },
            "type": "scattergl"
           }
          ],
          "scattermapbox": [
           {
            "marker": {
             "colorbar": {
              "outlinewidth": 0,
              "ticks": ""
             }
            },
            "type": "scattermapbox"
           }
          ],
          "scatterpolar": [
           {
            "marker": {
             "colorbar": {
              "outlinewidth": 0,
              "ticks": ""
             }
            },
            "type": "scatterpolar"
           }
          ],
          "scatterpolargl": [
           {
            "marker": {
             "colorbar": {
              "outlinewidth": 0,
              "ticks": ""
             }
            },
            "type": "scatterpolargl"
           }
          ],
          "scatterternary": [
           {
            "marker": {
             "colorbar": {
              "outlinewidth": 0,
              "ticks": ""
             }
            },
            "type": "scatterternary"
           }
          ],
          "surface": [
           {
            "colorbar": {
             "outlinewidth": 0,
             "ticks": ""
            },
            "colorscale": [
             [
              0,
              "#0d0887"
             ],
             [
              0.1111111111111111,
              "#46039f"
             ],
             [
              0.2222222222222222,
              "#7201a8"
             ],
             [
              0.3333333333333333,
              "#9c179e"
             ],
             [
              0.4444444444444444,
              "#bd3786"
             ],
             [
              0.5555555555555556,
              "#d8576b"
             ],
             [
              0.6666666666666666,
              "#ed7953"
             ],
             [
              0.7777777777777778,
              "#fb9f3a"
             ],
             [
              0.8888888888888888,
              "#fdca26"
             ],
             [
              1,
              "#f0f921"
             ]
            ],
            "type": "surface"
           }
          ],
          "table": [
           {
            "cells": {
             "fill": {
              "color": "#EBF0F8"
             },
             "line": {
              "color": "white"
             }
            },
            "header": {
             "fill": {
              "color": "#C8D4E3"
             },
             "line": {
              "color": "white"
             }
            },
            "type": "table"
           }
          ]
         },
         "layout": {
          "annotationdefaults": {
           "arrowcolor": "#2a3f5f",
           "arrowhead": 0,
           "arrowwidth": 1
          },
          "autotypenumbers": "strict",
          "coloraxis": {
           "colorbar": {
            "outlinewidth": 0,
            "ticks": ""
           }
          },
          "colorscale": {
           "diverging": [
            [
             0,
             "#8e0152"
            ],
            [
             0.1,
             "#c51b7d"
            ],
            [
             0.2,
             "#de77ae"
            ],
            [
             0.3,
             "#f1b6da"
            ],
            [
             0.4,
             "#fde0ef"
            ],
            [
             0.5,
             "#f7f7f7"
            ],
            [
             0.6,
             "#e6f5d0"
            ],
            [
             0.7,
             "#b8e186"
            ],
            [
             0.8,
             "#7fbc41"
            ],
            [
             0.9,
             "#4d9221"
            ],
            [
             1,
             "#276419"
            ]
           ],
           "sequential": [
            [
             0,
             "#0d0887"
            ],
            [
             0.1111111111111111,
             "#46039f"
            ],
            [
             0.2222222222222222,
             "#7201a8"
            ],
            [
             0.3333333333333333,
             "#9c179e"
            ],
            [
             0.4444444444444444,
             "#bd3786"
            ],
            [
             0.5555555555555556,
             "#d8576b"
            ],
            [
             0.6666666666666666,
             "#ed7953"
            ],
            [
             0.7777777777777778,
             "#fb9f3a"
            ],
            [
             0.8888888888888888,
             "#fdca26"
            ],
            [
             1,
             "#f0f921"
            ]
           ],
           "sequentialminus": [
            [
             0,
             "#0d0887"
            ],
            [
             0.1111111111111111,
             "#46039f"
            ],
            [
             0.2222222222222222,
             "#7201a8"
            ],
            [
             0.3333333333333333,
             "#9c179e"
            ],
            [
             0.4444444444444444,
             "#bd3786"
            ],
            [
             0.5555555555555556,
             "#d8576b"
            ],
            [
             0.6666666666666666,
             "#ed7953"
            ],
            [
             0.7777777777777778,
             "#fb9f3a"
            ],
            [
             0.8888888888888888,
             "#fdca26"
            ],
            [
             1,
             "#f0f921"
            ]
           ]
          },
          "colorway": [
           "#636efa",
           "#EF553B",
           "#00cc96",
           "#ab63fa",
           "#FFA15A",
           "#19d3f3",
           "#FF6692",
           "#B6E880",
           "#FF97FF",
           "#FECB52"
          ],
          "font": {
           "color": "#2a3f5f"
          },
          "geo": {
           "bgcolor": "white",
           "lakecolor": "white",
           "landcolor": "#E5ECF6",
           "showlakes": true,
           "showland": true,
           "subunitcolor": "white"
          },
          "hoverlabel": {
           "align": "left"
          },
          "hovermode": "closest",
          "mapbox": {
           "style": "light"
          },
          "paper_bgcolor": "white",
          "plot_bgcolor": "#E5ECF6",
          "polar": {
           "angularaxis": {
            "gridcolor": "white",
            "linecolor": "white",
            "ticks": ""
           },
           "bgcolor": "#E5ECF6",
           "radialaxis": {
            "gridcolor": "white",
            "linecolor": "white",
            "ticks": ""
           }
          },
          "scene": {
           "xaxis": {
            "backgroundcolor": "#E5ECF6",
            "gridcolor": "white",
            "gridwidth": 2,
            "linecolor": "white",
            "showbackground": true,
            "ticks": "",
            "zerolinecolor": "white"
           },
           "yaxis": {
            "backgroundcolor": "#E5ECF6",
            "gridcolor": "white",
            "gridwidth": 2,
            "linecolor": "white",
            "showbackground": true,
            "ticks": "",
            "zerolinecolor": "white"
           },
           "zaxis": {
            "backgroundcolor": "#E5ECF6",
            "gridcolor": "white",
            "gridwidth": 2,
            "linecolor": "white",
            "showbackground": true,
            "ticks": "",
            "zerolinecolor": "white"
           }
          },
          "shapedefaults": {
           "line": {
            "color": "#2a3f5f"
           }
          },
          "ternary": {
           "aaxis": {
            "gridcolor": "white",
            "linecolor": "white",
            "ticks": ""
           },
           "baxis": {
            "gridcolor": "white",
            "linecolor": "white",
            "ticks": ""
           },
           "bgcolor": "#E5ECF6",
           "caxis": {
            "gridcolor": "white",
            "linecolor": "white",
            "ticks": ""
           }
          },
          "title": {
           "x": 0.05
          },
          "xaxis": {
           "automargin": true,
           "gridcolor": "white",
           "linecolor": "white",
           "ticks": "",
           "title": {
            "standoff": 15
           },
           "zerolinecolor": "white",
           "zerolinewidth": 2
          },
          "yaxis": {
           "automargin": true,
           "gridcolor": "white",
           "linecolor": "white",
           "ticks": "",
           "title": {
            "standoff": 15
           },
           "zerolinecolor": "white",
           "zerolinewidth": 2
          }
         }
        },
        "title": {
         "text": "10 Most Common Words of 100 Tweets Under \"will smith\" Topic"
        },
        "xaxis": {
         "anchor": "y",
         "domain": [
          0,
          1
         ],
         "title": {
          "text": "Word"
         }
        },
        "yaxis": {
         "anchor": "x",
         "domain": [
          0,
          1
         ],
         "title": {
          "text": "Number of Occurances"
         }
        }
       }
      }
     },
     "metadata": {},
     "output_type": "display_data"
    }
   ],
   "source": [
    "import plotly.express as px\n",
    "\n",
    "fig = px.bar(df1[:10], x= 'words', y='freq')\n",
    "fig.update_layout(\n",
    "    title=\"10 Most Common Words of 100 Tweets Under \\\"will smith\\\" Topic\",\n",
    "    xaxis_title=\"Word\",\n",
    "    yaxis_title=\"Number of Occurances\")\n",
    "fig.show()"
   ]
  }
 ],
 "metadata": {
  "interpreter": {
   "hash": "ce9cee3d5ee3f2a4e0552862d2333eeebf09f6e5235c1f229d60a7fc27105b3c"
  },
  "kernelspec": {
   "display_name": "Python 3.9.7 ('base')",
   "language": "python",
   "name": "python3"
  },
  "language_info": {
   "codemirror_mode": {
    "name": "ipython",
    "version": 3
   },
   "file_extension": ".py",
   "mimetype": "text/x-python",
   "name": "python",
   "nbconvert_exporter": "python",
   "pygments_lexer": "ipython3",
   "version": "3.9.7"
  },
  "orig_nbformat": 4
 },
 "nbformat": 4,
 "nbformat_minor": 2
}
